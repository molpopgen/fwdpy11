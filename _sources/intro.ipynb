{
 "cells": [
  {
   "cell_type": "markdown",
   "id": "c7b5b4fa",
   "metadata": {},
   "source": [
    "# Introduction\n",
    "\n",
    "This is the documentation for `fwdpy11`, a Python package for individual-based, forward-time simulations of population genetic processes.\n",
    "\n",
    "## Version\n",
    "\n",
    "This manual is built with the following version of `fwdpy11`:"
   ]
  },
  {
   "cell_type": "code",
   "execution_count": 1,
   "id": "53c5bd3d",
   "metadata": {
    "tags": [
     "hide-input"
    ]
   },
   "outputs": [
    {
     "data": {
      "text/plain": [
       "'0.18.1'"
      ]
     },
     "execution_count": 1,
     "metadata": {},
     "output_type": "execute_result"
    }
   ],
   "source": [
    "import fwdpy11\n",
    "fwdpy11.__version__"
   ]
  },
  {
   "cell_type": "markdown",
   "id": "40af2834",
   "metadata": {},
   "source": [
    "## How to read this documentation\n",
    "\n",
    "The documentation is organized around a number of short vignettes.\n",
    "We recommend that new users start there, and read them in order.\n",
    "\n",
    "Longer-form pages follow the vignettes.\n",
    "These contain more in the way of technical details that are probably best skipped upon a first reading of this manual.\n",
    "\n",
    "Many of the vignettes contain executable code.\n",
    "You may download any of these chapters as Jupyter notebooks and work with them locally.\n",
    "Doing so requires that `fwdpy11` is installed on your system."
   ]
  }
 ],
 "metadata": {
  "jupytext": {
   "formats": "md:myst",
   "text_representation": {
    "extension": ".md",
    "format_name": "myst"
   }
  },
  "kernelspec": {
   "display_name": "Python 3",
   "language": "python",
   "name": "python3"
  },
  "language_info": {
   "codemirror_mode": {
    "name": "ipython",
    "version": 3
   },
   "file_extension": ".py",
   "mimetype": "text/x-python",
   "name": "python",
   "nbconvert_exporter": "python",
   "pygments_lexer": "ipython3",
   "version": "3.8.12"
  },
  "source_map": [
   11,
   21,
   27
  ]
 },
 "nbformat": 4,
 "nbformat_minor": 5
}
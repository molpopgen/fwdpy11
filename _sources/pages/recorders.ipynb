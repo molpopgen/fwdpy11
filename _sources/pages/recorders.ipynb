{
 "cells": [
  {
   "cell_type": "markdown",
   "id": "e2e98265",
   "metadata": {},
   "source": [
    "(timeseries)=\n",
    "\n",
    "# Time series analysis\n",
    "\n",
    "fwdpy11 allows populations to be analyzed during the course of a simulation.  Any valid callable type\n",
    "may be used.  The most useful such type will be a class defining `__call__` to update member data, as\n",
    "was done in {ref}`tutorial`.\n",
    "\n",
    "There are built-in types to handle common scenarios:\n",
    "\n",
    "```{eval-rst}\n",
    ".. autoclass:: fwdpy11.RandomAncientSamples\n",
    "    :members:\n",
    "\n",
    "    This type randomly samples diploids at predetermined time points.\n",
    "    For example, if we wanted to randomly sample 10 diploids\n",
    "    every N generations for the first 9N generations of a simulation:\n",
    "```"
   ]
  },
  {
   "cell_type": "code",
   "execution_count": 1,
   "id": "1854cf0a",
   "metadata": {},
   "outputs": [],
   "source": [
    "import fwdpy11\n",
    "import numpy as np\n",
    "\n",
    "N = 1000\n",
    "seed = 42\n",
    "samplesize = 10\n",
    "r = fwdpy11.RandomAncientSamples(seed, samplesize, np.arange(0, 10*N, N))"
   ]
  },
  {
   "cell_type": "markdown",
   "id": "875fd441",
   "metadata": {},
   "source": [
    "When implementing your own callables, the arguments to the type must be of the following form:\n",
    "\n",
    "```{code-block} python\n",
    "\n",
    "def timeseries_fxn(pop, sampler):\n",
    "    pass\n",
    "\n",
    "```\n",
    "\n",
    "The first argument is the population itself.  The second is an instance of the following class:\n",
    "\n",
    "```{eval-rst}\n",
    ".. autoclass:: fwdpy11.SampleRecorder\n",
    "\n",
    "    Instances of this type are *never* created by a user.  Rather,\n",
    "    they are generated internally and passed to user-defined\n",
    "    callable types.  These types are responsible for passing\n",
    "    in the indexes of individuals to be preserved as\n",
    "    samples in the tree sequences.  Two member functions exist\n",
    "    for such recording.  The first function adds samples one\n",
    "    at a time:\n",
    "\n",
    "    .. autofunction:: fwdpy11.SampleRecorder.add_sample\n",
    "\n",
    "    The second is more efficient, adding in \"batch\" mode\n",
    "    via a numpy array with dtype uint32:\n",
    "\n",
    "    .. autofunction:: fwdpy11.SampleRecorder.assign\n",
    "\n",
    "    The following is essentially pseudocode to illustrate the process:\n",
    "```"
   ]
  },
  {
   "cell_type": "code",
   "execution_count": 2,
   "id": "043a0ca2",
   "metadata": {},
   "outputs": [],
   "source": [
    "import fwdpy11\n",
    "s = fwdpy11.SampleRecorder()\n",
    "s.add_sample(10)\n",
    "s.assign(np.arange(10, dtype=np.uint32))"
   ]
  },
  {
   "cell_type": "markdown",
   "id": "1d6acb7f",
   "metadata": {},
   "source": [
    "The important thing to keep in mind is that user-defined callable\n",
    "types can do essentially *anything*.  For example, in {ref}`tutorial`,\n",
    "summaries of trait variation were also recorded.  When recording samples\n",
    "to preserve, \"anything goes\".  For example, you could pick samples with the top `x` and\n",
    "the lowest `y` fitnesses.  You could pick individuals based on their genetic load, whether or\n",
    "not they carry a specific variant, etc..  It is up to you."
   ]
  }
 ],
 "metadata": {
  "jupytext": {
   "formats": "md:myst",
   "text_representation": {
    "extension": ".md",
    "format_name": "myst"
   }
  },
  "kernelspec": {
   "display_name": "Python 3",
   "language": "python",
   "name": "python3"
  },
  "language_info": {
   "codemirror_mode": {
    "name": "ipython",
    "version": 3
   },
   "file_extension": ".py",
   "mimetype": "text/x-python",
   "name": "python",
   "nbconvert_exporter": "python",
   "pygments_lexer": "ipython3",
   "version": "3.8.12"
  },
  "source_map": [
   11,
   32,
   40,
   74,
   79
  ]
 },
 "nbformat": 4,
 "nbformat_minor": 5
}
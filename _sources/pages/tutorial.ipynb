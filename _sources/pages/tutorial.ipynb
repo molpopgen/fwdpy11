{
 "cells": [
  {
   "cell_type": "markdown",
   "id": "ddfbe98e",
   "metadata": {},
   "source": [
    "(tutorial)=\n",
    "\n",
    "# Tutorial\n",
    "\n",
    "The tutorial is organized around a series of tasks that one\n",
    "needs to complete in order to run a simulation.\n",
    "\n",
    "Each section covers a topic relevant to parameterizing a simulation.\n",
    "The variable names that store the types are the same as `kwargs`\n",
    "used to initialize the final model parameters class.\n",
    "\n",
    "Along the way, you will see links to more detailed and/or more advanced\n",
    "sections of the documentation.\n",
    "\n",
    "For a first-time reader, it is probably best to go top-to-bottom through\n",
    "this tutorial.\n",
    "\n",
    "## Initializing a population\n",
    "\n",
    "A simulation modifies the contents of instances of {class}`fwdpy11.DiploidPopulation`.\n",
    "We have two basic ways to initialize a population:\n",
    "\n",
    "* with a list of deme sizes and a genome length\n",
    "* from a tree sequence in `tskit` format\n",
    "\n",
    "This section deals with the former.  See {ref}`here <pop-from-tskit>`\n",
    "for how to initialize from {class}`tskit.TreeSequence` objects.\n",
    "\n",
    "To initialize a population of `N` diploids from a single deme and a given\n",
    "genome length:"
   ]
  },
  {
   "cell_type": "code",
   "execution_count": 1,
   "id": "b3fbd9d8",
   "metadata": {},
   "outputs": [
    {
     "data": {
      "text/plain": [
       "100.0"
      ]
     },
     "execution_count": 1,
     "metadata": {},
     "output_type": "execute_result"
    }
   ],
   "source": [
    "import fwdpy11\n",
    "import numpy as np\n",
    "\n",
    "pop = fwdpy11.DiploidPopulation(N=1000, length=100.0)\n",
    "pop.N\n",
    "pop.tables.genome_length"
   ]
  },
  {
   "cell_type": "markdown",
   "id": "c4cba9de",
   "metadata": {},
   "source": [
    "The genome length is stored as an attribute of the *table collection*\n",
    "that is used to record the ancestry of the simulated population.\n",
    "The tables themselves are instances of {class}`fwdpy11.TableCollection`.\n",
    "See {ref}`here <tsoverview>` for a brief introduction to tables as well\n",
    "as {cite}`Kelleher2016-cb` and {cite}`Kelleher2018-mc`.  See {ref}`here <ts-data-types>`\n",
    "for a more detailed discussion of relevant data structures.\n",
    "\n",
    "To initialize a population with individuals in multiple demes:"
   ]
  },
  {
   "cell_type": "code",
   "execution_count": 2,
   "id": "d61f1663",
   "metadata": {},
   "outputs": [
    {
     "data": {
      "text/plain": [
       "100.0"
      ]
     },
     "execution_count": 2,
     "metadata": {},
     "output_type": "execute_result"
    }
   ],
   "source": [
    "pop = fwdpy11.DiploidPopulation(N=[500, 500], length=100.0)\n",
    "pop.N\n",
    "pop.tables.genome_length"
   ]
  },
  {
   "cell_type": "markdown",
   "id": "15f5408c",
   "metadata": {},
   "source": [
    "### Looking at individual metadata\n",
    "\n",
    "Our population size is unchanged, but our population now has 500 individuals\n",
    "in each of two demes.  We can verify this by looking at the `metadata` associated\n",
    "with each individual.  Individual metadata are instances of\n",
    "{class}`fwdpy11.DiploidMetadata` but they are also registered as a {class}`numpy.dtype`,\n",
    "meaning that we can look at the metadata as a {class}`numpy.recarray`:"
   ]
  },
  {
   "cell_type": "code",
   "execution_count": 3,
   "id": "ed16ba02",
   "metadata": {},
   "outputs": [],
   "source": [
    "md = np.array(pop.diploid_metadata, copy=False)"
   ]
  },
  {
   "cell_type": "markdown",
   "id": "5e968d3c",
   "metadata": {},
   "source": [
    "The field names of our array are the same as the attribute names of\n",
    "{class}`fwdpy11.DiploidMetadata`:"
   ]
  },
  {
   "cell_type": "code",
   "execution_count": 4,
   "id": "79ffb9f3",
   "metadata": {},
   "outputs": [
    {
     "data": {
      "text/plain": [
       "dtype([('g', '<f8'), ('e', '<f8'), ('w', '<f8'), ('geography', '<f8', (3,)), ('label', '<u8'), ('parents', '<u8', (2,)), ('deme', '<i4'), ('sex', '<i4'), ('nodes', '<i4', (2,))])"
      ]
     },
     "execution_count": 4,
     "metadata": {},
     "output_type": "execute_result"
    }
   ],
   "source": [
    "md.dtype"
   ]
  },
  {
   "cell_type": "markdown",
   "id": "5665aa4d",
   "metadata": {},
   "source": [
    "We can easily confirm the number of individuals in each deme using\n",
    "{func}`numpy.unique`:"
   ]
  },
  {
   "cell_type": "code",
   "execution_count": 5,
   "id": "db4802f2",
   "metadata": {},
   "outputs": [
    {
     "data": {
      "text/plain": [
       "(array([0, 1], dtype=int32), array([500, 500]))"
      ]
     },
     "execution_count": 5,
     "metadata": {},
     "output_type": "execute_result"
    }
   ],
   "source": [
    "np.unique(md[\"deme\"], return_counts=True)"
   ]
  },
  {
   "cell_type": "markdown",
   "id": "24bee3e2",
   "metadata": {},
   "source": [
    "We see that the deme labels are `0` and `1` and that each label\n",
    "was found 500 times.  (The first 500 individuals are in deme `0`,\n",
    "followed by 500 in deme `1`.)\n",
    "\n",
    "See {ref}`here <tskit_metadata_vignette>` for more on individual metadata.\n",
    "\n",
    "(mutationregions)=\n",
    "\n",
    "## Defining distributions of mutation effect sizes\n",
    "\n",
    "One of the main reasons to perform forward simulations is to be able\n",
    "to model mutations affecting individual fitness. To do so, we need\n",
    "to specify both mutation rates and the resulting effect sizes.\n",
    "\n",
    "`fwdpy11` works by specifying an overall mutation rate to variants\n",
    "affecting fitness (see {ref}`here <model-params>`).  Given that\n",
    "a mutation occurs, we need to specify its \"effect size\".\n",
    "\n",
    "`fwdpy11` chooses the effect size of a new mutation by first\n",
    "determining what *region* is mutated and then generating a mutation\n",
    "from the distribution of effect size associated with that region.\n",
    "\n",
    "Each region is represented by instances of classes derived from the\n",
    "ABC {class}`fwdpy11.Sregion`.  Each instance is associated with a *weight*.\n",
    "These weights establish the relative probability that a mutation comes\n",
    "from a given region.  Thus, given an overall mutation\n",
    "rate to non-neutral variants, instances of \"`sregions`\" are used to set up\n",
    "a multinomial distribution for generating new mutations.\n",
    "\n",
    "The following sets up a model where mutations have a constant effect size\n",
    "({math}`s=-0.01`), dominance {math}`h=0.25`, and occur uniformly on\n",
    "the interval {math}`[0, 1)`:"
   ]
  },
  {
   "cell_type": "code",
   "execution_count": 6,
   "id": "80648607",
   "metadata": {},
   "outputs": [],
   "source": [
    "sregions = [fwdpy11.ConstantS(beg=0.0, end=1.0, weight=1.0, s=-0.01, h=0.25)]"
   ]
  },
  {
   "cell_type": "markdown",
   "id": "e2a441ae",
   "metadata": {},
   "source": [
    "The previous example uses argument names for clarity, and the following is equivalent,\n",
    "with the `int` values getting converted to `float` automatically:"
   ]
  },
  {
   "cell_type": "code",
   "execution_count": 7,
   "id": "07307282",
   "metadata": {},
   "outputs": [
    {
     "data": {
      "text/plain": [
       "fwdpy11.ConstantS(beg=0, end=1, weight=1, s=-0.01, h=0.25, coupled=True, label=0, scaling=1.0)"
      ]
     },
     "execution_count": 7,
     "metadata": {},
     "output_type": "execute_result"
    }
   ],
   "source": [
    "sregions = [fwdpy11.ConstantS(0, 1, 1, -0.01, 0.25)]\n",
    "sregions[0]"
   ]
  },
  {
   "cell_type": "markdown",
   "id": "17240f33",
   "metadata": {},
   "source": [
    "Note that the constructor parameters for these classes often have default\n",
    "values--see the specific class documentation for details.\n",
    "\n",
    "In some scenarios, it is useful to think about the distribution of effect sizes\n",
    "as scaled with respect to the population size.  For example, selection coefficients\n",
    "may be exponentially-distributed with a mean of {math}`2Ns`.  To do this in\n",
    "`fwdpy11`:"
   ]
  },
  {
   "cell_type": "code",
   "execution_count": 8,
   "id": "cd38615e",
   "metadata": {},
   "outputs": [
    {
     "data": {
      "text/plain": [
       "fwdpy11.ExpS(beg=0, end=1, weight=1, mean=-10, h=1.0, coupled=True, label=0, scaling=2000)"
      ]
     },
     "execution_count": 8,
     "metadata": {},
     "output_type": "execute_result"
    }
   ],
   "source": [
    "# ALPHA = 2Ns\n",
    "MEAN_ALPHA = -10\n",
    "N = 1000\n",
    "sregions = [fwdpy11.ExpS(0, 1, 1, MEAN_ALPHA, scaling=2 * N)]\n",
    "sregions[0]"
   ]
  },
  {
   "cell_type": "markdown",
   "id": "8b8d7b92",
   "metadata": {},
   "source": [
    "### Region weighting\n",
    "\n",
    "When multiple \"sregion\" objects are used, the default behavior is to multiply\n",
    "the input `weight` by `end-beg`:"
   ]
  },
  {
   "cell_type": "code",
   "execution_count": 9,
   "id": "9a626f76",
   "metadata": {},
   "outputs": [
    {
     "data": {
      "text/plain": [
       "[fwdpy11.ExpS(beg=0.0, end=1.0, weight=1.0, mean=-0.2, h=1.0, coupled=True, label=0, scaling=1.0),\n",
       " fwdpy11.ConstantS(beg=1.0, end=3.0, weight=2.0, s=-0.1, h=1.0, coupled=True, label=0, scaling=1.0)]"
      ]
     },
     "execution_count": 9,
     "metadata": {},
     "output_type": "execute_result"
    }
   ],
   "source": [
    "sregions = [\n",
    "   fwdpy11.ExpS(beg=0.0, end=1.0, weight=1.0, mean=-0.2),\n",
    "   fwdpy11.ConstantS(beg=1.0, end=3.0, weight=1.0, s=-0.1),\n",
    "]\n",
    "sregions"
   ]
  },
  {
   "cell_type": "markdown",
   "id": "b37caf50",
   "metadata": {},
   "source": [
    "Here, the input `weight` is interpreted to mean the weight \"per site\" is constant.\n",
    "In this example, twice as many mutations will have positions in {math}`[1, 3)` as from {math}`[0, 1)`.\n",
    "\n",
    "To change the default behavior, one can prevent the coupling between input `weight` and region length:"
   ]
  },
  {
   "cell_type": "code",
   "execution_count": 10,
   "id": "6033c61f",
   "metadata": {},
   "outputs": [
    {
     "data": {
      "text/plain": [
       "[fwdpy11.ExpS(beg=0.0, end=1.0, weight=1.0, mean=-0.2, h=1.0, coupled=False, label=0, scaling=1.0),\n",
       " fwdpy11.ConstantS(beg=1.0, end=3.0, weight=1.0, s=-0.1, h=1.0, coupled=False, label=0, scaling=1.0)]"
      ]
     },
     "execution_count": 10,
     "metadata": {},
     "output_type": "execute_result"
    }
   ],
   "source": [
    "sregions = [\n",
    "   fwdpy11.ExpS(beg=0.0, end=1.0, weight=1.0, mean=-0.2, coupled=False),\n",
    "   fwdpy11.ConstantS(beg=1.0, end=3.0, weight=1.0, s=-0.1, coupled=False),\n",
    "]\n",
    "sregions"
   ]
  },
  {
   "cell_type": "markdown",
   "id": "2ad018ef",
   "metadata": {},
   "source": [
    "The absolute values of the `weight` parameters themselves is irrelevant.\n",
    "The only thing that matters is the *relative* values from region to region.\n",
    "Simulations based on the above examples would give the same results if the `weight` were 42 or 73.06.\n",
    "Therefore, we can recreate our first example with code like the following:"
   ]
  },
  {
   "cell_type": "code",
   "execution_count": 11,
   "id": "f8d91688",
   "metadata": {},
   "outputs": [
    {
     "data": {
      "text/plain": [
       "[fwdpy11.ExpS(beg=0.0, end=1.0, weight=56.0, mean=-0.2, h=1.0, coupled=False, label=0, scaling=1.0),\n",
       " fwdpy11.ConstantS(beg=1.0, end=3.0, weight=112.0, s=-0.1, h=1.0, coupled=False, label=0, scaling=1.0)]"
      ]
     },
     "execution_count": 11,
     "metadata": {},
     "output_type": "execute_result"
    }
   ],
   "source": [
    "sregions = [\n",
    "   fwdpy11.ExpS(beg=0.0, end=1.0, weight=56.0, mean=-0.2, coupled=False),\n",
    "   fwdpy11.ConstantS(beg=1.0, end=3.0, weight=112.0, s=-0.1, coupled=False),\n",
    "]\n",
    "sregions"
   ]
  },
  {
   "cell_type": "markdown",
   "id": "1291a8a1",
   "metadata": {},
   "source": [
    "In the above example, twice as many mutations occur in the second region\n",
    "because the weights have relative values of 2:1.\n",
    "\n",
    ":::{note}\n",
    "\n",
    "Different regions are allowed to overlap, allowing the simulation of\n",
    "concepts like \"coding regions\" where the DFE are a weighted mixture\n",
    "from multiple distributions, etc.\n",
    "\n",
    ":::\n",
    "\n",
    "### Setting the dominance of new mutations\n",
    "\n",
    "The dominance of a new mutation is set by the `h` parameter during\n",
    "initialization:"
   ]
  },
  {
   "cell_type": "code",
   "execution_count": 12,
   "id": "8c8672bf",
   "metadata": {},
   "outputs": [
    {
     "data": {
      "text/plain": [
       "fwdpy11.ExpS(beg=0.0, end=1.0, weight=1.0, mean=-0.2, h=0.0, coupled=True, label=0, scaling=1.0)"
      ]
     },
     "execution_count": 12,
     "metadata": {},
     "output_type": "execute_result"
    }
   ],
   "source": [
    "fwdpy11.ExpS(beg=0.0, end=1.0, weight=1.0, mean=-0.2, h=1.0)\n",
    "fwdpy11.ExpS(beg=0.0, end=1.0, weight=1.0, mean=-0.2, h=0.0)"
   ]
  },
  {
   "cell_type": "markdown",
   "id": "0914a17b",
   "metadata": {},
   "source": [
    "### Built-in distributions of effect sizes\n",
    "\n",
    "* {class}`fwdpy11.ConstantS`\n",
    "* {class}`fwdpy11.UniformS`\n",
    "* {class}`fwdpy11.ExpS`\n",
    "* {class}`fwdpy11.GammaS`\n",
    "* {class}`fwdpy11.GaussianS`\n",
    "* {class}`fwdpy11.MultivariateGaussianEffects`\n",
    "* {class}`fwdpy11.LogNormalS`\n",
    "* {class}`fwdpy11.DiscreteDESD`\n",
    "\n",
    "### Labelling mutations from different regions\n",
    "\n",
    "It may be of use to know what region a mutation came from.  To do\n",
    "so, give a nonzero value to the `label` argument:"
   ]
  },
  {
   "cell_type": "code",
   "execution_count": 13,
   "id": "58225ff7",
   "metadata": {},
   "outputs": [
    {
     "data": {
      "text/plain": [
       "fwdpy11.ConstantS(beg=0.0, end=1.0, weight=1.0, s=0.001, h=1.0, coupled=True, label=1, scaling=1.0)"
      ]
     },
     "execution_count": 13,
     "metadata": {},
     "output_type": "execute_result"
    }
   ],
   "source": [
    "fwdpy11.ConstantS(beg=0.0, end=1.0, weight=1.0, s=1e-3, label=1)"
   ]
  },
  {
   "cell_type": "markdown",
   "id": "5bb7694d",
   "metadata": {},
   "source": [
    "At the end of the simulation, mutations from this region will have\n",
    "the `label` value stored in the attribute {attr}`fwdpy11.Mutation.label`.\n",
    "\n",
    "The value of `label` must fit into a 16-bit unsigned integer,\n",
    "*e.g.*, {attr}`numpy.uint16`. Larger values, or negative values, will result\n",
    "in exceptions.  The following example tries to use a value one larger than\n",
    "the maximum allowed:"
   ]
  },
  {
   "cell_type": "code",
   "execution_count": 14,
   "id": "f10fc46a",
   "metadata": {
    "tags": [
     "raises-exception"
    ]
   },
   "outputs": [
    {
     "ename": "TypeError",
     "evalue": "__init__(): incompatible constructor arguments. The following argument types are supported:\n    1. fwdpy11._fwdpy11._ll_ConstantS(beg: float, end: float, weight: float, s: float, h: float, coupled: bool, label: int, scaling: float)\n    2. fwdpy11._fwdpy11._ll_ConstantS(beg: float, end: float, weight: float, s: float, h: fwdpy11._fwdpy11.MutationDominance, coupled: bool, label: int, scaling: float)\n\nInvoked with: 0.0, 1.0, 1.0, 0.001, 1.0, True, 65536, 1.0",
     "output_type": "error",
     "traceback": [
      "\u001b[0;31m---------------------------------------------------------------------------\u001b[0m",
      "\u001b[0;31mTypeError\u001b[0m                                 Traceback (most recent call last)",
      "Cell \u001b[0;32mIn[14], line 1\u001b[0m\n\u001b[0;32m----> 1\u001b[0m \u001b[43mfwdpy11\u001b[49m\u001b[38;5;241;43m.\u001b[39;49m\u001b[43mConstantS\u001b[49m\u001b[43m(\u001b[49m\n\u001b[1;32m      2\u001b[0m \u001b[43m    \u001b[49m\u001b[43mbeg\u001b[49m\u001b[38;5;241;43m=\u001b[39;49m\u001b[38;5;241;43m0.0\u001b[39;49m\u001b[43m,\u001b[49m\u001b[43m \u001b[49m\u001b[43mend\u001b[49m\u001b[38;5;241;43m=\u001b[39;49m\u001b[38;5;241;43m1.0\u001b[39;49m\u001b[43m,\u001b[49m\u001b[43m \u001b[49m\u001b[43mweight\u001b[49m\u001b[38;5;241;43m=\u001b[39;49m\u001b[38;5;241;43m1.0\u001b[39;49m\u001b[43m,\u001b[49m\u001b[43m \u001b[49m\u001b[43ms\u001b[49m\u001b[38;5;241;43m=\u001b[39;49m\u001b[38;5;241;43m1e-3\u001b[39;49m\u001b[43m,\u001b[49m\u001b[43m \u001b[49m\u001b[43mlabel\u001b[49m\u001b[38;5;241;43m=\u001b[39;49m\u001b[43mnp\u001b[49m\u001b[38;5;241;43m.\u001b[39;49m\u001b[43miinfo\u001b[49m\u001b[43m(\u001b[49m\u001b[43mnp\u001b[49m\u001b[38;5;241;43m.\u001b[39;49m\u001b[43muint16\u001b[49m\u001b[43m)\u001b[49m\u001b[38;5;241;43m.\u001b[39;49m\u001b[43mmax\u001b[49m\u001b[43m \u001b[49m\u001b[38;5;241;43m+\u001b[39;49m\u001b[43m \u001b[49m\u001b[38;5;241;43m1\u001b[39;49m\n\u001b[1;32m      3\u001b[0m \u001b[43m)\u001b[49m\n",
      "File \u001b[0;32m<attrs generated init fwdpy11.regions.ConstantS>:12\u001b[0m, in \u001b[0;36m__init__\u001b[0;34m(self, beg, end, weight, s, h, coupled, label, scaling)\u001b[0m\n\u001b[1;32m     10\u001b[0m _inst_dict[\u001b[38;5;124m'\u001b[39m\u001b[38;5;124mlabel\u001b[39m\u001b[38;5;124m'\u001b[39m] \u001b[38;5;241m=\u001b[39m label\n\u001b[1;32m     11\u001b[0m _inst_dict[\u001b[38;5;124m'\u001b[39m\u001b[38;5;124mscaling\u001b[39m\u001b[38;5;124m'\u001b[39m] \u001b[38;5;241m=\u001b[39m scaling\n\u001b[0;32m---> 12\u001b[0m \u001b[38;5;28;43mself\u001b[39;49m\u001b[38;5;241;43m.\u001b[39;49m\u001b[43m__attrs_post_init__\u001b[49m\u001b[43m(\u001b[49m\u001b[43m)\u001b[49m\n",
      "File \u001b[0;32m~/work/fwdpy11/fwdpy11/fwdpy11/regions.py:137\u001b[0m, in \u001b[0;36mConstantS.__attrs_post_init__\u001b[0;34m(self)\u001b[0m\n\u001b[1;32m    136\u001b[0m \u001b[38;5;28;01mdef\u001b[39;00m \u001b[38;5;21m__attrs_post_init__\u001b[39m(\u001b[38;5;28mself\u001b[39m):\n\u001b[0;32m--> 137\u001b[0m     \u001b[38;5;28;43msuper\u001b[39;49m\u001b[43m(\u001b[49m\u001b[43mConstantS\u001b[49m\u001b[43m,\u001b[49m\u001b[43m \u001b[49m\u001b[38;5;28;43mself\u001b[39;49m\u001b[43m)\u001b[49m\u001b[38;5;241;43m.\u001b[39;49m\u001b[38;5;21;43m__init__\u001b[39;49m\u001b[43m(\u001b[49m\n\u001b[1;32m    138\u001b[0m \u001b[43m        \u001b[49m\u001b[38;5;28;43mself\u001b[39;49m\u001b[38;5;241;43m.\u001b[39;49m\u001b[43mbeg\u001b[49m\u001b[43m,\u001b[49m\n\u001b[1;32m    139\u001b[0m \u001b[43m        \u001b[49m\u001b[38;5;28;43mself\u001b[39;49m\u001b[38;5;241;43m.\u001b[39;49m\u001b[43mend\u001b[49m\u001b[43m,\u001b[49m\n\u001b[1;32m    140\u001b[0m \u001b[43m        \u001b[49m\u001b[38;5;28;43mself\u001b[39;49m\u001b[38;5;241;43m.\u001b[39;49m\u001b[43mweight\u001b[49m\u001b[43m,\u001b[49m\n\u001b[1;32m    141\u001b[0m \u001b[43m        \u001b[49m\u001b[38;5;28;43mself\u001b[39;49m\u001b[38;5;241;43m.\u001b[39;49m\u001b[43ms\u001b[49m\u001b[43m,\u001b[49m\n\u001b[1;32m    142\u001b[0m \u001b[43m        \u001b[49m\u001b[38;5;28;43mself\u001b[39;49m\u001b[38;5;241;43m.\u001b[39;49m\u001b[43mh\u001b[49m\u001b[43m,\u001b[49m\n\u001b[1;32m    143\u001b[0m \u001b[43m        \u001b[49m\u001b[38;5;28;43mself\u001b[39;49m\u001b[38;5;241;43m.\u001b[39;49m\u001b[43mcoupled\u001b[49m\u001b[43m,\u001b[49m\n\u001b[1;32m    144\u001b[0m \u001b[43m        \u001b[49m\u001b[38;5;28;43mself\u001b[39;49m\u001b[38;5;241;43m.\u001b[39;49m\u001b[43mlabel\u001b[49m\u001b[43m,\u001b[49m\n\u001b[1;32m    145\u001b[0m \u001b[43m        \u001b[49m\u001b[38;5;28;43mself\u001b[39;49m\u001b[38;5;241;43m.\u001b[39;49m\u001b[43mscaling\u001b[49m\u001b[43m,\u001b[49m\n\u001b[1;32m    146\u001b[0m \u001b[43m    \u001b[49m\u001b[43m)\u001b[49m\n",
      "\u001b[0;31mTypeError\u001b[0m: __init__(): incompatible constructor arguments. The following argument types are supported:\n    1. fwdpy11._fwdpy11._ll_ConstantS(beg: float, end: float, weight: float, s: float, h: float, coupled: bool, label: int, scaling: float)\n    2. fwdpy11._fwdpy11._ll_ConstantS(beg: float, end: float, weight: float, s: float, h: fwdpy11._fwdpy11.MutationDominance, coupled: bool, label: int, scaling: float)\n\nInvoked with: 0.0, 1.0, 1.0, 0.001, 1.0, True, 65536, 1.0"
     ]
    }
   ],
   "source": [
    "fwdpy11.ConstantS(\n",
    "    beg=0.0, end=1.0, weight=1.0, s=1e-3, label=np.iinfo(np.uint16).max + 1\n",
    ")"
   ]
  },
  {
   "cell_type": "markdown",
   "id": "f8a17d7b",
   "metadata": {},
   "source": [
    "(geneticmaps)=\n",
    "\n",
    "## Modeling recombination\n",
    "\n",
    "Recombination rates are allowed to vary along genomes in a discrete fashion.  `fwdpy11`\n",
    "provides two complementary methods for setting up such variation.\n",
    "\n",
    "(recregions)=\n",
    "\n",
    "### Method 1: regions and weights\n",
    "\n",
    "The method described in this section works in combination with a total overall recombination\n",
    "rate.  This rate is the mean of a Poisson distribution and the intervals where recombination\n",
    "breakpoints happen are chosen based on their relative weights.  The regions are instances\n",
    "of {class}`fwdpy11.Region`.  A region represents a continuous, half-open interval within which\n",
    "crossover positions are uniformly distributed.\n",
    "\n",
    "By way of example, say we want the following genetic map:\n",
    "\n",
    "* The total recombination rate per diploid is {math}`1e-3`, which is the mean of a Poisson process.\n",
    "* Our genome is continuous on {math}`[0,10)`.\n",
    "* The recombination rate is twice as high in one part of the \"genome\" than in the other.\n",
    "\n",
    "To initialize a region object, the following parameters may be used:\n",
    "\n",
    "* `beg`, the start of the region\n",
    "* `end`, the end of the region\n",
    "* `weight`, the weight assigned to the region\n",
    "* `coupled` is a `bool` and determines how the weights are handled internally (see below).\n",
    "* `label` is an integer that defaults to `0` and is not relevant to recombination.\n",
    "\n",
    "The first three parameters are required.  A valid region has {math}`beg \\geq 0`,\n",
    "{math}`end > beg` and {math}`weight >= 0` and defines a half-open interval {math}`[beg, end)`.\n",
    "\n",
    ":::{note}\n",
    "\n",
    "A `weight` of `0` is the same as simply not defining a region! There is\n",
    "no requirement that all genetic map elements cover the entire genome. We allow\n",
    "zero-weight regions for those who think that it is cleaner/more explicit to write\n",
    "them down.\n",
    "\n",
    ":::\n",
    "\n",
    "By default, `coupled=True`, which means that the *total* weight assigned to a region\n",
    "will be {math}`weight\\times (end-beg)`.  It is helpful to view {math}`weight` as\n",
    "the \"rate per unit\" and {math}`end-beg` as the number of units in the region. (For example,\n",
    "\"unit\" could refer to base pairs, but it need not.)\n",
    "\n",
    "There are two ways to set this model up.  The first is arguably the most intuitive, which is to make\n",
    "one region twice as long as the other:"
   ]
  },
  {
   "cell_type": "code",
   "execution_count": 15,
   "id": "e4e52ccf",
   "metadata": {},
   "outputs": [
    {
     "name": "stdout",
     "output_type": "stream",
     "text": [
      "fwdpy11.Region(beg=0.0, end=3.3333333333333335, weight=3.3333333333333335, coupled=True, label=0)\n",
      "fwdpy11.Region(beg=3.3333333333333335, end=10, weight=6.666666666666666, coupled=True, label=0)\n"
     ]
    }
   ],
   "source": [
    "import fwdpy11\n",
    "\n",
    "recrate = 1e-3\n",
    "recregions = [\n",
    "    fwdpy11.Region(beg=0.0, end=10.0 / 3.0, weight=1.0),\n",
    "    fwdpy11.Region(beg=10.0 / 3.0, end=10, weight=1.0),\n",
    "]\n",
    "for r in recregions:\n",
    "    print(r)"
   ]
  },
  {
   "cell_type": "markdown",
   "id": "21902fcf",
   "metadata": {},
   "source": [
    "In the output, you see that `coupled=True`, which means that the simulation's\n",
    "back-end will assign twice as many crossovers to the second region as to the first.\n",
    "\n",
    "In words, the `recregions` list and `recrate` value mean the following:\n",
    "\n",
    "* The number of crossovers per diploid is Poisson distributed with mean\n",
    "  `recrate`, or `0.001`. See {ref}`here <model-params-rate-details>` for how to\n",
    "  send the `recrate` to a simulation.\n",
    "* Each crossover breakpoint has a `1/3` chance of being uniformly\n",
    "  distributed in {math}`[0, 10/3)` and a `2/3` chance of being\n",
    "  uniformly distributed in {math}`[10/3, 10)`.\n",
    "\n",
    "A more abstract approach relies on setting `coupled=False`, which means\n",
    "that the \"raw\" weights that you input are the exact values used internally:"
   ]
  },
  {
   "cell_type": "code",
   "execution_count": 16,
   "id": "7e094589",
   "metadata": {},
   "outputs": [
    {
     "name": "stdout",
     "output_type": "stream",
     "text": [
      "fwdpy11.Region(beg=0, end=5, weight=1, coupled=False, label=0)\n",
      "fwdpy11.Region(beg=5, end=10, weight=2, coupled=False, label=0)\n"
     ]
    }
   ],
   "source": [
    "recregions = [\n",
    "    fwdpy11.Region(beg=0, end=5, weight=1, coupled=False),\n",
    "    fwdpy11.Region(beg=5, end=10, weight=2, coupled=False),\n",
    "]\n",
    "for r in recregions:\n",
    "    print(r)"
   ]
  },
  {
   "cell_type": "markdown",
   "id": "89effc73",
   "metadata": {},
   "source": [
    "Now, the `weight` arguments are treated as *absolute*, or exactly `1` and `2`, respectively.\n",
    "\n",
    "In words, what we have is:\n",
    "\n",
    "* The number of breakpoints per diploid is Poisson distributed with mean {math}`1e-3`\n",
    "* For each breakpoint, its position is uniform on {math}`[0, 5)` with probability {math}`2/(2+1)`, or\n",
    "  it is uniform on {math}`[5, 10)` with probability {math}`1/(2+1)`.\n",
    "\n",
    "In essence, instances of {class}`fwdpy11.Region` parameterize a multinomial distribution that is used to\n",
    "choose the ranges within which breakpoints are uniformly-distributed.  A limitation of this approach\n",
    "is that we cannot model discrete jumps in genetic maps, such as those between chromosomes.\n",
    "\n",
    "(geneticmapunit)=\n",
    "\n",
    "### Method 2: using \"genetic map\" classes\n",
    "\n",
    ":::{versionadded} 0.3.0\n",
    "\n",
    ":::\n",
    "\n",
    "An alternate approach uses instances of classes derived from the `ABC`\n",
    "{class}`fwdpy11.GeneticMapUnit`. Here `Unit` refers to an *element* of\n",
    "a genetic map rather than the actual units (`cM`, etc.).  Instances of\n",
    "these classes contain their own rates and we can mix and match regions\n",
    "where recombination breakpoints are Poisson and binomially distributed.\n",
    "\n",
    "Let's revisit the example from the previous section.  This time, we will\n",
    "use {class}`fwdpy11.PoissonInterval`:"
   ]
  },
  {
   "cell_type": "code",
   "execution_count": 17,
   "id": "6e1d7a55",
   "metadata": {},
   "outputs": [],
   "source": [
    "recregions = [\n",
    "    fwdpy11.PoissonInterval(beg=0, end=5, mean=2e-3 / 3),\n",
    "    fwdpy11.PoissonInterval(beg=5, end=10, mean=1e-3 / 3),\n",
    "]"
   ]
  },
  {
   "cell_type": "markdown",
   "id": "c9581956",
   "metadata": {},
   "source": [
    "The number of breakpoints in each {math}`[beg, end)` interval is Poisson distributed\n",
    "with the given mean. The position of each breakpoint is uniform on {math}`[beg, end)`.\n",
    "\n",
    "These classes also allow us to specify breakpoints at a specific position with a specific probability.\n",
    "The next example sets up 4 genomic regions, each 10 \"units\" long.  Within each region,\n",
    "the mean number of breakpoints (per diploid, per generation) is {math}`1e-3`.\n",
    "Between each region, a single recombination occurs with probability of\n",
    "one-half, meaning that each region is assorting independently (50 `cM` between each region)."
   ]
  },
  {
   "cell_type": "code",
   "execution_count": 18,
   "id": "647688dc",
   "metadata": {},
   "outputs": [
    {
     "name": "stdout",
     "output_type": "stream",
     "text": [
      "fwdpy11.PoissonInterval(beg=0, end=10, mean=0.001, discrete=False)\n",
      "fwdpy11.PoissonInterval(beg=10, end=20, mean=0.001, discrete=False)\n",
      "fwdpy11.PoissonInterval(beg=20, end=30, mean=0.001, discrete=False)\n",
      "fwdpy11.PoissonInterval(beg=30, end=40, mean=0.001, discrete=False)\n",
      "fwdpy11.BinomialPoint(position=10, probability=0.5, discrete=False)\n",
      "fwdpy11.BinomialPoint(position=20, probability=0.5, discrete=False)\n",
      "fwdpy11.BinomialPoint(position=30, probability=0.5, discrete=False)\n"
     ]
    }
   ],
   "source": [
    "NLOCI = 4\n",
    "LOCUS_LENGTH = 10\n",
    "RECRATE_PER_LOCUS = 1e-3\n",
    "LOCUS_BOUNDARIES = [\n",
    "    (i, i + LOCUS_LENGTH) for i in range(0, NLOCI * LOCUS_LENGTH, LOCUS_LENGTH)\n",
    "]\n",
    "recregions = [fwdpy11.PoissonInterval(*i, RECRATE_PER_LOCUS) for i in LOCUS_BOUNDARIES]\n",
    "for i in LOCUS_BOUNDARIES[:-1]:\n",
    "    recregions.append(fwdpy11.BinomialPoint(i[1], 0.5))\n",
    "for i in recregions:\n",
    "    print(i)"
   ]
  },
  {
   "cell_type": "markdown",
   "id": "63c63812",
   "metadata": {},
   "source": [
    "As an aside, this example is not creating objects in order by their positions.  Such ordering is not required.\n",
    "\n",
    "Beginning in version `0.12.0`, it is possible to restrict crossover positions to integer values.\n",
    "For the examples given above, crossover positions are floating-point values sampled uniformly from {math}`[beg, end)`.\n",
    "To restrict positions to integer values, we pass `discrete=True` when creating object instances:"
   ]
  },
  {
   "cell_type": "code",
   "execution_count": 19,
   "id": "6c93ff0f",
   "metadata": {},
   "outputs": [],
   "source": [
    "recregions = [\n",
    "    fwdpy11.PoissonInterval(beg=0, end=5, mean=2e-3 / 3, discrete=True),\n",
    "    fwdpy11.PoissonInterval(beg=5, end=10, mean=1e-3 / 3, discrete=True),\n",
    "]"
   ]
  },
  {
   "cell_type": "markdown",
   "id": "8f1ed3dc",
   "metadata": {},
   "source": [
    "Now, breakpoints from the first region will only take on values of `0`, `1`, `2`, `3`, or `4`.\n",
    "\n",
    "Setting `discrete=True` requires the following:\n",
    "\n",
    "* Values for `beg` and `end` must be {class}`int`.  Thus, `1` is valid but `1.0` will raise a `TypeError`.\n",
    "* `end - beg` must be `> 1`.  This requirement prevents you from using `beg=0` and `end=1`, for example,\n",
    "  which would result in the only possible crossover position being `0`.\n",
    "* You must be more careful when using `msprime` to start/finish a simulation.\n",
    "  See {ref}`here <precapitation>` and {ref}`here <recapitation>` for details.\n",
    "\n",
    "The following classes are available:\n",
    "\n",
    "* {class}`fwdpy11.PoissonInterval`\n",
    "* {class}`fwdpy11.PoissonPoint`\n",
    "* {class}`fwdpy11.BinomialInterval`\n",
    "* {class}`fwdpy11.BinomialPoint`\n",
    "* {class}`fwdpy11.FixedCrossovers`\n",
    "\n",
    "### General comments\n",
    "\n",
    "* Different {math}`[beg, end)` intervals may overlap.  The interpretation of such a setup is your problem.\n",
    "* The first method, based on {class}`fwdpy11.Region` is slightly faster, but less flexible.  More on the flexibility\n",
    "  below.\n",
    "* When using classes like {class}`fwdpy11.PoissonInterval`, the recombination rate that you use to construct a\n",
    "  {class}`fwdpy11.ModelParams` instance is ignored, as the rates are stored in the individual objects.\n",
    "* You do not need to specify regions with zero recombination. Their existence is implied given the total\n",
    "  length of the genome being simulated ({attr}`fwdpy11.TableCollection.genome_length`).\n",
    "\n",
    ":::{note}\n",
    "\n",
    "Adding neutral mutations to the tables with {func}`fwdpy11.infinite_sites` will place\n",
    "neutral variants in the non-recombining regions.\n",
    "\n",
    ":::\n",
    "\n",
    "(genetic-values)=\n",
    "\n",
    "## Modeling mutations having direct effects on fitness\n",
    "\n",
    "In a typical population-genetic model, mutations have direct effects on fitness.\n",
    "Often, this effect is referred to as `s`, or the \"selection coefficient\".\n",
    "\n",
    "Once we've decided on our distributions of effect sizes, we need a way to obtain\n",
    "a diploid'd fitness.  For these \"standard\" population genetic models, we will use\n",
    "{class}`fwdpy11.Multiplicative`.  Instances of this class tell the simulation\n",
    "to calculate the genetic value of an individual using a multiplicative model where the\n",
    "value contributed by each position with a mutation is:\n",
    "\n",
    "| Genotype | `AA`      | `Aa`         | `aa`                        |\n",
    "| -------- | --------- | ------------ | --------------------------- |\n",
    "| Fitness  | {math}`1` | {math}`1+hs` | {math}`1 + scaling\\times s` |\n",
    "\n",
    "In this table:\n",
    "\n",
    "* `A` refers to the ancestral/non-mutant allelic state\n",
    "* `a` is the mutant allelic state\n",
    "* `h` is the heterozygous effect of the mutant, the so-called dominance coefficient.\n",
    "* `s` is the selection coefficient.\n",
    "* `scaling` lets you decide between Fisher, Wright, Haldane, Kimura, etc.,\n",
    "  when determining the fitness of the mutant homozygote.\n",
    "\n",
    "The most common values for `scaling` are `1.0` or `2.0`:"
   ]
  },
  {
   "cell_type": "code",
   "execution_count": 20,
   "id": "fe06805d",
   "metadata": {},
   "outputs": [
    {
     "data": {
      "text/plain": [
       "2.0"
      ]
     },
     "execution_count": 20,
     "metadata": {},
     "output_type": "execute_result"
    }
   ],
   "source": [
    "gvalue = fwdpy11.Multiplicative(scaling=1.0)\n",
    "gvalue.scaling\n",
    "gvalue = fwdpy11.Multiplicative(scaling=2.0)\n",
    "gvalue.scaling"
   ]
  },
  {
   "cell_type": "markdown",
   "id": "caee1c93",
   "metadata": {},
   "source": [
    ":::{note}\n",
    "\n",
    "The `scaling` parameter interacts with the `h` parameter\n",
    "for a distribution of effect sizes! (See {ref}`mutationregions`.)\n",
    "For example, if `scaling = 1.0`, then `h = 1.0` results\n",
    "in dominant mutations.  However, if `scaling = 2.0`, then\n",
    "`h = 1.0` gives co-dominant mutations.  In both cases,\n",
    "`h = 0.0` generates fully-recessive mutations.\n",
    "\n",
    ":::\n",
    "\n",
    "(modeling-quant-traits)=\n",
    "\n",
    "## Modeling mutations affecting phenotypes\n",
    "\n",
    "The previous section discussed setting up a model where a mutation's\n",
    "effect size ({attr}`fwdpy11.Mutation.s`) directly affects individual fitness.\n",
    "An alternative model is one where mutations affect some abstract \"trait\"\n",
    "or \"phenotype\" and a separate function maps trait values to fitness.\n",
    "\n",
    "Let's consider the standard model of evolutionary quantitative genetics:\n",
    "\n",
    "* Mutations have **additive** effects on trait values\n",
    "* The fitness of a trait value is a quadratic function of its distance\n",
    "  from an \"optimum\" trait value.\n",
    "\n",
    "In `fwdpy11`, a non-mutant individual has a phenotype of `0.0`.  Trait\n",
    "values are additive over the values contributed by individual genotypes\n",
    "according to the following table:\n",
    "\n",
    "| Genotype    | `AA`      | `Aa`       | `aa`                    |\n",
    "| ----------- | --------- | ---------- | ----------------------- |\n",
    "| Trait value | {math}`0` | {math}`hs` | {math}`scaling\\times s` |\n",
    "\n",
    "(If we model multiplicative effects on a trait, a non-mutant individual\n",
    "still has a value of `0.0`. The internal machinery handles this so\n",
    "that you don't have to worry about it.)\n",
    "\n",
    "To specify an additive effects model of a trait under Gaussian\n",
    "stabilizing selection with an optimum trait value of `0.0` and\n",
    "(inverse) strength of stabilizing selection `VS = 1.0`, we write:"
   ]
  },
  {
   "cell_type": "code",
   "execution_count": 21,
   "id": "7555a2cc",
   "metadata": {},
   "outputs": [],
   "source": [
    "gvalue = fwdpy11.Additive(\n",
    "    scaling=2.0, gvalue_to_fitness=fwdpy11.GSS(optimum=0.0, VS=1.0)\n",
    ")"
   ]
  },
  {
   "cell_type": "markdown",
   "id": "b2920f64",
   "metadata": {},
   "source": [
    "Here, we are using a second parameter to initialize a \"genetic value to fitness\"\n",
    "map stored in an instance of {class}`fwdpy11.Additive`.\n",
    "({class}`fwdpy11.Multiplicative` also supports such maps.)\n",
    "See {class}`fwdpy11.GSS` for details.\n",
    "\n",
    "We can also add Gaussian noise to an individual's trait value:"
   ]
  },
  {
   "cell_type": "code",
   "execution_count": 22,
   "id": "717e5f81",
   "metadata": {},
   "outputs": [],
   "source": [
    "gvalue = fwdpy11.Additive(\n",
    "    scaling=2.0,\n",
    "    gvalue_to_fitness=fwdpy11.GSS(optimum=0.0, VS=2.0 / 3.0),\n",
    "    noise=fwdpy11.GaussianNoise(mean=0.0, sd=np.sqrt(1.0 / 3.0)),\n",
    "    )"
   ]
  },
  {
   "cell_type": "markdown",
   "id": "cd3a6fd7",
   "metadata": {},
   "source": [
    "The last example requires some explanation:\n",
    "\n",
    "* We want `VS = 1.0`.  We can decompose `VS = VW + VE`, where `VW` and\n",
    "  `VE` are the additive contributions of genetic and environmental effects.\n",
    "* Here, the environmental effect is a Gaussian with mean zero and variance\n",
    "  `1/3`.  The class is parameterized with the standard deviation, however,\n",
    "  so we need to pass on the square root.\n",
    "* We then set `VS = 1 - 1/3 = 2/3` when initializing {class}`fwdpy11.GSS`.\n",
    "\n",
    "Yes, this is a nomenclature issue!  The `VS` argument to {class}`fwdpy11.GSS`\n",
    "really should be called `VW` and we'll fix that in a future version and hopefully\n",
    "not break people's code.\n",
    "\n",
    "In general, there's a good bit of subtlety to properly modeling quantitative traits.\n",
    "The machinery described here was used in {cite}`Thornton2019-nu`. {cite}`Burger2000-ul` is an excellent\n",
    "technical reference on the topic. {cite}`Walsh2018-ux` also thoroughly covers a lot of\n",
    "relevant material.\n",
    "\n",
    ":::{note}\n",
    "\n",
    "Under the hood, the `GSS` and `GSSmo` classes aren't that different.\n",
    "Their multivariate analogs are rather similar, too.  Thus, we envision\n",
    "a future with one single `fwdpy11.GaussianStabilizingSelection` class\n",
    "to handle all cases.  The types discussed here would remain as simple\n",
    "Python wrappers so that we don't break existing simulations.\n",
    "\n",
    ":::\n",
    "\n",
    "For an example of another approach to modeling phenotypes often\n",
    "attributed to {cite}`Eyre-Walker2010-rs`, see {ref}`here <eyre-walker>`.\n",
    "\n",
    ":::{todo}\n",
    "    Write (and refer to) an advanced section on pleiotropic models.\n",
    ":::\n",
    "\n",
    "### Changing the optimum phenotype during a simulation\n",
    "\n",
    "The previous example set up a model where the optimum is stable for\n",
    "the entire simulation.  We can parameterize a shifting optimum\n",
    "using {class}`fwdpy11.GSSmo`.  For example, to shift the optimum from `0.0`\n",
    "to `1.0` at generation `100`:"
   ]
  },
  {
   "cell_type": "code",
   "execution_count": 23,
   "id": "86277134",
   "metadata": {},
   "outputs": [],
   "source": [
    "moving_optimum = fwdpy11.GSSmo(\n",
    "    [\n",
    "        fwdpy11.Optimum(when=0, optimum=0.0, VS=1.0),\n",
    "        fwdpy11.Optimum(when=100, optimum=1.0, VS=1.0),\n",
    "    ]\n",
    ")\n",
    "\n",
    "gvalue = fwdpy11.Additive(scaling=2.0, gvalue_to_fitness=moving_optimum)"
   ]
  },
  {
   "cell_type": "markdown",
   "id": "77035f1b",
   "metadata": {},
   "source": [
    "Since we are working in `Python`, we can take advantage of existing libraries to\n",
    "implement interesting models.  Let's consider the following model of a randomly\n",
    "moving optimum:\n",
    "\n",
    "* There is a 1% chance each generation that the optimum shifts.\n",
    "* When a shift happens, a normal deviate with mean `0.0` and variance\n",
    "  `0.1` is added to the current optimum.\n",
    "* The simulation will end at generation `1,000`.\n",
    "\n",
    "Let's code it up:"
   ]
  },
  {
   "cell_type": "code",
   "execution_count": 24,
   "id": "4e2164ff",
   "metadata": {},
   "outputs": [
    {
     "data": {
      "text/plain": [
       "fwdpy11.GSSmo(optima=[fwdpy11.Optimum(optimum=0.0, VS=10.0, when=0), fwdpy11.Optimum(optimum=0.14621925773046504, VS=10.0, when=120), fwdpy11.Optimum(optimum=0.43133329773747653, VS=10.0, when=250), fwdpy11.Optimum(optimum=0.42015093754764493, VS=10.0, when=552), fwdpy11.Optimum(optimum=0.3570913002785381, VS=10.0, when=557), fwdpy11.Optimum(optimum=-0.0949791266685498, VS=10.0, when=568), fwdpy11.Optimum(optimum=-0.08281396117205914, VS=10.0, when=704), fwdpy11.Optimum(optimum=-0.4194925319000761, VS=10.0, when=726), fwdpy11.Optimum(optimum=-0.09246489411724829, VS=10.0, when=875), fwdpy11.Optimum(optimum=-0.37135303951111776, VS=10.0, when=876), fwdpy11.Optimum(optimum=0.024965855928271607, VS=10.0, when=898)])"
      ]
     },
     "execution_count": 24,
     "metadata": {},
     "output_type": "execute_result"
    }
   ],
   "source": [
    "optima = [fwdpy11.Optimum(when=0, optimum=0.0, VS=10.0)]\n",
    "\n",
    "last_time = 0\n",
    "last_optimum = 0.0\n",
    "\n",
    "np.random.seed(666)\n",
    "\n",
    "while last_time < 1000:\n",
    "    last_time += int(np.random.geometric(0.01, 1)[0])\n",
    "    last_optimum += np.random.normal(loc=0.0, scale=np.sqrt(0.1), size=1)[0]\n",
    "    if last_time < 1000:\n",
    "        optima.append(fwdpy11.Optimum(when=last_time, optimum=last_optimum, VS=10.0))\n",
    "\n",
    "random_moving_optimum = fwdpy11.GSSmo(optima)\n",
    "random_moving_optimum"
   ]
  },
  {
   "cell_type": "markdown",
   "id": "277f274f",
   "metadata": {},
   "source": [
    ":::{note}\n",
    "\n",
    "Note the cast to `int` when updating the time.  {class}`fwdpy11.Optimum`\n",
    "is very picky about its input. It requires `int` for `when` and will\n",
    "raise an exception if the {attr}`numpy.int64` from {func}`numpy.random.geometric`\n",
    "gets passed in.\n",
    "\n",
    ":::\n",
    "\n",
    "## Adding demographic events involving discrete demes\n",
    "\n",
    "`fwdpy11` has a flexible interface for demographic models involving multiple\n",
    "discrete demes.  A full overview of the `API` is given {ref}`here <softselection>`.\n",
    "This section gives a cursory introduction.\n",
    "\n",
    "Consider the following verbal description of a model:\n",
    "\n",
    "* There is a single ancestral population of `N = 100` diploids.\n",
    "* 100 generations into this population's future, it splits into two equal-sized\n",
    "  demes\n",
    "* The migration rate between each deme is `1e-3`.\n",
    "\n",
    "To set this model up, first initialize the population to the ancestral state:"
   ]
  },
  {
   "cell_type": "code",
   "execution_count": 25,
   "id": "01fe991f",
   "metadata": {},
   "outputs": [],
   "source": [
    "pop = fwdpy11.DiploidPopulation(100, 1.0)"
   ]
  },
  {
   "cell_type": "markdown",
   "id": "53581567",
   "metadata": {},
   "source": [
    "This model has migration, so we need a migration matrix. The rows of a migration\n",
    "matrix are the **destination** demes and the columns are the **source** demes.\n",
    "A migration matrix can be interpreted as the fraction of migrants each generation\n",
    "from each source deme. This definition implies that each row must sum to `1.0`.\n",
    "\n",
    "This is a 2-deme model, so we need a `2x2` matrix.  Initially, there is only the\n",
    "single ancestral deme, and therefore 100% of its ancestry each generation is\n",
    "from itself. Thus, our initial migration matrix looks like:"
   ]
  },
  {
   "cell_type": "code",
   "execution_count": 26,
   "id": "66c1e144",
   "metadata": {},
   "outputs": [
    {
     "data": {
      "text/plain": [
       "array([[1., 0.],\n",
       "       [0., 0.]])"
      ]
     },
     "execution_count": 26,
     "metadata": {},
     "output_type": "execute_result"
    }
   ],
   "source": [
    "migmatrix = np.zeros(4).reshape(2, 2)\n",
    "migmatrix[0, 0] = 1.0\n",
    "migmatrix"
   ]
  },
  {
   "cell_type": "markdown",
   "id": "6d37c9bd",
   "metadata": {},
   "source": [
    "At generation `100`, we move half of the ancestral population (deme `0`) to a new\n",
    "deme `1`:"
   ]
  },
  {
   "cell_type": "code",
   "execution_count": 27,
   "id": "fb4ed6a1",
   "metadata": {},
   "outputs": [],
   "source": [
    "mass_migrations = [\n",
    "    fwdpy11.move_individuals(when=100, source=0, destination=1, fraction=0.5)\n",
    "]"
   ]
  },
  {
   "cell_type": "markdown",
   "id": "e171bc7e",
   "metadata": {},
   "source": [
    "We now need to set up our new symmetric migration rates:"
   ]
  },
  {
   "cell_type": "code",
   "execution_count": 28,
   "id": "70ad55ad",
   "metadata": {},
   "outputs": [],
   "source": [
    "m = 1e-3\n",
    "set_migration_rates = [\n",
    "    fwdpy11.SetMigrationRates(when=100, deme=0, migrates=[1 - m, m]),\n",
    "    fwdpy11.SetMigrationRates(when=100, deme=1, migrates=[m, 1.0 - m]),\n",
    "]"
   ]
  },
  {
   "cell_type": "markdown",
   "id": "5b694dce",
   "metadata": {},
   "source": [
    "We now have the parts of our model.  To build a model, we need to create\n",
    "an instance of {class}`fwdpy11.DiscreteDemography`:"
   ]
  },
  {
   "cell_type": "code",
   "execution_count": 29,
   "id": "8cc48442",
   "metadata": {},
   "outputs": [],
   "source": [
    "dmodel = fwdpy11.DiscreteDemography(\n",
    "    mass_migrations=mass_migrations,\n",
    "    migmatrix=migmatrix,\n",
    "    set_migration_rates=set_migration_rates,\n",
    ")"
   ]
  },
  {
   "cell_type": "markdown",
   "id": "ed5e6e74",
   "metadata": {},
   "source": [
    "This class has a nice method for pretty-printing via `black`:"
   ]
  },
  {
   "cell_type": "code",
   "execution_count": 30,
   "id": "c1f78b2e",
   "metadata": {},
   "outputs": [
    {
     "name": "stdout",
     "output_type": "stream",
     "text": [
      "fwdpy11.DiscreteDemography(\n",
      "    mass_migrations=[\n",
      "        fwdpy11.MassMigration(\n",
      "            when=100,\n",
      "            source=0,\n",
      "            destination=1,\n",
      "            fraction=0.5,\n",
      "            move_individuals=True,\n",
      "            resets_growth_rate=True,\n",
      "        )\n",
      "    ],\n",
      "    set_growth_rates=None,\n",
      "    set_deme_sizes=None,\n",
      "    set_selfing_rates=None,\n",
      "    migmatrix=fwdpy11.MigrationMatrix(\n",
      "        migmatrix=array([[1.0, 0.0], [0.0, 0.0]]), scaled=False\n",
      "    ),\n",
      "    set_migration_rates=[\n",
      "        fwdpy11.SetMigrationRates(when=100, deme=0, migrates=[0.999, 0.001]),\n",
      "        fwdpy11.SetMigrationRates(when=100, deme=1, migrates=[0.001, 0.999]),\n",
      "    ],\n",
      ")\n",
      "\n"
     ]
    }
   ],
   "source": [
    "print(dmodel.asblack())"
   ]
  },
  {
   "cell_type": "markdown",
   "id": "072d6ccd",
   "metadata": {},
   "source": [
    "Instances of {class}`fwdpy11.DiscreteDemography` are immutable, meaning that\n",
    "the attributes are read-only and attempts to modify will raise exceptions:"
   ]
  },
  {
   "cell_type": "code",
   "execution_count": 31,
   "id": "e52d2301",
   "metadata": {
    "tags": [
     "raises-exception"
    ]
   },
   "outputs": [
    {
     "ename": "FrozenInstanceError",
     "evalue": "",
     "output_type": "error",
     "traceback": [
      "\u001b[0;31m---------------------------------------------------------------------------\u001b[0m",
      "\u001b[0;31mFrozenInstanceError\u001b[0m                       Traceback (most recent call last)",
      "Cell \u001b[0;32mIn[31], line 1\u001b[0m\n\u001b[0;32m----> 1\u001b[0m \u001b[43mdmodel\u001b[49m\u001b[38;5;241;43m.\u001b[39;49m\u001b[43mmass_migrations\u001b[49m \u001b[38;5;241m=\u001b[39m \u001b[38;5;28;01mNone\u001b[39;00m\n",
      "File \u001b[0;32m~/.local/lib/python3.10/site-packages/attr/_make.py:642\u001b[0m, in \u001b[0;36m_frozen_setattrs\u001b[0;34m(self, name, value)\u001b[0m\n\u001b[1;32m    638\u001b[0m \u001b[38;5;28;01mdef\u001b[39;00m \u001b[38;5;21m_frozen_setattrs\u001b[39m(\u001b[38;5;28mself\u001b[39m, name, value):\n\u001b[1;32m    639\u001b[0m \u001b[38;5;250m    \u001b[39m\u001b[38;5;124;03m\"\"\"\u001b[39;00m\n\u001b[1;32m    640\u001b[0m \u001b[38;5;124;03m    Attached to frozen classes as __setattr__.\u001b[39;00m\n\u001b[1;32m    641\u001b[0m \u001b[38;5;124;03m    \"\"\"\u001b[39;00m\n\u001b[0;32m--> 642\u001b[0m     \u001b[38;5;28;01mraise\u001b[39;00m FrozenInstanceError()\n",
      "\u001b[0;31mFrozenInstanceError\u001b[0m: "
     ]
    }
   ],
   "source": [
    "dmodel.mass_migrations = None"
   ]
  },
  {
   "cell_type": "markdown",
   "id": "e4fa0cb9",
   "metadata": {},
   "source": [
    "However, you can get a {class}`dict` representation of the data, which you\n",
    "can modify:"
   ]
  },
  {
   "cell_type": "code",
   "execution_count": 32,
   "id": "cc289cab",
   "metadata": {},
   "outputs": [
    {
     "name": "stdout",
     "output_type": "stream",
     "text": [
      "fwdpy11.DiscreteDemography(\n",
      "    mass_migrations=None,\n",
      "    set_growth_rates=None,\n",
      "    set_deme_sizes=None,\n",
      "    set_selfing_rates=None,\n",
      "    migmatrix=fwdpy11.MigrationMatrix(\n",
      "        migmatrix=array([[1.0, 0.0], [0.0, 0.0]]), scaled=False\n",
      "    ),\n",
      "    set_migration_rates=[\n",
      "        fwdpy11.SetMigrationRates(when=100, deme=0, migrates=[0.999, 0.001]),\n",
      "        fwdpy11.SetMigrationRates(when=100, deme=1, migrates=[0.001, 0.999]),\n",
      "    ],\n",
      ")\n",
      "\n"
     ]
    }
   ],
   "source": [
    "import copy\n",
    "\n",
    "dmodel_dict = copy.deepcopy(dmodel.asdict())\n",
    "dmodel_dict[\"mass_migrations\"] = None\n",
    "dmodel2 = fwdpy11.DiscreteDemography(**dmodel_dict)\n",
    "print(dmodel2.asblack())"
   ]
  },
  {
   "cell_type": "markdown",
   "id": "8ac4dd90",
   "metadata": {},
   "source": [
    ":::{warning}\n",
    "\n",
    "It is best practice to use {func}`copy.deepcopy` here. The\n",
    "{class}`fwdpy11.DiscreteDemography` instances may contain\n",
    "objects like {class}`numpy.ndarray` that only get copied by\n",
    "reference when the `dict` is generated.  For safety/general\n",
    "happiness, making a deep copy helps here.\n",
    "\n",
    ":::\n",
    "\n",
    "`fwdpy11` contains a small collection of pre-computed demographic models.\n",
    "One of them is the common modeling scenario of two recently diverged populations.\n",
    "Additionally, we supply some commonly-used models of human demography.\n",
    "See {ref}`demographic-models` for details.\n",
    "\n",
    "### A note of caution\n",
    "\n",
    ":::{warning}\n",
    "\n",
    "Programatically building up demographic models is tedious\n",
    "and error-prone.  Errors end up in the literature, too (see\n",
    "{cite}`Ragsdale2020-gl`).  Where possible, I **strongly** urge you\n",
    "to test the correctness of a model against another implementation.\n",
    "For example, one could compare results with no selection\n",
    "and no recombination with the output of `msprime`. Another\n",
    "approach is to compare to the predictions of\n",
    "[moments](<https://bitbucket.org/simongravel/moments>) {cite}`Jouganous2017-tg`,\n",
    "which is the approach taken by the `fwdpy11`\n",
    "[statistical tests](<https://github.com/molpopgen/fwdpy11_statistical_tests>).\n",
    "\n",
    ":::\n",
    "\n",
    "Given the inherent difficulty of building up models, we hope to provide\n",
    "a simpler approach in a future release.  There's a small group of people\n",
    "currently hatching a plan to provide a common schema representing demographic\n",
    "models of discrete demes.  The hope is that several pieces of software can\n",
    "all use these schema.\n",
    "\n",
    "(demographydebugger)=\n",
    "\n",
    "### Debugging a demographic model\n",
    "\n",
    "The parameters of a demographic model are checked at run time at two different places:\n",
    "\n",
    "* Upon object construction.  The various event objects try to make sure that\n",
    "  the parameter inputs are valid.\n",
    "* If invalid events occur during a simulation,\n",
    "  the simulation raises a `fwdpy11.DemographyError` exception.\n",
    "\n",
    "It is clearly preferable for a simulation to detect errors as early as possible.\n",
    "While bad inputs can be detected almost immediately, more subtle errors are only\n",
    "detected during simulation, which may take a while.\n",
    "A more efficient approach to checking your models is to use {class}`fwdpy11.DemographyDebugger`:\n",
    "\n",
    "The class also generates a \"report\" with a verbal description of the model:"
   ]
  },
  {
   "cell_type": "code",
   "execution_count": 33,
   "id": "c1466086",
   "metadata": {},
   "outputs": [
    {
     "name": "stdout",
     "output_type": "stream",
     "text": [
      "DemographyDebugger::report not yet implemented\n"
     ]
    },
    {
     "name": "stderr",
     "output_type": "stream",
     "text": [
      "/home/runner/work/fwdpy11/fwdpy11/fwdpy11/_types/demography_debugger.py:307: UserWarning: report generation has not been implemented\n",
      "  warnings.warn(\"report generation has not been implemented\")\n"
     ]
    }
   ],
   "source": [
    "d = fwdpy11.DemographyDebugger(\n",
    "    initial_deme_sizes=[100],\n",
    "    events=dmodel,\n",
    "    simlen=150,\n",
    "    deme_labels={0: \"ANCESTRAL\", 1: \"DERIVED\"},\n",
    ")\n",
    "\n",
    "print(d.report)"
   ]
  },
  {
   "cell_type": "markdown",
   "id": "cc45d706",
   "metadata": {},
   "source": [
    "If the model were invalid, then an error would have been raised during initialization.\n",
    "\n",
    "Let's take a look at passing in a bad model.  If we neglect to update\n",
    "the migration rates, then the model considers there to be no ancestry specified for\n",
    "deme `1`:"
   ]
  },
  {
   "cell_type": "code",
   "execution_count": 34,
   "id": "98ce91ae",
   "metadata": {
    "tags": [
     "raises-exception"
    ]
   },
   "outputs": [
    {
     "name": "stdout",
     "output_type": "stream",
     "text": [
      "fwdpy11.DiscreteDemography(\n",
      "    mass_migrations=[\n",
      "        fwdpy11.MassMigration(\n",
      "            when=100,\n",
      "            source=0,\n",
      "            destination=1,\n",
      "            fraction=0.5,\n",
      "            move_individuals=True,\n",
      "            resets_growth_rate=True,\n",
      "        )\n",
      "    ],\n",
      "    set_growth_rates=None,\n",
      "    set_deme_sizes=None,\n",
      "    set_selfing_rates=None,\n",
      "    migmatrix=fwdpy11.MigrationMatrix(\n",
      "        migmatrix=array([[1.0, 0.0], [0.0, 0.0]]), scaled=False\n",
      "    ),\n",
      "    set_migration_rates=None,\n",
      ")\n",
      "\n"
     ]
    },
    {
     "ename": "ValueError",
     "evalue": "the migration rantes into deme 1 are 0.0 at time 0",
     "output_type": "error",
     "traceback": [
      "\u001b[0;31m---------------------------------------------------------------------------\u001b[0m",
      "\u001b[0;31mValueError\u001b[0m                                Traceback (most recent call last)",
      "Cell \u001b[0;32mIn[34], line 5\u001b[0m\n\u001b[1;32m      1\u001b[0m bad_dmodel \u001b[38;5;241m=\u001b[39m fwdpy11\u001b[38;5;241m.\u001b[39mDiscreteDemography(\n\u001b[1;32m      2\u001b[0m     mass_migrations\u001b[38;5;241m=\u001b[39mmass_migrations, migmatrix\u001b[38;5;241m=\u001b[39mmigmatrix\n\u001b[1;32m      3\u001b[0m )\n\u001b[1;32m      4\u001b[0m \u001b[38;5;28mprint\u001b[39m(bad_dmodel\u001b[38;5;241m.\u001b[39masblack())\n\u001b[0;32m----> 5\u001b[0m d \u001b[38;5;241m=\u001b[39m \u001b[43mfwdpy11\u001b[49m\u001b[38;5;241;43m.\u001b[39;49m\u001b[43mDemographyDebugger\u001b[49m\u001b[43m(\u001b[49m\u001b[43m[\u001b[49m\u001b[38;5;241;43m100\u001b[39;49m\u001b[43m]\u001b[49m\u001b[43m,\u001b[49m\u001b[43m \u001b[49m\u001b[43mbad_dmodel\u001b[49m\u001b[43m,\u001b[49m\u001b[43m \u001b[49m\u001b[38;5;241;43m150\u001b[39;49m\u001b[43m,\u001b[49m\u001b[43m \u001b[49m\u001b[43m{\u001b[49m\u001b[38;5;241;43m0\u001b[39;49m\u001b[43m:\u001b[49m\u001b[43m \u001b[49m\u001b[38;5;124;43m\"\u001b[39;49m\u001b[38;5;124;43mANCESTRAL\u001b[39;49m\u001b[38;5;124;43m\"\u001b[39;49m\u001b[43m,\u001b[49m\u001b[43m \u001b[49m\u001b[38;5;241;43m1\u001b[39;49m\u001b[43m:\u001b[49m\u001b[43m \u001b[49m\u001b[38;5;124;43m\"\u001b[39;49m\u001b[38;5;124;43mDERIVED\u001b[39;49m\u001b[38;5;124;43m\"\u001b[39;49m\u001b[43m}\u001b[49m\u001b[43m)\u001b[49m\n",
      "File \u001b[0;32m<string>:7\u001b[0m, in \u001b[0;36m__init__\u001b[0;34m(self, initial_deme_sizes, events, simlen, deme_labels)\u001b[0m\n",
      "File \u001b[0;32m~/work/fwdpy11/fwdpy11/fwdpy11/_types/demography_debugger.py:170\u001b[0m, in \u001b[0;36mDemographyDebugger.__post_init__\u001b[0;34m(self)\u001b[0m\n\u001b[1;32m    160\u001b[0m     event_list \u001b[38;5;241m=\u001b[39m _DemographyEvents(\n\u001b[1;32m    161\u001b[0m         temp\u001b[38;5;241m.\u001b[39mmigmatrix,\n\u001b[1;32m    162\u001b[0m         temp\u001b[38;5;241m.\u001b[39mmass_migrations,\n\u001b[0;32m   (...)\u001b[0m\n\u001b[1;32m    166\u001b[0m         temp\u001b[38;5;241m.\u001b[39mset_migration_rates,\n\u001b[1;32m    167\u001b[0m     )\n\u001b[1;32m    169\u001b[0m \u001b[38;5;28mself\u001b[39m\u001b[38;5;241m.\u001b[39mmigration_history \u001b[38;5;241m=\u001b[39m \u001b[38;5;28mself\u001b[39m\u001b[38;5;241m.\u001b[39m_build_migration_history(event_list)\n\u001b[0;32m--> 170\u001b[0m \u001b[38;5;28;43mself\u001b[39;49m\u001b[38;5;241;43m.\u001b[39;49m\u001b[43m_validate_epochs\u001b[49m\u001b[43m(\u001b[49m\u001b[43mevent_list\u001b[49m\u001b[43m)\u001b[49m\n",
      "File \u001b[0;32m~/work/fwdpy11/fwdpy11/fwdpy11/_types/demography_debugger.py:275\u001b[0m, in \u001b[0;36mDemographyDebugger._validate_epochs\u001b[0;34m(self, events)\u001b[0m\n\u001b[1;32m    272\u001b[0m                 ttl_rate_in \u001b[38;5;241m=\u001b[39m i\u001b[38;5;241m.\u001b[39mmigration_matrix[epoch\u001b[38;5;241m.\u001b[39mdata\u001b[38;5;241m.\u001b[39mdeme, :]\u001b[38;5;241m.\u001b[39msum(\n\u001b[1;32m    273\u001b[0m                 )\n\u001b[1;32m    274\u001b[0m                 \u001b[38;5;28;01mif\u001b[39;00m \u001b[38;5;129;01mnot\u001b[39;00m ttl_rate_in \u001b[38;5;241m>\u001b[39m \u001b[38;5;241m0\u001b[39m:\n\u001b[0;32m--> 275\u001b[0m                     \u001b[38;5;28;01mraise\u001b[39;00m \u001b[38;5;167;01mValueError\u001b[39;00m(\n\u001b[1;32m    276\u001b[0m                         \u001b[38;5;124mf\u001b[39m\u001b[38;5;124m\"\u001b[39m\u001b[38;5;124mthe migration rantes into deme \u001b[39m\u001b[38;5;132;01m{\u001b[39;00mepoch\u001b[38;5;241m.\u001b[39mdata\u001b[38;5;241m.\u001b[39mdeme\u001b[38;5;132;01m}\u001b[39;00m\u001b[38;5;124m are 0.0 at time \u001b[39m\u001b[38;5;132;01m{\u001b[39;00mi\u001b[38;5;241m.\u001b[39mstart\u001b[38;5;132;01m}\u001b[39;00m\u001b[38;5;124m\"\u001b[39m\n\u001b[1;32m    277\u001b[0m                     )\n\u001b[1;32m    278\u001b[0m \u001b[38;5;28;01melse\u001b[39;00m:\n\u001b[1;32m    279\u001b[0m     \u001b[38;5;28;01mif\u001b[39;00m events\u001b[38;5;241m.\u001b[39mmigmatrix \u001b[38;5;129;01mis\u001b[39;00m \u001b[38;5;28;01mNone\u001b[39;00m:\n",
      "\u001b[0;31mValueError\u001b[0m: the migration rantes into deme 1 are 0.0 at time 0"
     ]
    }
   ],
   "source": [
    "bad_dmodel = fwdpy11.DiscreteDemography(\n",
    "    mass_migrations=mass_migrations, migmatrix=migmatrix\n",
    ")\n",
    "print(bad_dmodel.asblack())\n",
    "d = fwdpy11.DemographyDebugger([100], bad_dmodel, 150, {0: \"ANCESTRAL\", 1: \"DERIVED\"})"
   ]
  },
  {
   "cell_type": "markdown",
   "id": "f3ae4d00",
   "metadata": {},
   "source": [
    "Our `dmodel2` from above is also invalid, as deme `1`\n",
    "never gets created since we deleted the mass migration event:"
   ]
  },
  {
   "cell_type": "code",
   "execution_count": 35,
   "id": "afcea95e",
   "metadata": {
    "tags": [
     "raises-exception"
    ]
   },
   "outputs": [
    {
     "data": {
      "text/plain": [
       "DemographyDebugger(initial_deme_sizes=[100], events=fwdpy11.DiscreteDemography(mass_migrations=None, set_growth_rates=None, set_deme_sizes=None, set_selfing_rates=None, migmatrix=fwdpy11.MigrationMatrix(migmatrix=array([[1., 0.],\n",
       "       [0., 0.]]), scaled=False), set_migration_rates=[fwdpy11.SetMigrationRates(when=100, deme=0, migrates=[0.999, 0.001]), fwdpy11.SetMigrationRates(when=100, deme=1, migrates=[0.001, 0.999])]), simlen=None, deme_labels=None)"
      ]
     },
     "execution_count": 35,
     "metadata": {},
     "output_type": "execute_result"
    }
   ],
   "source": [
    "fwdpy11.DemographyDebugger([100], dmodel2)"
   ]
  },
  {
   "cell_type": "markdown",
   "id": "1f4df995",
   "metadata": {},
   "source": [
    "(model-params)=\n",
    "\n",
    "## Setting up the parameters for a simulation\n",
    "\n",
    "Simulation parameters are stored in instances of {class}`fwdpy11.ModelParams`.\n",
    "All of the examples shown above generated objects that we need to store in\n",
    "such instances.\n",
    "\n",
    "Like {class}`fwdpy11.DiscreteDemography`, {class}`fwdpy11.ModelParams` is\n",
    "immutable after initialization.  Thus, I find it most convenient to\n",
    "first put the objects into a {class}`dict` and then \"explode\" it to\n",
    "initialize a {class}`fwdpy11.ModelParams`.\n",
    "\n",
    "The following example uses what we discussed above:"
   ]
  },
  {
   "cell_type": "code",
   "execution_count": 36,
   "id": "a3ee4a81",
   "metadata": {},
   "outputs": [],
   "source": [
    "sregions = [fwdpy11.ExpS(beg=0.0, end=1.0, weight=1.0, mean=-0.2)]\n",
    "recregions = [fwdpy11.PoissonInterval(beg=0.0, end=0.1, mean=1e-3)]\n",
    "migmatrix = np.zeros(4).reshape(2, 2)\n",
    "migmatrix[0, 0] = 1.0\n",
    "mass_migrations = [\n",
    "    fwdpy11.move_individuals(when=100, source=0, destination=1, fraction=0.5)\n",
    "]\n",
    "migrate = 1e-3\n",
    "set_migration_rates = [\n",
    "    fwdpy11.SetMigrationRates(when=100, deme=0, migrates=[1 - migrate, migrate]),\n",
    "    fwdpy11.SetMigrationRates(when=100, deme=1, migrates=[migrate, 1.0 - migrate]),\n",
    "]\n",
    "dmodel = fwdpy11.DiscreteDemography(\n",
    "    mass_migrations=mass_migrations,\n",
    "    migmatrix=migmatrix,\n",
    "    set_migration_rates=set_migration_rates,\n",
    ")\n",
    "dbg = fwdpy11.DemographyDebugger([100], dmodel, 150)"
   ]
  },
  {
   "cell_type": "code",
   "execution_count": 37,
   "id": "7063443f",
   "metadata": {},
   "outputs": [],
   "source": [
    "gvalue = fwdpy11.Additive(\n",
    "    scaling=2.0,\n",
    "    gvalue_to_fitness=fwdpy11.GSSmo(\n",
    "        [\n",
    "            fwdpy11.Optimum(when=0, optimum=0.0, VS=1.0),\n",
    "            fwdpy11.Optimum(when=100, optimum=1.0, VS=1.0),\n",
    "        ]\n",
    "    ),\n",
    ")\n",
    "pdict = {\n",
    "    \"nregions\": [],\n",
    "    \"sregions\": sregions,\n",
    "    \"recregions\": recregions,\n",
    "    \"rates\": (0.0, 1e-2, None),\n",
    "    \"gvalue\": gvalue,\n",
    "    \"prune_selected\": False,\n",
    "    \"simlen\": 150,\n",
    "    \"demography\": dmodel,\n",
    "}\n",
    "params = fwdpy11.ModelParams(**pdict)"
   ]
  },
  {
   "cell_type": "markdown",
   "id": "cb4c6284",
   "metadata": {},
   "source": [
    "There are a few new things here:\n",
    "\n",
    "* The `nregions` field specifies where neutral mutations occur.  We leave it empty\n",
    "  because we can add such mutations after the simulation is done.\n",
    "* `prune_selected` tells the simulation what to do with fixed selected mutations\n",
    "  after simplification. If `True`, they will be removed from the simulation.\n",
    "  If `False`, they will be kept.  We keep them here because we are simulating an\n",
    "  additive trait, and the fixed genetic background is part of the genetic value\n",
    "  of an individual.  If we were instead simulating a standard population genetic model\n",
    "  with multiplicative fitness effects, we could use `True` because all such models\n",
    "  require is that relative fitnesses are preserved up to a multiplicative constant.\n",
    "* The `rates` parameter is a list-like object with the neutral mutation rate,\n",
    "  selected mutation rate, and the recombination rate, respectively.  See the\n",
    "  next subsection for details.\n",
    "\n",
    "Let's take a look at what we just built:"
   ]
  },
  {
   "cell_type": "code",
   "execution_count": 38,
   "id": "50834d3b",
   "metadata": {},
   "outputs": [
    {
     "name": "stdout",
     "output_type": "stream",
     "text": [
      "fwdpy11.ModelParams(\n",
      "    nregions=[],\n",
      "    sregions=[\n",
      "        fwdpy11.ExpS(\n",
      "            beg=0.0,\n",
      "            end=1.0,\n",
      "            weight=1.0,\n",
      "            mean=-0.2,\n",
      "            h=1.0,\n",
      "            coupled=True,\n",
      "            label=0,\n",
      "            scaling=1.0,\n",
      "        )\n",
      "    ],\n",
      "    recregions=[fwdpy11.PoissonInterval(beg=0.0, end=0.1, mean=0.001, discrete=False)],\n",
      "    rates=fwdpy11.MutationAndRecombinationRates(\n",
      "        neutral_mutation_rate=0.0, selected_mutation_rate=0.01, recombination_rate=None\n",
      "    ),\n",
      "    gvalue=fwdpy11.Additive(\n",
      "        scaling=2.0,\n",
      "        gvalue_to_fitness=fwdpy11.GSSmo(\n",
      "            optima=[\n",
      "                fwdpy11.Optimum(optimum=0.0, VS=1.0, when=0),\n",
      "                fwdpy11.Optimum(optimum=1.0, VS=1.0, when=100),\n",
      "            ]\n",
      "        ),\n",
      "        noise=None,\n",
      "        ndemes=1,\n",
      "    ),\n",
      "    demography=fwdpy11.DiscreteDemography(\n",
      "        mass_migrations=[\n",
      "            fwdpy11.MassMigration(\n",
      "                when=100,\n",
      "                source=0,\n",
      "                destination=1,\n",
      "                fraction=0.5,\n",
      "                move_individuals=True,\n",
      "                resets_growth_rate=True,\n",
      "            )\n",
      "        ],\n",
      "        set_growth_rates=None,\n",
      "        set_deme_sizes=None,\n",
      "        set_selfing_rates=None,\n",
      "        migmatrix=fwdpy11.MigrationMatrix(\n",
      "            migmatrix=array([[1.0, 0.0], [0.0, 0.0]]), scaled=False\n",
      "        ),\n",
      "        set_migration_rates=[\n",
      "            fwdpy11.SetMigrationRates(when=100, deme=0, migrates=[0.999, 0.001]),\n",
      "            fwdpy11.SetMigrationRates(when=100, deme=1, migrates=[0.001, 0.999]),\n",
      "        ],\n",
      "    ),\n",
      "    simlen=150,\n",
      "    prune_selected=False,\n",
      ")\n",
      "\n"
     ]
    }
   ],
   "source": [
    "print(params.asblack())"
   ]
  },
  {
   "cell_type": "markdown",
   "id": "fcd79ea8",
   "metadata": {},
   "source": [
    "(model-params-rate-details)=\n",
    "\n",
    "### Mutation and recombination rates\n",
    "\n",
    "In general, the neutral mutation rate should be set to `0.0`.\n",
    "\n",
    "The selected mutation rate is a non-negative {class}`float` representing the total mutation\n",
    "rate per haploid genome per generation.\n",
    "\n",
    "If you use instances of {class}`fwdpy11.Region` to set up the genetic map\n",
    "(see {ref}`here <recregions>`), then you need to provide a non-negative {class}`float`\n",
    "representing the total recombination rate per meiosis.  If you use instances\n",
    "of {class}`fwdpy11.GeneticMapUnit` (see {ref}`here <geneticmapunit>`), then use\n",
    "`None`.\n",
    "\n",
    "(evolvets)=\n",
    "\n",
    "## Running a simulation with tree sequence recording\n",
    "\n",
    "To evolve the population with tree sequence recording, we make a call\n",
    "to {func}`fwdpy11.evolvets`.  We also need an instance of {class}`fwdpy11.GSLrng`,\n",
    "which is a random number generator."
   ]
  },
  {
   "cell_type": "code",
   "execution_count": 39,
   "id": "83be7c3b",
   "metadata": {},
   "outputs": [
    {
     "data": {
      "text/plain": [
       "150"
      ]
     },
     "execution_count": 39,
     "metadata": {},
     "output_type": "execute_result"
    }
   ],
   "source": [
    "rng = fwdpy11.GSLrng(42)\n",
    "pop = fwdpy11.DiploidPopulation(100, 1.0)\n",
    "fwdpy11.evolvets(rng=rng, pop=pop, params=params, simplification_interval=25)\n",
    "pop.generation"
   ]
  },
  {
   "cell_type": "markdown",
   "id": "8ba004c3",
   "metadata": {},
   "source": [
    "The `simplification_interval` parameter directs `fwdpy11` to run the tree\n",
    "sequence simplification algorithm {cite}`Kelleher2018-mc` every 25 generations.  Simplifying\n",
    "often uses less total memory but requires a longer total run time.  Simplifying too\n",
    "infrequently may consume too much memory.  In general, I use a value of `100` and\n",
    "try not to think about it too much.\n",
    "\n",
    ":::{note}\n",
    "\n",
    "This simulation involves one deme splitting into two. The way that\n",
    "this model is written, the `gvalue` parameter applies to both\n",
    "demes. See {ref}`here <mvdes>` for how to simulate mutations with\n",
    "different effect sizes in different demes and {ref}`here <localadaptation>`\n",
    "for a more complex example.\n",
    "\n",
    ":::\n",
    "\n",
    ":::{todo}\n",
    "    How to track precise fixation times.\n",
    ":::\n",
    "\n",
    "(ancient-samples)=\n",
    "\n",
    "## Recording \"ancient samples\" during a simulation\n",
    "\n",
    "During a simulation, individuals can be marked as \"preserved\" or\n",
    "\"remembered\".  This marking means that their nodes in the node\n",
    "table and their metadata are maintained, allowing you to retrieve\n",
    "the data for later analysis, reconstruct genotypes, etc..\n",
    "\n",
    "To mark samples as preserved, you need to define a callable object\n",
    "equivalent to the following function:\n",
    "\n",
    "```{code-block} python\n",
    "\n",
    "def record_samples(pop, sampler):\n",
    "    pass\n",
    "\n",
    "```\n",
    "\n",
    "The first argument to this callable will be the instance of\n",
    "{class}`fwdpy11.DiploidPopulation` that you've passed on to\n",
    "{func}`fwdpy11.evolvets` (see {ref}`above <evolvets>`).\n",
    "The second argument will be an instance of {class}`fwdpy11.SampleRecorder`.\n",
    "This second argument will be created internally by `fwdpy11`\n",
    "and passed to your callable.\n",
    "\n",
    "The reason why we use the term \"callable\" here instead of \"function\"\n",
    "is that you will probably want to write callable classes rather\n",
    "than actual functions.  For example, imagine that we only want\n",
    "to record individuals whose fitnesses are in the top `X%`\n",
    "of those found in deme `Y` every `10th` generation:"
   ]
  },
  {
   "cell_type": "code",
   "execution_count": 40,
   "id": "ed93a1dd",
   "metadata": {},
   "outputs": [],
   "source": [
    "class GetTopFitnessess(object):\n",
    "    def __init__(self, X, Y):\n",
    "        self.X = X\n",
    "        self.Y = Y\n",
    "\n",
    "    def __call__(self, pop, sampler):\n",
    "        if pop.generation % 10 == 0.0:\n",
    "            md = np.array(pop.diploid_metadata, copy=False)\n",
    "            inY = np.where(md[\"deme\"] == self.Y)[0]\n",
    "            w = md[\"w\"][inY]\n",
    "            q = np.quantile(w, self.Y)\n",
    "            geqq = np.where(w >= q)[0]\n",
    "            sampler.assign(inY[geqq])"
   ]
  },
  {
   "cell_type": "markdown",
   "id": "4f6e1290",
   "metadata": {},
   "source": [
    "The above class is not well-implemented at all, but it will suffice for our example,\n",
    "where we pass an instance on to {func}`fwdpy11.evolvets`:"
   ]
  },
  {
   "cell_type": "code",
   "execution_count": 41,
   "id": "81dc5ac4",
   "metadata": {},
   "outputs": [],
   "source": [
    "rng = fwdpy11.GSLrng(42)\n",
    "pop = fwdpy11.DiploidPopulation(100, 1.0)\n",
    "recorder = GetTopFitnessess(0.5, 0)\n",
    "fwdpy11.evolvets(\n",
    "    rng=rng, pop=pop, params=params, simplification_interval=25, recorder=recorder\n",
    ")"
   ]
  },
  {
   "cell_type": "markdown",
   "id": "a619dd26",
   "metadata": {},
   "source": [
    "At the end of the simulation, we indeed have metadata from \"ancient samples\":"
   ]
  },
  {
   "cell_type": "code",
   "execution_count": 42,
   "id": "1b8eca2e",
   "metadata": {},
   "outputs": [
    {
     "name": "stdout",
     "output_type": "stream",
     "text": [
      "[(0., 0., 0.60653066, [0., 0., 0.], 45, [17, 42], 0, 0, [2590, 2591])\n",
      " (0., 0., 0.60653066, [0., 0., 0.], 46, [16, 30], 0, 0, [2592, 2593])\n",
      " (0., 0., 0.60653066, [0., 0., 0.], 47, [23, 22], 0, 0, [2594, 2595])\n",
      " (0., 0., 0.60653066, [0., 0., 0.], 48, [22, 15], 0, 0, [2596, 2597])\n",
      " (0., 0., 0.60653066, [0., 0., 0.], 49, [40, 34], 0, 0, [2598, 2599])]\n"
     ]
    }
   ],
   "source": [
    "amd = np.array(pop.ancient_sample_metadata, copy=False)\n",
    "print(\n",
    "    amd[\n",
    "        -5:,\n",
    "    ]\n",
    ")"
   ]
  },
  {
   "cell_type": "markdown",
   "id": "2b8b6a72",
   "metadata": {},
   "source": [
    "The following sampler types are built in to `fwdpy11`:\n",
    "\n",
    "* {class}`fwdpy11.RandomAncientSamples`\n",
    "\n",
    "(pop-from-tskit)=\n",
    "\n",
    "## Tracking features of the population during a simulation\n",
    "\n",
    "The concept of passing a callable into the simulation has more uses\n",
    "than recording ancient samples.  Basically, we can track pretty\n",
    "much anything.  The following example tracks the mean genetic value\n",
    "in each deme every generation:"
   ]
  },
  {
   "cell_type": "code",
   "execution_count": 43,
   "id": "69e6b5ef",
   "metadata": {},
   "outputs": [],
   "source": [
    "class TrackGvalues(object):\n",
    "    def __init__(self):\n",
    "        self.data = []\n",
    "\n",
    "    def __call__(self, pop, sampler):\n",
    "        md = np.array(pop.diploid_metadata, copy=False)\n",
    "        for i in [0, 1]:\n",
    "            w = np.where(md[\"deme\"] == i)[0]\n",
    "            if len(w):\n",
    "                self.data.append((pop.generation, i, md[\"g\"][w].mean()))"
   ]
  },
  {
   "cell_type": "code",
   "execution_count": 44,
   "id": "2dabe1db",
   "metadata": {},
   "outputs": [
    {
     "name": "stdout",
     "output_type": "stream",
     "text": [
      "(148, 1, -0.04025600671547646)\n",
      "(149, 0, -0.011050844734613895)\n",
      "(149, 1, -0.04855647723412074)\n",
      "(150, 0, -0.00890522283395959)\n",
      "(150, 1, -0.02692623095109998)\n"
     ]
    }
   ],
   "source": [
    "rng = fwdpy11.GSLrng(42)\n",
    "pop = fwdpy11.DiploidPopulation(100, 1.0)\n",
    "tracker = TrackGvalues()\n",
    "fwdpy11.evolvets(\n",
    "    rng=rng, pop=pop, params=params, simplification_interval=25, recorder=tracker\n",
    ")\n",
    "for i in tracker.data[-5:]:\n",
    "    print(i)"
   ]
  },
  {
   "cell_type": "markdown",
   "id": "e71d4148",
   "metadata": {},
   "source": [
    "(starting-from-msprime)=\n",
    "\n",
    "## Starting a simulation with the output of a coalescent simulation"
   ]
  },
  {
   "cell_type": "code",
   "execution_count": 45,
   "id": "afa211a0",
   "metadata": {},
   "outputs": [
    {
     "data": {
      "text/plain": [
       "100"
      ]
     },
     "execution_count": 45,
     "metadata": {},
     "output_type": "execute_result"
    }
   ],
   "source": [
    "import msprime\n",
    "\n",
    "ts = msprime.simulate(200, Ne=100, recombination_rate=1e-3)\n",
    "pop = fwdpy11.DiploidPopulation.create_from_tskit(ts)\n",
    "pop.N"
   ]
  },
  {
   "cell_type": "markdown",
   "id": "6909613a",
   "metadata": {},
   "source": [
    "We can also start from a simulation of multiple demes:"
   ]
  },
  {
   "cell_type": "code",
   "execution_count": 46,
   "id": "3da0ebd8",
   "metadata": {},
   "outputs": [
    {
     "data": {
      "text/plain": [
       "(array([0, 1], dtype=int32), array([50, 50]))"
      ]
     },
     "execution_count": 46,
     "metadata": {},
     "output_type": "execute_result"
    }
   ],
   "source": [
    "m = 1e-3\n",
    "ts = msprime.simulate(\n",
    "    Ne=100,\n",
    "    recombination_rate=1e-3,\n",
    "    population_configurations=[\n",
    "        msprime.PopulationConfiguration(sample_size=100),\n",
    "        msprime.PopulationConfiguration(sample_size=100),\n",
    "    ],\n",
    "    migration_matrix=np.array([0.0, m, m, 0.0]).reshape(2, 2),\n",
    ")\n",
    "pop = fwdpy11.DiploidPopulation.create_from_tskit(ts)\n",
    "pop.N\n",
    "md = np.array(pop.diploid_metadata, copy=False)\n",
    "np.unique(md[\"deme\"], return_counts=True)"
   ]
  },
  {
   "cell_type": "markdown",
   "id": "9e3de777",
   "metadata": {},
   "source": [
    "See {ref}`here <precapitation>` for a detailed example.\n",
    "\n",
    "Currently, `fwdpy11` does **not** support starting from `msprime` simulations\n",
    "with mutations.  The variants will simply be ignored.\n",
    "\n",
    ":::{note}\n",
    "\n",
    "When simulating very large genomic regions, it is not a good\n",
    "idea to use the standard model in `msprime`. See {cite}`Nelson2020-my`\n",
    "for details and also {class}`msprime.DiscreteTimeWrightFisher`.\n",
    "Also note that starting with `msprime` output doesn't\n",
    "guarantee that you don't need to \"burn in\" the simulation\n",
    "(see {ref}`here <howlongtorun>`).\n",
    "\n",
    ":::\n",
    "\n",
    ":::{warning}\n",
    "\n",
    "Not all genetic maps supported by `fwdpy11` are possible\n",
    "in `msprime`. Specifically, discrete \"jumps\" in the\n",
    "genetic map (*e.g.*, {class}`fwdpy11.BinomialPoint`) are\n",
    "not compatible with `msprime`.  Further, the approach\n",
    "outlined [here](<https://msprime.readthedocs.io/en/stable/tutorial.html#multiple-chromosomes>)\n",
    "is not sufficient to get the recombination rates right\n",
    "between separate \"chromosomes\".\n",
    "\n",
    ":::\n",
    "\n",
    "(tskittransfer)=\n",
    "\n",
    "## Converting the data to a {class}`tskit.TreeSequence`\n",
    "\n",
    "The tree sequence data structures may be converted to the analogous `tskit`\n",
    "objects using {func}`fwdpy11.DiploidPopulation.dump_tables_to_tskit`,\n",
    "which returns a {class}`tskit.TreeSequence`.\n",
    "\n",
    "The most basic usage is:\n",
    "\n",
    "```{code-block} python\n",
    "\n",
    "ts = pop.dump_tables_to_tskit()\n",
    "\n",
    "```\n",
    "\n",
    "When you have the data stored as a {class}`tskit.TreeSequence`,\n",
    "information about individuals, mutations, etc., is stored as table metadata.\n",
    "See {ref}`here <tskit_metadata_vignette>` to learn how to decode the metadata.\n",
    "\n",
    ":::{note}\n",
    "\n",
    "Once `tskit` 0.3.0 is released, the metadata encoding will change\n",
    "quite a bit and it will be simpler and more efficient to decode.\n",
    "\n",
    ":::\n",
    "\n",
    "You may provide a `dict` that reflects the simulation parameters used.  This `dict`\n",
    "will be part of the provenance information encoded in the {class}`tskit.TreeSequence`.\n",
    "For example:\n",
    "\n",
    "```{code-block} python\n",
    "\n",
    "# Assuming mp is a fwdpy11.ModelParams:\n",
    "ts = pop.dump_tables_to_tskit(parameters={\"model\": str(mp), \"seed\": 12345})\n",
    "\n",
    "```\n",
    "\n",
    "Ultimately, it is up to you to decide what to include in `parameters`.\n",
    "For example, it could be a script:\n",
    "\n",
    "```{code-block} python\n",
    "\n",
    "# Bonus points for somehow including the git commit hash corresponding\n",
    "# to the version of the script that you used !\n",
    "parameters = {\"script\": \"/path/to/script\", \"type\": \"script\", \"seed\": 1234}\n",
    "\n",
    "```\n",
    "\n",
    "You can go further than that, and even include the entire script.\n",
    "It turns out that Python files know who they are and can read themselves:\n",
    "\n",
    "```{code-block} python\n",
    "\n",
    "def read_self():\n",
    "    with open(__file__, \"r\") as f:\n",
    "        script = f.read()\n",
    "    return script\n",
    "\n",
    "\n",
    "script = read_self()\n",
    "parameters = {\"script\": script, \"type\": \"script\", \"seed\": 1234}\n",
    "\n",
    "```\n",
    "\n",
    "In order to get the provenance information back out from a {class}`tskit.TreeSequence`:\n",
    "\n",
    "```{code-block} python\n",
    "\n",
    "import json\n",
    "\n",
    "provenance = json.loads(ts.provenance(0).record)\n",
    "\n",
    "```\n",
    "\n",
    "If you recorded an instance of {class}`fwdpy11.ModelParams` as your `parameters`, you\n",
    "can even reconstruct the original object (if you have the correct modules imported).\n",
    "For example, if we assume that we encoded the model parameters as shown two listings ago:\n",
    "\n",
    "```{code-block} python\n",
    "\n",
    "import tskit\n",
    "import json\n",
    "import numpy as np\n",
    "import fwdpy11\n",
    "\n",
    "ts = tskit.load(\"sim.trees\")\n",
    "provenance = json.loads(ts.provenance(0).record)\n",
    "array = np.array  # Annoyance!\n",
    "tmp = eval(provenance[\"parameters\"][\"model\"])\n",
    "\n",
    "```\n",
    "\n",
    "It is possible for model parameters to contain `numpy` arrays.  Unfortunately, their\n",
    "string representations are not namespace-qualified, meaning that they say `array` rather\n",
    "than `numpy.array` or `np.array`. Thus, I made a type alias so that the `eval` would work.\n",
    "\n",
    "(savingsimstodisk)=\n",
    "\n",
    "## Saving the results of a simulation to disk\n",
    "\n",
    "To dump the output of a simulation to an uncompressed binary file, use\n",
    "{func}`fwdpy11.DiploidPopulation.dump_to_file`:\n",
    "\n",
    "```{code-block} python\n",
    "\n",
    "pop.dump_to_file(\"pop.bin\")\n",
    "\n",
    "```\n",
    "\n",
    "To restore a population from such a file, call the static method\n",
    "{func}`fwdpy11.DiploidPopulation.load_from_file`:\n",
    "\n",
    "```{code-block} python\n",
    "\n",
    "pop = fwdpy11.DiploidPopulation.load_from_file(\"pop.bin\")\n",
    "\n",
    "```\n",
    "\n",
    "There are two means of storing a population in {mod}`pickle` format.\n",
    "The first is:\n",
    "\n",
    "```{code-block} python\n",
    "\n",
    "import gzip\n",
    "import pickle\n",
    "\n",
    "with gzip.open(\"pickled_pop.gz\", \"wb\") as f:\n",
    "    pickle.dump(pop, f)\n",
    "\n",
    "```\n",
    "\n",
    "However, this method is not the most efficient.  The following takes less\n",
    "memory, which is probably important for really big simulations:\n",
    "\n",
    "```{code-block} python\n",
    "\n",
    "with gzip.open(\"pickled_pop.gz\", \"wb\") as f:\n",
    "    pop.pickle_to_file(f)\n",
    "\n",
    "```\n",
    "\n",
    ":::{warning}\n",
    "\n",
    "These two pickling methods create very different files!\n",
    "The first can be read back in with {func}`pickle.load`\n",
    "but the second **must** be read back in with the\n",
    "static function {func}`fwdpy11.DiploidPopulation.load_from_pickle_file`.\n",
    "\n",
    ":::\n",
    "\n",
    "### Outputting a `tskit` \"trees file\"\n",
    "\n",
    "```{code-block} python\n",
    "\n",
    "ts = pop.dump_tables_to_tskit()\n",
    "ts.dump(\"treefile.trees\")\n",
    "\n",
    "```"
   ]
  }
 ],
 "metadata": {
  "jupytext": {
   "formats": "md:myst",
   "text_representation": {
    "extension": ".md",
    "format_name": "myst"
   }
  },
  "kernelspec": {
   "display_name": "Python 3",
   "language": "python",
   "name": "python3"
  },
  "language_info": {
   "codemirror_mode": {
    "name": "ipython",
    "version": 3
   },
   "file_extension": ".py",
   "mimetype": "text/x-python",
   "name": "python",
   "nbconvert_exporter": "python",
   "pygments_lexer": "ipython3",
   "version": "3.10.9"
  },
  "source_map": [
   11,
   44,
   51,
   62,
   66,
   76,
   78,
   83,
   85,
   90,
   92,
   127,
   129,
   134,
   137,
   147,
   153,
   160,
   166,
   173,
   179,
   186,
   192,
   210,
   213,
   231,
   233,
   243,
   250,
   303,
   313,
   330,
   337,
   368,
   373,
   384,
   396,
   404,
   409,
   474,
   479,
   523,
   527,
   536,
   542,
   586,
   595,
   608,
   624,
   650,
   652,
   663,
   667,
   672,
   676,
   680,
   686,
   691,
   697,
   701,
   703,
   708,
   714,
   719,
   726,
   784,
   793,
   801,
   810,
   815,
   820,
   837,
   858,
   879,
   898,
   900,
   925,
   930,
   984,
   998,
   1003,
   1010,
   1014,
   1021,
   1036,
   1049,
   1058,
   1064,
   1070,
   1074,
   1089
  ]
 },
 "nbformat": 4,
 "nbformat_minor": 5
}
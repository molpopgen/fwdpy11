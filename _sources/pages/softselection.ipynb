{
 "cells": [
  {
   "cell_type": "markdown",
   "id": "0b9bccba",
   "metadata": {},
   "source": [
    "(softselection)=\n",
    "\n",
    "# Soft selection with discrete demes\n",
    "\n",
    "This page describes implementing models of demographic events affecting\n",
    "multiple demes.  This functionality was first released in version 0.6.0\n",
    "and makes use of low-level types added in 0.5.3.\n",
    "\n",
    "## Overview\n",
    "\n",
    "This chapter describes how to generate detailed demographic models of individuals\n",
    "evolving withing discrete sub-populations, or demes.\n",
    "\n",
    "If you want to skip the details and see basic models provided by `fwdpy11`, then\n",
    "see {ref}`demographic-models`.\n",
    "\n",
    "Once you've digested this section, you may want to read {ref}`mvdes`.\n",
    "\n",
    "### The model\n",
    "\n",
    "The model here is soft selection {cite}`Levene1953-yn`, meaning that the number of\n",
    "breeding individuals (\"adults\") in each deme is fixed at a certain value.\n",
    "A nice overview of this model and how it compares to others in {cite}`Felsenstein1976-sb`.\n",
    "You may also find {cite}`Christiansen1974-ac` and {cite}`Christiansen1975-ch` useful.\n",
    "\n",
    "Each generation, we generate offspring (\"juveniles\") in each deme.  In the absence of\n",
    "migration, all parents of all offspring come from the offspring deme.  With a migration\n",
    "matrix, we first choose the \"source\" deme, pick parents from that deme, and then\n",
    "create the offspring in the offspring deme.  Thus, we are modeling juvenile migration.\n",
    "Selfing is a property of demes and is applied to parents: we choose a parental deme,\n",
    "then choose a parent, and then decide if that parent selfs.\n",
    "\n",
    ":::{note}\n",
    "\n",
    "The migration behavior changed in 0.6.2!  (This is mainly a note for\n",
    "the developers.)\n",
    "\n",
    ":::\n",
    "\n",
    "### The timings of events\n",
    "\n",
    "Below, we discuss various events that may happen.  These event types\n",
    "include things like deme size changes, \"mass migration\" events, etc..\n",
    "These events will occur at a certain time in a simulation. That time\n",
    "refers to the birth time of a generation and the events are applied\n",
    "*prior* to generating offspring, meaning that the events happen *to\n",
    "the parents*.  For example, if half of deme zero moves and colonizes\n",
    "a new deme (deme 1), then that means that half of the current alive individuals\n",
    "(possible parents) have their `deme` field changed from zero to one\n",
    "prior to generating any offspring.\n",
    "\n",
    "The objects events all have an attribute called `when`, which\n",
    "parameterizes when the event occurs in a simulation.  The value of `when`\n",
    "is with respect to the current generation time of the population\n",
    "({attr}`fwdpy11.DiploidPopulation.generation`). When events are registered\n",
    "to occur prior to this time, you will see warnings.  See {func}`fwdpy11.evolvets`\n",
    "for details.\n",
    "\n",
    "Events scheduled for prior than the population's current time are allowed\n",
    "because there are valid modeling reasons to allow them.  For example, you\n",
    "may want to evolve for a while and then change some other model parameter\n",
    "like the recombination rate, and then keep evolving.\n",
    "\n",
    "(soft-sel-deme-setup)=\n",
    "\n",
    "## Setting the initial demes in a simulation\n",
    "\n",
    "At the start of a simulation, you may assign diploids to demes\n",
    "when constructing an instance of {class}`fwdpy11.DiploidPopulation`.\n",
    "For example, to initialize a population with 25 individuals in demes `0` and `1`:"
   ]
  },
  {
   "cell_type": "code",
   "execution_count": 1,
   "id": "dccd9821",
   "metadata": {},
   "outputs": [],
   "source": [
    "import fwdpy11\n",
    "import numpy as np\n",
    "\n",
    "pop = fwdpy11.DiploidPopulation([25, 25], 1.0)\n",
    "md = np.array(pop.diploid_metadata, copy=False)\n",
    "pop.deme_sizes()\n",
    "for m in pop.diploid_metadata:\n",
    "    for n in m.nodes:\n",
    "        assert m.deme == pop.tables.nodes[n].deme"
   ]
  },
  {
   "cell_type": "markdown",
   "id": "cc46f714",
   "metadata": {},
   "source": [
    "Another method involves mass migration events at the beginning of a simulation.\n",
    "See {ref}`massmigrations`.\n",
    "\n",
    "## The DiscreteDemography class\n",
    "\n",
    "The demographic events are stored in instances of {class}`fwdpy11.DiscreteDemography`.\n",
    "These events, whose interface is described below, are passed in `list` objects\n",
    "when creating a {class}`fwdpy11.DiscreteDemography` instance.\n",
    "\n",
    "These instances may be used to parameterize the `demography` field of a\n",
    "{class}`fwdpy11.ModelParams` instance.  To illustrate this, here is a\n",
    "function that we'll use repeatedly below:"
   ]
  },
  {
   "cell_type": "code",
   "execution_count": 2,
   "id": "8ae8cb13",
   "metadata": {},
   "outputs": [],
   "source": [
    "def setup_and_run_model(pop, ddemog, simlen, recorder=None, seed=654321):\n",
    "    pdict = {\n",
    "        \"nregions\": [],\n",
    "        \"sregions\": [],\n",
    "        \"recregions\": [],\n",
    "        \"rates\": (\n",
    "            0,\n",
    "            0,\n",
    "            0,\n",
    "        ),\n",
    "        \"gvalue\": fwdpy11.Multiplicative(2.0),\n",
    "        \"demography\": ddemog,\n",
    "        \"simlen\": simlen,\n",
    "    }\n",
    "    params = fwdpy11.ModelParams(**pdict)\n",
    "    rng = fwdpy11.GSLrng(seed)\n",
    "    fwdpy11.evolvets(rng, pop, params, 100, recorder)"
   ]
  },
  {
   "cell_type": "markdown",
   "id": "0abd1164",
   "metadata": {},
   "source": [
    "We will also define a simple class to record all deme sizes over time:"
   ]
  },
  {
   "cell_type": "code",
   "execution_count": 3,
   "id": "e03817bb",
   "metadata": {},
   "outputs": [],
   "source": [
    "class SizeTracker(object):\n",
    "    def __init__(self):\n",
    "        self.data = []\n",
    "\n",
    "    def __call__(self, pop, sampler):\n",
    "        self.data.append((pop.generation, pop.N, pop.deme_sizes()))"
   ]
  },
  {
   "cell_type": "markdown",
   "id": "6e3337c6",
   "metadata": {},
   "source": [
    "### Compatibility with previous versions of fwdpy11\n",
    "\n",
    ":::{versionchanged} 0.8.0\n",
    "\n",
    "You now must specify `simlen` manually.\n",
    "\n",
    ":::\n",
    "\n",
    "Previous versions only supported size changes within a single deme.  These size changes were\n",
    "parameterized via a `numpy` array specifying the size at each time point.  It is still possible\n",
    "to specify the demography using that approach:"
   ]
  },
  {
   "cell_type": "code",
   "execution_count": 4,
   "id": "723fda16",
   "metadata": {},
   "outputs": [],
   "source": [
    "N = np.array([10] * 10 + [5] * 5 + [10] * 10, dtype=np.uint32)\n",
    "pdict = {\n",
    "   \"nregions\": [],\n",
    "   \"sregions\": [],\n",
    "   \"recregions\": [],\n",
    "   \"rates\": (\n",
    "       0,\n",
    "       0,\n",
    "       0,\n",
    "   ),\n",
    "   \"gvalue\": fwdpy11.Multiplicative(2.0),\n",
    "   \"demography\": fwdpy11.DiscreteDemography(set_deme_sizes=N),\n",
    "   \"simlen\": len(N),\n",
    "}\n",
    "params = fwdpy11.ModelParams(**pdict)\n",
    "rng = fwdpy11.GSLrng(654321)\n",
    "pop = fwdpy11.DiploidPopulation(10, 1.0)\n",
    "fwdpy11.evolvets(rng, pop, params, 100)"
   ]
  },
  {
   "cell_type": "markdown",
   "id": "796e744a",
   "metadata": {},
   "source": [
    "## Event types\n",
    "\n",
    "The following sub-sections describe the various types of demographic\n",
    "events allowed during a simulation.\n",
    "\n",
    "(massmigrations)=\n",
    "\n",
    "### Mass migrations\n",
    "\n",
    "Mass migration events represent the \"bulk\" movement of individuals\n",
    "in a single generation.  Such events allow you to model population\n",
    "splits, merges, etc..\n",
    "\n",
    "These events are represented by instances\n",
    "of {class}`fwdpy11.MassMigration`.  Currently, you create instances\n",
    "of this type using one of the following two functions:\n",
    "\n",
    "* {func}`fwdpy11.copy_individuals`\n",
    "* {func}`fwdpy11.move_individuals`\n",
    "\n",
    "As the name implies, the first function creates an event that *copies*\n",
    "individuals from a source deme to a destination.  The latter *moves*\n",
    "them.\n",
    "\n",
    "Both functions take five arguments, which may be used either named\n",
    "or unnamed.  In order, they are:\n",
    "\n",
    "* `when`: the time (generation) when the event will occur\n",
    "* `source`: the ID of the source deme\n",
    "* `destination`: the ID of the destination deme\n",
    "* `fraction`: the fraction (proportion) of `source` moved/copied to `dest`.\n",
    "* `resets_growth_rate`: If `True`, the event resets the growth rate to {attr}`fwdpy11.NOGROWTH`\n",
    "  in **both** `source` and `dest`. If `False`, growth rates remain unchanged.\n",
    "  The default is `False`.\n",
    "\n",
    ":::{note}\n",
    "\n",
    "When a mass migration event *copies* individuals from deme,\n",
    "the individuals copied are sampled *without replacement*.  Thus,\n",
    "if the fraction copied is 1.0, then every individual is copied.\n",
    "\n",
    ":::\n",
    "\n",
    "These operations act on proportions of populations rather than on numbers\n",
    "of individuals. Multiple events in a single generation are allowed, see\n",
    "{ref}`multiple-mass-migrations`.\n",
    "\n",
    "#### Setting the initial state of a simulation\n",
    "\n",
    "Let's look at an example where we use mass migration events to set up\n",
    "\"who is where\" at the start of a simulation.  Since events happen in\n",
    "the *parental* generation, we can use mass migrations to set up\n",
    "what demes individuals are in by applying events at generation 0.\n",
    "\n",
    "The main difference between this method and that shown in\n",
    "{ref}`soft-sel-deme-setup` is that these events move or copy *random*\n",
    "individuals to new demes whereas using the  `__init__` approach\n",
    "builds the individuals in each deme sequentially.\n",
    "\n",
    "For example, if we wish to start a simulation with 50 individuals in\n",
    "demes 0 and 50 in deme 1, we have two options:\n",
    "\n",
    "1. Start with 50 individuals and *copy* them to deme 1 in generation 0\n",
    "2. Start with 100 individuals and *move half of* them to deme 1 in generation 0\n",
    "\n",
    "Here is the version implemented via a  copy:"
   ]
  },
  {
   "cell_type": "code",
   "execution_count": 5,
   "id": "5de5faf6",
   "metadata": {},
   "outputs": [
    {
     "data": {
      "text/plain": [
       "(array([0, 1], dtype=int32), array([50, 50]))"
      ]
     },
     "execution_count": 5,
     "metadata": {},
     "output_type": "execute_result"
    }
   ],
   "source": [
    "pop = fwdpy11.DiploidPopulation(50, 1.0)\n",
    "copy = [fwdpy11.copy_individuals(when=0, source=0, destination=1, fraction=1.0)]\n",
    "ddemog = fwdpy11.DiscreteDemography(mass_migrations=copy)\n",
    "setup_and_run_model(pop, ddemog, 1)\n",
    "pop.deme_sizes()"
   ]
  },
  {
   "cell_type": "markdown",
   "id": "b58e8f88",
   "metadata": {},
   "source": [
    "Here is what our object looks like:"
   ]
  },
  {
   "cell_type": "code",
   "execution_count": 6,
   "id": "104cce02",
   "metadata": {},
   "outputs": [
    {
     "data": {
      "text/plain": [
       "fwdpy11.MassMigration(when=0, source=0, destination=1, fraction=1.0, move_individuals=False, resets_growth_rate=True)"
      ]
     },
     "execution_count": 6,
     "metadata": {},
     "output_type": "execute_result"
    }
   ],
   "source": [
    "copy[0]"
   ]
  },
  {
   "cell_type": "markdown",
   "id": "edac0b9f",
   "metadata": {},
   "source": [
    "Here is the version using a move:"
   ]
  },
  {
   "cell_type": "code",
   "execution_count": 7,
   "id": "e9b4ee29",
   "metadata": {},
   "outputs": [
    {
     "data": {
      "text/plain": [
       "(array([0, 1], dtype=int32), array([50, 50]))"
      ]
     },
     "execution_count": 7,
     "metadata": {},
     "output_type": "execute_result"
    }
   ],
   "source": [
    "pop = fwdpy11.DiploidPopulation(100, 1.0)\n",
    "move = [fwdpy11.move_individuals(0, 0, 1, 0.5)]\n",
    "ddemog = fwdpy11.DiscreteDemography(mass_migrations=move)\n",
    "setup_and_run_model(pop, ddemog, 1)\n",
    "pop.deme_sizes()"
   ]
  },
  {
   "cell_type": "markdown",
   "id": "b6f3cee8",
   "metadata": {},
   "source": [
    "For comparison, here is the object specifying the move:"
   ]
  },
  {
   "cell_type": "code",
   "execution_count": 8,
   "id": "91533caa",
   "metadata": {},
   "outputs": [
    {
     "data": {
      "text/plain": [
       "fwdpy11.MassMigration(when=0, source=0, destination=1, fraction=0.5, move_individuals=True, resets_growth_rate=True)"
      ]
     },
     "execution_count": 8,
     "metadata": {},
     "output_type": "execute_result"
    }
   ],
   "source": [
    "move[0]"
   ]
  },
  {
   "cell_type": "markdown",
   "id": "dca3d539",
   "metadata": {},
   "source": [
    "(multiple-mass-migrations)=\n",
    "\n",
    "#### Multiple mass migrations\n",
    "\n",
    "To specify multiple events, simply add more events to your list.\n",
    "The events to not have to be sorted in any specific way.  Any sorting\n",
    "requirements get handled internally.\n",
    "\n",
    "Multiple events involving the same source population in the same generation\n",
    "need some explaining.   If the events are copies, things will tend to \"just\n",
    "work\":"
   ]
  },
  {
   "cell_type": "code",
   "execution_count": 9,
   "id": "ef18e144",
   "metadata": {},
   "outputs": [
    {
     "data": {
      "text/plain": [
       "(array([0, 1, 2], dtype=int32), array([50, 50, 50]))"
      ]
     },
     "execution_count": 9,
     "metadata": {},
     "output_type": "execute_result"
    }
   ],
   "source": [
    "pop = fwdpy11.DiploidPopulation(50, 1.0)\n",
    "copy = [fwdpy11.copy_individuals(0, 0, 1, 1.0), fwdpy11.copy_individuals(0, 0, 2, 1.0)]\n",
    "ddemog = fwdpy11.DiscreteDemography(mass_migrations=copy)\n",
    "setup_and_run_model(pop, ddemog, 1)\n",
    "pop.deme_sizes()"
   ]
  },
  {
   "cell_type": "markdown",
   "id": "7b55814c",
   "metadata": {},
   "source": [
    "When the events are moves, it is not possible to move more than 100%\n",
    "of the individuals.  Attempting to do so will raise a `ValueError`\n",
    "exception:"
   ]
  },
  {
   "cell_type": "code",
   "execution_count": 10,
   "id": "297cd36c",
   "metadata": {},
   "outputs": [
    {
     "name": "stdout",
     "output_type": "stream",
     "text": [
      "DiscreteDemography: at time 0, attempting to move 200% of deme 0 is invalid\n"
     ]
    }
   ],
   "source": [
    "pop = fwdpy11.DiploidPopulation(50, 1.0)\n",
    "# Move all of deme 0 into demes 1 and 2,\n",
    "# which means we're trying to move 200%\n",
    "# of deme 0...\n",
    "move = [fwdpy11.move_individuals(0, 0, 1, 1.0), fwdpy11.move_individuals(0, 0, 2, 1.0)]\n",
    "# ... which is not allowed\n",
    "try:\n",
    "    ddemog = fwdpy11.DiscreteDemography(mass_migrations=move)\n",
    "except ValueError as e:\n",
    "    print(e)"
   ]
  },
  {
   "cell_type": "markdown",
   "id": "5d6983dc",
   "metadata": {},
   "source": [
    "#### The rate of drift\n",
    "\n",
    "Moving versus copying individuals is an important modeling choice.\n",
    "When you move individuals from one deme to another, the rate of drift\n",
    "changes in the source deme (as its size is reduced).  This reduction\n",
    "in size is also a sudden bottleneck.\n",
    "\n",
    "Copying, on the other hand, does not change the rate of drift in the source\n",
    "deme.  However, it does seem to imply some sudden increase in fecundity that\n",
    "both came from nowhere and was short-lived.\n",
    "\n",
    "(set-deme-sizes)=\n",
    "\n",
    "### Instantaneous deme size changes\n",
    "\n",
    "Instantaneous changes in deme size are managed by instances of\n",
    "{class}`fwdpy11.SetDemeSize`.\n",
    "\n",
    "This class is relatively straightforward to use, so let's dive right in:"
   ]
  },
  {
   "cell_type": "code",
   "execution_count": 11,
   "id": "dcae25be",
   "metadata": {},
   "outputs": [
    {
     "name": "stdout",
     "output_type": "stream",
     "text": [
      "(1, 40, (array([0, 1], dtype=int32), array([20, 20])))\n",
      "(2, 40, (array([0, 1], dtype=int32), array([20, 20])))\n",
      "(3, 40, (array([0, 1], dtype=int32), array([20, 20])))\n",
      "(4, 40, (array([0, 1], dtype=int32), array([20, 20])))\n",
      "(5, 40, (array([0, 1], dtype=int32), array([20, 20])))\n",
      "(6, 120, (array([0, 1], dtype=int32), array([ 20, 100])))\n",
      "(7, 120, (array([0, 1], dtype=int32), array([ 20, 100])))\n",
      "(8, 120, (array([0, 1], dtype=int32), array([ 20, 100])))\n",
      "(9, 120, (array([0, 1], dtype=int32), array([ 20, 100])))\n",
      "(10, 120, (array([0, 1], dtype=int32), array([ 20, 100])))\n"
     ]
    }
   ],
   "source": [
    "pop = fwdpy11.DiploidPopulation([20, 20], 1.0)\n",
    "dd = fwdpy11.DiscreteDemography(\n",
    "    set_deme_sizes=[fwdpy11.SetDemeSize(when=5, deme=1, new_size=100)]\n",
    ")\n",
    "st = SizeTracker()\n",
    "setup_and_run_model(pop, dd, 10, st)\n",
    "for i in st.data:\n",
    "    print(i)"
   ]
  },
  {
   "cell_type": "markdown",
   "id": "d2afde00",
   "metadata": {},
   "source": [
    "You may also kill off demes by setting their size to zero:"
   ]
  },
  {
   "cell_type": "code",
   "execution_count": 12,
   "id": "ebb1b18f",
   "metadata": {},
   "outputs": [
    {
     "name": "stdout",
     "output_type": "stream",
     "text": [
      "(1, 60, (array([0, 1, 2], dtype=int32), array([20, 20, 20])))\n",
      "(2, 60, (array([0, 1, 2], dtype=int32), array([20, 20, 20])))\n",
      "(3, 60, (array([0, 1, 2], dtype=int32), array([20, 20, 20])))\n",
      "(4, 60, (array([0, 1, 2], dtype=int32), array([20, 20, 20])))\n",
      "(5, 60, (array([0, 1, 2], dtype=int32), array([20, 20, 20])))\n",
      "(6, 40, (array([0, 2], dtype=int32), array([20, 20])))\n"
     ]
    }
   ],
   "source": [
    "pop = fwdpy11.DiploidPopulation([20, 20, 20], 1.0)\n",
    "dd = fwdpy11.DiscreteDemography(\n",
    "    set_deme_sizes=[fwdpy11.SetDemeSize(when=5, deme=1, new_size=0)]\n",
    ")\n",
    "st = SizeTracker()\n",
    "setup_and_run_model(pop, dd, 6, st)\n",
    "for i in st.data:\n",
    "    print(i)"
   ]
  },
  {
   "cell_type": "markdown",
   "id": "e04cc931",
   "metadata": {},
   "source": [
    "### Changing growth rates\n",
    "\n",
    "Instances of {class}`fwdpy11.SetExponentialGrowth` manage the exponential growth rates per deme.\n",
    "Growth rates less than one indicate population decline, greater than one means growth\n",
    "and {attr}`fwdpy11.NOGROWTH` is equal to 1.0 to indicate no growth.\n",
    "\n",
    "Let's look at an example:"
   ]
  },
  {
   "cell_type": "code",
   "execution_count": 13,
   "id": "2f566250",
   "metadata": {},
   "outputs": [
    {
     "name": "stdout",
     "output_type": "stream",
     "text": [
      "(1, 55, (array([0], dtype=int32), array([55])))\n",
      "(2, 61, (array([0], dtype=int32), array([61])))\n",
      "(3, 67, (array([0], dtype=int32), array([67])))\n",
      "(4, 73, (array([0], dtype=int32), array([73])))\n",
      "(5, 81, (array([0], dtype=int32), array([81])))\n",
      "(6, 89, (array([0], dtype=int32), array([89])))\n"
     ]
    }
   ],
   "source": [
    "pop = fwdpy11.DiploidPopulation([50], 1.0)\n",
    "g = [fwdpy11.SetExponentialGrowth(when=0, deme=0, G=1.1)]\n",
    "dd = fwdpy11.DiscreteDemography(set_growth_rates=g)\n",
    "st = SizeTracker()\n",
    "setup_and_run_model(pop, dd, 6, st)\n",
    "for i in st.data:\n",
    "    print(i)"
   ]
  },
  {
   "cell_type": "markdown",
   "id": "e6527d81",
   "metadata": {},
   "source": [
    "The deme sizes each generation must be integer values.  The simulation uses C/C++ rules for\n",
    "rounding double-precision values to integer values. The function `numpy.rint` uses the same\n",
    "rules:"
   ]
  },
  {
   "cell_type": "code",
   "execution_count": 14,
   "id": "2e9918ce",
   "metadata": {},
   "outputs": [
    {
     "name": "stdout",
     "output_type": "stream",
     "text": [
      "1 55.00000000000001 55.0\n",
      "2 60.50000000000001 61.0\n",
      "3 66.55000000000001 67.0\n",
      "4 73.20500000000003 73.0\n",
      "5 80.52550000000002 81.0\n",
      "6 88.57805000000005 89.0\n"
     ]
    }
   ],
   "source": [
    "N0 = np.float64(50.0)\n",
    "for i in range(6):\n",
    "   Ni = N0 * np.power(1.1, i + 1)\n",
    "   print(i + 1, Ni, np.rint(Ni))"
   ]
  },
  {
   "cell_type": "markdown",
   "id": "f903e33c",
   "metadata": {},
   "source": [
    "You may need to keep the rounding policy in mind when trying to predict final deme sizes when testing\n",
    "or when trying to convert a model from continuous time into discrete time.\n",
    "\n",
    "### Changing the selfing rate\n",
    "\n",
    "Instances of {class}`fwdpy11.SetSelfingRate` affect the rate of selfing-versus-outcrossing in different\n",
    "demes, or to change the rate within a deme over time. The default is that individuals don't self\n",
    "unless they are picked twice as a parent by chance.\n",
    "\n",
    "Using this type is straightforward.  Before we dive in, we will create a new recorder\n",
    "type to track parents each generation:"
   ]
  },
  {
   "cell_type": "code",
   "execution_count": 15,
   "id": "05897b51",
   "metadata": {},
   "outputs": [],
   "source": [
    "class ParentTracker(object):\n",
    "    def __init__(self):\n",
    "        self.data = []\n",
    "\n",
    "    def __call__(self, pop, sampler):\n",
    "        for i in pop.diploid_metadata:\n",
    "            self.data.append((i.label, i.deme, i.parents))"
   ]
  },
  {
   "cell_type": "markdown",
   "id": "fd8e698b",
   "metadata": {},
   "source": [
    "Let's run a simulation for a couple of generations:"
   ]
  },
  {
   "cell_type": "code",
   "execution_count": 16,
   "id": "24653ee0",
   "metadata": {},
   "outputs": [],
   "source": [
    "pop = fwdpy11.DiploidPopulation([5, 5], 1.0)\n",
    "sr = [fwdpy11.SetSelfingRate(when=0, deme=1, S=1.0)]  # Deme 1 always selfs\n",
    "dd = fwdpy11.DiscreteDemography(set_selfing_rates=sr)\n",
    "pt = ParentTracker()\n",
    "setup_and_run_model(pop, dd, 2, pt)"
   ]
  },
  {
   "cell_type": "markdown",
   "id": "fe9b011e",
   "metadata": {},
   "source": [
    "In our output, the deme label is the second value in each tuple, and any individual\n",
    "in deme 1 has the same parent listed twice because they were the product of a selfing event:"
   ]
  },
  {
   "cell_type": "code",
   "execution_count": 17,
   "id": "6de19b29",
   "metadata": {},
   "outputs": [
    {
     "name": "stdout",
     "output_type": "stream",
     "text": [
      "(0, 0, (1, 1))\n",
      "(1, 0, (4, 1))\n",
      "(2, 0, (0, 1))\n",
      "(3, 0, (0, 4))\n",
      "(4, 0, (1, 2))\n",
      "(5, 1, (8, 8))\n",
      "(6, 1, (9, 9))\n",
      "(7, 1, (6, 6))\n",
      "(8, 1, (5, 5))\n",
      "(9, 1, (5, 5))\n",
      "(0, 0, (0, 3))\n",
      "(1, 0, (0, 2))\n",
      "(2, 0, (2, 4))\n",
      "(3, 0, (3, 3))\n",
      "(4, 0, (0, 0))\n",
      "(5, 1, (7, 7))\n",
      "(6, 1, (8, 8))\n",
      "(7, 1, (8, 8))\n",
      "(8, 1, (5, 5))\n",
      "(9, 1, (8, 8))\n"
     ]
    }
   ],
   "source": [
    "for i in pt.data:\n",
    "    print(i)"
   ]
  },
  {
   "cell_type": "markdown",
   "id": "4e01d449",
   "metadata": {},
   "source": [
    "(In the above output, the parent IDs are the indexes of the parental individuals from their\n",
    "generation.)\n",
    "\n",
    "(migration)=\n",
    "\n",
    "### Migration\n",
    "\n",
    "For models with multiple demes, migration between then is managed by an\n",
    "instance of {class}`fwdpy11.MigrationMatrix`.\n",
    "\n",
    "For a migration matrix `M`, the default interpretation of `M[i, j]` is the\n",
    "fraction of deme `i` that will be replaced by migrations from deme `j`. The\n",
    "entry `M[i, i]` represents the non-migrant fraction of deme `i`'s ancestry.\n",
    "The matrix is \"row-major\" meaning that rows refer to migration into source demes.\n",
    "This definition of the migration matrix corresponds to that found in several\n",
    "different sources ({cite}`Christiansen1974-ac`, {cite}`Christiansen1975-ch`).\n",
    "This definition of migration is also what diffusion models assume (*e.g.* {cite}`Jouganous2017-tg`)\n",
    "as well as coalescent simulations like *msprime* {cite}`Kelleher2016-cb`.\n",
    "\n",
    "For example, consider the following matrix:"
   ]
  },
  {
   "cell_type": "code",
   "execution_count": 18,
   "id": "73e53e85",
   "metadata": {},
   "outputs": [
    {
     "data": {
      "text/plain": [
       "array([[0.9, 0.1],\n",
       "       [0.5, 0.5]])"
      ]
     },
     "execution_count": 18,
     "metadata": {},
     "output_type": "execute_result"
    }
   ],
   "source": [
    "m = np.array([0.9, 0.1, 0.5, 0.5]).reshape(2, 2)\n",
    "m"
   ]
  },
  {
   "cell_type": "markdown",
   "id": "72da37ea",
   "metadata": {},
   "source": [
    "The first row corresponds to the ancestry of deme `0`, such that 90% of offspring will be\n",
    "non-migrants and 10% will be migrants from deme `1`:"
   ]
  },
  {
   "cell_type": "code",
   "execution_count": 19,
   "id": "5de268a2",
   "metadata": {},
   "outputs": [
    {
     "data": {
      "text/plain": [
       "array([0.9, 0.1])"
      ]
     },
     "execution_count": 19,
     "metadata": {},
     "output_type": "execute_result"
    }
   ],
   "source": [
    "m[\n",
    "   0,\n",
    "]"
   ]
  },
  {
   "cell_type": "markdown",
   "id": "3e95933f",
   "metadata": {},
   "source": [
    "To be concrete, if the size of deme `0` in the next generation is 1,000, then the expected\n",
    "number of migrant and non-migrant offspring of offspring in deme `0` is:"
   ]
  },
  {
   "cell_type": "code",
   "execution_count": 20,
   "id": "e3b58900",
   "metadata": {},
   "outputs": [
    {
     "data": {
      "text/plain": [
       "array([900., 100.])"
      ]
     },
     "execution_count": 20,
     "metadata": {},
     "output_type": "execute_result"
    }
   ],
   "source": [
    "m[\n",
    "   0,\n",
    "] * 1e3"
   ]
  },
  {
   "cell_type": "markdown",
   "id": "28485835",
   "metadata": {},
   "source": [
    "The second row implies that half the ancestry of deme `1` is due to migrants and half\n",
    "due to non-migrants:"
   ]
  },
  {
   "cell_type": "code",
   "execution_count": 21,
   "id": "de0720ab",
   "metadata": {},
   "outputs": [
    {
     "data": {
      "text/plain": [
       "array([0.5, 0.5])"
      ]
     },
     "execution_count": 21,
     "metadata": {},
     "output_type": "execute_result"
    }
   ],
   "source": [
    "m[\n",
    "   1,\n",
    "]"
   ]
  },
  {
   "cell_type": "markdown",
   "id": "f393900d",
   "metadata": {},
   "source": [
    "The `numpy` array is sufficient to construct our demographic model:"
   ]
  },
  {
   "cell_type": "code",
   "execution_count": 22,
   "id": "b2ec9ff3",
   "metadata": {},
   "outputs": [
    {
     "data": {
      "text/plain": [
       "fwdpy11.MigrationMatrix(migmatrix=array([[0.9, 0.1],\n",
       "       [0.5, 0.5]]), scaled=False)"
      ]
     },
     "execution_count": 22,
     "metadata": {},
     "output_type": "execute_result"
    }
   ],
   "source": [
    "d = fwdpy11.DiscreteDemography(migmatrix=m)\n",
    "d.migmatrix"
   ]
  },
  {
   "cell_type": "markdown",
   "id": "1e9ad711",
   "metadata": {},
   "source": [
    "By default, there is no migration, which is represented by the value `None`.  For example,\n",
    "the following model has no migration events:"
   ]
  },
  {
   "cell_type": "code",
   "execution_count": 23,
   "id": "e2810ffa",
   "metadata": {},
   "outputs": [
    {
     "data": {
      "text/plain": [
       "True"
      ]
     },
     "execution_count": 23,
     "metadata": {},
     "output_type": "execute_result"
    }
   ],
   "source": [
    "# Define demographic events w/o any migration stuff\n",
    "d = fwdpy11.DiscreteDemography(set_deme_sizes=[fwdpy11.SetDemeSize(0, 1, 500)])\n",
    "d.migmatrix is None"
   ]
  },
  {
   "cell_type": "markdown",
   "id": "5deaccd2",
   "metadata": {},
   "source": [
    "In order to specify a model with no initial migration, you may use an identity matrix:"
   ]
  },
  {
   "cell_type": "code",
   "execution_count": 24,
   "id": "a140e2b7",
   "metadata": {},
   "outputs": [
    {
     "data": {
      "text/plain": [
       "fwdpy11.MigrationMatrix(migmatrix=array([[1., 0.],\n",
       "       [0., 1.]]), scaled=False)"
      ]
     },
     "execution_count": 24,
     "metadata": {},
     "output_type": "execute_result"
    }
   ],
   "source": [
    "d = fwdpy11.DiscreteDemography(migmatrix=np.identity(2))\n",
    "d.migmatrix"
   ]
  },
  {
   "cell_type": "markdown",
   "id": "64506133",
   "metadata": {},
   "source": [
    "The only reason to use the identity matrix is to start a simulation with no migration\n",
    "and then change the rates later via instances of {class}`fwdpy11.SetMigrationRates`.\n",
    "To see this in action, we'll first generate a new type to track if parents of\n",
    "offspring in deme 1 are migrants or not:"
   ]
  },
  {
   "cell_type": "code",
   "execution_count": 25,
   "id": "0224e2c1",
   "metadata": {},
   "outputs": [],
   "source": [
    "class MigrationTracker(object):\n",
    "    def __init__(self, N0):\n",
    "        self.N0 = N0\n",
    "        self.data = []\n",
    "\n",
    "    def __call__(self, pop, sampler):\n",
    "        for i in pop.diploid_metadata:\n",
    "            if i.deme == 1:\n",
    "                p = []\n",
    "                for j in i.parents:\n",
    "                    if j < self.N0:\n",
    "                        p.append((j, True))\n",
    "                    else:\n",
    "                        p.append((j, False))\n",
    "                self.data.append((pop.generation, i.label, i.deme, p))"
   ]
  },
  {
   "cell_type": "code",
   "execution_count": 26,
   "id": "a6819727",
   "metadata": {},
   "outputs": [],
   "source": [
    "# No migration at first\n",
    "mm = np.identity(2)\n",
    "# In generation 3, reset migration rates for deme 1 such\n",
    "# that parents are equally likey from both demes.\n",
    "cm = [fwdpy11.SetMigrationRates(3, 1, [0.5, 0.5])]\n",
    "dd = fwdpy11.DiscreteDemography(migmatrix=mm, set_migration_rates=cm)\n",
    "pop = fwdpy11.DiploidPopulation([10, 10], 1.0)\n",
    "mt = MigrationTracker(10)\n",
    "setup_and_run_model(pop, dd, 4, mt)"
   ]
  },
  {
   "cell_type": "code",
   "execution_count": 27,
   "id": "4094bf74",
   "metadata": {},
   "outputs": [
    {
     "name": "stdout",
     "output_type": "stream",
     "text": [
      "(4, 11, 1, [(1, True), (4, True)]) <-  migrant parents\n",
      "(4, 12, 1, [(0, True), (7, True)]) <-  migrant parents\n",
      "(4, 13, 1, [(5, True), (2, True)]) <-  migrant parents\n",
      "(4, 14, 1, [(0, True), (6, True)]) <-  migrant parents\n",
      "(4, 18, 1, [(0, True), (8, True)]) <-  migrant parents\n"
     ]
    }
   ],
   "source": [
    "for i in mt.data:\n",
    "    nmig = 0\n",
    "    if i[1] > 10:\n",
    "        if i[3][0][1] is True:\n",
    "                nmig += 1\n",
    "        if i[3][1][1] is True:\n",
    "            nmig += 1\n",
    "    mstring = \"\"\n",
    "    if nmig > 0:\n",
    "        mstring = \"<-  migrant parent\".format(nmig)\n",
    "    if nmig > 1:\n",
    "        mstring += \"s\"\n",
    "        print(i, mstring)"
   ]
  },
  {
   "cell_type": "markdown",
   "id": "14290b04",
   "metadata": {},
   "source": [
    "#### An alternative model of migration\n",
    "\n",
    "The description of migration rates above implies that migration events are\n",
    "independent of of source deme sizes.  To revisit our earlier example:"
   ]
  },
  {
   "cell_type": "code",
   "execution_count": 28,
   "id": "75f9bae3",
   "metadata": {},
   "outputs": [
    {
     "data": {
      "text/plain": [
       "array([900., 100.])"
      ]
     },
     "execution_count": 28,
     "metadata": {},
     "output_type": "execute_result"
    }
   ],
   "source": [
    "m = np.array([0.9, 0.1, 0.5, 0.5]).reshape(2, 2)\n",
    "# The is the expected number of parents from demes 0 and 1\n",
    "# to offspring born in deme 0:\n",
    "m[\n",
    "   0,\n",
    "] * 1000"
   ]
  },
  {
   "cell_type": "markdown",
   "id": "9c9b0196",
   "metadata": {},
   "source": [
    "`fwdpy11` allows for a different migration scheme where the size of the source deme\n",
    "matters.  For this model, `M[i ,j]` is the probability that an individual with parents from\n",
    "deme `j` is born in deme `i`.  Internally, the migration matrix entries\n",
    "`M[i, j]` are multiplied by the size of the *source* demes, which means that\n",
    "larger demes with nonzero migration rates to other demes have a larger chance\n",
    "of being sources of migrant offspring.\n",
    "\n",
    "For example:"
   ]
  },
  {
   "cell_type": "code",
   "execution_count": 29,
   "id": "d6da71c6",
   "metadata": {},
   "outputs": [
    {
     "data": {
      "text/plain": [
       "array([[0.81818182, 0.18181818],\n",
       "       [0.33333333, 0.66666667]])"
      ]
     },
     "execution_count": 29,
     "metadata": {},
     "output_type": "execute_result"
    }
   ],
   "source": [
    "deme_sizes = np.array([1000, 2000])\n",
    "m\n",
    "md = m * deme_sizes\n",
    "# The following line divides each\n",
    "# row by its sum\n",
    "md / np.sum(md, axis=1)[:, None]"
   ]
  },
  {
   "cell_type": "markdown",
   "id": "661f8111",
   "metadata": {},
   "source": [
    "The first matrix is the same as in the preceding section--90% of the offspring in deme\n",
    "`0` will have parents from deme `0`.  In the second matrix, that fraction is reduced to\n",
    "about 82% because deme `1` is twice as large as deme `0`.\n",
    "\n",
    "To enable this migration model, create an instance of {class}`fwdpy11.MigrationMatrix` and\n",
    "pass `True` as the second parameter:"
   ]
  },
  {
   "cell_type": "code",
   "execution_count": 30,
   "id": "9c8b8540",
   "metadata": {},
   "outputs": [],
   "source": [
    "M = fwdpy11.MigrationMatrix(m, True)\n",
    "d = fwdpy11.DiscreteDemography(migmatrix=M)"
   ]
  },
  {
   "cell_type": "markdown",
   "id": "9afa597e",
   "metadata": {},
   "source": [
    "This will also work, but is less explicit:"
   ]
  },
  {
   "cell_type": "code",
   "execution_count": 31,
   "id": "83a189c7",
   "metadata": {},
   "outputs": [],
   "source": [
    "d = fwdpy11.DiscreteDemography(migmatrix=(m, True))"
   ]
  },
  {
   "cell_type": "markdown",
   "id": "d17b8ac5",
   "metadata": {},
   "source": [
    ":::{note}\n",
    "\n",
    "This model of migration will typically give *different* results\n",
    "from diffusion models and coalescent simulations!\n",
    "\n",
    ":::\n",
    "\n",
    "(migration-and-selfing)=\n",
    "\n",
    "## Examples of models\n",
    "\n",
    "### Isolation with migration, or \"IM\"\n",
    "\n",
    "Consider two demes that split apart `T` time units ago and then grow to different\n",
    "sizes in the present.  After the split, migration occurs between the two demes. The\n",
    "demographic model has the following parameters:\n",
    "\n",
    "* `Nanc`, the ancestral population size.\n",
    "* `T`, the time of the split, which is in units of `Nanc`.\n",
    "* `psplit`, the proportion of the ancestral population that splits off to found deme `1`.\n",
    "* `N0`, the final size of deme `0`, relative to `Nanc`.\n",
    "* `N1`, the final size of deme `1`, relative to `Nanc`.\n",
    "* `m01`, the migration rate from deme `0` to deme `1`.\n",
    "* `m10`, the migration rate from deme `1` to deme `0`.\n",
    "\n",
    "Here is the model in its entirety, with no mutation and no recombination.\n",
    "First, we will set up the demographic events.  The population with evolve\n",
    "for `Nanc` generations before the split."
   ]
  },
  {
   "cell_type": "code",
   "execution_count": 32,
   "id": "78d5a5f6",
   "metadata": {},
   "outputs": [],
   "source": [
    "Nanc = 100\n",
    "T = 0.2\n",
    "psplit = 0.33\n",
    "N0, N1 = 2, 3\n",
    "m01, m10 = 0.01, 0.0267\n",
    "\n",
    "# The split event\n",
    "split = [fwdpy11.move_individuals(when=Nanc, source=0, destination=1, fraction=psplit)]\n",
    "# Get growth rates and set growth rate changes,\n",
    "# taking care to handle our rounding!\n",
    "gens_post_split = np.rint(Nanc * T).astype(int)\n",
    "N0split = np.rint(Nanc * (1.0 - psplit))\n",
    "N0final = np.rint(N0 * Nanc)\n",
    "N1split = np.rint(Nanc * psplit)\n",
    "N1final = np.rint(N1 * Nanc)\n",
    "G0 = fwdpy11.exponential_growth_rate(N0split, N0final, gens_post_split)\n",
    "G1 = fwdpy11.exponential_growth_rate(N1split, N1final, gens_post_split)\n",
    "growth = [\n",
    "    fwdpy11.SetExponentialGrowth(Nanc, 0, G0),\n",
    "    fwdpy11.SetExponentialGrowth(Nanc, 1, G1),\n",
    "]\n",
    "\n",
    "# Set up the migration matrix for two demes, but only\n",
    "# deme zero exists.\n",
    "m = fwdpy11.migration_matrix_single_extant_deme(2, 0)\n",
    "# The rows of the matrix change at the split:\n",
    "cm = [\n",
    "    fwdpy11.SetMigrationRates(Nanc, 0, [1.0 - m10, m10]),\n",
    "    fwdpy11.SetMigrationRates(Nanc, 1, [m01, 1.0 - m01]),\n",
    "]\n",
    "d = fwdpy11.DiscreteDemography(\n",
    "    mass_migrations=split, set_growth_rates=growth, set_migration_rates=cm, migmatrix=m\n",
    ")"
   ]
  },
  {
   "cell_type": "markdown",
   "id": "ed030730",
   "metadata": {},
   "source": [
    "The above code made use of two helper functions:\n",
    "\n",
    "* {func}`fwdpy11.exponential_growth_rate`\n",
    "* {func}`fwdpy11.migration_matrix_single_extant_deme`\n",
    "\n",
    "Finally, we can run it:"
   ]
  },
  {
   "cell_type": "code",
   "execution_count": 33,
   "id": "c49936d6",
   "metadata": {},
   "outputs": [],
   "source": [
    "pop = fwdpy11.DiploidPopulation(Nanc, 1.0)\n",
    "setup_and_run_model(pop, d, Nanc + gens_post_split)"
   ]
  },
  {
   "cell_type": "markdown",
   "id": "304ef4a2",
   "metadata": {},
   "source": [
    "Now we check the final population sizes and make sure they are correct:"
   ]
  },
  {
   "cell_type": "code",
   "execution_count": 34,
   "id": "5484c278",
   "metadata": {},
   "outputs": [],
   "source": [
    "ds = pop.deme_sizes()\n",
    "assert ds[1][0] == N0final\n",
    "assert ds[1][1] == N1final"
   ]
  },
  {
   "cell_type": "markdown",
   "id": "7e1ce361",
   "metadata": {},
   "source": [
    "This model is common enough that you shouldn't have to implement it from\n",
    "scratch each time.  For this reason, we provide it in {func}`fwdpy11.demographic_models.IM.two_deme_IM`."
   ]
  },
  {
   "cell_type": "code",
   "execution_count": 35,
   "id": "1df2443c",
   "metadata": {},
   "outputs": [],
   "source": [
    "import fwdpy11.demographic_models.IM\n",
    "\n",
    "dmodel = fwdpy11.demographic_models.IM.two_deme_IM(\n",
    "    Nanc, T, psplit, (N0, N1), (m01, m10), burnin=1.0\n",
    ")\n",
    "pop2 = fwdpy11.DiploidPopulation(Nanc, 1.0)\n",
    "setup_and_run_model(pop2, dmodel.model, dmodel.metadata.simlen)\n",
    "assert pop.generation == pop2.generation\n",
    "assert pop2.generation == dmodel.metadata.simlen\n",
    "ds2 = pop2.deme_sizes()\n",
    "assert np.array_equal(ds[0], ds2[0])\n",
    "assert np.array_equal(ds[1], ds2[1])"
   ]
  },
  {
   "cell_type": "markdown",
   "id": "9bea1032",
   "metadata": {},
   "source": [
    "See {ref}`IMexample` for an example of using this function to compare to results\n",
    "from diffusion models."
   ]
  }
 ],
 "metadata": {
  "jupytext": {
   "formats": "md:myst",
   "text_representation": {
    "extension": ".md",
    "format_name": "myst"
   }
  },
  "kernelspec": {
   "display_name": "Python 3",
   "language": "python",
   "name": "python3"
  },
  "language_info": {
   "codemirror_mode": {
    "name": "ipython",
    "version": 3
   },
   "file_extension": ".py",
   "mimetype": "text/x-python",
   "name": "python",
   "nbconvert_exporter": "python",
   "pygments_lexer": "ipython3",
   "version": "3.10.10"
  },
  "source_map": [
   11,
   83,
   93,
   108,
   126,
   130,
   137,
   151,
   170,
   239,
   245,
   249,
   251,
   255,
   261,
   265,
   267,
   281,
   287,
   293,
   304,
   326,
   335,
   339,
   348,
   358,
   366,
   372,
   377,
   391,
   399,
   403,
   409,
   414,
   417,
   440,
   443,
   448,
   452,
   457,
   461,
   466,
   470,
   474,
   477,
   482,
   486,
   490,
   493,
   500,
   518,
   530,
   544,
   551,
   558,
   569,
   576,
   585,
   588,
   592,
   594,
   625,
   659,
   668,
   671,
   675,
   679,
   684,
   697
  ]
 },
 "nbformat": 4,
 "nbformat_minor": 5
}
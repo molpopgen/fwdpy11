{
 "cells": [
  {
   "cell_type": "markdown",
   "id": "selective-blond",
   "metadata": {},
   "source": [
    "(tsoverview)=\n",
    "\n",
    "# Conceptual overview of tree sequence recording\n",
    "\n",
    "`fwdpy11` 0.2.0 added support for tree sequence recording (`TSR`),\n",
    "which is a method to both speed up forward-time simulations and to\n",
    "track the entire genealogical history of the simulation.\n",
    "The key reference describing `TSR` is {cite}`Kelleher2016-cb`, which in turn relies\n",
    "heavily on concepts described in {cite}`Kelleher2016-cb`.\n",
    "\n",
    "The goal of `TSR` is to track a set of tables that contain the trees describing the ancestry of the population.\n",
    "\n",
    "## Trees and tables\n",
    "\n",
    "To start out, let us consider the following tree:"
   ]
  },
  {
   "cell_type": "code",
   "execution_count": 1,
   "id": "documented-spectacular",
   "metadata": {
    "tags": [
     "hide-input"
    ]
   },
   "outputs": [
    {
     "data": {
      "image/svg+xml": [
       "<svg xmlns=\"http://www.w3.org/2000/svg\" xmlns:ev=\"http://www.w3.org/2001/xml-events\" xmlns:xlink=\"http://www.w3.org/1999/xlink\" baseProfile=\"full\" height=\"500\" version=\"1.1\" width=\"500\"><defs><style type=\"text/css\"><![CDATA[.axis {font-weight: bold}.tree, .axis {font-size: 14px; text-anchor:middle}.edge {stroke: black; fill: none}.node > .sym {fill: black; stroke: none}.tree text {dominant-baseline: middle}.tree .lab.lft {text-anchor: end}.tree .lab.rgt {text-anchor: start}.mut {fill: red; font-style: italic}]]></style></defs><g class=\"tree-sequence\"><g class=\"background\"><polygon fill=\"#F1F1F1\" points=\"20,485 20,480 20,460 20,0 480.0,0 480.0,460 480.0,480 480.0,485\"/></g><g class=\"trees\"><g class=\"treebox t0\" transform=\"translate(20 30)\"><g class=\"tree t0\"><g class=\"node n6 root\" transform=\"translate(230.0 30.0)\"><g class=\"a6 node n4\" transform=\"translate(-88.0 253.333)\"><g class=\"a4 leaf node n0 sample\" transform=\"translate(-44.0 126.667)\"><path class=\"edge\" d=\"M 0 0 V -126.667 H 44.0\"/><circle class=\"sym\" cx=\"0\" cy=\"0\" r=\"3\"/><text class=\"lab\" transform=\"translate(0 12)\">0</text></g><g class=\"a4 leaf node n1 sample\" transform=\"translate(44.0 126.667)\"><path class=\"edge\" d=\"M 0 0 V -126.667 H -44.0\"/><circle class=\"sym\" cx=\"0\" cy=\"0\" r=\"3\"/><text class=\"lab\" transform=\"translate(0 12)\">1</text></g><path class=\"edge\" d=\"M 0 0 V -253.333 H 88.0\"/><circle class=\"sym\" cx=\"0\" cy=\"0\" r=\"3\"/><text class=\"lab lft\" transform=\"translate(-3 -6)\">4</text></g><g class=\"a6 node n5\" transform=\"translate(88.0 126.667)\"><g class=\"a5 leaf node n2 sample\" transform=\"translate(-44.0 253.333)\"><path class=\"edge\" d=\"M 0 0 V -253.333 H 44.0\"/><circle class=\"sym\" cx=\"0\" cy=\"0\" r=\"3\"/><text class=\"lab\" transform=\"translate(0 12)\">2</text></g><g class=\"a5 leaf node n3 sample\" transform=\"translate(44.0 253.333)\"><path class=\"edge\" d=\"M 0 0 V -253.333 H -44.0\"/><circle class=\"sym\" cx=\"0\" cy=\"0\" r=\"3\"/><text class=\"lab\" transform=\"translate(0 12)\">3</text></g><path class=\"edge\" d=\"M 0 0 V -126.667 H -88.0\"/><circle class=\"sym\" cx=\"0\" cy=\"0\" r=\"3\"/><text class=\"lab rgt\" transform=\"translate(3 -6)\">5</text></g><circle class=\"sym\" cx=\"0\" cy=\"0\" r=\"3\"/><text class=\"lab\" transform=\"translate(0 -10)\">6</text></g></g></g></g><g class=\"axis\"><line stroke=\"black\" x1=\"20\" x2=\"480\" y1=\"480\" y2=\"480\"/><line stroke=\"black\" x1=\"20\" x2=\"20\" y1=\"480\" y2=\"485\"/><g transform=\"translate(20, 500)\"><text font-size=\"14\" font-weight=\"bold\" text-anchor=\"middle\">0</text></g><line stroke=\"black\" x1=\"480.0\" x2=\"480.0\" y1=\"480\" y2=\"485\"/><g transform=\"translate(480.0, 500)\"><text font-size=\"14\" font-weight=\"bold\" text-anchor=\"middle\">1</text></g></g></g></svg>"
      ],
      "text/plain": [
       "<IPython.core.display.SVG object>"
      ]
     },
     "metadata": {
      "filenames": {
       "image/svg+xml": "/home/runner/work/fwdpy11/fwdpy11/doc/_build/jupyter_execute/pages/tsoverview_1_0.svg"
      },
      "scrapbook": {
       "mime_prefix": "application/papermill.record/",
       "name": "example_tree"
      }
     },
     "output_type": "display_data"
    }
   ],
   "source": [
    "import tskit\n",
    "from IPython.display import SVG\n",
    "from myst_nb import glue\n",
    "\n",
    "tc = tskit.TableCollection(1.)\n",
    "tc.nodes.set_columns(flags=[1]*4+[0]*3, time=[0]*4+[1,2,3])\n",
    "tc.edges.add_row(parent=4, child=0, left=0., right=1.)\n",
    "tc.edges.add_row(parent=4, child=1, left=0., right=1.)\n",
    "tc.edges.add_row(parent=5, child=2, left=0., right=1.)\n",
    "tc.edges.add_row(parent=5, child=3, left=0., right=1.)\n",
    "tc.edges.add_row(parent=6, child=4, left=0., right=1.)\n",
    "tc.edges.add_row(parent=6, child=5, left=0., right=1.)\n",
    "\n",
    "ts = tc.tree_sequence()\n",
    "glue(\"example_tree\", SVG(ts.draw_svg(size=(500, 500))), display=False)"
   ]
  },
  {
   "cell_type": "markdown",
   "id": "artificial-aggregate",
   "metadata": {},
   "source": [
    "```{glue:figure} example_tree\n",
    ":name: 'example_tree'\n",
    "\n",
    "A tree with seven nodes.\n",
    "```\n",
    "\n",
    "This tree is the \"marginal\" history of a genomic segment covering the half-open interval {math}`[0, 1)`.\n",
    "In other words, all genomic positions in this interval have the same ancestry, and recombination results in different intervals having different trees.\n",
    "\n",
    "Following {cite}`Kelleher2016-cb`, we can represent the above tree using two tables:"
   ]
  },
  {
   "cell_type": "code",
   "execution_count": 2,
   "id": "devoted-angola",
   "metadata": {
    "tags": [
     "hide-input"
    ]
   },
   "outputs": [],
   "source": [
    "import pandas as pd\n",
    "\n",
    "nodes = pd.DataFrame({'id': [i for i in range(len(ts.tables.nodes))],\n",
    "                      'time': ts.tables.nodes.time})\n",
    "edges = pd.DataFrame({'parent': ts.tables.edges.parent,\n",
    "                      'child': ts.tables.edges.child,\n",
    "                      'left': ts.tables.edges.left,\n",
    "                      'right': ts.tables.edges.right})"
   ]
  },
  {
   "cell_type": "markdown",
   "id": "illegal-translation",
   "metadata": {},
   "source": [
    "First we have the `nodes`:"
   ]
  },
  {
   "cell_type": "code",
   "execution_count": 3,
   "id": "sacred-stick",
   "metadata": {
    "tags": [
     "hide-input"
    ]
   },
   "outputs": [
    {
     "data": {
      "text/html": [
       "<div>\n",
       "<style scoped>\n",
       "    .dataframe tbody tr th:only-of-type {\n",
       "        vertical-align: middle;\n",
       "    }\n",
       "\n",
       "    .dataframe tbody tr th {\n",
       "        vertical-align: top;\n",
       "    }\n",
       "\n",
       "    .dataframe thead th {\n",
       "        text-align: right;\n",
       "    }\n",
       "</style>\n",
       "<table border=\"1\" class=\"dataframe\">\n",
       "  <thead>\n",
       "    <tr style=\"text-align: right;\">\n",
       "      <th></th>\n",
       "      <th>id</th>\n",
       "      <th>time</th>\n",
       "    </tr>\n",
       "  </thead>\n",
       "  <tbody>\n",
       "    <tr>\n",
       "      <th>0</th>\n",
       "      <td>0</td>\n",
       "      <td>0.0</td>\n",
       "    </tr>\n",
       "    <tr>\n",
       "      <th>1</th>\n",
       "      <td>1</td>\n",
       "      <td>0.0</td>\n",
       "    </tr>\n",
       "    <tr>\n",
       "      <th>2</th>\n",
       "      <td>2</td>\n",
       "      <td>0.0</td>\n",
       "    </tr>\n",
       "    <tr>\n",
       "      <th>3</th>\n",
       "      <td>3</td>\n",
       "      <td>0.0</td>\n",
       "    </tr>\n",
       "    <tr>\n",
       "      <th>4</th>\n",
       "      <td>4</td>\n",
       "      <td>1.0</td>\n",
       "    </tr>\n",
       "    <tr>\n",
       "      <th>5</th>\n",
       "      <td>5</td>\n",
       "      <td>2.0</td>\n",
       "    </tr>\n",
       "    <tr>\n",
       "      <th>6</th>\n",
       "      <td>6</td>\n",
       "      <td>3.0</td>\n",
       "    </tr>\n",
       "  </tbody>\n",
       "</table>\n",
       "</div>"
      ],
      "text/plain": [
       "   id  time\n",
       "0   0   0.0\n",
       "1   1   0.0\n",
       "2   2   0.0\n",
       "3   3   0.0\n",
       "4   4   1.0\n",
       "5   5   2.0\n",
       "6   6   3.0"
      ]
     },
     "execution_count": 3,
     "metadata": {},
     "output_type": "execute_result"
    }
   ],
   "source": [
    "nodes"
   ]
  },
  {
   "cell_type": "markdown",
   "id": "mediterranean-modem",
   "metadata": {},
   "source": [
    "Second, we have the `edges`:"
   ]
  },
  {
   "cell_type": "code",
   "execution_count": 4,
   "id": "insured-growing",
   "metadata": {
    "tags": [
     "hide-input"
    ]
   },
   "outputs": [
    {
     "data": {
      "text/html": [
       "<div>\n",
       "<style scoped>\n",
       "    .dataframe tbody tr th:only-of-type {\n",
       "        vertical-align: middle;\n",
       "    }\n",
       "\n",
       "    .dataframe tbody tr th {\n",
       "        vertical-align: top;\n",
       "    }\n",
       "\n",
       "    .dataframe thead th {\n",
       "        text-align: right;\n",
       "    }\n",
       "</style>\n",
       "<table border=\"1\" class=\"dataframe\">\n",
       "  <thead>\n",
       "    <tr style=\"text-align: right;\">\n",
       "      <th></th>\n",
       "      <th>parent</th>\n",
       "      <th>child</th>\n",
       "      <th>left</th>\n",
       "      <th>right</th>\n",
       "    </tr>\n",
       "  </thead>\n",
       "  <tbody>\n",
       "    <tr>\n",
       "      <th>0</th>\n",
       "      <td>4</td>\n",
       "      <td>0</td>\n",
       "      <td>0.0</td>\n",
       "      <td>1.0</td>\n",
       "    </tr>\n",
       "    <tr>\n",
       "      <th>1</th>\n",
       "      <td>4</td>\n",
       "      <td>1</td>\n",
       "      <td>0.0</td>\n",
       "      <td>1.0</td>\n",
       "    </tr>\n",
       "    <tr>\n",
       "      <th>2</th>\n",
       "      <td>5</td>\n",
       "      <td>2</td>\n",
       "      <td>0.0</td>\n",
       "      <td>1.0</td>\n",
       "    </tr>\n",
       "    <tr>\n",
       "      <th>3</th>\n",
       "      <td>5</td>\n",
       "      <td>3</td>\n",
       "      <td>0.0</td>\n",
       "      <td>1.0</td>\n",
       "    </tr>\n",
       "    <tr>\n",
       "      <th>4</th>\n",
       "      <td>6</td>\n",
       "      <td>4</td>\n",
       "      <td>0.0</td>\n",
       "      <td>1.0</td>\n",
       "    </tr>\n",
       "    <tr>\n",
       "      <th>5</th>\n",
       "      <td>6</td>\n",
       "      <td>5</td>\n",
       "      <td>0.0</td>\n",
       "      <td>1.0</td>\n",
       "    </tr>\n",
       "  </tbody>\n",
       "</table>\n",
       "</div>"
      ],
      "text/plain": [
       "   parent  child  left  right\n",
       "0       4      0   0.0    1.0\n",
       "1       4      1   0.0    1.0\n",
       "2       5      2   0.0    1.0\n",
       "3       5      3   0.0    1.0\n",
       "4       6      4   0.0    1.0\n",
       "5       6      5   0.0    1.0"
      ]
     },
     "execution_count": 4,
     "metadata": {},
     "output_type": "execute_result"
    }
   ],
   "source": [
    "edges"
   ]
  },
  {
   "cell_type": "markdown",
   "id": "occupied-shepherd",
   "metadata": {},
   "source": [
    "We learn two things from {numref}`example_tree` and its associated tables:\n",
    "\n",
    "1. Node tables track the birth times of nodes.  Here, we measure time as increasing from past to the present.\n",
    "2. Edge tables record the transmissions of genomic intervals from parents to children.  The parent/child fields\n",
    "   are indexes of the node table.\n",
    "\n",
    "Edge tables have specific sorting requirements.  The sorting is nested:\n",
    "\n",
    "1. Decreasing order of parent birth times (as we read the table from top to bottom).\n",
    "2. For edges with the same parent, child indexes are sorted in increasing order\n",
    "3. Finally, edges are sorted by increasing left position.\n",
    "\n",
    "## Relating an evolving population to node and edge tables\n",
    "\n",
    "Consider the case of a diploid Wright-Fisher population.  There are {math}`N` individuals, and\n",
    "thus {math}`2N` haploid genomes.  Define a genome as all of the genomic intervals inherited from a\n",
    "single parent.  Positions along the genome have values from the interval {math}`[0,L)`, and we do not\n",
    "care if positions take on continuous or discrete values within that interval.\n",
    "\n",
    "At any time point, we may describe the population as consisting of {math}`2N` nodes with integer labels\n",
    "{math}`[i,i+2N)`.  Our diploids are then defined as adjacent tuples of nodes,\n",
    "{math}`D \\in [(i,i+1),(i+2,i+3),\\ldots,(i+2N-2,i+2N-1)]`.  Node labels thus represent haploid genomes.\n",
    "\n",
    "To generate the next generation, offspring are generated by recording which intervals they inherit from which parental\n",
    "nodes.  These intervals are determined by the usual rules of evolving a Wright-Fisher model with selection and\n",
    "recombination.  We record these transmission events as *edges*, which we may describe as tuples `(left, right, parent,\n",
    "child)`. In words, such a tuple means \"Parental node label `parent` transmitted the genomic interval\n",
    "{math}`[left,right)` to offspring node label `child`\".\n",
    "\n",
    "The task of a forward simulation is to record new nodes and edges as they arise.  The simulation ends up recording many\n",
    "transmission events that quickly go extinct.  The simplification algorithm described in the 2018 paper mentioned above\n",
    "takes this \"messy\" node and edge table and returns \"simplified\" node and edge tables.\n",
    "\n",
    "We can visualize this process using an example implemented with `tskit`. \n",
    "We implement a Wright-Fisher model for a diploid population without recombination and without selection:"
   ]
  },
  {
   "cell_type": "code",
   "execution_count": 5,
   "id": "accomplished-homeless",
   "metadata": {},
   "outputs": [],
   "source": [
    "import tskit\n",
    "import numpy as np"
   ]
  },
  {
   "cell_type": "code",
   "execution_count": 6,
   "id": "royal-surrey",
   "metadata": {},
   "outputs": [],
   "source": [
    "def wf1(N, ngens):\n",
    "    tc = tskit.TableCollection(1.0)\n",
    "    # Add 2N nodes at time = 0.\n",
    "    # These nodes represent the\n",
    "    # initial list of parental\n",
    "    # gametes\n",
    "    for i in range(2 * N):\n",
    "        tc.nodes.add_row(time=0, flags=tskit.NODE_IS_SAMPLE)\n",
    "    next_offspring_index = len(tc.nodes)\n",
    "    first_parental_index = 0\n",
    "    for gen in range(1, ngens + 1):\n",
    "        assert next_offspring_index == len(tc.nodes)\n",
    "        assert first_parental_index == len(tc.nodes) - 2 * N\n",
    "        # Pick 2N parents\n",
    "        parents = np.random.randint(0, N, 2 * N)\n",
    "        for parent1, parent2 in zip(parents[::2], parents[1::2]):\n",
    "            # Pick 1 gamete from each parent\n",
    "            mendel = np.random.random_sample(2)\n",
    "            g1 = first_parental_index + 2 * parent1 + (mendel[0] < 0.5)\n",
    "            g2 = first_parental_index + 2 * parent2 + (mendel[1] < 0.5)\n",
    "            # Add nodes for our offspring's\n",
    "            # two gametes\n",
    "            tc.nodes.add_row(time=gen, flags=tskit.NODE_IS_SAMPLE)\n",
    "            tc.nodes.add_row(time=gen, flags=tskit.NODE_IS_SAMPLE)\n",
    "            # Add edges reflecting the\n",
    "            # transmission from parental\n",
    "            # nodes to offspring nodes\n",
    "            tc.edges.add_row(left=0.0, right=1.0, parent=g1, child=next_offspring_index)\n",
    "            tc.edges.add_row(\n",
    "                left=0.0, right=1.0, parent=g2, child=next_offspring_index + 1\n",
    "                )\n",
    "            next_offspring_index += 2\n",
    "        first_parental_index += 2 * N\n",
    "    return tc"
   ]
  },
  {
   "cell_type": "markdown",
   "id": "organized-senior",
   "metadata": {},
   "source": [
    "## Tree sequence simplification\n",
    "\n",
    "Let's run the simulation for a few generations and look at the resulting tree:"
   ]
  },
  {
   "cell_type": "code",
   "execution_count": 7,
   "id": "married-thesis",
   "metadata": {
    "tags": [
     "raises-exception"
    ]
   },
   "outputs": [
    {
     "data": {
      "image/svg+xml": [
       "<svg xmlns=\"http://www.w3.org/2000/svg\" xmlns:ev=\"http://www.w3.org/2001/xml-events\" xmlns:xlink=\"http://www.w3.org/1999/xlink\" baseProfile=\"full\" height=\"500\" version=\"1.1\" width=\"500\"><defs><style type=\"text/css\"><![CDATA[.axis {font-weight: bold}.tree, .axis {font-size: 14px; text-anchor:middle}.edge {stroke: black; fill: none}.node > .sym {fill: black; stroke: none}.tree text {dominant-baseline: middle}.tree .lab.lft {text-anchor: end}.tree .lab.rgt {text-anchor: start}.mut {fill: red; font-style: italic}]]></style></defs><g class=\"tree-sequence\"><g class=\"background\"><polygon fill=\"#F1F1F1\" points=\"20,485 20,480 20,460 20,0 480.0,0 480.0,460 480.0,480 480.0,485\"/></g><g class=\"trees\"><g class=\"treebox t0\" transform=\"translate(20 30)\"><g class=\"tree t0\"><g class=\"node n0 root sample\" transform=\"translate(54.0 30.0)\"><g class=\"a0 leaf node n10 sample\" transform=\"translate(-14.6667 95.0)\"><path class=\"edge\" d=\"M 0 0 V -95.0 H 14.6667\"/><circle class=\"sym\" cx=\"0\" cy=\"0\" r=\"3\"/><text class=\"lab\" transform=\"translate(0 12)\">10</text></g><g class=\"a0 leaf node n11 sample\" transform=\"translate(14.6667 95.0)\"><path class=\"edge\" d=\"M 0 0 V -95.0 H -14.6667\"/><circle class=\"sym\" cx=\"0\" cy=\"0\" r=\"3\"/><text class=\"lab\" transform=\"translate(0 12)\">11</text></g><circle class=\"sym\" cx=\"0\" cy=\"0\" r=\"3\"/><text class=\"lab\" transform=\"translate(0 -10)\">0</text></g><g class=\"node n1 root sample\" transform=\"translate(98.0 30.0)\"><g class=\"a1 node n7 sample\" transform=\"translate(0.0 95.0)\"><g class=\"a7 leaf node n13 sample\" transform=\"translate(0.0 95.0)\"><path class=\"edge\" d=\"M 0 0 V -95.0 H 0.0\"/><circle class=\"sym\" cx=\"0\" cy=\"0\" r=\"3\"/><text class=\"lab\" transform=\"translate(0 12)\">13</text></g><path class=\"edge\" d=\"M 0 0 V -95.0 H 0.0\"/><circle class=\"sym\" cx=\"0\" cy=\"0\" r=\"3\"/><text class=\"lab lft\" transform=\"translate(-3 -6)\">7</text></g><circle class=\"sym\" cx=\"0\" cy=\"0\" r=\"3\"/><text class=\"lab\" transform=\"translate(0 -10)\">1</text></g><g class=\"leaf node n2 root sample\" transform=\"translate(127.333 30.0)\"><circle class=\"sym\" cx=\"0\" cy=\"0\" r=\"3\"/><text class=\"lab\" transform=\"translate(0 12)\">2</text></g><g class=\"leaf node n3 root sample\" transform=\"translate(156.667 30.0)\"><circle class=\"sym\" cx=\"0\" cy=\"0\" r=\"3\"/><text class=\"lab\" transform=\"translate(0 12)\">3</text></g><g class=\"node n4 root sample\" transform=\"translate(266.667 30.0)\"><g class=\"a4 node n9 sample\" transform=\"translate(0.0 95.0)\"><g class=\"a9 leaf node n12 sample\" transform=\"translate(-80.6667 95.0)\"><path class=\"edge\" d=\"M 0 0 V -95.0 H 80.6667\"/><circle class=\"sym\" cx=\"0\" cy=\"0\" r=\"3\"/><text class=\"lab\" transform=\"translate(0 12)\">12</text></g><g class=\"a9 node n14 sample\" transform=\"translate(80.6667 95.0)\"><g class=\"a14 node n20 sample\" transform=\"translate(14.6667 95.0)\"><g class=\"a20 leaf node n27 sample\" transform=\"translate(0.0 95.0)\"><path class=\"edge\" d=\"M 0 0 V -95.0 H 0.0\"/><circle class=\"sym\" cx=\"0\" cy=\"0\" r=\"3\"/><text class=\"lab\" transform=\"translate(0 12)\">27</text></g><path class=\"edge\" d=\"M 0 0 V -95.0 H -14.6667\"/><circle class=\"sym\" cx=\"0\" cy=\"0\" r=\"3\"/><text class=\"lab rgt\" transform=\"translate(3 -6)\">20</text></g><g class=\"a14 node n23 sample\" transform=\"translate(-14.6667 95.0)\"><g class=\"a23 leaf node n26 sample\" transform=\"translate(0.0 95.0)\"><path class=\"edge\" d=\"M 0 0 V -95.0 H 0.0\"/><circle class=\"sym\" cx=\"0\" cy=\"0\" r=\"3\"/><text class=\"lab\" transform=\"translate(0 12)\">26</text></g><path class=\"edge\" d=\"M 0 0 V -95.0 H 14.6667\"/><circle class=\"sym\" cx=\"0\" cy=\"0\" r=\"3\"/><text class=\"lab lft\" transform=\"translate(-3 -6)\">23</text></g><path class=\"edge\" d=\"M 0 0 V -95.0 H -80.6667\"/><circle class=\"sym\" cx=\"0\" cy=\"0\" r=\"3\"/><text class=\"lab rgt\" transform=\"translate(3 -6)\">14</text></g><g class=\"a9 node n16 sample\" transform=\"translate(-36.6667 95.0)\"><g class=\"a16 node n18 sample\" transform=\"translate(-14.6667 95.0)\"><g class=\"a18 leaf node n24 sample\" transform=\"translate(0.0 95.0)\"><path class=\"edge\" d=\"M 0 0 V -95.0 H 0.0\"/><circle class=\"sym\" cx=\"0\" cy=\"0\" r=\"3\"/><text class=\"lab\" transform=\"translate(0 12)\">24</text></g><path class=\"edge\" d=\"M 0 0 V -95.0 H 14.6667\"/><circle class=\"sym\" cx=\"0\" cy=\"0\" r=\"3\"/><text class=\"lab lft\" transform=\"translate(-3 -6)\">18</text></g><g class=\"a16 node n21 sample\" transform=\"translate(14.6667 95.0)\"><g class=\"a21 leaf node n29 sample\" transform=\"translate(0.0 95.0)\"><path class=\"edge\" d=\"M 0 0 V -95.0 H 0.0\"/><circle class=\"sym\" cx=\"0\" cy=\"0\" r=\"3\"/><text class=\"lab\" transform=\"translate(0 12)\">29</text></g><path class=\"edge\" d=\"M 0 0 V -95.0 H -14.6667\"/><circle class=\"sym\" cx=\"0\" cy=\"0\" r=\"3\"/><text class=\"lab rgt\" transform=\"translate(3 -6)\">21</text></g><path class=\"edge\" d=\"M 0 0 V -95.0 H 36.6667\"/><circle class=\"sym\" cx=\"0\" cy=\"0\" r=\"3\"/><text class=\"lab rgt\" transform=\"translate(3 -6)\">16</text></g><g class=\"a9 node n17 sample\" transform=\"translate(22.0 95.0)\"><g class=\"a17 node n19 sample\" transform=\"translate(0.0 95.0)\"><g class=\"a19 leaf node n25 sample\" transform=\"translate(-14.6667 95.0)\"><path class=\"edge\" d=\"M 0 0 V -95.0 H 14.6667\"/><circle class=\"sym\" cx=\"0\" cy=\"0\" r=\"3\"/><text class=\"lab\" transform=\"translate(0 12)\">25</text></g><g class=\"a19 leaf node n28 sample\" transform=\"translate(14.6667 95.0)\"><path class=\"edge\" d=\"M 0 0 V -95.0 H -14.6667\"/><circle class=\"sym\" cx=\"0\" cy=\"0\" r=\"3\"/><text class=\"lab\" transform=\"translate(0 12)\">28</text></g><path class=\"edge\" d=\"M 0 0 V -95.0 H 0.0\"/><circle class=\"sym\" cx=\"0\" cy=\"0\" r=\"3\"/><text class=\"lab lft\" transform=\"translate(-3 -6)\">19</text></g><path class=\"edge\" d=\"M 0 0 V -95.0 H -22.0\"/><circle class=\"sym\" cx=\"0\" cy=\"0\" r=\"3\"/><text class=\"lab rgt\" transform=\"translate(3 -6)\">17</text></g><path class=\"edge\" d=\"M 0 0 V -95.0 H 0.0\"/><circle class=\"sym\" cx=\"0\" cy=\"0\" r=\"3\"/><text class=\"lab lft\" transform=\"translate(-3 -6)\">9</text></g><circle class=\"sym\" cx=\"0\" cy=\"0\" r=\"3\"/><text class=\"lab\" transform=\"translate(0 -10)\">4</text></g><g class=\"node n5 root sample\" transform=\"translate(406.0 30.0)\"><g class=\"a5 leaf node n6 sample\" transform=\"translate(-14.6667 95.0)\"><path class=\"edge\" d=\"M 0 0 V -95.0 H 14.6667\"/><circle class=\"sym\" cx=\"0\" cy=\"0\" r=\"3\"/><text class=\"lab\" transform=\"translate(0 12)\">6</text></g><g class=\"a5 node n8 sample\" transform=\"translate(14.6667 95.0)\"><g class=\"a8 node n15 sample\" transform=\"translate(0.0 95.0)\"><g class=\"a15 leaf node n22 sample\" transform=\"translate(0.0 95.0)\"><path class=\"edge\" d=\"M 0 0 V -95.0 H 0.0\"/><circle class=\"sym\" cx=\"0\" cy=\"0\" r=\"3\"/><text class=\"lab\" transform=\"translate(0 12)\">22</text></g><path class=\"edge\" d=\"M 0 0 V -95.0 H 0.0\"/><circle class=\"sym\" cx=\"0\" cy=\"0\" r=\"3\"/><text class=\"lab lft\" transform=\"translate(-3 -6)\">15</text></g><path class=\"edge\" d=\"M 0 0 V -95.0 H -14.6667\"/><circle class=\"sym\" cx=\"0\" cy=\"0\" r=\"3\"/><text class=\"lab rgt\" transform=\"translate(3 -6)\">8</text></g><circle class=\"sym\" cx=\"0\" cy=\"0\" r=\"3\"/><text class=\"lab\" transform=\"translate(0 -10)\">5</text></g></g></g></g><g class=\"axis\"><line stroke=\"black\" x1=\"20\" x2=\"480\" y1=\"480\" y2=\"480\"/><line stroke=\"black\" x1=\"20\" x2=\"20\" y1=\"480\" y2=\"485\"/><g transform=\"translate(20, 500)\"><text font-size=\"14\" font-weight=\"bold\" text-anchor=\"middle\">0</text></g><line stroke=\"black\" x1=\"480.0\" x2=\"480.0\" y1=\"480\" y2=\"485\"/><g transform=\"translate(480.0, 500)\"><text font-size=\"14\" font-weight=\"bold\" text-anchor=\"middle\">1</text></g></g></g></svg>"
      ],
      "text/plain": [
       "<IPython.core.display.SVG object>"
      ]
     },
     "execution_count": 7,
     "metadata": {
      "filenames": {
       "image/svg+xml": "/home/runner/work/fwdpy11/fwdpy11/doc/_build/jupyter_execute/pages/tsoverview_12_0.svg"
      }
     },
     "output_type": "execute_result"
    }
   ],
   "source": [
    "np.random.seed(42)\n",
    "tc = wf1(3, 4)\n",
    "# Before we can get a tree sequence from\n",
    "# the data, we must change direction of\n",
    "# time from foward to backwards to satisty\n",
    "# tskit:\n",
    "t = tc.nodes.time\n",
    "t -= tc.nodes.time.max()\n",
    "t *= -1.0\n",
    "tc.nodes.set_columns(time=t, flags=tc.nodes.flags)\n",
    "# Sort the tables:\n",
    "tc.sort()\n",
    "ts = tc.tree_sequence()\n",
    "SVG(ts.draw_svg(size=(500,500)))"
   ]
  },
  {
   "cell_type": "markdown",
   "id": "ranking-implement",
   "metadata": {},
   "source": [
    "The resulting tree contains information for extinct lineages as well as redundant node information.  Note\n",
    "that the three diploids in the last generation are defined by node pairs `(24,25)`, `(26,27)`, and `(28,29)`.\n",
    "\n",
    "Let's apply the simplification algorithm now.\n",
    "Simplification returns the minimal history of a specific set of nodes that we may call the \"sample nodes\".\n",
    "Here, our sample nodes will be those nodes corresponding to the individuals alive at the end of the simulation."
   ]
  },
  {
   "cell_type": "code",
   "execution_count": 8,
   "id": "wrong-quick",
   "metadata": {
    "tags": [
     "raises-exception"
    ]
   },
   "outputs": [
    {
     "data": {
      "image/svg+xml": [
       "<svg xmlns=\"http://www.w3.org/2000/svg\" xmlns:ev=\"http://www.w3.org/2001/xml-events\" xmlns:xlink=\"http://www.w3.org/1999/xlink\" baseProfile=\"full\" height=\"500\" version=\"1.1\" width=\"500\"><defs><style type=\"text/css\"><![CDATA[.axis {font-weight: bold}.tree, .axis {font-size: 14px; text-anchor:middle}.edge {stroke: black; fill: none}.node > .sym {fill: black; stroke: none}.tree text {dominant-baseline: middle}.tree .lab.lft {text-anchor: end}.tree .lab.rgt {text-anchor: start}.mut {fill: red; font-style: italic}]]></style></defs><g class=\"tree-sequence\"><g class=\"background\"><polygon fill=\"#F1F1F1\" points=\"20,485 20,480 20,460 20,0 480.0,0 480.0,460 480.0,480 480.0,485\"/></g><g class=\"trees\"><g class=\"treebox t0\" transform=\"translate(20 30)\"><g class=\"tree t0\"><g class=\"node n9 root\" transform=\"translate(230.0 30.0)\"><g class=\"a9 node n6\" transform=\"translate(0.0 253.333)\"><g class=\"a6 leaf node n1 sample\" transform=\"translate(-31.4286 126.667)\"><path class=\"edge\" d=\"M 0 0 V -126.667 H 31.4286\"/><circle class=\"sym\" cx=\"0\" cy=\"0\" r=\"3\"/><text class=\"lab\" transform=\"translate(0 12)\">25-&gt;1</text></g><g class=\"a6 leaf node n4 sample\" transform=\"translate(31.4286 126.667)\"><path class=\"edge\" d=\"M 0 0 V -126.667 H -31.4286\"/><circle class=\"sym\" cx=\"0\" cy=\"0\" r=\"3\"/><text class=\"lab\" transform=\"translate(0 12)\">28-&gt;4</text></g><path class=\"edge\" d=\"M 0 0 V -253.333 H 0.0\"/><circle class=\"sym\" cx=\"0\" cy=\"0\" r=\"3\"/><text class=\"lab rgt\" transform=\"translate(3 -6)\">19-&gt;6</text></g><g class=\"a9 node n7\" transform=\"translate(125.714 126.667)\"><g class=\"a7 leaf node n2 sample\" transform=\"translate(-31.4286 253.333)\"><path class=\"edge\" d=\"M 0 0 V -253.333 H 31.4286\"/><circle class=\"sym\" cx=\"0\" cy=\"0\" r=\"3\"/><text class=\"lab\" transform=\"translate(0 12)\">26-&gt;2</text></g><g class=\"a7 leaf node n3 sample\" transform=\"translate(31.4286 253.333)\"><path class=\"edge\" d=\"M 0 0 V -253.333 H -31.4286\"/><circle class=\"sym\" cx=\"0\" cy=\"0\" r=\"3\"/><text class=\"lab\" transform=\"translate(0 12)\">27-&gt;3</text></g><path class=\"edge\" d=\"M 0 0 V -126.667 H -125.714\"/><circle class=\"sym\" cx=\"0\" cy=\"0\" r=\"3\"/><text class=\"lab rgt\" transform=\"translate(3 -6)\">14-&gt;7</text></g><g class=\"a9 node n8\" transform=\"translate(-125.714 126.667)\"><g class=\"a8 leaf node n0 sample\" transform=\"translate(-31.4286 253.333)\"><path class=\"edge\" d=\"M 0 0 V -253.333 H 31.4286\"/><circle class=\"sym\" cx=\"0\" cy=\"0\" r=\"3\"/><text class=\"lab\" transform=\"translate(0 12)\">24-&gt;0</text></g><g class=\"a8 leaf node n5 sample\" transform=\"translate(31.4286 253.333)\"><path class=\"edge\" d=\"M 0 0 V -253.333 H -31.4286\"/><circle class=\"sym\" cx=\"0\" cy=\"0\" r=\"3\"/><text class=\"lab\" transform=\"translate(0 12)\">29-&gt;5</text></g><path class=\"edge\" d=\"M 0 0 V -126.667 H 125.714\"/><circle class=\"sym\" cx=\"0\" cy=\"0\" r=\"3\"/><text class=\"lab lft\" transform=\"translate(-3 -6)\">16-&gt;8</text></g><circle class=\"sym\" cx=\"0\" cy=\"0\" r=\"3\"/><text class=\"lab\" transform=\"translate(0 -10)\">9-&gt;9</text></g></g></g></g><g class=\"axis\"><line stroke=\"black\" x1=\"20\" x2=\"480\" y1=\"480\" y2=\"480\"/><line stroke=\"black\" x1=\"20\" x2=\"20\" y1=\"480\" y2=\"485\"/><g transform=\"translate(20, 500)\"><text font-size=\"14\" font-weight=\"bold\" text-anchor=\"middle\">0</text></g><line stroke=\"black\" x1=\"480.0\" x2=\"480.0\" y1=\"480\" y2=\"485\"/><g transform=\"translate(480.0, 500)\"><text font-size=\"14\" font-weight=\"bold\" text-anchor=\"middle\">1</text></g></g></g></svg>"
      ],
      "text/plain": [
       "<IPython.core.display.SVG object>"
      ]
     },
     "execution_count": 8,
     "metadata": {
      "filenames": {
       "image/svg+xml": "/home/runner/work/fwdpy11/fwdpy11/doc/_build/jupyter_execute/pages/tsoverview_14_0.svg"
      }
     },
     "output_type": "execute_result"
    }
   ],
   "source": [
    "samples = np.where(tc.nodes.time == 0)[0]\n",
    "node_map = tc.simplify(samples=samples.tolist())\n",
    "ts = tc.tree_sequence()\n",
    "tree = ts.first()\n",
    "imap = {node_map[node]: node for node in range(len(node_map))}\n",
    "nl = {i: f\"{imap[i]}->{i}\" for i in tree.nodes()}\n",
    "SVG(ts.draw_svg(size=(500,500), node_labels=nl))"
   ]
  },
  {
   "cell_type": "markdown",
   "id": "verbal-lafayette",
   "metadata": {},
   "source": [
    "That's much nicer!  The simplified tree shows now the *input* node ids are remapped to *output* node ids\n",
    "in such a manner that relative ordering is preserved.\n",
    "\n",
    "Thus, the most practical view of `TSR` is this: we speed up the simulations by *not* simulating neutral mutations.\n",
    "We only have to simulate the selected variants and occasionally simplify our messy trees.  The realized speedups are\n",
    "huge, and I refer you to the 2018 paper for the data on that.  But our simulations are not only faster.  They record\n",
    "much more information.  The tables of nodes, edges, etc., record the entire history of the simulation with respect to a\n",
    "set of sample nodes.\n",
    "\n",
    ":::{note}\n",
    "An important feature of the simplification algorithm is that we are *not* restricted to only using our \"alive\" nodes as our sample nodes.\n",
    "In fact, we can simplify with respect to any set of nodes in the tables.\n",
    "This feature allows us to keep nodes corresponding to \"ancient samples\" during a simulation.\n",
    "We simply mark them as nodes that we want to keep, and the algorithm does the rest.\n",
    "See {ref}`here <ancient_samples_vignette>` for how to do this in a simulation.\n",
    ":::"
   ]
  }
 ],
 "metadata": {
  "jupytext": {
   "formats": "md:myst",
   "text_representation": {
    "extension": ".md",
    "format_name": "myst"
   }
  },
  "kernelspec": {
   "display_name": "Python 3",
   "language": "python",
   "name": "python3"
  },
  "language_info": {
   "codemirror_mode": {
    "name": "ipython",
    "version": 3
   },
   "file_extension": ".py",
   "mimetype": "text/x-python",
   "name": "python",
   "nbconvert_exporter": "python",
   "pygments_lexer": "ipython3",
   "version": "3.8.8"
  },
  "source_map": [
   11,
   29,
   48,
   61,
   73,
   77,
   82,
   86,
   91,
   129,
   134,
   169,
   175,
   193,
   202,
   213
  ]
 },
 "nbformat": 4,
 "nbformat_minor": 5
}
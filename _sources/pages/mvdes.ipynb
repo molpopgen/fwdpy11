{
 "cells": [
  {
   "cell_type": "markdown",
   "id": "57646d69",
   "metadata": {},
   "source": [
    "(mvdes)=\n",
    "\n",
    "# Different effect sizes of mutations in different demes\n",
    "\n",
    ":::{versionadded} 0.7.0\n",
    "\n",
    ":::\n",
    "\n",
    "This section describes how to allow mutations to have different effect sizes in different demes,\n",
    "building on the material from {ref}`softselection`.\n",
    "\n",
    "To allow for correlated effect sizes across demes, we used {class}`fwdpy11.mvDES` to model multivariate\n",
    "distributions of effect sizes.  This class inherits from {class}`fwdpy11.Sregion` (see {ref}`mutationregions`).\n",
    "In general, there is no standard *general* method for drawing random deviates from arbitrary multivariate\n",
    "distributions.  The approach that we take is to use a multivariate Gaussian distribution as the underlying kernel.\n",
    "\n",
    "First, we will describe the cases where the multivariate Gaussian kernel leads to output effect size distributions\n",
    "that have straightforward interpretations.  Then, we will move onto the more general case allowing you to construct\n",
    "multivariate distributions from current {class}`fwdpy11.Sregion` types.\n",
    "\n",
    "## The multivariate Gaussian\n",
    "\n",
    "We may model Gaussian effect sizes using the existing {class}`fwdpy11.MultivariateGaussianEffects`\n",
    "in conjunction with {class}`fwdpy11.mvDES`.  Using {class}`fwdpy11.MultivariateGaussianEffects` on its\n",
    "own is used to model pleiotropic effects on a trait.  Here, we are re-using this type to model correlated\n",
    "effect sizes across demes.\n",
    "\n",
    "At this time, it is probably best to look at an example. The following code models Gaussian stabilizing\n",
    "selection on a quantitative trait.  The effects sizes within each deme are themselves given by Gaussian\n",
    "distributions and there is no correlation in the effect size in the two demes."
   ]
  },
  {
   "cell_type": "code",
   "execution_count": 1,
   "id": "f08a8761",
   "metadata": {},
   "outputs": [],
   "source": [
    "import fwdpy11\n",
    "import numpy as np\n",
    "\n",
    "pdict = {\n",
    "    \"nregions\": [],\n",
    "    \"recregions\": [],\n",
    "    \"sregions\": [\n",
    "        fwdpy11.mvDES(\n",
    "            fwdpy11.MultivariateGaussianEffects(0, 1, 1, np.identity(2)), np.zeros(2)\n",
    "        )\n",
    "    ],\n",
    "    \"rates\": (0, 1e-3, None),\n",
    "    \"demography\": fwdpy11.DiscreteDemography(\n",
    "        migmatrix=np.array([0.9, 0.1, 0.1, 0.9]).reshape((2, 2))\n",
    "    ),\n",
    "    \"simlen\": 100,\n",
    "    \"gvalue\": fwdpy11.Additive(\n",
    "        ndemes=2, scaling=2, gvalue_to_fitness=fwdpy11.GSS(optimum=0.0, VS=10.0)\n",
    "    ),\n",
    "}"
   ]
  },
  {
   "cell_type": "markdown",
   "id": "320e81d8",
   "metadata": {},
   "source": [
    "Most of the above is standard.  Let's dissect the new bits:\n",
    "\n",
    "* An instance of {class}`fwdpy11.mvDES` is our only region with selected mutations.\n",
    "* This instance holds an instance of {class}`fwdpy11.MultivariateGaussianEffects`\n",
    "  that puts mutations on the interval {math}`[0, 1)` with weight 1 and an identity\n",
    "  matrix specifies the correlation in effect sizes between demes 0 and 1.  The\n",
    "  identity matrix has the value zero for all off-diagonal elements, meaning\n",
    "  no covariance in effect sizes across demes.\n",
    "* The final constructor argument specifies the mean of each marginal Gaussian\n",
    "  distribution. The means are both zero.\n",
    "* Our genetic value type accepts an `ndemes` parameter, telling it that it has\n",
    "  to look for deme-specific effect sizes.  This value must be set to the maximum\n",
    "  number of demes that will exist during a simulation.\n",
    "\n",
    "Let's evolve the model now:"
   ]
  },
  {
   "cell_type": "code",
   "execution_count": 2,
   "id": "88aabb99",
   "metadata": {},
   "outputs": [],
   "source": [
    "params = fwdpy11.ModelParams(**pdict)\n",
    "pop = fwdpy11.DiploidPopulation([100, 100], 1.0)\n",
    "rng = fwdpy11.GSLrng(1010)\n",
    "fwdpy11.evolvets(rng, pop, params, 10)"
   ]
  },
  {
   "cell_type": "markdown",
   "id": "309ee9f8",
   "metadata": {},
   "source": [
    "Let's extract the effect sizes from each deme:"
   ]
  },
  {
   "cell_type": "code",
   "execution_count": 3,
   "id": "fe6c6b31",
   "metadata": {},
   "outputs": [
    {
     "name": "stdout",
     "output_type": "stream",
     "text": [
      "[ 0.09742853 -0.79068629]\n",
      "[-0.46314495 -0.31686816]\n"
     ]
    }
   ],
   "source": [
    "for i in pop.tables.mutations:\n",
    "    print(pop.mutations[i.key].esizes)"
   ]
  },
  {
   "cell_type": "markdown",
   "id": "be062e3b",
   "metadata": {},
   "source": [
    "Let's look at another example where effect sizes covary negatively across demes and raise the mutation rate a bit:"
   ]
  },
  {
   "cell_type": "code",
   "execution_count": 4,
   "id": "1e600241",
   "metadata": {},
   "outputs": [
    {
     "name": "stdout",
     "output_type": "stream",
     "text": [
      "[-0.65688902  0.67458945]\n",
      "[ 1.44236014 -1.19184102]\n",
      "[ 0.53515552 -0.49690106]\n",
      "[0.11239562 0.03076654]\n",
      "[ 0.0470034  -0.14227415]\n",
      "[-0.44707712  0.39814511]\n",
      "[-0.64860038  0.53073426]\n",
      "[-0.12680578 -0.00521323]\n",
      "[-1.702493    1.78230999]\n",
      "[-0.12798166 -0.14205828]\n",
      "[ 0.82686083 -0.68915806]\n"
     ]
    }
   ],
   "source": [
    "vcv = np.array([1.0, -0.99, -0.99, 1.0]).reshape((2, 2))\n",
    "pdict[\"sregions\"] = [\n",
    "    fwdpy11.mvDES(fwdpy11.MultivariateGaussianEffects(0, 1, 1, vcv), np.zeros(2))\n",
    "]\n",
    "pdict[\"rates\"] = (0, 5e-3, None)\n",
    "params = fwdpy11.ModelParams(**pdict)\n",
    "pop = fwdpy11.DiploidPopulation([100, 100], 1.0)\n",
    "fwdpy11.evolvets(rng, pop, params, 10)\n",
    "for i in pop.tables.mutations:\n",
    "    print(pop.mutations[i.key].esizes)"
   ]
  },
  {
   "cell_type": "markdown",
   "id": "31c590c5",
   "metadata": {},
   "source": [
    "Now we see that the effect sizes often differ in sign between the two demes.\n",
    "\n",
    "## The multivariate lognormal\n",
    "\n",
    "If {math}`X` is a multivariate Gaussian distribution, {math}`N(\\mathbf{\\mu}, \\mathbf{\\sum})`, where {math}`\\mathbf{\\mu}` is a vector of mean values and\n",
    "{math}`\\mathbf{\\sum}` is the covariance matrix, then {math}`Y = e^X` is a\n",
    "multivariate lognormal random variable with mean {math}`E[Y]_i = e^{\\mu_i + \\frac{1}{2}\\sum_{ii}}` and covariance matrix {math}`Var[Y]_{i,j} = e^{\\mu_i + \\mu_j + \\frac{1}{2}(\\sum_{ii} + \\sum_{jj})}(e^{\\sum_{ij}}-1)`.\n",
    "\n",
    "To specify a multivariate lognormal distribution of effect sizes, we use\n",
    "the static class method {func}`fwdpy11.LogNormalS.mv`.  The following code\n",
    "constructs a distribution of effect sizes such that `-2Ns` (where `N` is the\n",
    "size of a single deme) is a multivariate lognormal with means zero and an\n",
    "identity matrix as a covariance matrix used to specify the multivate\n",
    "Gaussian kernel."
   ]
  },
  {
   "cell_type": "code",
   "execution_count": 5,
   "id": "eacc6d74",
   "metadata": {},
   "outputs": [],
   "source": [
    "mvdes = fwdpy11.mvDES(\n",
    "    fwdpy11.LogNormalS.mv(0, 1, 1, scaling=-200), np.zeros(2), np.identity(2)\n",
    ")"
   ]
  },
  {
   "cell_type": "markdown",
   "id": "92991c54",
   "metadata": {},
   "source": [
    ":::{note}\n",
    "\n",
    "The lognormal distribution returns deviates {math}`> 0`.\n",
    "To model deleterious mutations/effect sizes < 0, use the\n",
    "`scaling` parameter with a negative value like we just did!\n",
    "\n",
    ":::\n",
    "\n",
    "Let's put it in a simulation and run it:"
   ]
  },
  {
   "cell_type": "code",
   "execution_count": 6,
   "id": "4eac0f90",
   "metadata": {},
   "outputs": [
    {
     "name": "stdout",
     "output_type": "stream",
     "text": [
      "[-0.00183755 -0.0009758 ]\n",
      "[-0.00110216 -0.00049425]\n"
     ]
    }
   ],
   "source": [
    "pdict = {\n",
    "    \"nregions\": [],\n",
    "    \"recregions\": [],\n",
    "    \"sregions\": [mvdes],\n",
    "    \"rates\": (0, 1e-3, None),\n",
    "    \"demography\": fwdpy11.DiscreteDemography(\n",
    "        migmatrix=np.array([0.9, 0.1, 0.1, 0.9]).reshape((2, 2))\n",
    "    ),\n",
    "    \"simlen\": 100,\n",
    "    \"gvalue\": fwdpy11.Multiplicative(ndemes=2, scaling=2),\n",
    "}\n",
    "params = fwdpy11.ModelParams(**pdict)\n",
    "pop = fwdpy11.DiploidPopulation([100, 100], 1.0)\n",
    "fwdpy11.evolvets(rng, pop, params, 10)\n",
    "for i in pop.tables.mutations:\n",
    "    print(pop.mutations[i.key].esizes)"
   ]
  },
  {
   "cell_type": "markdown",
   "id": "287f8f68",
   "metadata": {},
   "source": [
    "## \"Custom\" multivariate distributions\n",
    "\n",
    "The previous two sections cover cases where the methods for generating\n",
    "deviates from a multivariate distribution are straightforward and agreed\n",
    "upon.\n",
    "\n",
    "In order to simulate multivariate distributions of effect sizes based on\n",
    "{class}`fwdpy11.Sregion` types, we follow a fairly intuitive approach\n",
    "described in {cite}`Xue-Kun_Song2000-qn`.  Briefly, the multivariate Gaussian kernel is\n",
    "used to produce deviates.  Then, the quantiles from the cummulative distribution\n",
    "of each marginal Gaussian are used to generate a deviate from the desired output distribution of interest.\n",
    "\n",
    "For a simulation with `n` populations we need:\n",
    "\n",
    "* A {class}`list` of `n` {class}`fwdpy11.Sregion` objects\n",
    "* An array of `n` means for the multivariate Gaussian\n",
    "* An `n-by-n` covariance matrix for the multivariate\n",
    "  Gaussian\n",
    "\n",
    "The following generates exponentially distributed effect sizes in each deme\n",
    "with a high correlation across demes:"
   ]
  },
  {
   "cell_type": "code",
   "execution_count": 7,
   "id": "029c4155",
   "metadata": {},
   "outputs": [
    {
     "name": "stdout",
     "output_type": "stream",
     "text": [
      "[-0.05297616 -0.05994487]\n",
      "[-0.00600096 -0.00063   ]\n"
     ]
    }
   ],
   "source": [
    "mvdes = fwdpy11.mvDES(\n",
    "    [fwdpy11.ExpS(0, 1, 1, -0.5)] * 2,\n",
    "    np.zeros(2),\n",
    "    np.matrix([1, 0.9, 0.9, 1]).reshape((2, 2)),\n",
    ")\n",
    "pdict[\"sregions\"] = [mvdes]\n",
    "params = fwdpy11.ModelParams(**pdict)\n",
    "pop = fwdpy11.DiploidPopulation([100, 100], 1.0)\n",
    "fwdpy11.evolvets(rng, pop, params, 10)\n",
    "for i in pop.tables.mutations:\n",
    "    print(pop.mutations[i.key].esizes)"
   ]
  },
  {
   "cell_type": "markdown",
   "id": "974b2dba",
   "metadata": {},
   "source": [
    "We can mix and match our distributions.  Here, the distribution of effect\n",
    "sizes in deme 0 is exponential and the distribution in deme 1 is gamma.  The\n",
    "two distributions have means with opposite signs and the magnitudes of the\n",
    "marginal deviates negatively covary:"
   ]
  },
  {
   "cell_type": "code",
   "execution_count": 8,
   "id": "f28a9ef7",
   "metadata": {},
   "outputs": [
    {
     "name": "stdout",
     "output_type": "stream",
     "text": [
      "[-0.17037555  0.17324704]\n",
      "[-0.22122016  0.22419496]\n",
      "[-1.78012379  0.01713378]\n",
      "[-0.36227095  0.10331541]\n",
      "[-0.24379116  0.12145104]\n"
     ]
    }
   ],
   "source": [
    "mvdes = fwdpy11.mvDES(\n",
    "    [fwdpy11.ExpS(0, 1, 1, -0.5), fwdpy11.GammaS(0, 1, 1, mean=0.1, shape_parameter=1)],\n",
    "    np.zeros(2),\n",
    "    np.matrix([1, -0.9, -0.9, 1]).reshape((2, 2)),\n",
    ")\n",
    "pdict[\"sregions\"] = [mvdes]\n",
    "params = fwdpy11.ModelParams(**pdict)\n",
    "pop = fwdpy11.DiploidPopulation([100, 100], 1.0)\n",
    "fwdpy11.evolvets(rng, pop, params, 10)\n",
    "for i in pop.tables.mutations:\n",
    "    print(pop.mutations[i.key].esizes)"
   ]
  },
  {
   "cell_type": "markdown",
   "id": "dbca82cc",
   "metadata": {},
   "source": [
    "The type {class}`fwdpy11.ConstantS` has intuitive behavior:"
   ]
  },
  {
   "cell_type": "code",
   "execution_count": 9,
   "id": "a6b2d6bf",
   "metadata": {},
   "outputs": [
    {
     "name": "stdout",
     "output_type": "stream",
     "text": [
      "[-0.99150137 -0.1       ]\n",
      "[-0.22828726 -0.1       ]\n",
      "[-0.10570464 -0.1       ]\n",
      "[-0.06271967 -0.1       ]\n"
     ]
    }
   ],
   "source": [
    "mvdes = fwdpy11.mvDES(\n",
    "    [fwdpy11.ExpS(0, 1, 1, -0.5), fwdpy11.ConstantS(0, 1, 1, -0.1)],\n",
    "    np.zeros(2),\n",
    "    np.matrix([1, -0.9, -0.9, 1]).reshape((2, 2)),\n",
    ")\n",
    "pdict[\"rates\"] = (0, 5e-3, None)\n",
    "pdict[\"sregions\"] = [mvdes]\n",
    "params = fwdpy11.ModelParams(**pdict)\n",
    "pop = fwdpy11.DiploidPopulation([100, 100], 1.0)\n",
    "rng = fwdpy11.GSLrng(1010)\n",
    "fwdpy11.evolvets(rng, pop, params, 10)\n",
    "for i in pop.tables.mutations:\n",
    "    print(pop.mutations[i.key].esizes)"
   ]
  },
  {
   "cell_type": "markdown",
   "id": "73653f8d",
   "metadata": {},
   "source": [
    "## Recipes\n",
    "\n",
    "### Different signs in different demes\n",
    "\n",
    "Consider two demes.  You want any beneficial mutation in one deme to\n",
    "be deleterious in the other and vice-versa.\n",
    "\n",
    "For the multivariate Gaussian, use the covariance matrix as done above.  Note\n",
    "that this approach only generates a *tendency* to different signs in different demes.\n",
    "\n",
    "With the multivariate lognormal, the best we can do is to use negative\n",
    "correlations such that deleterious mutations in deme 0 are less deleterious in deme 1, etc.:"
   ]
  },
  {
   "cell_type": "code",
   "execution_count": 10,
   "id": "292b6c68",
   "metadata": {},
   "outputs": [
    {
     "name": "stdout",
     "output_type": "stream",
     "text": [
      "[0.00039308 0.0693669 ]\n",
      "[-0.01488498 -0.00173671]\n",
      "[-0.00514551 -0.00519719]\n",
      "[-0.00377736 -0.00592563]\n",
      "[0.00069116 0.0453049 ]\n",
      "[0.00355528 0.00643812]\n",
      "[-0.00208255 -0.01409883]\n",
      "[-0.01590584 -0.00175813]\n",
      "[-0.00045263 -0.04933448]\n",
      "[0.00227164 0.01008629]\n",
      "[0.01128436 0.00198865]\n",
      "[0.01109052 0.00222656]\n",
      "[-0.00256051 -0.01002711]\n",
      "[-0.00152782 -0.01807099]\n"
     ]
    }
   ],
   "source": [
    "sregions = [\n",
    "    fwdpy11.mvDES(\n",
    "        fwdpy11.LogNormalS.mv(0, 1, 1, scaling=-200),\n",
    "        np.zeros(2),\n",
    "        np.matrix([1, -0.99, -0.99, 1]).reshape((2, 2)),\n",
    "    )\n",
    "]\n",
    "sregions.append(\n",
    "    fwdpy11.mvDES(\n",
    "        fwdpy11.LogNormalS.mv(0, 1, 1, scaling=200),\n",
    "        np.zeros(2),\n",
    "        np.matrix([1, -0.99, -0.99, 1]).reshape((2, 2)),\n",
    "    )\n",
    ")\n",
    "pdict[\"sregions\"] = sregions\n",
    "params = fwdpy11.ModelParams(**pdict)\n",
    "pop = fwdpy11.DiploidPopulation([100, 100], 1.0)\n",
    "rng = fwdpy11.GSLrng(1010)\n",
    "fwdpy11.evolvets(rng, pop, params, 10)\n",
    "for i in pop.tables.mutations:\n",
    "    print(pop.mutations[i.key].esizes)"
   ]
  },
  {
   "cell_type": "markdown",
   "id": "67761fa5",
   "metadata": {},
   "source": [
    "In the output, we see that an effect size in deme `i` has a corresponding effect size in deme `j` that is a about an order of magnitude smaller in absolute value.\n",
    "\n",
    "For the general approach, simply create a {class}`list` of objects with the desired mean (or constant) effect sizes.  For example:"
   ]
  },
  {
   "cell_type": "code",
   "execution_count": 11,
   "id": "312e24a1",
   "metadata": {},
   "outputs": [
    {
     "name": "stdout",
     "output_type": "stream",
     "text": [
      "[-0.99150137  0.08290456]\n",
      "[ 0.04565745 -0.16002424]\n",
      "[-0.10570464  0.21656547]\n",
      "[ 0.41101789 -0.43686025]\n",
      "[-0.88406416  0.16572598]\n",
      "[ 0.25571088 -0.08508201]\n",
      "[ 0.15472792 -0.292425  ]\n",
      "[-0.14495801  0.08997944]\n",
      "[-0.06271967  0.15351897]\n"
     ]
    }
   ],
   "source": [
    "sregions = [\n",
    "    fwdpy11.mvDES(\n",
    "        [fwdpy11.ExpS(0, 1, 1, -0.5), fwdpy11.ExpS(0, 1, 1, 0.1)],\n",
    "        np.zeros(2),\n",
    "        np.identity(2),\n",
    "    )\n",
    "]\n",
    "sregions.append(\n",
    "    fwdpy11.mvDES(\n",
    "        [fwdpy11.ExpS(0, 1, 1, 0.1), fwdpy11.ExpS(0, 1, 1, -0.5)],\n",
    "        np.zeros(2),\n",
    "        np.identity(2),\n",
    "    )\n",
    ")\n",
    "pdict[\"sregions\"] = sregions\n",
    "params = fwdpy11.ModelParams(**pdict)\n",
    "pop = fwdpy11.DiploidPopulation([100, 100], 1.0)\n",
    "rng = fwdpy11.GSLrng(1010)\n",
    "fwdpy11.evolvets(rng, pop, params, 10)\n",
    "for i in pop.tables.mutations:\n",
    "    print(pop.mutations[i.key].esizes)"
   ]
  },
  {
   "cell_type": "markdown",
   "id": "f2b43f3a",
   "metadata": {},
   "source": [
    "### Polygenic traits, multiple demes, correlated effect sizes, and different optima\n",
    "\n",
    "See {ref}`GSSDivergentOptima`."
   ]
  }
 ],
 "metadata": {
  "jupytext": {
   "formats": "md:myst",
   "text_representation": {
    "extension": ".md",
    "format_name": "myst"
   }
  },
  "kernelspec": {
   "display_name": "Python 3",
   "language": "python",
   "name": "python3"
  },
  "language_info": {
   "codemirror_mode": {
    "name": "ipython",
    "version": 3
   },
   "file_extension": ".py",
   "mimetype": "text/x-python",
   "name": "python",
   "nbconvert_exporter": "python",
   "pygments_lexer": "ipython3",
   "version": "3.8.14"
  },
  "source_map": [
   11,
   43,
   64,
   82,
   87,
   91,
   94,
   98,
   109,
   126,
   130,
   142,
   159,
   183,
   195,
   202,
   214,
   218,
   232,
   247,
   269,
   275,
   297
  ]
 },
 "nbformat": 4,
 "nbformat_minor": 5
}
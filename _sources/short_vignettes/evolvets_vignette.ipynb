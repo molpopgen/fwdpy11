{
 "cells": [
  {
   "cell_type": "markdown",
   "id": "6fb882b5",
   "metadata": {},
   "source": [
    "(evolvets_vignette)=\n",
    "\n",
    "# Evolving with tree sequence recording\n",
    "\n",
    ":::{note}\n",
    "The function described in this section has many `kwargs` specifying various advanced features.\n",
    "Some of these will be the subject of later vignettes.\n",
    "\n",
    "Future releases are likely to change these arguments to be `kwarg` only.\n",
    "It is also possible that we will move them into a class that can be pickled, added to `tskit` tree files, etc..\n",
    ":::\n",
    "\n",
    "The function {func}`fwdpy11.evolvets` evolves a population with tree sequence recording.\n",
    "\n",
    "## Our model\n",
    "\n",
    "By way of example, let's use the following model:"
   ]
  },
  {
   "cell_type": "code",
   "execution_count": 1,
   "id": "bb545c8f",
   "metadata": {},
   "outputs": [],
   "source": [
    "import fwdpy11\n",
    "\n",
    "pop = fwdpy11.DiploidPopulation(500, 1.0)\n",
    "\n",
    "rng = fwdpy11.GSLrng(54321)\n",
    "\n",
    "GSSmo = fwdpy11.GSSmo(\n",
    "    [\n",
    "        fwdpy11.Optimum(when=0, optimum=0.0, VS=1.0),\n",
    "        fwdpy11.Optimum(when=10 * pop.N, optimum=1.0, VS=1.0),\n",
    "    ]\n",
    ")\n",
    "\n",
    "rho = 1000.\n",
    "\n",
    "des = fwdpy11.GaussianS(beg=0, end=1, weight=1, sd=0.1,\n",
    "    h=fwdpy11.LargeEffectExponentiallyRecessive(k=5.0))\n",
    "\n",
    "p = {\n",
    "    \"nregions\": [],\n",
    "    \"gvalue\": fwdpy11.Additive(2.0, GSSmo),\n",
    "    \"sregions\": [des],\n",
    "    \"recregions\": [fwdpy11.PoissonInterval(0, 1., rho / float(4 * pop.N))],\n",
    "    \"rates\": (0.0, 1e-3, None),\n",
    "    \"prune_selected\": False,\n",
    "    \"demography\": fwdpy11.DiscreteDemography(),\n",
    "    \"simlen\": 10 * pop.N + 200,\n",
    "}\n",
    "params = fwdpy11.ModelParams(**p)"
   ]
  },
  {
   "cell_type": "markdown",
   "id": "13161a84",
   "metadata": {},
   "source": [
    "The tables recording the genetic ancestry of the population are empty.\n",
    "For example, there are no edges:"
   ]
  },
  {
   "cell_type": "code",
   "execution_count": 2,
   "id": "a56e09b9",
   "metadata": {},
   "outputs": [
    {
     "data": {
      "text/plain": [
       "0"
      ]
     },
     "execution_count": 2,
     "metadata": {},
     "output_type": "execute_result"
    }
   ],
   "source": [
    "len(pop.tables.edges)"
   ]
  },
  {
   "cell_type": "markdown",
   "id": "35ccecd0",
   "metadata": {},
   "source": [
    "Now, we can call our function to evolve our population.\n",
    "We will apply the table simplification algorithm of {cite}`Kelleher2018-mc` every 100 generations."
   ]
  },
  {
   "cell_type": "code",
   "execution_count": 3,
   "id": "73890292",
   "metadata": {},
   "outputs": [],
   "source": [
    "fwdpy11.evolvets(rng, pop, params, simplification_interval=100) "
   ]
  },
  {
   "cell_type": "markdown",
   "id": "f359aeff",
   "metadata": {},
   "source": [
    "Now, the edge table is populated:"
   ]
  },
  {
   "cell_type": "code",
   "execution_count": 4,
   "id": "6e1dc850",
   "metadata": {},
   "outputs": [
    {
     "data": {
      "text/plain": [
       "array([(0.        , 1.        , 1000, 441),\n",
       "       (0.        , 1.        , 1000, 612),\n",
       "       (0.        , 1.        , 1001, 768),\n",
       "       (0.        , 1.        , 1001, 865),\n",
       "       (0.        , 0.57590443, 1002, 266),\n",
       "       (0.        , 0.57590443, 1002, 280),\n",
       "       (0.        , 1.        , 1003, 203),\n",
       "       (0.57590443, 1.        , 1003, 280),\n",
       "       (0.        , 1.        , 1003, 603),\n",
       "       (0.31601056, 1.        , 1004, 130)],\n",
       "      dtype=[('left', '<f8'), ('right', '<f8'), ('parent', '<i4'), ('child', '<i4')])"
      ]
     },
     "execution_count": 4,
     "metadata": {},
     "output_type": "execute_result"
    }
   ],
   "source": [
    "import numpy as np\n",
    "\n",
    "np.array(pop.tables.edges, copy=False)[:10]"
   ]
  }
 ],
 "metadata": {
  "jupytext": {
   "formats": "md:myst",
   "text_representation": {
    "extension": ".md",
    "format_name": "myst"
   }
  },
  "kernelspec": {
   "display_name": "Python 3",
   "language": "python",
   "name": "python3"
  },
  "language_info": {
   "codemirror_mode": {
    "name": "ipython",
    "version": 3
   },
   "file_extension": ".py",
   "mimetype": "text/x-python",
   "name": "python",
   "nbconvert_exporter": "python",
   "pygments_lexer": "ipython3",
   "version": "3.10.10"
  },
  "source_map": [
   11,
   31,
   61,
   66,
   68,
   73,
   75,
   79
  ]
 },
 "nbformat": 4,
 "nbformat_minor": 5
}
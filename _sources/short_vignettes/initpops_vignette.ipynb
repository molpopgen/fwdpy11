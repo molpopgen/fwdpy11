{
 "cells": [
  {
   "cell_type": "markdown",
   "id": "eb0a6d73",
   "metadata": {},
   "source": [
    "(initpops_vignette)=\n",
    "\n",
    "# Initializing a population\n",
    "\n",
    "## Initializing with no previous ancestry\n",
    "\n",
    "### A single deme\n",
    "\n",
    "To initialize a {class}`fwdpy11.DiploidPopulation` with $N = 100$ diploids and a genome length of $1000$:"
   ]
  },
  {
   "cell_type": "code",
   "execution_count": 1,
   "id": "965cc60f",
   "metadata": {},
   "outputs": [],
   "source": [
    "import fwdpy11\n",
    "\n",
    "pop = fwdpy11.DiploidPopulation(100, 1000.0)"
   ]
  },
  {
   "cell_type": "markdown",
   "id": "7ffac26c",
   "metadata": {},
   "source": [
    "We can access these fields:"
   ]
  },
  {
   "cell_type": "code",
   "execution_count": 2,
   "id": "796bea9a",
   "metadata": {},
   "outputs": [
    {
     "name": "stdout",
     "output_type": "stream",
     "text": [
      "N = 100, L = 1000.0\n"
     ]
    }
   ],
   "source": [
    "print(f\"N = {pop.N}, L = {pop.tables.genome_length}\")"
   ]
  },
  {
   "cell_type": "markdown",
   "id": "b4d2f78a",
   "metadata": {},
   "source": [
    "The genome length is a property of the {class}`fwdpy11.TableCollection` that records the population's ancestry.\n",
    "\n",
    "### Multiple initial demes\n",
    "\n",
    "To initialize $N = 100$ with two demes of sizes 25 and 50, respectively, and the same genome length as above:"
   ]
  },
  {
   "cell_type": "code",
   "execution_count": 3,
   "id": "3fb2eef8",
   "metadata": {},
   "outputs": [],
   "source": [
    "pop = fwdpy11.DiploidPopulation([25, 75], 1000.0)"
   ]
  },
  {
   "cell_type": "markdown",
   "id": "85aabb38",
   "metadata": {},
   "source": [
    "The overall $N$ is the same:"
   ]
  },
  {
   "cell_type": "code",
   "execution_count": 4,
   "id": "f6924afd",
   "metadata": {},
   "outputs": [
    {
     "name": "stdout",
     "output_type": "stream",
     "text": [
      "N = 100\n"
     ]
    }
   ],
   "source": [
    "print(f\"N = {pop.N}\")"
   ]
  },
  {
   "cell_type": "markdown",
   "id": "8433be7d",
   "metadata": {},
   "source": [
    "The deme labels are reflected in the individual meta data.\n",
    "The meta data are a list of instance of {class}`fwdpy11.DiploidMetadata`.\n",
    "That class is also a {class}`numpy.dtype`, allowing us to access the raw data efficiently as a {class}`numpy.recarray`:"
   ]
  },
  {
   "cell_type": "code",
   "execution_count": 5,
   "id": "ae02a7b7",
   "metadata": {},
   "outputs": [
    {
     "data": {
      "text/plain": [
       "(array([0, 1], dtype=int32), array([25, 75]))"
      ]
     },
     "execution_count": 5,
     "metadata": {},
     "output_type": "execute_result"
    }
   ],
   "source": [
    "import numpy as np\n",
    "md = np.array(pop.diploid_metadata, copy=False)\n",
    "np.unique(md['deme'], return_counts=True)"
   ]
  },
  {
   "cell_type": "markdown",
   "id": "1321f76f",
   "metadata": {},
   "source": [
    "The individuals are intuitively ordered:"
   ]
  },
  {
   "cell_type": "code",
   "execution_count": 6,
   "id": "a53a208f",
   "metadata": {},
   "outputs": [
    {
     "name": "stdout",
     "output_type": "stream",
     "text": [
      "0 24 25 99\n"
     ]
    }
   ],
   "source": [
    "print(np.where(md['deme'] == 0)[0].min(),\n",
    "      np.where(md['deme'] == 0)[0].max(),\n",
    "      np.where(md['deme'] == 1)[0].min(),\n",
    "      np.where(md['deme'] == 1)[0].max())"
   ]
  },
  {
   "cell_type": "markdown",
   "id": "19a84e12",
   "metadata": {},
   "source": [
    "(precapitation)=\n",
    "\n",
    "## Initializing with ancestry from msprime\n",
    "\n",
    ":::{note}\n",
    "\n",
    "The details of this section will change once `msprime` 1.0 is released.\n",
    "\n",
    ":::\n",
    "\n",
    "### A single deme"
   ]
  },
  {
   "cell_type": "code",
   "execution_count": 7,
   "id": "3f184c72",
   "metadata": {},
   "outputs": [],
   "source": [
    "import msprime\n",
    "\n",
    "N = 100\n",
    "L = 1000.0\n",
    "\n",
    "ts = msprime.sim_ancestry(N, population_size = N, sequence_length=L, recombination_rate = 1e-3, random_seed = 42)\n",
    "pop = fwdpy11.DiploidPopulation.create_from_tskit(ts)\n",
    "assert pop.N == 100\n",
    "assert pop.tables.genome_length == L"
   ]
  },
  {
   "cell_type": "markdown",
   "id": "c8d05ccc",
   "metadata": {},
   "source": [
    "Now, our tables have some data in them.\n",
    "Edges are stored as a list of {class}`fwdpy11.Edge` and nodes as a list of {class}`fwdpy11.Node`.\n",
    "As with meta data, these are {class}`numpy.dtype`s:"
   ]
  },
  {
   "cell_type": "code",
   "execution_count": 8,
   "id": "0c7005e1",
   "metadata": {},
   "outputs": [
    {
     "data": {
      "text/plain": [
       "array([(0., 1000., 200, 182), (0., 1000., 200, 191),\n",
       "       (0., 1000., 201,  59), (0., 1000., 201,  71),\n",
       "       (0., 1000., 202,   1), (0., 1000., 202, 166),\n",
       "       (0., 1000., 203,  96), (0., 1000., 203, 145),\n",
       "       (0., 1000., 204, 111), (0., 1000., 204, 199)],\n",
       "      dtype=[('left', '<f8'), ('right', '<f8'), ('parent', '<i4'), ('child', '<i4')])"
      ]
     },
     "execution_count": 8,
     "metadata": {},
     "output_type": "execute_result"
    }
   ],
   "source": [
    "np.array(pop.tables.edges, copy=False)[:10]"
   ]
  },
  {
   "cell_type": "code",
   "execution_count": 9,
   "id": "5f8ca3e1",
   "metadata": {},
   "outputs": [
    {
     "data": {
      "text/plain": [
       "array([(0, 0.), (0, 0.), (0, 0.), (0, 0.), (0, 0.), (0, 0.), (0, 0.),\n",
       "       (0, 0.), (0, 0.), (0, 0.)],\n",
       "      dtype={'names': ['deme', 'time'], 'formats': ['<i4', '<f8'], 'offsets': [0, 8], 'itemsize': 16})"
      ]
     },
     "execution_count": 9,
     "metadata": {},
     "output_type": "execute_result"
    }
   ],
   "source": [
    "np.array(pop.tables.nodes, copy=False)[:10]"
   ]
  },
  {
   "cell_type": "markdown",
   "id": "42c3e633",
   "metadata": {},
   "source": [
    "### Multiple demes\n",
    "\n",
    "We can initialize from a multi-deme `msprime` simulation as well.\n",
    "The simplest way to do this is to use [demes](https://popsim-consortium.github.io/demes-spec-docs/main/tutorial.html) to specify the model:"
   ]
  },
  {
   "cell_type": "code",
   "execution_count": 10,
   "id": "dd66c696",
   "metadata": {},
   "outputs": [],
   "source": [
    "import demes\n",
    "\n",
    "model_yaml = \"\"\"\n",
    "description:\n",
    "  Example from the fwdpy11 manual\n",
    "time_units: generations\n",
    "demes:\n",
    "  - name: deme0\n",
    "    epochs:\n",
    "      - start_size: 50\n",
    "        end_time: 0\n",
    "  - name: deme1\n",
    "    epochs:\n",
    "      - start_size: 150\n",
    "        end_time: 0\n",
    "migrations:\n",
    "  - demes: [deme0, deme1]\n",
    "    rate: 0.1    \n",
    "\"\"\"\n",
    "\n",
    "graph = demes.loads(model_yaml)\n",
    "\n",
    "demography = msprime.Demography.from_demes(graph)\n",
    "ts = msprime.sim_ancestry(\n",
    "    samples={0: 50, 1: 150},\n",
    "    demography=demography,\n",
    "    sequence_length=100,\n",
    "    recombination_rate=1e-3)\n",
    "pop = fwdpy11.DiploidPopulation.create_from_tskit(ts)\n",
    "assert pop.N == 200\n",
    "ds = pop.deme_sizes(as_dict=True)\n",
    "assert ds[0] == 50\n",
    "assert ds[1] == 150"
   ]
  },
  {
   "cell_type": "markdown",
   "id": "220e141f",
   "metadata": {},
   "source": [
    "### Importing msprime tree sequences with mutations.\n",
    "\n",
    "* See {ref}`import_mutations_from_tskit_vignette` for more information."
   ]
  }
 ],
 "metadata": {
  "jupytext": {
   "formats": "md:myst",
   "text_representation": {
    "extension": ".md",
    "format_name": "myst"
   }
  },
  "kernelspec": {
   "display_name": "Python 3",
   "language": "python",
   "name": "python3"
  },
  "language_info": {
   "codemirror_mode": {
    "name": "ipython",
    "version": 3
   },
   "file_extension": ".py",
   "mimetype": "text/x-python",
   "name": "python",
   "nbconvert_exporter": "python",
   "pygments_lexer": "ipython3",
   "version": "3.10.10"
  },
  "source_map": [
   11,
   23,
   27,
   31,
   33,
   41,
   43,
   47,
   49,
   55,
   59,
   63,
   68,
   82,
   92,
   99,
   103,
   105,
   112,
   146
  ]
 },
 "nbformat": 4,
 "nbformat_minor": 5
}
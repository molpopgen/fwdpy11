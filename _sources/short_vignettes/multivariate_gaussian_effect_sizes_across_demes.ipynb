{
 "cells": [
  {
   "cell_type": "markdown",
   "id": "ebd1020c",
   "metadata": {},
   "source": [
    "(multivariate_gaussian_effect_sizes_across_demes_vignette)=\n",
    "\n",
    "# The multivariate Gaussian distribution"
   ]
  },
  {
   "cell_type": "code",
   "execution_count": 1,
   "id": "6b6debc0",
   "metadata": {
    "tags": [
     "hide-input"
    ]
   },
   "outputs": [],
   "source": [
    "import demes\n",
    "import demesdraw\n",
    "import fwdpy11\n",
    "import numpy as np"
   ]
  },
  {
   "cell_type": "markdown",
   "id": "a5b364d2",
   "metadata": {},
   "source": [
    "We may model Gaussian effect sizes using the existing {class}`fwdpy11.MultivariateGaussianEffects`\n",
    "in conjunction with {class}`fwdpy11.mvDES`.\n",
    "\n",
    "At this time, it is probably best to look at an example. The following code models Gaussian stabilizing\n",
    "selection on a quantitative trait.  The effects sizes within each deme are themselves given by Gaussian\n",
    "distributions and there is no correlation in the effect size in the two demes.\n",
    "\n",
    "We will simulate a demographic model of migration happening into the infinite past of two equal-sized demes:"
   ]
  },
  {
   "cell_type": "code",
   "execution_count": 2,
   "id": "14d6dbf4",
   "metadata": {
    "tags": [
     "hide-input"
    ]
   },
   "outputs": [
    {
     "data": {
      "image/png": "[encoded data removed]",
      "text/plain": [
       "<Figure size 853.333x480 with 1 Axes>"
      ]
     },
     "metadata": {
      "filenames": {
       "image/png": "/home/runner/work/fwdpy11/fwdpy11/doc/_build/jupyter_execute/short_vignettes/multivariate_gaussian_effect_sizes_across_demes_3_0.png"
      }
     },
     "output_type": "display_data"
    }
   ],
   "source": [
    "yaml = \"\"\"\n",
    "description: Island model forever\n",
    "time_units: generations\n",
    "demes:\n",
    "  - name: ancestor\n",
    "    epochs:\n",
    "     - start_size: 100\n",
    "       end_time: 100\n",
    "  - name: A\n",
    "    ancestors: [ancestor]\n",
    "    epochs:\n",
    "     - start_size: 100\n",
    "  - name: B\n",
    "    ancestors: [ancestor]\n",
    "    epochs:\n",
    "     - start_size: 100\n",
    "migrations:\n",
    "  - demes: [A, B]\n",
    "    rate: 0.10\n",
    "\"\"\"\n",
    "g = demes.loads(yaml)\n",
    "model = fwdpy11.discrete_demography.from_demes(g, burnin=1)\n",
    "demesdraw.tubes(g);"
   ]
  },
  {
   "cell_type": "markdown",
   "id": "bb3bddd6",
   "metadata": {},
   "source": [
    "Let's set up a dictionary to hold the parameters of our model:"
   ]
  },
  {
   "cell_type": "code",
   "execution_count": 3,
   "id": "8538ffba",
   "metadata": {},
   "outputs": [],
   "source": [
    "pdict = {\n",
    "    \"nregions\": [],\n",
    "    \"recregions\": [],\n",
    "    \"sregions\": [\n",
    "        fwdpy11.mvDES(\n",
    "            fwdpy11.MultivariateGaussianEffects(0, 1, 1, np.identity(3)), np.zeros(3)\n",
    "        )\n",
    "    ],\n",
    "    \"rates\": (0, 2.5e-3, None),\n",
    "    \"demography\": model,\n",
    "    \"simlen\": model.metadata[\"total_simulation_length\"],\n",
    "    \"gvalue\": fwdpy11.Additive(\n",
    "        ndemes=3, scaling=2, gvalue_to_fitness=fwdpy11.GSS(optimum=0.0, VS=10.0)\n",
    "    ),\n",
    "}"
   ]
  },
  {
   "cell_type": "markdown",
   "id": "026b6469",
   "metadata": {},
   "source": [
    "Most of the above is standard.  Let's dissect the new bits:\n",
    "\n",
    "* An instance of {class}`fwdpy11.mvDES` is our only region with selected mutations.\n",
    "* This instance holds an instance of {class}`fwdpy11.MultivariateGaussianEffects`\n",
    "  that puts mutations on the interval {math}`[0, 1)` with weight 1 and an identity\n",
    "  matrix specifies the correlation in effect sizes between demes 0 and 1.  The\n",
    "  identity matrix has the value zero for all off-diagonal elements, meaning\n",
    "  no covariance in effect sizes across demes.\n",
    "* The final constructor argument specifies the mean of each marginal Gaussian\n",
    "  distribution. The means are both zero.\n",
    "* Our genetic value type accepts an `ndemes` parameter, telling it that it has\n",
    "  to look for deme-specific effect sizes.  This value must be set to the maximum\n",
    "  number of demes that will exist during a simulation.\n",
    "\n",
    "Let's evolve the model now:"
   ]
  },
  {
   "cell_type": "code",
   "execution_count": 4,
   "id": "295f043d",
   "metadata": {},
   "outputs": [],
   "source": [
    "params = fwdpy11.ModelParams(**pdict)\n",
    "# TODO: update this once we have a function to pull the sizes\n",
    "# automatically from demes-derived models:\n",
    "initial_sizes = [v for v in model.metadata[\"initial_sizes\"].values()]\n",
    "pop = fwdpy11.DiploidPopulation(initial_sizes, 1.0)\n",
    "rng = fwdpy11.GSLrng(1010)\n",
    "fwdpy11.evolvets(rng, pop, params, 10)"
   ]
  },
  {
   "cell_type": "markdown",
   "id": "385870eb",
   "metadata": {},
   "source": [
    "Let's extract the effect sizes from each deme:"
   ]
  },
  {
   "cell_type": "code",
   "execution_count": 5,
   "id": "cb442e37",
   "metadata": {},
   "outputs": [
    {
     "name": "stdout",
     "output_type": "stream",
     "text": [
      "[ 1.33393583 -1.42671084  2.37936694]\n",
      "[ 0.74651187  0.20938071 -0.7841031 ]\n",
      "[ 0.32575285  0.35069963 -0.11465527]\n",
      "[-0.24181509  1.00965354  0.68807326]\n",
      "[ 1.17357808  0.63700908 -2.40771662]\n",
      "[-0.22207726  0.23289436  0.92726017]\n",
      "[ 0.24505205  0.73996041 -0.70205993]\n",
      "[ 0.5018422   0.50924973 -0.10140017]\n",
      "[-0.22408902  0.83343064 -0.2691579 ]\n"
     ]
    }
   ],
   "source": [
    "assert len(pop.tables.mutations) > 0\n",
    "for i in pop.tables.mutations:\n",
    "    print(pop.mutations[i.key].esizes)"
   ]
  },
  {
   "cell_type": "markdown",
   "id": "a3d6e92e",
   "metadata": {},
   "source": [
    "Let's look at another example where effect sizes covary negatively across demes and raise the mutation rate a bit:"
   ]
  },
  {
   "cell_type": "code",
   "execution_count": 6,
   "id": "1bb17bd7",
   "metadata": {},
   "outputs": [
    {
     "name": "stdout",
     "output_type": "stream",
     "text": [
      "[-0.07440418  0.03966954  0.03473464]\n",
      "[ 0.07414971  0.06569778 -0.13984749]\n",
      "[ 0.07593905 -0.04116704 -0.03477201]\n",
      "[ 0.13958957 -0.22582578  0.08623621]\n",
      "[-0.02982778  0.0895709  -0.05974312]\n",
      "[-0.08529108  0.14513978 -0.05984871]\n",
      "[ 0.06425309  0.01562452 -0.07987761]\n",
      "[ 0.01898601  0.07154382 -0.09052983]\n"
     ]
    }
   ],
   "source": [
    "# Effect sizes across demes will\n",
    "# have a correlation coefficient of r=1/2\n",
    "cor_matrix = np.array([-0.5]*9).reshape(3,3)\n",
    "np.fill_diagonal(cor_matrix, np.array([1.0]*3))\n",
    "\n",
    "# Get our covariance matrix\n",
    "sd = np.array([0.1]*3)\n",
    "D = np.identity(3)\n",
    "np.fill_diagonal(D, sd)\n",
    "vcv_matrix = np.matmul(np.matmul(D, cor_matrix), D)\n",
    "pdict[\"sregions\"] = [\n",
    "    fwdpy11.mvDES(fwdpy11.MultivariateGaussianEffects(0, 1, 1, vcv_matrix), np.zeros(3))\n",
    "]\n",
    "params = fwdpy11.ModelParams(**pdict)\n",
    "# TODO: update this once we have a function to pull the sizes\n",
    "# automatically from demes-derived models:\n",
    "initial_sizes = [v for v in model.metadata[\"initial_sizes\"].values()]\n",
    "pop = fwdpy11.DiploidPopulation(initial_sizes, 1.0)\n",
    "fwdpy11.evolvets(rng, pop, params, 10)\n",
    "for i in pop.tables.mutations:\n",
    "    print(pop.mutations[i.key].esizes)"
   ]
  },
  {
   "cell_type": "markdown",
   "id": "d08faf8a",
   "metadata": {},
   "source": [
    "Now we see that the effect sizes often differ in sign between the two demes."
   ]
  }
 ],
 "metadata": {
  "jupytext": {
   "formats": "md:myst",
   "text_representation": {
    "extension": ".md",
    "format_name": "myst"
   }
  },
  "kernelspec": {
   "display_name": "Python 3",
   "language": "python",
   "name": "python3"
  },
  "language_info": {
   "codemirror_mode": {
    "name": "ipython",
    "version": 3
   },
   "file_extension": ".py",
   "mimetype": "text/x-python",
   "name": "python",
   "nbconvert_exporter": "python",
   "pygments_lexer": "ipython3",
   "version": "3.10.9"
  },
  "source_map": [
   11,
   17,
   25,
   37,
   64,
   68,
   84,
   102,
   110,
   114,
   118,
   122,
   144
  ]
 },
 "nbformat": 4,
 "nbformat_minor": 5
}
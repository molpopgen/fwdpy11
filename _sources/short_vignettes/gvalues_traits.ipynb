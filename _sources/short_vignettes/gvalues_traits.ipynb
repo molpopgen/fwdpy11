{
 "cells": [
  {
   "cell_type": "markdown",
   "id": "468ef7f5",
   "metadata": {},
   "source": [
    "(gvalues_traits_vignette)=\n",
    "\n",
    "# Genetic values - simulating phenotypes/traits.\n",
    "\n",
    ":::{note}\n",
    "The objects described here are passed to the `gvalue` parameter when initializing instances of {class}`fwdpy11.ModelParams`.\n",
    ":::\n",
    "\n",
    "The previous section discussed setting up a model where a mutation's effect size ({attr}`fwdpy11.Mutation.s`) directly affects individual fitness.\n",
    "An alternative model is one where mutations affect some abstract \"trait\" or \"phenotype\" and a separate function maps trait values to fitness.\n",
    "\n",
    "Let's consider the standard model of evolutionary quantitative genetics:\n",
    "\n",
    "* Mutations have **additive** effects on trait values\n",
    "* The fitness of a trait value is a quadratic function of its distance\n",
    "  from an \"optimum\" trait value.\n",
    "\n",
    "In `fwdpy11`, a non-mutant individual has a phenotype of `0.0`.\n",
    "Trait values are additive over the values contributed by individual genotypes\n",
    "according to the following table:\n",
    "\n",
    "| Genotype    | `AA`      | `Aa`       | `aa`                    |\n",
    "| ----------- | --------- | ---------- | ----------------------- |\n",
    "| Trait value | {math}`0` | {math}`hs` | {math}`scaling\\times s` |\n",
    "\n",
    "(If we model multiplicative effects on a trait, a non-mutant individual still has a value of `0.0`.\n",
    "The internal machinery handles this so that you don't have to worry about it.)\n",
    "\n",
    "To specify an additive effects model of a trait under Gaussian stabilizing selection with an optimum trait value of `0.0` and (inverse) strength of stabilizing selection `VS = 1.0`, we write:"
   ]
  },
  {
   "cell_type": "code",
   "execution_count": 1,
   "id": "137290da",
   "metadata": {},
   "outputs": [],
   "source": [
    "import fwdpy11\n",
    "\n",
    "gvalue = fwdpy11.Additive(\n",
    "    scaling=2.0, gvalue_to_fitness=fwdpy11.GSS(optimum=0.0, VS=1.0)\n",
    ")"
   ]
  },
  {
   "cell_type": "markdown",
   "id": "a1970497",
   "metadata": {},
   "source": [
    "Here, we are using a second parameter to initialize a \"genetic value to fitness\" map stored in an instance of {class}`fwdpy11.Additive`.\n",
    "({class}`fwdpy11.Multiplicative` also supports such maps.)\n",
    "See {class}`fwdpy11.GSS` for details.\n",
    "\n",
    "We can also add Gaussian noise to an individual's trait value:"
   ]
  },
  {
   "cell_type": "code",
   "execution_count": 2,
   "id": "ec93444a",
   "metadata": {},
   "outputs": [],
   "source": [
    "import numpy as np\n",
    "\n",
    "gvalue = fwdpy11.Additive(\n",
    "    scaling=2.0,\n",
    "    gvalue_to_fitness=fwdpy11.GSS(optimum=0.0, VS=2.0 / 3.0),\n",
    "    noise=fwdpy11.GaussianNoise(mean=0.0, sd=np.sqrt(1.0 / 3.0)),\n",
    "    )"
   ]
  },
  {
   "cell_type": "markdown",
   "id": "1640a573",
   "metadata": {},
   "source": [
    "The last example requires some explanation:\n",
    "\n",
    "* We want `VS = 1.0`.  We can decompose `VS = VW + VE`, where `VW` and `VE` are the additive contributions of genetic and environmental effects.\n",
    "* Here, the environmental effect is a Gaussian with mean zero and variance `1/3`.\n",
    "  The class is parameterized with the standard deviation, however, so we need to pass on the square root.\n",
    "* We then set `VS = 1 - 1/3 = 2/3` when initializing {class}`fwdpy11.GSS`.\n",
    "\n",
    "Yes, this is a nomenclature issue!\n",
    "The `VS` argument to {class}`fwdpy11.GSS` really should be called `VW` and we'll fix that in a future version and hopefully not break people's code.\n",
    "\n",
    "In general, there's a good bit of subtlety to properly modeling quantitative traits.\n",
    "The machinery described here was used in {cite}`Thornton2019-nu`. {cite}`Burger2000-ul` is an excellent technical reference on the topic.\n",
    "{cite}`Walsh2018-ux` also thoroughly covers a lot of relevant material.\n",
    "\n",
    ":::{note}\n",
    "\n",
    "Under the hood, the `GSS` and `GSSmo` classes aren't that different.\n",
    "Their multivariate analogs are rather similar, too.\n",
    "Thus, we envision a future with one single `fwdpy11.GaussianStabilizingSelection` class to handle all cases.\n",
    "The types discussed here would remain as simple Python wrappers so that we don't break existing simulations.\n",
    "\n",
    ":::\n",
    "\n",
    "For an example of another approach to modeling phenotypes often attributed to {cite}`Eyre-Walker2010-rs`, see {ref}`here <eyre-walker>`.\n",
    "\n",
    ":::{todo}\n",
    "Write (and refer to) an advanced section on pleiotropic models.\n",
    ":::\n",
    "\n",
    "## Changing the optimum phenotype during a simulation\n",
    "\n",
    "### A sudden optimum shift\n",
    "\n",
    "The previous example set up a model where the optimum is stable for the entire simulation.\n",
    "We can parameterize a shifting optimum using {class}`fwdpy11.GSSmo`.\n",
    "For example, to shift the optimum from `0.0` to `1.0` at generation `100`:"
   ]
  },
  {
   "cell_type": "code",
   "execution_count": 3,
   "id": "c2c61f0d",
   "metadata": {},
   "outputs": [],
   "source": [
    "moving_optimum = fwdpy11.GSSmo(\n",
    "    [\n",
    "        fwdpy11.Optimum(when=0, optimum=0.0, VS=1.0),\n",
    "        fwdpy11.Optimum(when=100, optimum=1.0, VS=1.0),\n",
    "    ]\n",
    ")\n",
    "\n",
    "gvalue = fwdpy11.Additive(scaling=2.0, gvalue_to_fitness=moving_optimum)"
   ]
  },
  {
   "cell_type": "markdown",
   "id": "b04dc31a",
   "metadata": {},
   "source": [
    "### Randomly-moving optimum\n",
    "\n",
    "Since we are working in `Python`, we can take advantage of existing libraries to implement interesting models.\n",
    "Let's consider the following model of a randomly moving optimum:\n",
    "\n",
    "* There is a 1% chance each generation that the optimum shifts.\n",
    "* When a shift happens, a normal deviate with mean `0.0` and variance `0.1` is added to the current optimum.\n",
    "* The simulation will end at generation `1,000`.\n",
    "\n",
    "Let's code it up:"
   ]
  },
  {
   "cell_type": "code",
   "execution_count": 4,
   "id": "11a8d92a",
   "metadata": {},
   "outputs": [
    {
     "data": {
      "text/plain": [
       "fwdpy11.GSSmo(optima=[fwdpy11.Optimum(optimum=0.0, VS=10.0, when=0), fwdpy11.Optimum(optimum=0.14621925773046504, VS=10.0, when=120), fwdpy11.Optimum(optimum=0.43133329773747653, VS=10.0, when=250), fwdpy11.Optimum(optimum=0.42015093754764493, VS=10.0, when=552), fwdpy11.Optimum(optimum=0.3570913002785381, VS=10.0, when=557), fwdpy11.Optimum(optimum=-0.0949791266685498, VS=10.0, when=568), fwdpy11.Optimum(optimum=-0.08281396117205914, VS=10.0, when=704), fwdpy11.Optimum(optimum=-0.4194925319000761, VS=10.0, when=726), fwdpy11.Optimum(optimum=-0.09246489411724829, VS=10.0, when=875), fwdpy11.Optimum(optimum=-0.37135303951111776, VS=10.0, when=876), fwdpy11.Optimum(optimum=0.024965855928271607, VS=10.0, when=898)])"
      ]
     },
     "execution_count": 4,
     "metadata": {},
     "output_type": "execute_result"
    }
   ],
   "source": [
    "optima = [fwdpy11.Optimum(when=0, optimum=0.0, VS=10.0)]\n",
    "\n",
    "last_time = 0\n",
    "last_optimum = 0.0\n",
    "\n",
    "np.random.seed(666)\n",
    "\n",
    "while last_time < 1000:\n",
    "    last_time += int(np.random.geometric(0.01, 1)[0])\n",
    "    last_optimum += np.random.normal(loc=0.0, scale=np.sqrt(0.1), size=1)[0]\n",
    "    if last_time < 1000:\n",
    "        optima.append(fwdpy11.Optimum(when=last_time, optimum=last_optimum, VS=10.0))\n",
    "\n",
    "random_moving_optimum = fwdpy11.GSSmo(optima)\n",
    "random_moving_optimum"
   ]
  },
  {
   "cell_type": "markdown",
   "id": "3bf9289e",
   "metadata": {},
   "source": [
    ":::{note}\n",
    "\n",
    "Note the cast to `int` when updating the time.\n",
    "{class}`fwdpy11.Optimum` is very picky about its input.\n",
    "It requires `int` for `when` and will raise an exception if the {attr}`numpy.int64` from {func}`numpy.random.geometric` gets passed in.\n",
    "\n",
    ":::"
   ]
  }
 ],
 "metadata": {
  "jupytext": {
   "formats": "md:myst",
   "text_representation": {
    "extension": ".md",
    "format_name": "myst"
   }
  },
  "kernelspec": {
   "display_name": "Python 3",
   "language": "python",
   "name": "python3"
  },
  "language_info": {
   "codemirror_mode": {
    "name": "ipython",
    "version": 3
   },
   "file_extension": ".py",
   "mimetype": "text/x-python",
   "name": "python",
   "nbconvert_exporter": "python",
   "pygments_lexer": "ipython3",
   "version": "3.10.9"
  },
  "source_map": [
   11,
   43,
   49,
   57,
   65,
   104,
   113,
   126,
   142
  ]
 },
 "nbformat": 4,
 "nbformat_minor": 5
}
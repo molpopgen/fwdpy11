{
 "cells": [
  {
   "cell_type": "markdown",
   "id": "cf310fb6",
   "metadata": {},
   "source": [
    "(tracking_mutation_fates)=\n",
    "\n",
    "# Tracking user-specified new mutations"
   ]
  },
  {
   "cell_type": "code",
   "execution_count": 1,
   "id": "1507debc",
   "metadata": {
    "tags": [
     "hide-input"
    ]
   },
   "outputs": [],
   "source": [
    "import fwdpy11\n",
    "import numpy as np\n",
    "import msprime"
   ]
  },
  {
   "cell_type": "code",
   "execution_count": 2,
   "id": "38c0475a",
   "metadata": {},
   "outputs": [],
   "source": [
    "import fwdpy11.conditional_models"
   ]
  },
  {
   "cell_type": "code",
   "execution_count": 3,
   "id": "39da91c5",
   "metadata": {
    "tags": [
     "hide-input"
    ]
   },
   "outputs": [],
   "source": [
    "def setup(prune_selected=False):\n",
    "    # Dropping mutations requires existing\n",
    "    # ancestry, which we can get either\n",
    "    # from a burn-in or from msprime.\n",
    "    initial_ts = msprime.sim_ancestry(\n",
    "        samples=500,\n",
    "        population_size=500,\n",
    "        recombination_rate=1e-1,\n",
    "        random_seed=43215,\n",
    "        sequence_length=1.0,\n",
    "    )\n",
    "\n",
    "    # Build the pop from msprime output\n",
    "    pop = fwdpy11.DiploidPopulation.create_from_tskit(initial_ts)\n",
    "\n",
    "    # Set up basic model parameters\n",
    "    pdict = {\n",
    "        \"recregions\": [fwdpy11.PoissonInterval(0, 1, 1e-1)],\n",
    "        # Here, 2 means that fitness is multiplicative\n",
    "        # over 1, 1+hs, 1+2s.\n",
    "        \"gvalue\": fwdpy11.Multiplicative(2.0),\n",
    "        \"rates\": (0, 0, None),\n",
    "        \"prune_selected\": False,\n",
    "        \"simlen\": 200,\n",
    "    }\n",
    "    params = fwdpy11.ModelParams(**pdict)\n",
    "\n",
    "    return pop, params"
   ]
  },
  {
   "cell_type": "markdown",
   "id": "bef6219e",
   "metadata": {},
   "source": [
    "## Tracking a mutation for a specified number of generations"
   ]
  },
  {
   "cell_type": "code",
   "execution_count": 4,
   "id": "b9ccb23c",
   "metadata": {},
   "outputs": [],
   "source": [
    "ALPHA = -10.0"
   ]
  },
  {
   "cell_type": "code",
   "execution_count": 5,
   "id": "27972fdb",
   "metadata": {},
   "outputs": [],
   "source": [
    "rng = fwdpy11.GSLrng(12345)\n",
    "pop, params = setup()"
   ]
  },
  {
   "cell_type": "code",
   "execution_count": 6,
   "id": "1de00812",
   "metadata": {},
   "outputs": [],
   "source": [
    "mutation_data = fwdpy11.conditional_models.NewMutationParameters(\n",
    "    frequency=fwdpy11.conditional_models.AlleleCount(1),\n",
    "    data=fwdpy11.NewMutationData(effect_size=ALPHA / 2 / pop.N, dominance=1),\n",
    "    position=fwdpy11.conditional_models.PositionRange(left=0.49, right=0.51),\n",
    ")"
   ]
  },
  {
   "cell_type": "code",
   "execution_count": 7,
   "id": "a9118252",
   "metadata": {},
   "outputs": [],
   "source": [
    "output = fwdpy11.conditional_models.track_added_mutation(\n",
    "    rng, \n",
    "    pop,\n",
    "    params,\n",
    "    mutation_data,\n",
    "    when=3,\n",
    "    until=7,\n",
    ")"
   ]
  },
  {
   "cell_type": "markdown",
   "id": "90ad9466",
   "metadata": {},
   "source": [
    "When tracking deleterious variants, it is unlikely that they will be around at the end of the simulation:"
   ]
  },
  {
   "cell_type": "code",
   "execution_count": 8,
   "id": "4249f80c",
   "metadata": {},
   "outputs": [
    {
     "name": "stdout",
     "output_type": "stream",
     "text": [
      "mutation 0 is no longer in the population!\n"
     ]
    }
   ],
   "source": [
    "try:\n",
    "    print(output.pop.mutations[output.mutation_index])\n",
    "except IndexError as _:\n",
    "    print(f\"mutation {output.mutation_index} is no longer in the population!\") "
   ]
  },
  {
   "cell_type": "markdown",
   "id": "63ddaf89",
   "metadata": {},
   "source": [
    "### Recording all generations of the mutation's sojourn\n",
    "\n",
    "So, we've lost all the information about this variant.\n",
    "That's not so useful.\n",
    "Let's record all generations of its existence as ancient samples:"
   ]
  },
  {
   "cell_type": "code",
   "execution_count": 9,
   "id": "f9c210f6",
   "metadata": {},
   "outputs": [],
   "source": [
    "rng = fwdpy11.GSLrng(12345)"
   ]
  },
  {
   "cell_type": "code",
   "execution_count": 10,
   "id": "263b203f",
   "metadata": {},
   "outputs": [],
   "source": [
    "output = fwdpy11.conditional_models.track_added_mutation(\n",
    "    rng, \n",
    "    pop,\n",
    "    params,\n",
    "    mutation_data,\n",
    "    when=3,\n",
    "    until=7,\n",
    "    sampling_policy=fwdpy11.conditional_models.AncientSamplePolicy.DURATION,\n",
    ")"
   ]
  },
  {
   "cell_type": "markdown",
   "id": "d91d7603",
   "metadata": {},
   "source": [
    "Now, our mutation is present in nodes in our tree sequence.\n",
    "Let's try to print it again:"
   ]
  },
  {
   "cell_type": "code",
   "execution_count": 11,
   "id": "67968093",
   "metadata": {},
   "outputs": [
    {
     "name": "stdout",
     "output_type": "stream",
     "text": [
      "Mutation[position:0.493168, effect size:-0.010000, dominance:1.000000, origin time:3, label:0]\n"
     ]
    }
   ],
   "source": [
    "try:\n",
    "    print(output.pop.mutations[output.mutation_index])\n",
    "except IndexError as _:\n",
    "    output.mutation_index(f\"mutation {output.mutation_index} is no longer in the population!\") "
   ]
  },
  {
   "cell_type": "markdown",
   "id": "daa4b280",
   "metadata": {},
   "source": [
    "Let's track this variant's frequency at each time point:"
   ]
  },
  {
   "cell_type": "code",
   "execution_count": 12,
   "id": "6eefa4b3",
   "metadata": {},
   "outputs": [
    {
     "name": "stdout",
     "output_type": "stream",
     "text": [
      "3.0 1000\n",
      "3.0 1 0\n",
      "4.0 1000\n",
      "4.0 1 0\n",
      "5.0 1000\n",
      "5.0 1 0\n"
     ]
    },
    {
     "name": "stdout",
     "output_type": "stream",
     "text": [
      "6.0 1000\n",
      "6.0 2 0\n",
      "7.0 1000\n",
      "7.0 2 0\n"
     ]
    }
   ],
   "source": [
    "for time, nodes, _ in output.pop.sample_timepoints(include_alive=False):\n",
    "    print(time, len(nodes))\n",
    "    tree_itr = fwdpy11.TreeIterator(output.pop.tables, nodes)\n",
    "    for tree in tree_itr:\n",
    "        for mutation in tree.mutations():\n",
    "            print(time, tree.leaf_counts(mutation.node), mutation.key)"
   ]
  }
 ],
 "metadata": {
  "jupytext": {
   "formats": "md:myst",
   "text_representation": {
    "extension": ".md",
    "format_name": "myst"
   }
  },
  "kernelspec": {
   "display_name": "Python 3",
   "language": "python",
   "name": "python3"
  },
  "language_info": {
   "codemirror_mode": {
    "name": "ipython",
    "version": 3
   },
   "file_extension": ".py",
   "mimetype": "text/x-python",
   "name": "python",
   "nbconvert_exporter": "python",
   "pygments_lexer": "ipython3",
   "version": "3.8.14"
  },
  "source_map": [
   11,
   17,
   27,
   32,
   65,
   69,
   74,
   79,
   88,
   97,
   101,
   106,
   114,
   118,
   128,
   133,
   138,
   142
  ]
 },
 "nbformat": 4,
 "nbformat_minor": 5
}
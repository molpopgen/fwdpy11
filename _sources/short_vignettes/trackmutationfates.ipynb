{
 "cells": [
  {
   "cell_type": "markdown",
   "id": "3fe1384b",
   "metadata": {},
   "source": [
    "(tracking_mutation_fates)=\n",
    "\n",
    "# Tracking user-specified new mutations"
   ]
  },
  {
   "cell_type": "code",
   "execution_count": 1,
   "id": "83499ace",
   "metadata": {
    "tags": [
     "hide-input"
    ]
   },
   "outputs": [],
   "source": [
    "import fwdpy11\n",
    "import numpy as np\n",
    "import msprime"
   ]
  },
  {
   "cell_type": "code",
   "execution_count": 2,
   "id": "b47892c3",
   "metadata": {},
   "outputs": [],
   "source": [
    "import fwdpy11.conditional_models"
   ]
  },
  {
   "cell_type": "code",
   "execution_count": 3,
   "id": "f758a466",
   "metadata": {
    "tags": [
     "hide-input"
    ]
   },
   "outputs": [],
   "source": [
    "def setup(prune_selected=False):\n",
    "    # Dropping mutations requires existing\n",
    "    # ancestry, which we can get either\n",
    "    # from a burn-in or from msprime.\n",
    "    initial_ts = msprime.sim_ancestry(\n",
    "        samples=500,\n",
    "        population_size=500,\n",
    "        recombination_rate=1e-1,\n",
    "        random_seed=43215,\n",
    "        sequence_length=1.0,\n",
    "    )\n",
    "\n",
    "    # Build the pop from msprime output\n",
    "    pop = fwdpy11.DiploidPopulation.create_from_tskit(initial_ts)\n",
    "\n",
    "    # Set up basic model parameters\n",
    "    pdict = {\n",
    "        \"recregions\": [fwdpy11.PoissonInterval(0, 1, 1e-1)],\n",
    "        # Here, 2 means that fitness is multiplicative\n",
    "        # over 1, 1+hs, 1+2s.\n",
    "        \"gvalue\": fwdpy11.Multiplicative(2.0),\n",
    "        \"rates\": (0, 0, None),\n",
    "        \"prune_selected\": False,\n",
    "        \"simlen\": 200,\n",
    "    }\n",
    "    params = fwdpy11.ModelParams(**pdict)\n",
    "\n",
    "    return pop, params"
   ]
  },
  {
   "cell_type": "markdown",
   "id": "bbf9fae6",
   "metadata": {},
   "source": [
    "## Tracking a mutation for a specified number of generations"
   ]
  },
  {
   "cell_type": "code",
   "execution_count": 4,
   "id": "4ba2bd21",
   "metadata": {},
   "outputs": [],
   "source": [
    "ALPHA = -10.0"
   ]
  },
  {
   "cell_type": "code",
   "execution_count": 5,
   "id": "293700e8",
   "metadata": {},
   "outputs": [],
   "source": [
    "rng = fwdpy11.GSLrng(12345)\n",
    "pop, params = setup()"
   ]
  },
  {
   "cell_type": "code",
   "execution_count": 6,
   "id": "8b26410e",
   "metadata": {},
   "outputs": [],
   "source": [
    "mutation_data = fwdpy11.conditional_models.NewMutationParameters(\n",
    "    frequency=fwdpy11.conditional_models.AlleleCount(1),\n",
    "    data=fwdpy11.NewMutationData(effect_size=ALPHA / 2 / pop.N, dominance=1),\n",
    "    position=fwdpy11.conditional_models.PositionRange(left=0.49, right=0.51),\n",
    ")"
   ]
  },
  {
   "cell_type": "code",
   "execution_count": 7,
   "id": "9c7f21ae",
   "metadata": {},
   "outputs": [],
   "source": [
    "output = fwdpy11.conditional_models.track_added_mutation(\n",
    "    rng, \n",
    "    pop,\n",
    "    params,\n",
    "    mutation_data,\n",
    "    when=3,\n",
    "    until=7,\n",
    ")"
   ]
  },
  {
   "cell_type": "markdown",
   "id": "bd127b66",
   "metadata": {},
   "source": [
    "When tracking deleterious variants, it is unlikely that they will be around at the end of the simulation:"
   ]
  },
  {
   "cell_type": "code",
   "execution_count": 8,
   "id": "e51ece8e",
   "metadata": {},
   "outputs": [
    {
     "name": "stdout",
     "output_type": "stream",
     "text": [
      "mutation 0 is no longer in the population!\n"
     ]
    }
   ],
   "source": [
    "try:\n",
    "    print(output.pop.mutations[output.mutation_index])\n",
    "except IndexError as _:\n",
    "    print(f\"mutation {output.mutation_index} is no longer in the population!\") "
   ]
  },
  {
   "cell_type": "markdown",
   "id": "cfba27a1",
   "metadata": {},
   "source": [
    "### Recording all generations of the mutation's sojourn\n",
    "\n",
    "So, we've lost all the information about this variant.\n",
    "That's not so useful.\n",
    "Let's record all generations of its existence as ancient samples:"
   ]
  },
  {
   "cell_type": "code",
   "execution_count": 9,
   "id": "911d60f4",
   "metadata": {},
   "outputs": [],
   "source": [
    "rng = fwdpy11.GSLrng(12345)"
   ]
  },
  {
   "cell_type": "code",
   "execution_count": 10,
   "id": "cebf883b",
   "metadata": {},
   "outputs": [],
   "source": [
    "output = fwdpy11.conditional_models.track_added_mutation(\n",
    "    rng, \n",
    "    pop,\n",
    "    params,\n",
    "    mutation_data,\n",
    "    when=3,\n",
    "    until=7,\n",
    "    sampling_policy=fwdpy11.conditional_models.AncientSamplePolicy.DURATION,\n",
    ")"
   ]
  },
  {
   "cell_type": "markdown",
   "id": "c608ffc7",
   "metadata": {},
   "source": [
    "Now, our mutation is present in nodes in our tree sequence.\n",
    "Let's try to print it again:"
   ]
  },
  {
   "cell_type": "code",
   "execution_count": 11,
   "id": "fd54b0ea",
   "metadata": {},
   "outputs": [
    {
     "name": "stdout",
     "output_type": "stream",
     "text": [
      "Mutation[position:0.493168, effect size:-0.010000, dominance:1.000000, origin time:3, label:0]\n"
     ]
    }
   ],
   "source": [
    "try:\n",
    "    print(output.pop.mutations[output.mutation_index])\n",
    "except IndexError as _:\n",
    "    output.mutation_index(f\"mutation {output.mutation_index} is no longer in the population!\") "
   ]
  },
  {
   "cell_type": "markdown",
   "id": "30e05341",
   "metadata": {},
   "source": [
    "Let's track this variant's frequency at each time point:"
   ]
  },
  {
   "cell_type": "code",
   "execution_count": 12,
   "id": "f2ab5e08",
   "metadata": {},
   "outputs": [
    {
     "name": "stdout",
     "output_type": "stream",
     "text": [
      "3.0 1000\n",
      "3.0 1 0\n",
      "4.0 1000\n",
      "4.0 1 0\n",
      "5.0 1000\n",
      "5.0 1 0\n"
     ]
    },
    {
     "name": "stdout",
     "output_type": "stream",
     "text": [
      "6.0 1000\n",
      "6.0 2 0\n",
      "7.0 1000\n",
      "7.0 2 0\n"
     ]
    }
   ],
   "source": [
    "for time, nodes, _ in output.pop.sample_timepoints(include_alive=False):\n",
    "    print(time, len(nodes))\n",
    "    tree_itr = fwdpy11.TreeIterator(output.pop.tables, nodes)\n",
    "    for tree in tree_itr:\n",
    "        for mutation in tree.mutations():\n",
    "            print(time, tree.leaf_counts(mutation.node), mutation.key)"
   ]
  }
 ],
 "metadata": {
  "jupytext": {
   "formats": "md:myst",
   "text_representation": {
    "extension": ".md",
    "format_name": "myst"
   }
  },
  "kernelspec": {
   "display_name": "Python 3",
   "language": "python",
   "name": "python3"
  },
  "language_info": {
   "codemirror_mode": {
    "name": "ipython",
    "version": 3
   },
   "file_extension": ".py",
   "mimetype": "text/x-python",
   "name": "python",
   "nbconvert_exporter": "python",
   "pygments_lexer": "ipython3",
   "version": "3.8.14"
  },
  "source_map": [
   11,
   17,
   27,
   32,
   65,
   69,
   74,
   79,
   88,
   97,
   101,
   106,
   114,
   118,
   128,
   133,
   138,
   142
  ]
 },
 "nbformat": 4,
 "nbformat_minor": 5
}
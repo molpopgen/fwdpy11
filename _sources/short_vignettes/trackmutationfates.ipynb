{
 "cells": [
  {
   "cell_type": "markdown",
   "id": "084d811e",
   "metadata": {},
   "source": [
    "(tracking_mutation_fates)=\n",
    "\n",
    "# Tracking user-specified new mutations"
   ]
  },
  {
   "cell_type": "code",
   "execution_count": 1,
   "id": "cd4a5131",
   "metadata": {
    "tags": [
     "hide-input"
    ]
   },
   "outputs": [],
   "source": [
    "import fwdpy11\n",
    "import numpy as np\n",
    "import msprime"
   ]
  },
  {
   "cell_type": "code",
   "execution_count": 2,
   "id": "4182718a",
   "metadata": {},
   "outputs": [],
   "source": [
    "import fwdpy11.conditional_models"
   ]
  },
  {
   "cell_type": "code",
   "execution_count": 3,
   "id": "0735d5d3",
   "metadata": {
    "tags": [
     "hide-input"
    ]
   },
   "outputs": [],
   "source": [
    "def setup(prune_selected=False):\n",
    "    # Dropping mutations requires existing\n",
    "    # ancestry, which we can get either\n",
    "    # from a burn-in or from msprime.\n",
    "    initial_ts = msprime.sim_ancestry(\n",
    "        samples=500,\n",
    "        population_size=500,\n",
    "        recombination_rate=1e-1,\n",
    "        random_seed=43215,\n",
    "        sequence_length=1.0,\n",
    "    )\n",
    "\n",
    "    # Build the pop from msprime output\n",
    "    pop = fwdpy11.DiploidPopulation.create_from_tskit(initial_ts)\n",
    "\n",
    "    # Set up basic model parameters\n",
    "    pdict = {\n",
    "        \"recregions\": [fwdpy11.PoissonInterval(0, 1, 1e-1)],\n",
    "        # Here, 2 means that fitness is multiplicative\n",
    "        # over 1, 1+hs, 1+2s.\n",
    "        \"gvalue\": fwdpy11.Multiplicative(2.0),\n",
    "        \"rates\": (0, 0, None),\n",
    "        \"prune_selected\": False,\n",
    "        \"simlen\": 200,\n",
    "    }\n",
    "    params = fwdpy11.ModelParams(**pdict)\n",
    "\n",
    "    return pop, params"
   ]
  },
  {
   "cell_type": "markdown",
   "id": "0f77b888",
   "metadata": {},
   "source": [
    "## Tracking a mutation for a specified number of generations"
   ]
  },
  {
   "cell_type": "code",
   "execution_count": 4,
   "id": "ca295dea",
   "metadata": {},
   "outputs": [],
   "source": [
    "ALPHA = -10.0"
   ]
  },
  {
   "cell_type": "code",
   "execution_count": 5,
   "id": "9ef2759b",
   "metadata": {},
   "outputs": [],
   "source": [
    "rng = fwdpy11.GSLrng(12345)\n",
    "pop, params = setup()"
   ]
  },
  {
   "cell_type": "code",
   "execution_count": 6,
   "id": "3ff29191",
   "metadata": {},
   "outputs": [],
   "source": [
    "mutation_data = fwdpy11.conditional_models.NewMutationParameters(\n",
    "    frequency=fwdpy11.conditional_models.AlleleCount(1),\n",
    "    data=fwdpy11.NewMutationData(effect_size=ALPHA / 2 / pop.N, dominance=1),\n",
    "    position=fwdpy11.conditional_models.PositionRange(left=0.49, right=0.51),\n",
    ")"
   ]
  },
  {
   "cell_type": "code",
   "execution_count": 7,
   "id": "7fe162b2",
   "metadata": {},
   "outputs": [],
   "source": [
    "output = fwdpy11.conditional_models.track_added_mutation(\n",
    "    rng, \n",
    "    pop,\n",
    "    params,\n",
    "    mutation_data,\n",
    "    when=3,\n",
    "    until=7,\n",
    ")"
   ]
  },
  {
   "cell_type": "markdown",
   "id": "3a49674a",
   "metadata": {},
   "source": [
    "When tracking deleterious variants, it is unlikely that they will be around at the end of the simulation:"
   ]
  },
  {
   "cell_type": "code",
   "execution_count": 8,
   "id": "4927d076",
   "metadata": {},
   "outputs": [
    {
     "name": "stdout",
     "output_type": "stream",
     "text": [
      "mutation 0 is no longer in the population!\n"
     ]
    }
   ],
   "source": [
    "try:\n",
    "    print(output.pop.mutations[output.mutation_index])\n",
    "except IndexError as _:\n",
    "    print(f\"mutation {output.mutation_index} is no longer in the population!\") "
   ]
  },
  {
   "cell_type": "markdown",
   "id": "a271de40",
   "metadata": {},
   "source": [
    "### Recording all generations of the mutation's sojourn\n",
    "\n",
    "So, we've lost all the information about this variant.\n",
    "That's not so useful.\n",
    "Let's record all generations of its existence as ancient samples:"
   ]
  },
  {
   "cell_type": "code",
   "execution_count": 9,
   "id": "a27f5e3e",
   "metadata": {},
   "outputs": [],
   "source": [
    "rng = fwdpy11.GSLrng(12345)"
   ]
  },
  {
   "cell_type": "code",
   "execution_count": 10,
   "id": "91a25b56",
   "metadata": {},
   "outputs": [
    {
     "ename": "RuntimeError",
     "evalue": "mutation table is inconsistent with count vectors: evolvets.cc, line 99",
     "output_type": "error",
     "traceback": [
      "\u001b[0;31m---------------------------------------------------------------------------\u001b[0m",
      "\u001b[0;31mRuntimeError\u001b[0m                              Traceback (most recent call last)",
      "Cell \u001b[0;32mIn[10], line 1\u001b[0m\n\u001b[0;32m----> 1\u001b[0m output \u001b[38;5;241m=\u001b[39m \u001b[43mfwdpy11\u001b[49m\u001b[38;5;241;43m.\u001b[39;49m\u001b[43mconditional_models\u001b[49m\u001b[38;5;241;43m.\u001b[39;49m\u001b[43mtrack_added_mutation\u001b[49m\u001b[43m(\u001b[49m\n\u001b[1;32m      2\u001b[0m \u001b[43m    \u001b[49m\u001b[43mrng\u001b[49m\u001b[43m,\u001b[49m\u001b[43m \u001b[49m\n\u001b[1;32m      3\u001b[0m \u001b[43m    \u001b[49m\u001b[43mpop\u001b[49m\u001b[43m,\u001b[49m\n\u001b[1;32m      4\u001b[0m \u001b[43m    \u001b[49m\u001b[43mparams\u001b[49m\u001b[43m,\u001b[49m\n\u001b[1;32m      5\u001b[0m \u001b[43m    \u001b[49m\u001b[43mmutation_data\u001b[49m\u001b[43m,\u001b[49m\n\u001b[1;32m      6\u001b[0m \u001b[43m    \u001b[49m\u001b[43mwhen\u001b[49m\u001b[38;5;241;43m=\u001b[39;49m\u001b[38;5;241;43m3\u001b[39;49m\u001b[43m,\u001b[49m\n\u001b[1;32m      7\u001b[0m \u001b[43m    \u001b[49m\u001b[43muntil\u001b[49m\u001b[38;5;241;43m=\u001b[39;49m\u001b[38;5;241;43m7\u001b[39;49m\u001b[43m,\u001b[49m\n\u001b[1;32m      8\u001b[0m \u001b[43m    \u001b[49m\u001b[43msampling_policy\u001b[49m\u001b[38;5;241;43m=\u001b[39;49m\u001b[43mfwdpy11\u001b[49m\u001b[38;5;241;43m.\u001b[39;49m\u001b[43mconditional_models\u001b[49m\u001b[38;5;241;43m.\u001b[39;49m\u001b[43mAncientSamplePolicy\u001b[49m\u001b[38;5;241;43m.\u001b[39;49m\u001b[43mDURATION\u001b[49m\u001b[43m,\u001b[49m\n\u001b[1;32m      9\u001b[0m \u001b[43m)\u001b[49m\n",
      "File \u001b[0;32m~/work/fwdpy11/fwdpy11/fwdpy11/conditional_models/_track_added_mutation.py:398\u001b[0m, in \u001b[0;36m_track_added_mutation\u001b[0;34m(rng, pop, params, mutation_parameters, when, until, max_attempts, sampling_policy, stopping_condition, evolvets_options, return_when_stopping_condition_met)\u001b[0m\n\u001b[1;32m    396\u001b[0m \u001b[38;5;66;03m# evolve\u001b[39;00m\n\u001b[1;32m    397\u001b[0m \u001b[38;5;28;01massert\u001b[39;00m evolvets_options_copy \u001b[38;5;129;01mis\u001b[39;00m \u001b[38;5;129;01mnot\u001b[39;00m \u001b[38;5;28;01mNone\u001b[39;00m\n\u001b[0;32m--> 398\u001b[0m \u001b[43mfwdpy11\u001b[49m\u001b[38;5;241;43m.\u001b[39;49m\u001b[43mevolvets\u001b[49m\u001b[43m(\u001b[49m\n\u001b[1;32m    399\u001b[0m \u001b[43m    \u001b[49m\u001b[43mrng\u001b[49m\u001b[43m,\u001b[49m\n\u001b[1;32m    400\u001b[0m \u001b[43m    \u001b[49m\u001b[43mpcopy_loop\u001b[49m\u001b[43m,\u001b[49m\n\u001b[1;32m    401\u001b[0m \u001b[43m    \u001b[49m\u001b[43mlocal_params_copy\u001b[49m\u001b[43m,\u001b[49m\n\u001b[1;32m    402\u001b[0m \u001b[43m    \u001b[49m\u001b[43mrecorder\u001b[49m\u001b[38;5;241;43m=\u001b[39;49m\u001b[43mrecorder\u001b[49m\u001b[43m,\u001b[49m\n\u001b[1;32m    403\u001b[0m \u001b[43m    \u001b[49m\u001b[43mstopping_criterion\u001b[49m\u001b[38;5;241;43m=\u001b[39;49m\u001b[43mrecorder\u001b[49m\u001b[38;5;241;43m.\u001b[39;49m\u001b[43mmonitor\u001b[49m\u001b[43m,\u001b[49m\n\u001b[1;32m    404\u001b[0m \u001b[43m    \u001b[49m\u001b[38;5;241;43m*\u001b[39;49m\u001b[38;5;241;43m*\u001b[39;49m\u001b[43mevolvets_options_copy\u001b[49m\u001b[38;5;241;43m.\u001b[39;49m\u001b[43masdict\u001b[49m\u001b[43m(\u001b[49m\u001b[43m)\u001b[49m\u001b[43m,\u001b[49m\u001b[43m \u001b[49m\u001b[38;5;66;43;03m# type: ignore\u001b[39;49;00m\n\u001b[1;32m    405\u001b[0m \u001b[43m    \u001b[49m\u001b[38;5;241;43m*\u001b[39;49m\u001b[38;5;241;43m*\u001b[39;49m\u001b[43minternal_options\u001b[49m\u001b[38;5;241;43m.\u001b[39;49m\u001b[43masdict\u001b[49m\u001b[43m(\u001b[49m\u001b[43m)\u001b[49m\u001b[43m,\u001b[49m\u001b[43m \u001b[49m\u001b[38;5;66;43;03m# type: ignore\u001b[39;49;00m\n\u001b[1;32m    406\u001b[0m \u001b[43m\u001b[49m\u001b[43m)\u001b[49m\n\u001b[1;32m    408\u001b[0m \u001b[38;5;66;03m# The sim ended, so\u001b[39;00m\n\u001b[1;32m    409\u001b[0m \u001b[38;5;66;03m# check if condition was satisfied or not\u001b[39;00m\n\u001b[1;32m    410\u001b[0m \u001b[38;5;28;01mif\u001b[39;00m recorder\u001b[38;5;241m.\u001b[39mmonitor\u001b[38;5;241m.\u001b[39mstatus\u001b[38;5;241m.\u001b[39mcondition_met \u001b[38;5;129;01mis\u001b[39;00m \u001b[38;5;28;01mTrue\u001b[39;00m:\n",
      "File \u001b[0;32m~/work/fwdpy11/fwdpy11/fwdpy11/_evolvets.py:267\u001b[0m, in \u001b[0;36mevolvets\u001b[0;34m(rng, pop, params, simplification_interval, recorder, post_simplification_recorder, suppress_table_indexing, record_gvalue_matrix, stopping_criterion, track_mutation_counts, remove_extinct_variants, preserve_first_generation, check_demographic_event_timings)\u001b[0m\n\u001b[1;32m    264\u001b[0m options\u001b[38;5;241m.\u001b[39mpreserve_first_generation \u001b[38;5;241m=\u001b[39m preserve_first_generation\n\u001b[1;32m    266\u001b[0m gvpointers \u001b[38;5;241m=\u001b[39m _dgvalue_pointer_vector(params\u001b[38;5;241m.\u001b[39mgvalue)\n\u001b[0;32m--> 267\u001b[0m \u001b[43mevolve_with_tree_sequences\u001b[49m\u001b[43m(\u001b[49m\n\u001b[1;32m    268\u001b[0m \u001b[43m    \u001b[49m\u001b[43mrng\u001b[49m\u001b[43m,\u001b[49m\n\u001b[1;32m    269\u001b[0m \u001b[43m    \u001b[49m\u001b[43mpop\u001b[49m\u001b[43m,\u001b[49m\n\u001b[1;32m    270\u001b[0m \u001b[43m    \u001b[49m\u001b[43msr\u001b[49m\u001b[43m,\u001b[49m\n\u001b[1;32m    271\u001b[0m \u001b[43m    \u001b[49m\u001b[43msimplification_interval\u001b[49m\u001b[43m,\u001b[49m\n\u001b[1;32m    272\u001b[0m \u001b[43m    \u001b[49m\u001b[43mdemographic_model\u001b[49m\u001b[43m,\u001b[49m\n\u001b[1;32m    273\u001b[0m \u001b[43m    \u001b[49m\u001b[43mparams\u001b[49m\u001b[38;5;241;43m.\u001b[39;49m\u001b[43msimlen\u001b[49m\u001b[43m,\u001b[49m\n\u001b[1;32m    274\u001b[0m \u001b[43m    \u001b[49m\u001b[43mparams\u001b[49m\u001b[38;5;241;43m.\u001b[39;49m\u001b[43mrates\u001b[49m\u001b[38;5;241;43m.\u001b[39;49m\u001b[43mneutral_mutation_rate\u001b[49m\u001b[43m,\u001b[49m\n\u001b[1;32m    275\u001b[0m \u001b[43m    \u001b[49m\u001b[43mparams\u001b[49m\u001b[38;5;241;43m.\u001b[39;49m\u001b[43mrates\u001b[49m\u001b[38;5;241;43m.\u001b[39;49m\u001b[43mselected_mutation_rate\u001b[49m\u001b[43m,\u001b[49m\n\u001b[1;32m    276\u001b[0m \u001b[43m    \u001b[49m\u001b[43mmm\u001b[49m\u001b[43m,\u001b[49m\n\u001b[1;32m    277\u001b[0m \u001b[43m    \u001b[49m\u001b[43mrm\u001b[49m\u001b[43m,\u001b[49m\n\u001b[1;32m    278\u001b[0m \u001b[43m    \u001b[49m\u001b[43mgvpointers\u001b[49m\u001b[43m,\u001b[49m\n\u001b[1;32m    279\u001b[0m \u001b[43m    \u001b[49m\u001b[43mrecorder\u001b[49m\u001b[43m,\u001b[49m\n\u001b[1;32m    280\u001b[0m \u001b[43m    \u001b[49m\u001b[43mstopping_criterion\u001b[49m\u001b[43m,\u001b[49m\n\u001b[1;32m    281\u001b[0m \u001b[43m    \u001b[49m\u001b[43mpost_simplification_recorder\u001b[49m\u001b[43m,\u001b[49m\n\u001b[1;32m    282\u001b[0m \u001b[43m    \u001b[49m\u001b[43moptions\u001b[49m\u001b[43m,\u001b[49m\n\u001b[1;32m    283\u001b[0m \u001b[43m\u001b[49m\u001b[43m)\u001b[49m\n",
      "\u001b[0;31mRuntimeError\u001b[0m: mutation table is inconsistent with count vectors: evolvets.cc, line 99"
     ]
    }
   ],
   "source": [
    "output = fwdpy11.conditional_models.track_added_mutation(\n",
    "    rng, \n",
    "    pop,\n",
    "    params,\n",
    "    mutation_data,\n",
    "    when=3,\n",
    "    until=7,\n",
    "    sampling_policy=fwdpy11.conditional_models.AncientSamplePolicy.DURATION,\n",
    ")"
   ]
  },
  {
   "cell_type": "markdown",
   "id": "552d7055",
   "metadata": {},
   "source": [
    "Now, our mutation is present in nodes in our tree sequence.\n",
    "Let's try to print it again:"
   ]
  },
  {
   "cell_type": "code",
   "execution_count": null,
   "id": "9185c069",
   "metadata": {},
   "outputs": [],
   "source": [
    "try:\n",
    "    print(output.pop.mutations[output.mutation_index])\n",
    "except IndexError as _:\n",
    "    output.mutation_index(f\"mutation {output.mutation_index} is no longer in the population!\") "
   ]
  },
  {
   "cell_type": "markdown",
   "id": "ce1cc5b1",
   "metadata": {},
   "source": [
    "Let's track this variant's frequency at each time point:"
   ]
  },
  {
   "cell_type": "code",
   "execution_count": null,
   "id": "b9cca216",
   "metadata": {},
   "outputs": [],
   "source": [
    "for time, nodes, _ in output.pop.sample_timepoints(include_alive=False):\n",
    "    print(time, len(nodes))\n",
    "    tree_itr = fwdpy11.TreeIterator(output.pop.tables, nodes)\n",
    "    for tree in tree_itr:\n",
    "        for mutation in tree.mutations():\n",
    "            print(time, tree.leaf_counts(mutation.node), mutation.key)"
   ]
  }
 ],
 "metadata": {
  "jupytext": {
   "formats": "md:myst",
   "text_representation": {
    "extension": ".md",
    "format_name": "myst"
   }
  },
  "kernelspec": {
   "display_name": "Python 3",
   "language": "python",
   "name": "python3"
  },
  "language_info": {
   "codemirror_mode": {
    "name": "ipython",
    "version": 3
   },
   "file_extension": ".py",
   "mimetype": "text/x-python",
   "name": "python",
   "nbconvert_exporter": "python",
   "pygments_lexer": "ipython3",
   "version": "3.10.10"
  },
  "source_map": [
   11,
   17,
   27,
   32,
   65,
   69,
   74,
   79,
   88,
   97,
   101,
   106,
   114,
   118,
   128,
   133,
   138,
   142
  ]
 },
 "nbformat": 4,
 "nbformat_minor": 5
}
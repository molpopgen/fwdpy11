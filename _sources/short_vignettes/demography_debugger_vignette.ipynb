{
 "cells": [
  {
   "cell_type": "markdown",
   "id": "f97d40d5",
   "metadata": {},
   "source": [
    "(demography_debugger_vignette)=\n",
    "\n",
    "# Debugging demographic models\n",
    "\n",
    "You may use {class}`fwdpy11.DemographyDebugger` to check the validity of demographic models.\n",
    "The following code block applies this class to the model we built using `demes` in {ref}`an earlier vignette <demes_vignette>`. \n",
    "\n",
    "For the debugger to do its job, it needs to know the initial sizes of each deme.\n",
    "For models generated via {func}`fwdpy11.discrete_demography.from_demes`, the meta data contains a {class}`dict` mapping the integer `ID` for each deme to its initial size.\n",
    "We use that `dict` below to get the required list of initial_sizes."
   ]
  },
  {
   "cell_type": "code",
   "execution_count": 1,
   "id": "a349d3cf",
   "metadata": {},
   "outputs": [],
   "source": [
    "import demes\n",
    "import fwdpy11\n",
    "\n",
    "builder = demes.Builder(description=\"test demography\", time_units=\"generations\")\n",
    "builder.add_deme(\n",
    "    name=\"deme\",\n",
    "    epochs=[\n",
    "        dict(start_size=1000, end_time=100),\n",
    "        dict(start_size=2000, end_time=0),\n",
    "    ],\n",
    ")\n",
    "\n",
    "graph = builder.resolve()\n",
    "\n",
    "demog = fwdpy11.discrete_demography.from_demes(graph)\n",
    "\n",
    "initial_sizes = [demog.metadata[\"initial_sizes\"][i] for i in sorted(demog.metadata[\"initial_sizes\"].keys())]\n",
    "\n",
    "dbg = fwdpy11.DemographyDebugger(initial_sizes, demog.model)\n"
   ]
  },
  {
   "cell_type": "markdown",
   "id": "d4296992",
   "metadata": {},
   "source": [
    "The `dbg` variable also contains a \"report\" describing the model:"
   ]
  },
  {
   "cell_type": "code",
   "execution_count": 2,
   "id": "a22c87b0",
   "metadata": {},
   "outputs": [
    {
     "name": "stdout",
     "output_type": "stream",
     "text": [
      "Deme sizes at time 0: [(0, 1000)]\n",
      "Events at time 0:\n",
      "\tSelfing probability set to 0 in deme 0\n",
      "\tDeme sizes after growth: [(0, 1000)]\n",
      "Events at time 10000:\n",
      "\tDeme size set to 2000 in deme 0\n",
      "\t\tGrowth rate set to 1.0\n",
      "\t\tGrowth initial size set to 2000\n",
      "\tSelfing probability set to 0 in deme 0\n",
      "\tDeme sizes after growth: [(0, 2000)]\n",
      "\n"
     ]
    }
   ],
   "source": [
    "print(dbg.report)"
   ]
  }
 ],
 "metadata": {
  "jupytext": {
   "formats": "md:myst",
   "text_representation": {
    "extension": ".md",
    "format_name": "myst"
   }
  },
  "kernelspec": {
   "display_name": "Python 3",
   "language": "python",
   "name": "python3"
  },
  "language_info": {
   "codemirror_mode": {
    "name": "ipython",
    "version": 3
   },
   "file_extension": ".py",
   "mimetype": "text/x-python",
   "name": "python",
   "nbconvert_exporter": "python",
   "pygments_lexer": "ipython3",
   "version": "3.8.12"
  },
  "source_map": [
   11,
   24,
   45,
   49
  ]
 },
 "nbformat": 4,
 "nbformat_minor": 5
}
{
 "cells": [
  {
   "cell_type": "markdown",
   "id": "e3804ea4",
   "metadata": {},
   "source": [
    "(poptour_vignette)=\n",
    "\n",
    "# Properties of populations\n",
    "\n",
    "This vignette is \"getting ahead\" of ourselves a bit.\n",
    "In order for it to be useful, it is best to have a simulated population in hand.\n",
    "The following hidden code block gives us one.\n",
    "Feel free to expand it to take a look--the details will make sense once you have studied the later vignettes on setting up and running simulations.\n",
    "The simulation done here is taken from {ref}`another vignette <gss_vignette>`."
   ]
  },
  {
   "cell_type": "code",
   "execution_count": 1,
   "id": "caa4c519",
   "metadata": {
    "tags": [
     "hide-input"
    ]
   },
   "outputs": [],
   "source": [
    "import fwdpy11\n",
    "\n",
    "pop = fwdpy11.DiploidPopulation(500, 1.0)\n",
    "\n",
    "rng = fwdpy11.GSLrng(54321)\n",
    "\n",
    "GSSmo = fwdpy11.GSSmo(\n",
    "    [\n",
    "        fwdpy11.Optimum(when=0, optimum=0.0, VS=1.0),\n",
    "        fwdpy11.Optimum(when=10 * pop.N, optimum=1.0, VS=1.0),\n",
    "    ]\n",
    ")\n",
    "\n",
    "rho = 1000.\n",
    "\n",
    "p = {\n",
    "    \"nregions\": [],\n",
    "    \"gvalue\": fwdpy11.Additive(2.0, GSSmo),\n",
    "    \"sregions\": [fwdpy11.GaussianS(0, 1., 1, 0.1)],\n",
    "    \"recregions\": [fwdpy11.PoissonInterval(0, 1., rho / float(4 * pop.N))],\n",
    "    \"rates\": (0.0, 1e-3, None),\n",
    "    \"prune_selected\": False,\n",
    "    \"demography\": fwdpy11.DiscreteDemography(),\n",
    "    \"simlen\": 10 * pop.N + 200,\n",
    "}\n",
    "params = fwdpy11.ModelParams(**p)\n",
    "\n",
    "fwdpy11.evolvets(rng, pop, params, 100, suppress_table_indexing=True)"
   ]
  },
  {
   "cell_type": "markdown",
   "id": "e4710030",
   "metadata": {},
   "source": [
    "## Basic properties"
   ]
  },
  {
   "cell_type": "code",
   "execution_count": 2,
   "id": "a73dfcb4",
   "metadata": {},
   "outputs": [
    {
     "name": "stdout",
     "output_type": "stream",
     "text": [
      "Total number of diploids = 500\n",
      "Current generation = 5200\n"
     ]
    }
   ],
   "source": [
    "print(f\"Total number of diploids = {pop.N}\")\n",
    "print(f\"Current generation = {pop.generation}\")"
   ]
  },
  {
   "cell_type": "markdown",
   "id": "02c3e6f0",
   "metadata": {},
   "source": [
    "## Mutations\n",
    "\n",
    "Mutations are instances of {class}`fwdpy11.Mutation` stored in {attr}`fwdpy11.DiploidPopulation.mutations`.\n",
    "These objects do not have nice representations in Python:"
   ]
  },
  {
   "cell_type": "code",
   "execution_count": 3,
   "id": "117a4d8c",
   "metadata": {},
   "outputs": [
    {
     "data": {
      "text/plain": [
       "[<fwdpy11._fwdpy11.Mutation at 0x7f48544edf70>,\n",
       " <fwdpy11._fwdpy11.Mutation at 0x7f48544f1170>,\n",
       " <fwdpy11._fwdpy11.Mutation at 0x7f48544f1930>,\n",
       " <fwdpy11._fwdpy11.Mutation at 0x7f48544f1fb0>,\n",
       " <fwdpy11._fwdpy11.Mutation at 0x7f48544f1cb0>]"
      ]
     },
     "execution_count": 3,
     "metadata": {},
     "output_type": "execute_result"
    }
   ],
   "source": [
    "[i for i in pop.mutations[:5]]"
   ]
  },
  {
   "cell_type": "markdown",
   "id": "0bfa4c4b",
   "metadata": {},
   "source": [
    "So, let's just look at the fields of the first mutation:"
   ]
  },
  {
   "cell_type": "code",
   "execution_count": 4,
   "id": "8b1b963d",
   "metadata": {},
   "outputs": [
    {
     "name": "stdout",
     "output_type": "stream",
     "text": [
      "position = 0.4431572693865746\n",
      "effect_size = 0.10946401078096415\n",
      "dominance = 1.0\n",
      "origin time = 5020\n"
     ]
    }
   ],
   "source": [
    "m = pop.mutations[0]\n",
    "print(f\"position = {m.pos}\\neffect_size = {m.s}\\ndominance = {m.h}\\norigin time = {m.g}\")"
   ]
  },
  {
   "cell_type": "markdown",
   "id": "f7e269fb",
   "metadata": {},
   "source": [
    "{class}`fwdpy11.Mutation` has other attributes that are not relevant to the type of simulation done here.\n",
    "\n",
    "## Diploids\n",
    "\n",
    "Diploids are instances of {class}`fwdpy11.DiploidGenotype`.\n",
    "They are stored in `fwdpy11.DiploidPopulation.diploids`.\n",
    "Diploids store the indexes of their individual genomes, which we describe below."
   ]
  },
  {
   "cell_type": "code",
   "execution_count": 5,
   "id": "bbf848d8",
   "metadata": {},
   "outputs": [
    {
     "data": {
      "text/plain": [
       "[DiploidGenotype(first=562, second=41),\n",
       " DiploidGenotype(first=338, second=0),\n",
       " DiploidGenotype(first=550, second=289),\n",
       " DiploidGenotype(first=633, second=2),\n",
       " DiploidGenotype(first=4, second=5)]"
      ]
     },
     "execution_count": 5,
     "metadata": {},
     "output_type": "execute_result"
    }
   ],
   "source": [
    "[i for i in pop.diploids[:5]]"
   ]
  },
  {
   "cell_type": "markdown",
   "id": "3ff361c1",
   "metadata": {},
   "source": [
    "## Diploid meta data\n",
    "\n",
    "Diploid individuals have associated data, stored in {attr}`fwdpy11.DiploidPopulation.diploid_metadata`.\n",
    "The meta data are instances of {class}`fwdpy11.DiploidMetadata`.\n",
    "That class is also a {class}`numpy.dtype`, allowing us to access the raw data efficiently as a {class}`numpy.recarray`:"
   ]
  },
  {
   "cell_type": "code",
   "execution_count": 6,
   "id": "a9d4961e",
   "metadata": {},
   "outputs": [
    {
     "data": {
      "text/plain": [
       "array([(0.94224157, 0., 0.99833337, [0., 0., 0.], 0, [354, 299], 0, 0, [0, 1]),\n",
       "       (0.84475778, 0., 0.98802224, [0., 0., 0.], 1, [ 87, 322], 0, 0, [2, 3]),\n",
       "       (0.84475778, 0., 0.98802224, [0., 0., 0.], 2, [349, 242], 0, 0, [4, 5]),\n",
       "       (0.84475778, 0., 0.98802224, [0., 0., 0.], 3, [403, 428], 0, 0, [6, 7]),\n",
       "       (0.8368247 , 0., 0.98677514, [0., 0., 0.], 4, [289, 428], 0, 0, [8, 9])],\n",
       "      dtype=[('g', '<f8'), ('e', '<f8'), ('w', '<f8'), ('geography', '<f8', (3,)), ('label', '<u8'), ('parents', '<u8', (2,)), ('deme', '<i4'), ('sex', '<i4'), ('nodes', '<i4', (2,))])"
      ]
     },
     "execution_count": 6,
     "metadata": {},
     "output_type": "execute_result"
    }
   ],
   "source": [
    "import numpy as np\n",
    "md = np.array(pop.diploid_metadata, copy=False)\n",
    "md[:5]"
   ]
  },
  {
   "cell_type": "markdown",
   "id": "b10e1875",
   "metadata": {},
   "source": [
    "The field names of the record array exactly match the attribute names of {class}`fwdpy11.DiploidMetadata`.\n",
    "\n",
    "The record arrays allow efficient calculation of important quantities:"
   ]
  },
  {
   "cell_type": "code",
   "execution_count": 7,
   "id": "4fd63123",
   "metadata": {},
   "outputs": [
    {
     "name": "stdout",
     "output_type": "stream",
     "text": [
      "Mean trait value = 0.8766.\n",
      "Mean fitness = 0.9914\n"
     ]
    }
   ],
   "source": [
    "print(f\"Mean trait value = {md['g'].mean():0.4f}.\\nMean fitness = {md['w'].mean():0.4f}\")"
   ]
  },
  {
   "cell_type": "markdown",
   "id": "289ff7fc",
   "metadata": {},
   "source": [
    "### Ancient samples\n",
    "\n",
    "When ancient/preserved samples are recorded during simulations, their meta data are stored in :attr:`fwdpy11.DiploidPopulation.ancient_sample_metadata`.\n",
    "\n",
    "## Haploid genomes\n",
    "\n",
    "Haploid genomes are instances of {class}`fwdpy11.HaploidGenome`.\n",
    "These objects contain indexes to mutations.\n",
    "Let's look at the effect sizes and origin times of mutations in the first non-empty genome:"
   ]
  },
  {
   "cell_type": "code",
   "execution_count": 8,
   "id": "5925e91a",
   "metadata": {},
   "outputs": [
    {
     "name": "stdout",
     "output_type": "stream",
     "text": [
      "effect size = -0.0194, origin time = 1252\n",
      "effect size = 0.0079, origin time = 4582\n",
      "effect size = 0.0546, origin time = 141\n",
      "effect size = 0.1095, origin time = 5020\n",
      "effect size = 0.1377, origin time = 4998\n",
      "effect size = 0.1383, origin time = 5000\n",
      "effect size = 0.0159, origin time = 4396\n",
      "effect size = -0.0177, origin time = 1052\n",
      "effect size = 0.0115, origin time = 1539\n"
     ]
    }
   ],
   "source": [
    "def mut_info(pop, i):\n",
    "    rv = False\n",
    "    for m in pop.haploid_genomes[i].smutations:\n",
    "        print(f\"effect size = {pop.mutations[m].s:0.4f}, origin time = {pop.mutations[m].g}\")\n",
    "        rv = True\n",
    "    return rv\n",
    "    \n",
    "for i in pop.diploids:\n",
    "    if mut_info(pop, i.first) is True:\n",
    "        break\n",
    "    elif mut_info(pop, i.second) is True:\n",
    "        break"
   ]
  },
  {
   "cell_type": "markdown",
   "id": "3111a047",
   "metadata": {},
   "source": [
    "### Some details\n",
    "\n",
    "Neutral mutations are never added to haploid genomes.\n",
    "\n",
    "## Tables\n",
    "\n",
    "A population contains an instance of {class}`fwdpy11.TableCollection` which is used to represent the genetic ancestry of the sample using the methods described in {cite}`Kelleher2018-mc`.\n",
    "\n",
    "The table contents are described in the class documentation.\n",
    "All tables can be accessed either as Python objects or as {class}`numpy.recarray` objects as we say above for diploid meta data."
   ]
  }
 ],
 "metadata": {
  "jupytext": {
   "formats": "md:myst",
   "text_representation": {
    "extension": ".md",
    "format_name": "myst"
   }
  },
  "kernelspec": {
   "display_name": "Python 3",
   "language": "python",
   "name": "python3"
  },
  "language_info": {
   "codemirror_mode": {
    "name": "ipython",
    "version": 3
   },
   "file_extension": ".py",
   "mimetype": "text/x-python",
   "name": "python",
   "nbconvert_exporter": "python",
   "pygments_lexer": "ipython3",
   "version": "3.8.12"
  },
  "source_map": [
   11,
   23,
   55,
   59,
   62,
   69,
   71,
   75,
   78,
   88,
   90,
   98,
   102,
   108,
   110,
   122,
   135
  ]
 },
 "nbformat": 4,
 "nbformat_minor": 5
}
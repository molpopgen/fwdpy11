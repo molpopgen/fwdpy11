{
 "cells": [
  {
   "cell_type": "markdown",
   "id": "fee704b1",
   "metadata": {},
   "source": [
    "(workingexample_trait_vignette)=\n",
    "\n",
    "# Working example - parameters for the simulation of a trait"
   ]
  },
  {
   "cell_type": "code",
   "execution_count": 1,
   "id": "b54b9fe6",
   "metadata": {},
   "outputs": [],
   "source": [
    "import fwdpy11\n",
    "\n",
    "N = 1000\n",
    "rho = 1000.0\n",
    "mu_neutral = 0.0\n",
    "mu_selected = 1e-3\n",
    "\n",
    "GSSmo = fwdpy11.GSSmo(\n",
    "    [\n",
    "        fwdpy11.Optimum(when=0, optimum=0.0, VS=1.0),\n",
    "        fwdpy11.Optimum(when=10 * N, optimum=1.0, VS=1.0),\n",
    "    ]\n",
    ")\n",
    "\n",
    "p = {\n",
    "    \"nregions\": [],\n",
    "    \"gvalue\": fwdpy11.Additive(2.0, GSSmo),\n",
    "    \"sregions\": [fwdpy11.GaussianS(0, 1., 1, 0.1)],\n",
    "    \"recregions\": [fwdpy11.PoissonInterval(0, 1., rho / float(4 * N))],\n",
    "    \"rates\": (mu_neutral, mu_selected, None),\n",
    "    # Keep mutations at frequency 1 in the pop if they affect fitness.\n",
    "    \"prune_selected\": False,\n",
    "    \"demography\": fwdpy11.DiscreteDemography(),\n",
    "    \"simlen\": 10 * N + 200,\n",
    "}\n",
    "params = fwdpy11.ModelParams(**p)"
   ]
  },
  {
   "cell_type": "code",
   "execution_count": 2,
   "id": "41cb1c34",
   "metadata": {},
   "outputs": [
    {
     "name": "stdout",
     "output_type": "stream",
     "text": [
      "fwdpy11.ModelParams(\n",
      "    nregions=[],\n",
      "    sregions=[\n",
      "        fwdpy11.GaussianS(\n",
      "            beg=0, end=1.0, weight=1, sd=0.1, h=1.0, coupled=True, label=0, scaling=1.0\n",
      "        )\n",
      "    ],\n",
      "    recregions=[fwdpy11.PoissonInterval(beg=0, end=1.0, mean=0.25, discrete=False)],\n",
      "    rates=fwdpy11.MutationAndRecombinationRates(\n",
      "        neutral_mutation_rate=0.0, selected_mutation_rate=0.001, recombination_rate=None\n",
      "    ),\n",
      "    gvalue=fwdpy11.Additive(\n",
      "        scaling=2.0,\n",
      "        gvalue_to_fitness=fwdpy11.GSSmo(\n",
      "            optima=[\n",
      "                fwdpy11.Optimum(optimum=0.0, VS=1.0, when=0),\n",
      "                fwdpy11.Optimum(optimum=1.0, VS=1.0, when=10000),\n",
      "            ]\n",
      "        ),\n",
      "        noise=None,\n",
      "        ndemes=1,\n",
      "    ),\n",
      "    demography=fwdpy11.DiscreteDemography(\n",
      "        mass_migrations=None,\n",
      "        set_growth_rates=None,\n",
      "        set_deme_sizes=None,\n",
      "        set_selfing_rates=None,\n",
      "        migmatrix=None,\n",
      "        set_migration_rates=None,\n",
      "    ),\n",
      "    simlen=10200,\n",
      "    prune_selected=False,\n",
      ")\n",
      "\n"
     ]
    }
   ],
   "source": [
    "print(params.asblack())"
   ]
  },
  {
   "cell_type": "markdown",
   "id": "0e48324a",
   "metadata": {},
   "source": [
    "## Modifying model parameters\n",
    "\n",
    "Instances of {class}`fwdpy11.ModelParams` are immutable.\n",
    "To change them, either:\n",
    "\n",
    "* Modify the original `dict`\n",
    "* Or, do a round trip through a temporary `dict`.\n",
    "\n",
    "The first option is straightforward.\n",
    "Let's see the second in action.\n",
    "We'll change the simulation length."
   ]
  },
  {
   "cell_type": "code",
   "execution_count": 3,
   "id": "267cd046",
   "metadata": {},
   "outputs": [
    {
     "name": "stdout",
     "output_type": "stream",
     "text": [
      "20400\n"
     ]
    }
   ],
   "source": [
    "temp_dict = params.asdict()\n",
    "temp_dict[\"simlen\"] *= 2\n",
    "params = fwdpy11.ModelParams(**temp_dict)\n",
    "print(params.simlen)\n"
   ]
  }
 ],
 "metadata": {
  "jupytext": {
   "formats": "md:myst",
   "text_representation": {
    "extension": ".md",
    "format_name": "myst"
   }
  },
  "kernelspec": {
   "display_name": "Python 3",
   "language": "python",
   "name": "python3"
  },
  "language_info": {
   "codemirror_mode": {
    "name": "ipython",
    "version": 3
   },
   "file_extension": ".py",
   "mimetype": "text/x-python",
   "name": "python",
   "nbconvert_exporter": "python",
   "pygments_lexer": "ipython3",
   "version": "3.8.12"
  },
  "source_map": [
   11,
   17,
   46,
   48,
   62
  ]
 },
 "nbformat": 4,
 "nbformat_minor": 5
}
{
 "cells": [
  {
   "cell_type": "markdown",
   "id": "426855d6",
   "metadata": {},
   "source": [
    "(custom_multivariate_distributions_vignette)=\n",
    "\n",
    "# \"Custom\" multivariate distributions"
   ]
  },
  {
   "cell_type": "code",
   "execution_count": 1,
   "id": "1eb03e5f",
   "metadata": {
    "tags": [
     "hide-input"
    ]
   },
   "outputs": [],
   "source": [
    "import demes\n",
    "import demesdraw\n",
    "import fwdpy11\n",
    "import numpy as np"
   ]
  },
  {
   "cell_type": "markdown",
   "id": "fb5ad086",
   "metadata": {},
   "source": [
    "The previous two sections cover cases where the methods for generating\n",
    "deviates from a multivariate distribution are straightforward and agreed\n",
    "upon.\n",
    "\n",
    "In order to simulate multivariate distributions of effect sizes based on\n",
    "{class}`fwdpy11.Sregion` types, we follow a fairly intuitive approach\n",
    "described in {cite}`Xue-Kun_Song2000-qn`.  Briefly, the multivariate Gaussian kernel is\n",
    "used to produce deviates.  Then, the quantiles from the cummulative distribution\n",
    "of each marginal Gaussian are used to generate a deviate from the desired output distribution of interest.\n",
    "\n",
    "For a simulation with `n` populations we need:\n",
    "\n",
    "* A {class}`list` of `n` {class}`fwdpy11.Sregion` objects\n",
    "* An array of `n` means for the multivariate Gaussian\n",
    "* An `n-by-n` covariance matrix for the multivariate\n",
    "  Gaussian\n",
    "\n",
    "We will use the same demographic model as in the previous vignettes.\n",
    "The details can be viewed by expanding the \"click to show\" button below\"."
   ]
  },
  {
   "cell_type": "code",
   "execution_count": 2,
   "id": "545d483c",
   "metadata": {
    "tags": [
     "hide-input"
    ]
   },
   "outputs": [],
   "source": [
    "yaml = \"\"\"\n",
    "description: Island model forever\n",
    "time_units: generations\n",
    "demes:\n",
    "  - name: A\n",
    "    epochs:\n",
    "     - start_size: 100\n",
    "  - name: B\n",
    "    epochs:\n",
    "     - start_size: 100\n",
    "migrations:\n",
    "  - demes: [A, B]\n",
    "    rate: 0.10\n",
    "\"\"\"\n",
    "g = demes.loads(yaml)\n",
    "model = fwdpy11.discrete_demography.from_demes(g, burnin=1)\n",
    "initial_sizes = [v for v in model.metadata[\"initial_sizes\"].values()]\n",
    "pdict = {\n",
    "    \"nregions\": [],\n",
    "    \"recregions\": [],\n",
    "    \"sregions\": None, # Will get filled in below\n",
    "    \"rates\": (0, 5e-3, None),\n",
    "    \"demography\": model,\n",
    "    \"simlen\": model.metadata[\"total_simulation_length\"],\n",
    "    \"gvalue\": fwdpy11.Multiplicative(ndemes=2, scaling=2),\n",
    "}\n",
    "rng = fwdpy11.GSLrng(123512)"
   ]
  },
  {
   "cell_type": "markdown",
   "id": "d20312f4",
   "metadata": {},
   "source": [
    "The following generates exponentially distributed effect sizes in each deme\n",
    "with a high correlation across demes:"
   ]
  },
  {
   "cell_type": "code",
   "execution_count": 3,
   "id": "5be9f6a9",
   "metadata": {},
   "outputs": [
    {
     "name": "stdout",
     "output_type": "stream",
     "text": [
      "[-0.0481598  -0.01990405]\n",
      "[-1.31708542 -1.10171055]\n",
      "[-0.0336445 -0.0317481]\n",
      "[-0.14208652 -0.10416488]\n"
     ]
    }
   ],
   "source": [
    "mvdes = fwdpy11.mvDES(\n",
    "    [fwdpy11.ExpS(0, 1, 1, -0.5)] * 2,\n",
    "    np.zeros(2),\n",
    "    np.matrix([1, 0.9, 0.9, 1]).reshape((2, 2)),\n",
    ")\n",
    "pdict[\"sregions\"] = [mvdes]\n",
    "params = fwdpy11.ModelParams(**pdict)\n",
    "pop = fwdpy11.DiploidPopulation(initial_sizes, 1.0)\n",
    "fwdpy11.evolvets(rng, pop, params, 10)\n",
    "for i in pop.tables.mutations:\n",
    "    print(pop.mutations[i.key].esizes)"
   ]
  },
  {
   "cell_type": "markdown",
   "id": "d2b26c90",
   "metadata": {},
   "source": [
    "We can mix and match our distributions.  Here, the distribution of effect\n",
    "sizes in deme 0 is exponential and the distribution in deme 1 is gamma.  The\n",
    "two distributions have means with opposite signs and the magnitudes of the\n",
    "marginal deviates negatively covary:"
   ]
  },
  {
   "cell_type": "code",
   "execution_count": 4,
   "id": "a1b76360",
   "metadata": {},
   "outputs": [
    {
     "name": "stdout",
     "output_type": "stream",
     "text": [
      "[-0.33083002  0.10031833]\n",
      "[-0.42548846  0.05563312]\n",
      "[-0.13448292  0.25725126]\n",
      "[-0.05196185  0.15740337]\n",
      "[-0.13115791  0.08624639]\n",
      "[-0.10758304  0.14649511]\n",
      "[-0.24521457  0.16010134]\n",
      "[-0.06690352  0.19844306]\n",
      "[-0.2526577   0.09564946]\n",
      "[-0.29293677  0.05486382]\n",
      "[-0.13782504  0.091609  ]\n",
      "[-0.37426508  0.08506987]\n",
      "[-0.26032863  0.10840349]\n",
      "[-0.50714586  0.08579448]\n",
      "[-0.17467581  0.08643293]\n",
      "[-0.20649866  0.09632986]\n",
      "[-0.48077505  0.13611904]\n",
      "[-0.00917911  0.44995212]\n",
      "[-0.16189138  0.13520003]\n",
      "[-1.20496755  0.01927578]\n",
      "[-1.65766443  0.00423084]\n",
      "[-0.12988024  0.12932187]\n",
      "[-0.0454018   0.23482635]\n",
      "[-0.19691462  0.07874511]\n",
      "[-0.00514447  0.41722543]\n"
     ]
    }
   ],
   "source": [
    "mvdes = fwdpy11.mvDES(\n",
    "    [fwdpy11.ExpS(0, 1, 1, -0.5), fwdpy11.GammaS(0, 1, 1, mean=0.1, shape_parameter=1)],\n",
    "    np.zeros(2),\n",
    "    np.matrix([1, -0.9, -0.9, 1]).reshape((2, 2)),\n",
    ")\n",
    "pdict[\"sregions\"] = [mvdes]\n",
    "params = fwdpy11.ModelParams(**pdict)\n",
    "pop = fwdpy11.DiploidPopulation(initial_sizes, 1.0)\n",
    "fwdpy11.evolvets(rng, pop, params, 10)\n",
    "for i in pop.tables.mutations:\n",
    "    print(pop.mutations[i.key].esizes)"
   ]
  },
  {
   "cell_type": "markdown",
   "id": "7919f383",
   "metadata": {},
   "source": [
    "The type {class}`fwdpy11.ConstantS` has intuitive behavior:"
   ]
  },
  {
   "cell_type": "code",
   "execution_count": 5,
   "id": "cb427fcd",
   "metadata": {},
   "outputs": [
    {
     "name": "stdout",
     "output_type": "stream",
     "text": [
      "[-0.04863043 -0.1       ]\n",
      "[-0.60824008 -0.1       ]\n",
      "[-0.00696691 -0.1       ]\n",
      "[-0.08694534 -0.1       ]\n",
      "[-0.01399284 -0.1       ]\n",
      "[-0.15168546 -0.1       ]\n",
      "[-0.01237223 -0.1       ]\n",
      "[-0.45890092 -0.1       ]\n",
      "[-0.45196062 -0.1       ]\n",
      "[-0.16847123 -0.1       ]\n",
      "[-0.29808442 -0.1       ]\n"
     ]
    }
   ],
   "source": [
    "mvdes = fwdpy11.mvDES(\n",
    "    [fwdpy11.ExpS(0, 1, 1, -0.5), fwdpy11.ConstantS(0, 1, 1, -0.1)],\n",
    "    np.zeros(2),\n",
    "    np.matrix([1, -0.9, -0.9, 1]).reshape((2, 2)),\n",
    ")\n",
    "pdict[\"sregions\"] = [mvdes]\n",
    "params = fwdpy11.ModelParams(**pdict)\n",
    "pop = fwdpy11.DiploidPopulation(initial_sizes, 1.0)\n",
    "rng = fwdpy11.GSLrng(1010)\n",
    "fwdpy11.evolvets(rng, pop, params, 10)\n",
    "for i in pop.tables.mutations:\n",
    "    print(pop.mutations[i.key].esizes)"
   ]
  }
 ],
 "metadata": {
  "jupytext": {
   "formats": "md:myst",
   "text_representation": {
    "extension": ".md",
    "format_name": "myst"
   }
  },
  "kernelspec": {
   "display_name": "Python 3",
   "language": "python",
   "name": "python3"
  },
  "language_info": {
   "codemirror_mode": {
    "name": "ipython",
    "version": 3
   },
   "file_extension": ".py",
   "mimetype": "text/x-python",
   "name": "python",
   "nbconvert_exporter": "python",
   "pygments_lexer": "ipython3",
   "version": "3.10.10"
  },
  "source_map": [
   11,
   17,
   25,
   47,
   78,
   83,
   95,
   102,
   114,
   118
  ]
 },
 "nbformat": 4,
 "nbformat_minor": 5
}
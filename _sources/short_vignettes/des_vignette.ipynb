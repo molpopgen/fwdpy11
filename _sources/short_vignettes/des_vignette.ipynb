{
 "cells": [
  {
   "cell_type": "markdown",
   "id": "0cf9a1b0",
   "metadata": {},
   "source": [
    "(des_vignette)=\n",
    "\n",
    "# Distributions of effect sizes\n",
    "\n",
    ":::{note}\n",
    "The lists of objects described here are passed to the `sregions` parameter when initializing instances of {class}`fwdpy11.ModelParams`.\n",
    ":::\n",
    "\n",
    "One of the main reasons to perform forward simulations is to be able to model mutations affecting individual fitness.\n",
    "To do so, we need to specify both mutation rates and the resulting effect sizes.\n",
    "\n",
    "`fwdpy11` works by specifying an overall mutation rate to variants affecting fitness (see {ref}`here <model-params>`).\n",
    "Given that a mutation occurs, we need to specify its \"effect size\".\n",
    "\n",
    "`fwdpy11` chooses the effect size of a new mutation by first determining what *region* is mutated and then generating a mutation from the distribution of effect size associated with that region.\n",
    "\n",
    "Each region is represented by instances of classes derived from the ABC {class}`fwdpy11.Sregion`.\n",
    "Each instance is associated with a *weight*.\n",
    "These weights establish the relative probability that a mutation comes from a given region.\n",
    "Thus, given an overall mutation rate to non-neutral variants, instances of \"`sregions`\" are used to set up a multinomial distribution for generating new mutations.\n",
    "\n",
    "The following sets up a model where mutations have a constant effect size ({math}`s=-0.01`), dominance {math}`h=0.25`, and occur uniformly on the interval {math}`[0, 1)`:"
   ]
  },
  {
   "cell_type": "code",
   "execution_count": 1,
   "id": "47d665b7",
   "metadata": {},
   "outputs": [],
   "source": [
    "import fwdpy11\n",
    "\n",
    "sregions = [fwdpy11.ConstantS(beg=0.0, end=1.0, weight=1.0, s=-0.01, h=0.25)]"
   ]
  },
  {
   "cell_type": "markdown",
   "id": "e206c870",
   "metadata": {},
   "source": [
    "The previous example uses argument names for clarity, and the following is equivalent, with the `int` values getting converted to `float` automatically:"
   ]
  },
  {
   "cell_type": "code",
   "execution_count": 2,
   "id": "5834569d",
   "metadata": {},
   "outputs": [
    {
     "data": {
      "text/plain": [
       "fwdpy11.ConstantS(beg=0, end=1, weight=1, s=-0.01, h=0.25, coupled=True, label=0, scaling=1.0)"
      ]
     },
     "execution_count": 2,
     "metadata": {},
     "output_type": "execute_result"
    }
   ],
   "source": [
    "sregions = [fwdpy11.ConstantS(0, 1, 1, -0.01, 0.25)]\n",
    "sregions[0]"
   ]
  },
  {
   "cell_type": "markdown",
   "id": "8d964038",
   "metadata": {},
   "source": [
    "Note that the constructor parameters for these classes often have default values--see the specific class documentation for details. \n",
    "\n",
    "In some scenarios, it is useful to think about the distribution of effect sizes as scaled with respect to the population size.\n",
    "For example, selection coefficients may be exponentially-distributed with a mean of {math}`2Ns`. \n",
    "To do this in `fwdpy11`:"
   ]
  },
  {
   "cell_type": "code",
   "execution_count": 3,
   "id": "a049fe5f",
   "metadata": {},
   "outputs": [
    {
     "data": {
      "text/plain": [
       "fwdpy11.ExpS(beg=0, end=1, weight=1, mean=-10, h=1.0, coupled=True, label=0, scaling=2000)"
      ]
     },
     "execution_count": 3,
     "metadata": {},
     "output_type": "execute_result"
    }
   ],
   "source": [
    "# ALPHA = 2Ns\n",
    "MEAN_ALPHA = -10\n",
    "N = 1000\n",
    "sregions = [fwdpy11.ExpS(0, 1, 1, MEAN_ALPHA, scaling=2 * N)]\n",
    "sregions[0]"
   ]
  },
  {
   "cell_type": "markdown",
   "id": "ecfabc12",
   "metadata": {},
   "source": [
    "## Region weighting\n",
    "\n",
    "When multiple \"sregion\" objects are used, the default behavior is to multiply the input `weight` by `end-beg`:"
   ]
  },
  {
   "cell_type": "code",
   "execution_count": 4,
   "id": "02ee665c",
   "metadata": {},
   "outputs": [
    {
     "data": {
      "text/plain": [
       "[fwdpy11.ExpS(beg=0.0, end=1.0, weight=1.0, mean=-0.2, h=1.0, coupled=True, label=0, scaling=1.0),\n",
       " fwdpy11.ConstantS(beg=1.0, end=3.0, weight=1.0, s=-0.1, h=1.0, coupled=True, label=0, scaling=1.0)]"
      ]
     },
     "execution_count": 4,
     "metadata": {},
     "output_type": "execute_result"
    }
   ],
   "source": [
    "sregions = [\n",
    "   fwdpy11.ExpS(beg=0.0, end=1.0, weight=1.0, mean=-0.2),\n",
    "   fwdpy11.ConstantS(beg=1.0, end=3.0, weight=1.0, s=-0.1),\n",
    "]\n",
    "sregions"
   ]
  },
  {
   "cell_type": "markdown",
   "id": "d5f73752",
   "metadata": {},
   "source": [
    "Here, the input `weight` is interpreted to mean the weight \"per site\" is constant.\n",
    "In this example, twice as many mutations will have positions in {math}`[1, 3)` as from {math}`[0, 1)`. \n",
    "To change the default behavior, one can prevent the coupling between input `weight` and region length:"
   ]
  },
  {
   "cell_type": "code",
   "execution_count": 5,
   "id": "100b1564",
   "metadata": {},
   "outputs": [
    {
     "data": {
      "text/plain": [
       "[fwdpy11.ExpS(beg=0.0, end=1.0, weight=1.0, mean=-0.2, h=1.0, coupled=False, label=0, scaling=1.0),\n",
       " fwdpy11.ConstantS(beg=1.0, end=3.0, weight=1.0, s=-0.1, h=1.0, coupled=False, label=0, scaling=1.0)]"
      ]
     },
     "execution_count": 5,
     "metadata": {},
     "output_type": "execute_result"
    }
   ],
   "source": [
    "sregions = [\n",
    "   fwdpy11.ExpS(beg=0.0, end=1.0, weight=1.0, mean=-0.2, coupled=False),\n",
    "   fwdpy11.ConstantS(beg=1.0, end=3.0, weight=1.0, s=-0.1, coupled=False),\n",
    "]\n",
    "sregions"
   ]
  },
  {
   "cell_type": "markdown",
   "id": "e06fe4e0",
   "metadata": {},
   "source": [
    "The absolute values of the `weight` parameters themselves is irrelevant.\n",
    "The only thing that matters is the *relative* values from region to region.\n",
    "Simulations based on the above examples would give the same results if the `weight` were 42 or 73.06.\n",
    "Therefore, we can recreate our first example with code like the following:"
   ]
  },
  {
   "cell_type": "code",
   "execution_count": 6,
   "id": "f21086ff",
   "metadata": {},
   "outputs": [
    {
     "data": {
      "text/plain": [
       "[fwdpy11.ExpS(beg=0.0, end=1.0, weight=56.0, mean=-0.2, h=1.0, coupled=False, label=0, scaling=1.0),\n",
       " fwdpy11.ConstantS(beg=1.0, end=3.0, weight=112.0, s=-0.1, h=1.0, coupled=False, label=0, scaling=1.0)]"
      ]
     },
     "execution_count": 6,
     "metadata": {},
     "output_type": "execute_result"
    }
   ],
   "source": [
    "sregions = [\n",
    "   fwdpy11.ExpS(beg=0.0, end=1.0, weight=56.0, mean=-0.2, coupled=False),\n",
    "   fwdpy11.ConstantS(beg=1.0, end=3.0, weight=112.0, s=-0.1, coupled=False),\n",
    "]\n",
    "sregions"
   ]
  },
  {
   "cell_type": "markdown",
   "id": "a7df73c4",
   "metadata": {},
   "source": [
    "In the above example, twice as many mutations occur in the second region because the weights have relative values of 2:1.\n",
    "\n",
    ":::{note}\n",
    "\n",
    "Different regions are allowed to overlap, allowing the simulation of concepts like \"coding regions\" where the DFE are a weighted mixture from multiple distributions, etc.\n",
    "\n",
    ":::\n",
    "\n",
    "## Setting the dominance of new mutations\n",
    "\n",
    "The dominance of a new mutation is set by the `h` parameter during initialization:"
   ]
  },
  {
   "cell_type": "code",
   "execution_count": 7,
   "id": "635210ac",
   "metadata": {},
   "outputs": [
    {
     "data": {
      "text/plain": [
       "fwdpy11.ExpS(beg=0.0, end=1.0, weight=1.0, mean=-0.2, h=0.0, coupled=True, label=0, scaling=1.0)"
      ]
     },
     "execution_count": 7,
     "metadata": {},
     "output_type": "execute_result"
    }
   ],
   "source": [
    "fwdpy11.ExpS(beg=0.0, end=1.0, weight=1.0, mean=-0.2, h=1.0)\n",
    "fwdpy11.ExpS(beg=0.0, end=1.0, weight=1.0, mean=-0.2, h=0.0)"
   ]
  },
  {
   "cell_type": "markdown",
   "id": "b5655b72",
   "metadata": {},
   "source": [
    "## Built-in distributions of effect sizes\n",
    "\n",
    "* {class}`fwdpy11.ConstantS`\n",
    "* {class}`fwdpy11.UniformS`\n",
    "* {class}`fwdpy11.ExpS`\n",
    "* {class}`fwdpy11.GammaS`\n",
    "* {class}`fwdpy11.GaussianS`\n",
    "* {class}`fwdpy11.MultivariateGaussianEffects`\n",
    "* {class}`fwdpy11.LogNormalS`\n",
    "* {class}`fwdpy11.DiscreteDESD`\n",
    "\n",
    "## Labelling mutations from different regions\n",
    "\n",
    "It may be of use to know what region a mutation came from.\n",
    "To do so, give a nonzero value to the `label` argument:"
   ]
  },
  {
   "cell_type": "code",
   "execution_count": 8,
   "id": "342a1ccc",
   "metadata": {},
   "outputs": [
    {
     "data": {
      "text/plain": [
       "fwdpy11.ConstantS(beg=0.0, end=1.0, weight=1.0, s=0.001, h=1.0, coupled=True, label=1, scaling=1.0)"
      ]
     },
     "execution_count": 8,
     "metadata": {},
     "output_type": "execute_result"
    }
   ],
   "source": [
    "fwdpy11.ConstantS(beg=0.0, end=1.0, weight=1.0, s=1e-3, label=1)"
   ]
  },
  {
   "cell_type": "markdown",
   "id": "33853322",
   "metadata": {},
   "source": [
    "At the end of the simulation, mutations from this region will have the `label` value stored in the attribute {attr}`fwdpy11.Mutation.label`.\n",
    "\n",
    "The value of `label` must fit into a 16-bit unsigned integer, *e.g.*, {attr}`numpy.uint16`.\n",
    "Larger values, or negative values, will result in exceptions.\n",
    "The following example tries to use a value one larger than the maximum allowed:"
   ]
  },
  {
   "cell_type": "code",
   "execution_count": 9,
   "id": "c4fbb1b2",
   "metadata": {
    "tags": [
     "raises-exception"
    ]
   },
   "outputs": [
    {
     "ename": "TypeError",
     "evalue": "__init__(): incompatible constructor arguments. The following argument types are supported:\n    1. fwdpy11._fwdpy11._ll_ConstantS(beg: float, end: float, weight: float, s: float, h: float, coupled: bool, label: int, scaling: float)\n    2. fwdpy11._fwdpy11._ll_ConstantS(beg: float, end: float, weight: float, s: float, h: fwdpy11._fwdpy11.MutationDominance, coupled: bool, label: int, scaling: float)\n\nInvoked with: 0.0, 1.0, 1.0, 0.001, 1.0, True, 65536, 1.0",
     "output_type": "error",
     "traceback": [
      "\u001b[0;31m---------------------------------------------------------------------------\u001b[0m",
      "\u001b[0;31mTypeError\u001b[0m                                 Traceback (most recent call last)",
      "\u001b[0;32m/tmp/ipykernel_3799/1747280255.py\u001b[0m in \u001b[0;36m<module>\u001b[0;34m\u001b[0m\n\u001b[1;32m      1\u001b[0m \u001b[0;32mimport\u001b[0m \u001b[0mnumpy\u001b[0m \u001b[0;32mas\u001b[0m \u001b[0mnp\u001b[0m\u001b[0;34m\u001b[0m\u001b[0;34m\u001b[0m\u001b[0m\n\u001b[1;32m      2\u001b[0m \u001b[0;34m\u001b[0m\u001b[0m\n\u001b[0;32m----> 3\u001b[0;31m fwdpy11.ConstantS(\n\u001b[0m\u001b[1;32m      4\u001b[0m     \u001b[0mbeg\u001b[0m\u001b[0;34m=\u001b[0m\u001b[0;36m0.0\u001b[0m\u001b[0;34m,\u001b[0m \u001b[0mend\u001b[0m\u001b[0;34m=\u001b[0m\u001b[0;36m1.0\u001b[0m\u001b[0;34m,\u001b[0m \u001b[0mweight\u001b[0m\u001b[0;34m=\u001b[0m\u001b[0;36m1.0\u001b[0m\u001b[0;34m,\u001b[0m \u001b[0ms\u001b[0m\u001b[0;34m=\u001b[0m\u001b[0;36m1e-3\u001b[0m\u001b[0;34m,\u001b[0m \u001b[0mlabel\u001b[0m\u001b[0;34m=\u001b[0m\u001b[0mnp\u001b[0m\u001b[0;34m.\u001b[0m\u001b[0miinfo\u001b[0m\u001b[0;34m(\u001b[0m\u001b[0mnp\u001b[0m\u001b[0;34m.\u001b[0m\u001b[0muint16\u001b[0m\u001b[0;34m)\u001b[0m\u001b[0;34m.\u001b[0m\u001b[0mmax\u001b[0m \u001b[0;34m+\u001b[0m \u001b[0;36m1\u001b[0m\u001b[0;34m\u001b[0m\u001b[0;34m\u001b[0m\u001b[0m\n\u001b[1;32m      5\u001b[0m )\n",
      "\u001b[0;32m~/work/fwdpy11/fwdpy11/fwdpy11/regions.py\u001b[0m in \u001b[0;36m__init__\u001b[0;34m(self, beg, end, weight, s, h, coupled, label, scaling)\u001b[0m\n\u001b[1;32m     10\u001b[0m     \u001b[0m_inst_dict\u001b[0m\u001b[0;34m[\u001b[0m\u001b[0;34m'label'\u001b[0m\u001b[0;34m]\u001b[0m \u001b[0;34m=\u001b[0m \u001b[0mlabel\u001b[0m\u001b[0;34m\u001b[0m\u001b[0;34m\u001b[0m\u001b[0m\n\u001b[1;32m     11\u001b[0m     \u001b[0m_inst_dict\u001b[0m\u001b[0;34m[\u001b[0m\u001b[0;34m'scaling'\u001b[0m\u001b[0;34m]\u001b[0m \u001b[0;34m=\u001b[0m \u001b[0mscaling\u001b[0m\u001b[0;34m\u001b[0m\u001b[0;34m\u001b[0m\u001b[0m\n\u001b[0;32m---> 12\u001b[0;31m     \u001b[0mself\u001b[0m\u001b[0;34m.\u001b[0m\u001b[0m__attrs_post_init__\u001b[0m\u001b[0;34m(\u001b[0m\u001b[0;34m)\u001b[0m\u001b[0;34m\u001b[0m\u001b[0;34m\u001b[0m\u001b[0m\n\u001b[0m",
      "\u001b[0;32m~/work/fwdpy11/fwdpy11/fwdpy11/regions.py\u001b[0m in \u001b[0;36m__attrs_post_init__\u001b[0;34m(self)\u001b[0m\n\u001b[1;32m    181\u001b[0m \u001b[0;34m\u001b[0m\u001b[0m\n\u001b[1;32m    182\u001b[0m     \u001b[0;32mdef\u001b[0m \u001b[0m__attrs_post_init__\u001b[0m\u001b[0;34m(\u001b[0m\u001b[0mself\u001b[0m\u001b[0;34m)\u001b[0m\u001b[0;34m:\u001b[0m\u001b[0;34m\u001b[0m\u001b[0;34m\u001b[0m\u001b[0m\n\u001b[0;32m--> 183\u001b[0;31m         super(ConstantS, self).__init__(\n\u001b[0m\u001b[1;32m    184\u001b[0m             \u001b[0mself\u001b[0m\u001b[0;34m.\u001b[0m\u001b[0mbeg\u001b[0m\u001b[0;34m,\u001b[0m\u001b[0;34m\u001b[0m\u001b[0;34m\u001b[0m\u001b[0m\n\u001b[1;32m    185\u001b[0m             \u001b[0mself\u001b[0m\u001b[0;34m.\u001b[0m\u001b[0mend\u001b[0m\u001b[0;34m,\u001b[0m\u001b[0;34m\u001b[0m\u001b[0;34m\u001b[0m\u001b[0m\n",
      "\u001b[0;31mTypeError\u001b[0m: __init__(): incompatible constructor arguments. The following argument types are supported:\n    1. fwdpy11._fwdpy11._ll_ConstantS(beg: float, end: float, weight: float, s: float, h: float, coupled: bool, label: int, scaling: float)\n    2. fwdpy11._fwdpy11._ll_ConstantS(beg: float, end: float, weight: float, s: float, h: fwdpy11._fwdpy11.MutationDominance, coupled: bool, label: int, scaling: float)\n\nInvoked with: 0.0, 1.0, 1.0, 0.001, 1.0, True, 65536, 1.0"
     ]
    }
   ],
   "source": [
    "import numpy as np\n",
    "\n",
    "fwdpy11.ConstantS(\n",
    "    beg=0.0, end=1.0, weight=1.0, s=1e-3, label=np.iinfo(np.uint16).max + 1\n",
    ")"
   ]
  }
 ],
 "metadata": {
  "jupytext": {
   "formats": "md:myst",
   "text_representation": {
    "extension": ".md",
    "format_name": "myst"
   }
  },
  "kernelspec": {
   "display_name": "Python 3",
   "language": "python",
   "name": "python3"
  },
  "language_info": {
   "codemirror_mode": {
    "name": "ipython",
    "version": 3
   },
   "file_extension": ".py",
   "mimetype": "text/x-python",
   "name": "python",
   "nbconvert_exporter": "python",
   "pygments_lexer": "ipython3",
   "version": "3.8.12"
  },
  "source_map": [
   11,
   36,
   40,
   44,
   47,
   55,
   61,
   67,
   73,
   79,
   85,
   92,
   98,
   112,
   115,
   133,
   135,
   143
  ]
 },
 "nbformat": 4,
 "nbformat_minor": 5
}
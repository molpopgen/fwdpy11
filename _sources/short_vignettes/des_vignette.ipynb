{
 "cells": [
  {
   "cell_type": "markdown",
   "id": "4100600e",
   "metadata": {},
   "source": [
    "(des_vignette)=\n",
    "\n",
    "# Distributions of effect sizes\n",
    "\n",
    ":::{note}\n",
    "The lists of objects described here are passed to the `sregions` parameter when initializing instances of {class}`fwdpy11.ModelParams`.\n",
    ":::\n",
    "\n",
    "One of the main reasons to perform forward simulations is to be able to model mutations affecting individual fitness.\n",
    "To do so, we need to specify both mutation rates and the resulting effect sizes.\n",
    "\n",
    "`fwdpy11` works by specifying an overall mutation rate to variants affecting fitness (see {ref}`here <model-params>`).\n",
    "Given that a mutation occurs, we need to specify its \"effect size\".\n",
    "\n",
    "`fwdpy11` chooses the effect size of a new mutation by first determining what *region* is mutated and then generating a mutation from the distribution of effect size associated with that region.\n",
    "\n",
    "Each region is represented by instances of classes derived from the ABC {class}`fwdpy11.Sregion`.\n",
    "Each instance is associated with a *weight*.\n",
    "These weights establish the relative probability that a mutation comes from a given region.\n",
    "Thus, given an overall mutation rate to non-neutral variants, instances of \"`sregions`\" are used to set up a multinomial distribution for generating new mutations.\n",
    "\n",
    "The following sets up a model where mutations have a constant effect size ({math}`s=-0.01`), dominance {math}`h=0.25`, and occur uniformly on the interval {math}`[0, 1)`:"
   ]
  },
  {
   "cell_type": "code",
   "execution_count": 1,
   "id": "74a2f18b",
   "metadata": {},
   "outputs": [],
   "source": [
    "import fwdpy11\n",
    "\n",
    "sregions = [fwdpy11.ConstantS(beg=0.0, end=1.0, weight=1.0, s=-0.01, h=0.25)]"
   ]
  },
  {
   "cell_type": "markdown",
   "id": "f3b9ad79",
   "metadata": {},
   "source": [
    "The previous example uses argument names for clarity, and the following is equivalent, with the `int` values getting converted to `float` automatically:"
   ]
  },
  {
   "cell_type": "code",
   "execution_count": 2,
   "id": "559cf112",
   "metadata": {},
   "outputs": [
    {
     "data": {
      "text/plain": [
       "fwdpy11.ConstantS(beg=0, end=1, weight=1, s=-0.01, h=0.25, coupled=True, label=0, scaling=1.0)"
      ]
     },
     "execution_count": 2,
     "metadata": {},
     "output_type": "execute_result"
    }
   ],
   "source": [
    "sregions = [fwdpy11.ConstantS(0, 1, 1, -0.01, 0.25)]\n",
    "sregions[0]"
   ]
  },
  {
   "cell_type": "markdown",
   "id": "5e20b14d",
   "metadata": {},
   "source": [
    "Note that the constructor parameters for these classes often have default values--see the specific class documentation for details. \n",
    "\n",
    "In some scenarios, it is useful to think about the distribution of effect sizes as scaled with respect to the population size.\n",
    "For example, selection coefficients may be exponentially-distributed with a mean of {math}`2Ns`. \n",
    "To do this in `fwdpy11`:"
   ]
  },
  {
   "cell_type": "code",
   "execution_count": 3,
   "id": "5baa9402",
   "metadata": {},
   "outputs": [
    {
     "data": {
      "text/plain": [
       "fwdpy11.ExpS(beg=0, end=1, weight=1, mean=-10, h=1.0, coupled=True, label=0, scaling=2000)"
      ]
     },
     "execution_count": 3,
     "metadata": {},
     "output_type": "execute_result"
    }
   ],
   "source": [
    "# ALPHA = 2Ns\n",
    "MEAN_ALPHA = -10\n",
    "N = 1000\n",
    "sregions = [fwdpy11.ExpS(0, 1, 1, MEAN_ALPHA, scaling=2 * N)]\n",
    "sregions[0]"
   ]
  },
  {
   "cell_type": "markdown",
   "id": "56c9224a",
   "metadata": {},
   "source": [
    "## Region weighting\n",
    "\n",
    "When multiple \"sregion\" objects are used, the default behavior is to multiply the input `weight` by `end-beg`:"
   ]
  },
  {
   "cell_type": "code",
   "execution_count": 4,
   "id": "f6874573",
   "metadata": {},
   "outputs": [
    {
     "data": {
      "text/plain": [
       "[fwdpy11.ExpS(beg=0.0, end=1.0, weight=1.0, mean=-0.2, h=1.0, coupled=True, label=0, scaling=1.0),\n",
       " fwdpy11.ConstantS(beg=1.0, end=3.0, weight=2.0, s=-0.1, h=1.0, coupled=True, label=0, scaling=1.0)]"
      ]
     },
     "execution_count": 4,
     "metadata": {},
     "output_type": "execute_result"
    }
   ],
   "source": [
    "sregions = [\n",
    "   fwdpy11.ExpS(beg=0.0, end=1.0, weight=1.0, mean=-0.2),\n",
    "   fwdpy11.ConstantS(beg=1.0, end=3.0, weight=1.0, s=-0.1),\n",
    "]\n",
    "sregions"
   ]
  },
  {
   "cell_type": "markdown",
   "id": "61e2fe4f",
   "metadata": {},
   "source": [
    "Here, the input `weight` is interpreted to mean the weight \"per site\" is constant.\n",
    "In this example, twice as many mutations will have positions in {math}`[1, 3)` as from {math}`[0, 1)`. \n",
    "To change the default behavior, one can prevent the coupling between input `weight` and region length:"
   ]
  },
  {
   "cell_type": "code",
   "execution_count": 5,
   "id": "0d0bfb1d",
   "metadata": {},
   "outputs": [
    {
     "data": {
      "text/plain": [
       "[fwdpy11.ExpS(beg=0.0, end=1.0, weight=1.0, mean=-0.2, h=1.0, coupled=False, label=0, scaling=1.0),\n",
       " fwdpy11.ConstantS(beg=1.0, end=3.0, weight=1.0, s=-0.1, h=1.0, coupled=False, label=0, scaling=1.0)]"
      ]
     },
     "execution_count": 5,
     "metadata": {},
     "output_type": "execute_result"
    }
   ],
   "source": [
    "sregions = [\n",
    "   fwdpy11.ExpS(beg=0.0, end=1.0, weight=1.0, mean=-0.2, coupled=False),\n",
    "   fwdpy11.ConstantS(beg=1.0, end=3.0, weight=1.0, s=-0.1, coupled=False),\n",
    "]\n",
    "sregions"
   ]
  },
  {
   "cell_type": "markdown",
   "id": "cd23b2f3",
   "metadata": {},
   "source": [
    "The absolute values of the `weight` parameters themselves is irrelevant.\n",
    "The only thing that matters is the *relative* values from region to region.\n",
    "Simulations based on the above examples would give the same results if the `weight` were 42 or 73.06.\n",
    "Therefore, we can recreate our first example with code like the following:"
   ]
  },
  {
   "cell_type": "code",
   "execution_count": 6,
   "id": "2d3f4567",
   "metadata": {},
   "outputs": [
    {
     "data": {
      "text/plain": [
       "[fwdpy11.ExpS(beg=0.0, end=1.0, weight=56.0, mean=-0.2, h=1.0, coupled=False, label=0, scaling=1.0),\n",
       " fwdpy11.ConstantS(beg=1.0, end=3.0, weight=112.0, s=-0.1, h=1.0, coupled=False, label=0, scaling=1.0)]"
      ]
     },
     "execution_count": 6,
     "metadata": {},
     "output_type": "execute_result"
    }
   ],
   "source": [
    "sregions = [\n",
    "   fwdpy11.ExpS(beg=0.0, end=1.0, weight=56.0, mean=-0.2, coupled=False),\n",
    "   fwdpy11.ConstantS(beg=1.0, end=3.0, weight=112.0, s=-0.1, coupled=False),\n",
    "]\n",
    "sregions"
   ]
  },
  {
   "cell_type": "markdown",
   "id": "ffa65822",
   "metadata": {},
   "source": [
    "In the above example, twice as many mutations occur in the second region because the weights have relative values of 2:1.\n",
    "\n",
    ":::{note}\n",
    "\n",
    "Different regions are allowed to overlap, allowing the simulation of concepts like \"coding regions\" where the DFE are a weighted mixture from multiple distributions, etc.\n",
    "\n",
    ":::\n",
    "\n",
    "## Setting the dominance of new mutations\n",
    "\n",
    "The dominance of a new mutation is set by the `h` parameter during initialization:"
   ]
  },
  {
   "cell_type": "code",
   "execution_count": 7,
   "id": "90c7ee7c",
   "metadata": {},
   "outputs": [
    {
     "data": {
      "text/plain": [
       "fwdpy11.ExpS(beg=0.0, end=1.0, weight=1.0, mean=-0.2, h=0.0, coupled=True, label=0, scaling=1.0)"
      ]
     },
     "execution_count": 7,
     "metadata": {},
     "output_type": "execute_result"
    }
   ],
   "source": [
    "fwdpy11.ExpS(beg=0.0, end=1.0, weight=1.0, mean=-0.2, h=1.0)\n",
    "fwdpy11.ExpS(beg=0.0, end=1.0, weight=1.0, mean=-0.2, h=0.0)"
   ]
  },
  {
   "cell_type": "markdown",
   "id": "1ebc1ef6",
   "metadata": {},
   "source": [
    "## Built-in distributions of effect sizes\n",
    "\n",
    "* {class}`fwdpy11.ConstantS`\n",
    "* {class}`fwdpy11.UniformS`\n",
    "* {class}`fwdpy11.ExpS`\n",
    "* {class}`fwdpy11.GammaS`\n",
    "* {class}`fwdpy11.GaussianS`\n",
    "* {class}`fwdpy11.MultivariateGaussianEffects`\n",
    "* {class}`fwdpy11.LogNormalS`\n",
    "* {class}`fwdpy11.DiscreteDESD`\n",
    "\n",
    "## Labelling mutations from different regions\n",
    "\n",
    "It may be of use to know what region a mutation came from.\n",
    "To do so, give a nonzero value to the `label` argument:"
   ]
  },
  {
   "cell_type": "code",
   "execution_count": 8,
   "id": "510cd47f",
   "metadata": {},
   "outputs": [
    {
     "data": {
      "text/plain": [
       "fwdpy11.ConstantS(beg=0.0, end=1.0, weight=1.0, s=0.001, h=1.0, coupled=True, label=1, scaling=1.0)"
      ]
     },
     "execution_count": 8,
     "metadata": {},
     "output_type": "execute_result"
    }
   ],
   "source": [
    "fwdpy11.ConstantS(beg=0.0, end=1.0, weight=1.0, s=1e-3, label=1)"
   ]
  },
  {
   "cell_type": "markdown",
   "id": "d8c0ab4b",
   "metadata": {},
   "source": [
    "At the end of the simulation, mutations from this region will have the `label` value stored in the attribute {attr}`fwdpy11.Mutation.label`.\n",
    "\n",
    "The value of `label` must fit into a 16-bit unsigned integer, *e.g.*, {attr}`numpy.uint16`.\n",
    "Larger values, or negative values, will result in exceptions.\n",
    "The following example tries to use a value one larger than the maximum allowed:"
   ]
  },
  {
   "cell_type": "code",
   "execution_count": 9,
   "id": "4ba0ccdc",
   "metadata": {
    "tags": [
     "raises-exception"
    ]
   },
   "outputs": [
    {
     "ename": "TypeError",
     "evalue": "__init__(): incompatible constructor arguments. The following argument types are supported:\n    1. fwdpy11._fwdpy11._ll_ConstantS(beg: float, end: float, weight: float, s: float, h: float, coupled: bool, label: int, scaling: float)\n    2. fwdpy11._fwdpy11._ll_ConstantS(beg: float, end: float, weight: float, s: float, h: fwdpy11._fwdpy11.MutationDominance, coupled: bool, label: int, scaling: float)\n\nInvoked with: 0.0, 1.0, 1.0, 0.001, 1.0, True, 65536, 1.0",
     "output_type": "error",
     "traceback": [
      "\u001b[0;31m---------------------------------------------------------------------------\u001b[0m",
      "\u001b[0;31mTypeError\u001b[0m                                 Traceback (most recent call last)",
      "Cell \u001b[0;32mIn [9], line 3\u001b[0m\n\u001b[1;32m      1\u001b[0m \u001b[38;5;28;01mimport\u001b[39;00m \u001b[38;5;21;01mnumpy\u001b[39;00m \u001b[38;5;28;01mas\u001b[39;00m \u001b[38;5;21;01mnp\u001b[39;00m\n\u001b[0;32m----> 3\u001b[0m \u001b[43mfwdpy11\u001b[49m\u001b[38;5;241;43m.\u001b[39;49m\u001b[43mConstantS\u001b[49m\u001b[43m(\u001b[49m\n\u001b[1;32m      4\u001b[0m \u001b[43m    \u001b[49m\u001b[43mbeg\u001b[49m\u001b[38;5;241;43m=\u001b[39;49m\u001b[38;5;241;43m0.0\u001b[39;49m\u001b[43m,\u001b[49m\u001b[43m \u001b[49m\u001b[43mend\u001b[49m\u001b[38;5;241;43m=\u001b[39;49m\u001b[38;5;241;43m1.0\u001b[39;49m\u001b[43m,\u001b[49m\u001b[43m \u001b[49m\u001b[43mweight\u001b[49m\u001b[38;5;241;43m=\u001b[39;49m\u001b[38;5;241;43m1.0\u001b[39;49m\u001b[43m,\u001b[49m\u001b[43m \u001b[49m\u001b[43ms\u001b[49m\u001b[38;5;241;43m=\u001b[39;49m\u001b[38;5;241;43m1e-3\u001b[39;49m\u001b[43m,\u001b[49m\u001b[43m \u001b[49m\u001b[43mlabel\u001b[49m\u001b[38;5;241;43m=\u001b[39;49m\u001b[43mnp\u001b[49m\u001b[38;5;241;43m.\u001b[39;49m\u001b[43miinfo\u001b[49m\u001b[43m(\u001b[49m\u001b[43mnp\u001b[49m\u001b[38;5;241;43m.\u001b[39;49m\u001b[43muint16\u001b[49m\u001b[43m)\u001b[49m\u001b[38;5;241;43m.\u001b[39;49m\u001b[43mmax\u001b[49m\u001b[43m \u001b[49m\u001b[38;5;241;43m+\u001b[39;49m\u001b[43m \u001b[49m\u001b[38;5;241;43m1\u001b[39;49m\n\u001b[1;32m      5\u001b[0m \u001b[43m)\u001b[49m\n",
      "File \u001b[0;32m<attrs generated init fwdpy11.regions.ConstantS>:12\u001b[0m, in \u001b[0;36m__init__\u001b[0;34m(self, beg, end, weight, s, h, coupled, label, scaling)\u001b[0m\n\u001b[1;32m     10\u001b[0m _inst_dict[\u001b[38;5;124m'\u001b[39m\u001b[38;5;124mlabel\u001b[39m\u001b[38;5;124m'\u001b[39m] \u001b[38;5;241m=\u001b[39m label\n\u001b[1;32m     11\u001b[0m _inst_dict[\u001b[38;5;124m'\u001b[39m\u001b[38;5;124mscaling\u001b[39m\u001b[38;5;124m'\u001b[39m] \u001b[38;5;241m=\u001b[39m scaling\n\u001b[0;32m---> 12\u001b[0m \u001b[38;5;28;43mself\u001b[39;49m\u001b[38;5;241;43m.\u001b[39;49m\u001b[43m__attrs_post_init__\u001b[49m\u001b[43m(\u001b[49m\u001b[43m)\u001b[49m\n",
      "File \u001b[0;32m~/work/fwdpy11/fwdpy11/fwdpy11/regions.py:137\u001b[0m, in \u001b[0;36mConstantS.__attrs_post_init__\u001b[0;34m(self)\u001b[0m\n\u001b[1;32m    136\u001b[0m \u001b[38;5;28;01mdef\u001b[39;00m \u001b[38;5;21m__attrs_post_init__\u001b[39m(\u001b[38;5;28mself\u001b[39m):\n\u001b[0;32m--> 137\u001b[0m     \u001b[38;5;28;43msuper\u001b[39;49m\u001b[43m(\u001b[49m\u001b[43mConstantS\u001b[49m\u001b[43m,\u001b[49m\u001b[43m \u001b[49m\u001b[38;5;28;43mself\u001b[39;49m\u001b[43m)\u001b[49m\u001b[38;5;241;43m.\u001b[39;49m\u001b[38;5;21;43m__init__\u001b[39;49m\u001b[43m(\u001b[49m\n\u001b[1;32m    138\u001b[0m \u001b[43m        \u001b[49m\u001b[38;5;28;43mself\u001b[39;49m\u001b[38;5;241;43m.\u001b[39;49m\u001b[43mbeg\u001b[49m\u001b[43m,\u001b[49m\n\u001b[1;32m    139\u001b[0m \u001b[43m        \u001b[49m\u001b[38;5;28;43mself\u001b[39;49m\u001b[38;5;241;43m.\u001b[39;49m\u001b[43mend\u001b[49m\u001b[43m,\u001b[49m\n\u001b[1;32m    140\u001b[0m \u001b[43m        \u001b[49m\u001b[38;5;28;43mself\u001b[39;49m\u001b[38;5;241;43m.\u001b[39;49m\u001b[43mweight\u001b[49m\u001b[43m,\u001b[49m\n\u001b[1;32m    141\u001b[0m \u001b[43m        \u001b[49m\u001b[38;5;28;43mself\u001b[39;49m\u001b[38;5;241;43m.\u001b[39;49m\u001b[43ms\u001b[49m\u001b[43m,\u001b[49m\n\u001b[1;32m    142\u001b[0m \u001b[43m        \u001b[49m\u001b[38;5;28;43mself\u001b[39;49m\u001b[38;5;241;43m.\u001b[39;49m\u001b[43mh\u001b[49m\u001b[43m,\u001b[49m\n\u001b[1;32m    143\u001b[0m \u001b[43m        \u001b[49m\u001b[38;5;28;43mself\u001b[39;49m\u001b[38;5;241;43m.\u001b[39;49m\u001b[43mcoupled\u001b[49m\u001b[43m,\u001b[49m\n\u001b[1;32m    144\u001b[0m \u001b[43m        \u001b[49m\u001b[38;5;28;43mself\u001b[39;49m\u001b[38;5;241;43m.\u001b[39;49m\u001b[43mlabel\u001b[49m\u001b[43m,\u001b[49m\n\u001b[1;32m    145\u001b[0m \u001b[43m        \u001b[49m\u001b[38;5;28;43mself\u001b[39;49m\u001b[38;5;241;43m.\u001b[39;49m\u001b[43mscaling\u001b[49m\u001b[43m,\u001b[49m\n\u001b[1;32m    146\u001b[0m \u001b[43m    \u001b[49m\u001b[43m)\u001b[49m\n",
      "\u001b[0;31mTypeError\u001b[0m: __init__(): incompatible constructor arguments. The following argument types are supported:\n    1. fwdpy11._fwdpy11._ll_ConstantS(beg: float, end: float, weight: float, s: float, h: float, coupled: bool, label: int, scaling: float)\n    2. fwdpy11._fwdpy11._ll_ConstantS(beg: float, end: float, weight: float, s: float, h: fwdpy11._fwdpy11.MutationDominance, coupled: bool, label: int, scaling: float)\n\nInvoked with: 0.0, 1.0, 1.0, 0.001, 1.0, True, 65536, 1.0"
     ]
    }
   ],
   "source": [
    "import numpy as np\n",
    "\n",
    "fwdpy11.ConstantS(\n",
    "    beg=0.0, end=1.0, weight=1.0, s=1e-3, label=np.iinfo(np.uint16).max + 1\n",
    ")"
   ]
  }
 ],
 "metadata": {
  "jupytext": {
   "formats": "md:myst",
   "text_representation": {
    "extension": ".md",
    "format_name": "myst"
   }
  },
  "kernelspec": {
   "display_name": "Python 3",
   "language": "python",
   "name": "python3"
  },
  "language_info": {
   "codemirror_mode": {
    "name": "ipython",
    "version": 3
   },
   "file_extension": ".py",
   "mimetype": "text/x-python",
   "name": "python",
   "nbconvert_exporter": "python",
   "pygments_lexer": "ipython3",
   "version": "3.8.14"
  },
  "source_map": [
   11,
   36,
   40,
   44,
   47,
   55,
   61,
   67,
   73,
   79,
   85,
   92,
   98,
   112,
   115,
   133,
   135,
   143
  ]
 },
 "nbformat": 4,
 "nbformat_minor": 5
}
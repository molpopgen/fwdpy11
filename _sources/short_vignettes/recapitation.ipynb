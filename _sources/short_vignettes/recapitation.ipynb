{
 "cells": [
  {
   "cell_type": "markdown",
   "id": "f7b6a726",
   "metadata": {},
   "source": [
    "(recapitation)=\n",
    "\n",
    "# Finishing a simulation with msprime\n",
    "\n",
    "This example is complementary to {ref}`precapitation`.\n",
    "Rather than starting with a tree sequence from `msprime`, we instead finish a simulation by \"coalescing back\" the first generation of the simulation using `msprime`.\n",
    "{cite}`Haller2019-mn` refer to this procedure as \"recapitation\" of a tree sequence.\n",
    "In order for recapitation to work correctly, we must pass `preserve_first_generation=True` to {func}`fwdpy11.evolvets`.\n",
    "\n",
    "First, we'll simulate a population for 10 generations:"
   ]
  },
  {
   "cell_type": "code",
   "execution_count": 1,
   "id": "5ae2a32e",
   "metadata": {},
   "outputs": [],
   "source": [
    "import fwdpy11\n",
    "\n",
    "pop = fwdpy11.DiploidPopulation(100, 1000.0)\n",
    "\n",
    "pdict = {\"rates\": (0.0, 0.0, 0.0),\n",
    "         \"gvalue\": fwdpy11.Multiplicative(2.),\n",
    "         \"simlen\": 10,\n",
    "        }\n",
    "params = fwdpy11.ModelParams(**pdict)\n",
    "rng = fwdpy11.GSLrng(54321)\n",
    "\n",
    "# We must preserve the founder generation:\n",
    "fwdpy11.evolvets(rng, pop, params, 100, preserve_first_generation=True)\n",
    "\n",
    "assert pop.generation == 10\n"
   ]
  },
  {
   "cell_type": "markdown",
   "id": "b33068f9",
   "metadata": {},
   "source": [
    "Now we use `msprime` to coalesce the founder generation roots back to a common ancestor:"
   ]
  },
  {
   "cell_type": "code",
   "execution_count": 2,
   "id": "47979560",
   "metadata": {},
   "outputs": [
    {
     "name": "stdout",
     "output_type": "stream",
     "text": [
      "200 1\n"
     ]
    }
   ],
   "source": [
    "import msprime\n",
    "\n",
    "# Convert to tskit format\n",
    "ts = pop.dump_tables_to_tskit()\n",
    "\n",
    "num_roots_pre_recapitation = ts.first().num_roots\n",
    "\n",
    "recapitated_ts = msprime.simulate(from_ts=ts)\n",
    "\n",
    "print(num_roots_pre_recapitation, recapitated_ts.first().num_roots)"
   ]
  }
 ],
 "metadata": {
  "jupytext": {
   "formats": "md:myst",
   "text_representation": {
    "extension": ".md",
    "format_name": "myst"
   }
  },
  "kernelspec": {
   "display_name": "Python 3",
   "language": "python",
   "name": "python3"
  },
  "language_info": {
   "codemirror_mode": {
    "name": "ipython",
    "version": 3
   },
   "file_extension": ".py",
   "mimetype": "text/x-python",
   "name": "python",
   "nbconvert_exporter": "python",
   "pygments_lexer": "ipython3",
   "version": "3.8.14"
  },
  "source_map": [
   11,
   25,
   42,
   46
  ]
 },
 "nbformat": 4,
 "nbformat_minor": 5
}
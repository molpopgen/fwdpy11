{
 "cells": [
  {
   "cell_type": "markdown",
   "id": "35acf5e4",
   "metadata": {},
   "source": [
    "(recorders_vignette)=\n",
    "\n",
    "# Recording data during a simulation\n",
    "\n",
    "In order to facilitate time-series analyses, you may pass a callable object to {meth}`fwdpy11.evolvets`.\n",
    "The following boiler plate illustrates the requirements for the callable objects in both `Python` and in `C++`:\n",
    "\n",
    "```{tabbed} python\n",
    "\n",
    ":::{code-block} python\n",
    "class Recorder(object):\n",
    "    def __call__(self, pop: fwdpy11.DiploidPopulation, sampler: fwdpy11.SampleRecorder):\n",
    "        pass\n",
    ":::\n",
    "```\n",
    "\n",
    "```{tabbed} c++\n",
    "\n",
    ":::{code-block} c++\n",
    "#include <fwdpy11/evolvets/SampleRecorder.hpp>\n",
    "#include <fwdpy11/types/DiploidPopulation.hpp>\n",
    "\n",
    "struct Recorder {\n",
    "    void operator()(const fwdpy11::DiploidPopulation & pop,\n",
    "                    fwdpy11::SampleRecorder & sampler)\n",
    "    {\n",
    "    }\n",
    "};\n",
    ":::\n",
    "```\n",
    "\n",
    "The remainder of this vignette will only cover `Python`.\n",
    "The arguments to `__call__` are an instance of {class}`fwdpy11.DiploidPopulation` and {class}`fwdpy11.SampleRecorder`, respectively.\n",
    "The latter allows one to record \"ancient samples\" during a simulation, which we discuss more below.\n",
    "\n",
    ":::{note}\n",
    "Given that you can pass in any valid Python object, you can record anything you can imagine based on attributes of {class}`fwdpy11.DiploidPopulation`.\n",
    "Further, as many of those attributes can be viewed as {class}`numpy.ndarray` or {class}`numpy.recarray`, you may use any Python library compatible with those types.\n",
    "\n",
    "You can also process the genealogy of the population.\n",
    "Doing so is an advanced topic, which we deal with in a later vignette.\n",
    ":::\n",
    "\n",
    ":::{todo}\n",
    "Write vignette showing how to access the tree sequences during a simulation.\n",
    ":::\n",
    "\n",
    "Let's return to the model from the previous vignette.\n",
    "We will implement a recorder to track the mean trait value and fitness of the entire population over time.\n",
    "\n",
    "That recorder object will look like this:"
   ]
  },
  {
   "cell_type": "code",
   "execution_count": 1,
   "id": "482e812d",
   "metadata": {},
   "outputs": [],
   "source": [
    "import fwdpy11\n",
    "import numpy as np\n",
    "\n",
    "class Recorder(object):\n",
    "    def __init__(self):\n",
    "        self.generation = []\n",
    "        self.mean_trait_value = []\n",
    "        self.mean_fitness = []\n",
    "        \n",
    "    def __call__(self, pop, sampler):\n",
    "        md = np.array(pop.diploid_metadata, copy=False)\n",
    "        self.generation.append(pop.generation)\n",
    "        self.mean_trait_value.append(md['g'].mean())\n",
    "        self.mean_fitness.append(md['w'].mean())"
   ]
  },
  {
   "cell_type": "markdown",
   "id": "6a219cad",
   "metadata": {},
   "source": [
    "The details of the simulation model follow, but are hidden by default as they repeat material from the previous vignette."
   ]
  },
  {
   "cell_type": "code",
   "execution_count": 2,
   "id": "eb88dcc1",
   "metadata": {
    "tags": [
     "hide-input"
    ]
   },
   "outputs": [],
   "source": [
    "pop = fwdpy11.DiploidPopulation(500, 1.0)\n",
    "\n",
    "rng = fwdpy11.GSLrng(54321)\n",
    "\n",
    "GSSmo = fwdpy11.GSSmo(\n",
    "    [\n",
    "        fwdpy11.Optimum(when=0, optimum=0.0, VS=1.0),\n",
    "        fwdpy11.Optimum(when=pop.N, optimum=1.0, VS=1.0),\n",
    "    ]\n",
    ")\n",
    "\n",
    "rho = 1000.\n",
    "\n",
    "des = fwdpy11.GaussianS(beg=0, end=1, weight=1, sd=0.1,\n",
    "    h=fwdpy11.LargeEffectExponentiallyRecessive(k=5.0))\n",
    "\n",
    "p = {\n",
    "    \"nregions\": [],\n",
    "    \"gvalue\": fwdpy11.Additive(2.0, GSSmo),\n",
    "    \"sregions\": [des],\n",
    "    \"recregions\": [fwdpy11.PoissonInterval(0, 1., rho / float(4 * pop.N))],\n",
    "    \"rates\": (0.0, 1e-3, None),\n",
    "    \"prune_selected\": False,\n",
    "    \"demography\": fwdpy11.DiscreteDemography(),\n",
    "    \"simlen\": pop.N + 200,\n",
    "}\n",
    "params = fwdpy11.ModelParams(**p)"
   ]
  },
  {
   "cell_type": "markdown",
   "id": "75100cbd",
   "metadata": {},
   "source": [
    "We now pass in our callable to {meth}`fwdpy11.evolvets`:"
   ]
  },
  {
   "cell_type": "code",
   "execution_count": 3,
   "id": "3fe46004",
   "metadata": {},
   "outputs": [],
   "source": [
    "recorder = Recorder()\n",
    "fwdpy11.evolvets(rng, pop, params, recorder=recorder, simplification_interval=100) "
   ]
  },
  {
   "cell_type": "markdown",
   "id": "72bfdca3",
   "metadata": {},
   "source": [
    "Plotting our results:"
   ]
  },
  {
   "cell_type": "code",
   "execution_count": 4,
   "id": "277811a6",
   "metadata": {},
   "outputs": [
    {
     "data": {
      "image/png": "[encoded data removed]",
      "text/plain": [
       "<Figure size 432x288 with 1 Axes>"
      ]
     },
     "metadata": {
      "filenames": {
       "image/png": "/home/runner/work/fwdpy11/fwdpy11/doc/_build/jupyter_execute/short_vignettes/recorders_vignette_7_0.png"
      },
      "needs_background": "light"
     },
     "output_type": "display_data"
    }
   ],
   "source": [
    "import matplotlib.pyplot as plt\n",
    "\n",
    "f, ax = plt.subplots()\n",
    "ax.plot(recorder.generation, recorder.mean_trait_value, label=r'$\\bar{g}$')\n",
    "ax.plot(recorder.generation, recorder.mean_fitness, label=r'$\\bar{w}$')\n",
    "ax.set_xlabel('Generation')\n",
    "ax.set_ylabel('Value')\n",
    "ax.legend(loc='best');"
   ]
  },
  {
   "cell_type": "markdown",
   "id": "eb40fac9",
   "metadata": {},
   "source": [
    "(ancient_samples_vignette)=\n",
    "\n",
    "## Recording ancient samples\n",
    "\n",
    "Let's write a new class that \"preserves\" a random number of individuals each generation.\n",
    "This recording preserves their nodes in the {class}`fwdpy11.TableCollection` and their meta data in {attr}`fwdpy11.DiploidPopulation.ancient_sample_metadata`.\n",
    "\n",
    "Our class will also do all of the same operations that `Recorder` did."
   ]
  },
  {
   "cell_type": "code",
   "execution_count": 5,
   "id": "2c7ed665",
   "metadata": {},
   "outputs": [],
   "source": [
    "class RandomSamples(object):\n",
    "    def __init__(self, nsam):\n",
    "        self.nsam = nsam\n",
    "        self.generation = []\n",
    "        self.mean_trait_value = []\n",
    "        self.mean_fitness = []\n",
    "        \n",
    "    def __call__(self, pop, sampler):\n",
    "        md = np.array(pop.diploid_metadata, copy=False)\n",
    "        self.generation.append(pop.generation)\n",
    "        self.mean_trait_value.append(md['g'].mean())\n",
    "        self.mean_fitness.append(md['w'].mean())\n",
    "        sampler.assign(np.random.choice(pop.N, self.nsam, replace=False))"
   ]
  },
  {
   "cell_type": "markdown",
   "id": "ba9985fc",
   "metadata": {},
   "source": [
    "To run this, we first create a new population, random number generator, and model parameters object.\n",
    "We need a new model parameters instance because the one used above has already applied the optimum shift.\n",
    "Thus, we need to rebuild the `gvalue` field."
   ]
  },
  {
   "cell_type": "code",
   "execution_count": 6,
   "id": "ed8ab29f",
   "metadata": {},
   "outputs": [],
   "source": [
    "import pickle\n",
    "pop = fwdpy11.DiploidPopulation(500, 1.0)\n",
    "rng = fwdpy11.GSLrng(54321)\n",
    "p['gvalue'] = fwdpy11.Additive(2.0, GSSmo)\n",
    "params = fwdpy11.ModelParams(**p)\n",
    "recorder = RandomSamples(5)\n",
    "fwdpy11.evolvets(rng, pop, params, recorder=recorder, simplification_interval=100) "
   ]
  },
  {
   "cell_type": "markdown",
   "id": "b8ba1853",
   "metadata": {},
   "source": [
    "We now want to recreate the plot from above, but with the values from our ancient samples shown as dots.\n",
    "Analyzing each time point separately is a common operation made easier by {meth}`fwdpy11.DiploidPopulation.sample_timepoints`."
   ]
  },
  {
   "cell_type": "code",
   "execution_count": 7,
   "id": "458d649b",
   "metadata": {},
   "outputs": [],
   "source": [
    "ancient_generation = []\n",
    "ancient_mean_trait_value = []\n",
    "ancient_mean_fitness = []\n",
    "for g, nodes, md in pop.sample_timepoints(include_alive=False):\n",
    "    ancient_generation.append(g)\n",
    "    ancient_mean_trait_value.append(md['g'].mean())\n",
    "    ancient_mean_fitness.append(md['w'].mean())"
   ]
  },
  {
   "cell_type": "markdown",
   "id": "4e79b541",
   "metadata": {},
   "source": [
    "Finally, the plot:"
   ]
  },
  {
   "cell_type": "code",
   "execution_count": 8,
   "id": "ad4a182c",
   "metadata": {},
   "outputs": [
    {
     "data": {
      "image/png": "[encoded data removed]",
      "text/plain": [
       "<Figure size 432x288 with 1 Axes>"
      ]
     },
     "metadata": {
      "filenames": {
       "image/png": "/home/runner/work/fwdpy11/fwdpy11/doc/_build/jupyter_execute/short_vignettes/recorders_vignette_15_0.png"
      },
      "needs_background": "light"
     },
     "output_type": "display_data"
    }
   ],
   "source": [
    "f, ax = plt.subplots()\n",
    "ax.scatter(ancient_generation, ancient_mean_trait_value,\n",
    "           alpha=0.1, label=r'$\\bar{g}_{n}$')\n",
    "ax.scatter(ancient_generation, ancient_mean_fitness,\n",
    "           alpha=0.1, label=r'$\\bar{w}_{n}$')\n",
    "ax.plot(recorder.generation, recorder.mean_trait_value,\n",
    "        color='purple',\n",
    "        alpha=1, label=r'$\\bar{g}$')\n",
    "ax.plot(recorder.generation, recorder.mean_fitness,\n",
    "        color='brown',\n",
    "        alpha=1, label=r'$\\bar{w}$')\n",
    "ax.set_xlabel('Generation')\n",
    "ax.set_ylabel('Value')\n",
    "ax.legend(loc='best');"
   ]
  },
  {
   "cell_type": "markdown",
   "id": "c4a42499",
   "metadata": {},
   "source": [
    "### Built-in ancient sample recorders\n",
    "\n",
    "* {class}`fwdpy11.RandomAncientSamples`"
   ]
  }
 ],
 "metadata": {
  "jupytext": {
   "formats": "md:myst",
   "text_representation": {
    "extension": ".md",
    "format_name": "myst"
   }
  },
  "kernelspec": {
   "display_name": "Python 3",
   "language": "python",
   "name": "python3"
  },
  "language_info": {
   "codemirror_mode": {
    "name": "ipython",
    "version": 3
   },
   "file_extension": ".py",
   "mimetype": "text/x-python",
   "name": "python",
   "nbconvert_exporter": "python",
   "pygments_lexer": "ipython3",
   "version": "3.8.12"
  },
  "source_map": [
   11,
   65,
   80,
   84,
   115,
   119,
   122,
   126,
   135,
   146,
   160,
   166,
   174,
   180,
   188,
   192,
   207
  ]
 },
 "nbformat": 4,
 "nbformat_minor": 5
}
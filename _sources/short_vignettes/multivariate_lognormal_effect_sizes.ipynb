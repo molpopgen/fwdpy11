{
 "cells": [
  {
   "cell_type": "markdown",
   "id": "bcd4a264",
   "metadata": {},
   "source": [
    "(multivariate_lognormal_effect_sizes_vignette)=\n",
    "\n",
    "# The multivariate lognormal distribution"
   ]
  },
  {
   "cell_type": "code",
   "execution_count": 1,
   "id": "a81c2827",
   "metadata": {
    "tags": [
     "hide-input"
    ]
   },
   "outputs": [],
   "source": [
    "import demes\n",
    "import demesdraw\n",
    "import fwdpy11\n",
    "import numpy as np"
   ]
  },
  {
   "cell_type": "markdown",
   "id": "a30a05b4",
   "metadata": {},
   "source": [
    "If {math}`X` is a multivariate Gaussian distribution, {math}`N(\\mathbf{\\mu}, \\mathbf{\\sum})`, where {math}`\\mathbf{\\mu}` is a vector of mean values and\n",
    "{math}`\\mathbf{\\sum}` is the covariance matrix, then {math}`Y = e^X` is a\n",
    "multivariate lognormal random variable with mean {math}`E[Y]_i = e^{\\mu_i + \\frac{1}{2}\\sum_{ii}}` and covariance matrix {math}`Var[Y]_{i,j} = e^{\\mu_i + \\mu_j + \\frac{1}{2}(\\sum_{ii} + \\sum_{jj})}(e^{\\sum_{ij}}-1)`.\n",
    "\n",
    "To specify a multivariate lognormal distribution of effect sizes, we use\n",
    "the static class method {func}`fwdpy11.LogNormalS.mv`.  The following code\n",
    "constructs a distribution of effect sizes such that `-2Ns` (where `N` is the\n",
    "size of a single deme) is a multivariate lognormal with means zero and an\n",
    "identity matrix as a covariance matrix used to specify the multivariate\n",
    "Gaussian kernel."
   ]
  },
  {
   "cell_type": "code",
   "execution_count": 2,
   "id": "9d332438",
   "metadata": {},
   "outputs": [],
   "source": [
    "mvdes = fwdpy11.mvDES(\n",
    "    fwdpy11.LogNormalS.mv(0, 1, 1, scaling=-200), np.zeros(2), np.identity(2)\n",
    ")"
   ]
  },
  {
   "cell_type": "markdown",
   "id": "acaa40e3",
   "metadata": {},
   "source": [
    ":::{note}\n",
    "\n",
    "The lognormal distribution returns deviates {math}`> 0`.\n",
    "To model deleterious mutations/effect sizes < 0, use the\n",
    "`scaling` parameter with a negative value like we just did!\n",
    "\n",
    ":::\n",
    "\n",
    "Let's put it in a simulation and run it.\n",
    "We will simulate a demographic model of migration happening into the infinite past of two equal-sized demes:"
   ]
  },
  {
   "cell_type": "code",
   "execution_count": 3,
   "id": "020b8c33",
   "metadata": {
    "tags": [
     "hide-input"
    ]
   },
   "outputs": [
    {
     "data": {
      "image/png": "[encoded data removed]",
      "text/plain": [
       "<Figure size 853.333x480 with 1 Axes>"
      ]
     },
     "metadata": {
      "filenames": {
       "image/png": "/home/runner/work/fwdpy11/fwdpy11/doc/_build/jupyter_execute/short_vignettes/multivariate_lognormal_effect_sizes_5_0.png"
      }
     },
     "output_type": "display_data"
    }
   ],
   "source": [
    "yaml = \"\"\"\n",
    "description: Island model forever\n",
    "time_units: generations\n",
    "demes:\n",
    "  - name: A\n",
    "    epochs:\n",
    "     - start_size: 100\n",
    "  - name: B\n",
    "    epochs:\n",
    "     - start_size: 100\n",
    "migrations:\n",
    "  - demes: [A, B]\n",
    "    rate: 0.10\n",
    "\"\"\"\n",
    "g = demes.loads(yaml)\n",
    "model = fwdpy11.discrete_demography.from_demes(g, burnin=1)\n",
    "demesdraw.tubes(g);"
   ]
  },
  {
   "cell_type": "code",
   "execution_count": 4,
   "id": "755b1cff",
   "metadata": {},
   "outputs": [],
   "source": [
    "pdict = {\n",
    "    \"nregions\": [],\n",
    "    \"recregions\": [],\n",
    "    \"sregions\": [mvdes],\n",
    "    \"rates\": (0, 5e-3, None),\n",
    "    \"demography\": model,\n",
    "    \"simlen\": model.metadata[\"total_simulation_length\"],\n",
    "    \"gvalue\": fwdpy11.Multiplicative(ndemes=2, scaling=2),\n",
    "}\n",
    "params = fwdpy11.ModelParams(**pdict)\n",
    "# TODO: update this once we have a function to pull the sizes\n",
    "# automatically from demes-derived models:\n",
    "pop = fwdpy11.DiploidPopulation([v for v in model.metadata[\"initial_sizes\"].values()], 1.0)\n",
    "rng = fwdpy11.GSLrng(42)\n",
    "fwdpy11.evolvets(rng, pop, params, 10)\n",
    "assert len(pop.tables.mutations) > 0"
   ]
  },
  {
   "cell_type": "markdown",
   "id": "6d55fef6",
   "metadata": {},
   "source": [
    "Now, let's print out the effect sizes in demes 0 and 1, respectively:"
   ]
  },
  {
   "cell_type": "code",
   "execution_count": 5,
   "id": "cb81c748",
   "metadata": {},
   "outputs": [
    {
     "name": "stdout",
     "output_type": "stream",
     "text": [
      "[-0.00311311 -0.00282681]\n",
      "[-0.00621349 -0.00201411]\n",
      "[-0.01377296 -0.0185767 ]\n",
      "[-0.00084441 -0.00247911]\n",
      "[-0.0107324  -0.01124834]\n",
      "[-0.00201952 -0.01139331]\n",
      "[-0.00710887 -0.0048086 ]\n",
      "[-0.00052882 -0.00724031]\n",
      "[-0.00637634 -0.00197902]\n",
      "[-0.00199968 -0.00308534]\n",
      "[-0.04024832 -0.00494334]\n",
      "[-0.00249829 -0.00445622]\n",
      "[-0.00278211 -0.00062715]\n"
     ]
    }
   ],
   "source": [
    "for i in pop.tables.mutations:\n",
    "    print(pop.mutations[i.key].esizes)"
   ]
  }
 ],
 "metadata": {
  "jupytext": {
   "formats": "md:myst",
   "text_representation": {
    "extension": ".md",
    "format_name": "myst"
   }
  },
  "kernelspec": {
   "display_name": "Python 3",
   "language": "python",
   "name": "python3"
  },
  "language_info": {
   "codemirror_mode": {
    "name": "ipython",
    "version": 3
   },
   "file_extension": ".py",
   "mimetype": "text/x-python",
   "name": "python",
   "nbconvert_exporter": "python",
   "pygments_lexer": "ipython3",
   "version": "3.10.10"
  },
  "source_map": [
   11,
   17,
   25,
   38,
   42,
   55,
   78,
   95,
   99
  ]
 },
 "nbformat": 4,
 "nbformat_minor": 5
}
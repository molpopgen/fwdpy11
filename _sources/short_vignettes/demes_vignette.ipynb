{
 "cells": [
  {
   "cell_type": "markdown",
   "id": "7c2a2bfb",
   "metadata": {},
   "source": [
    "(demes_vignette)=\n",
    "\n",
    "# Using `demes` to specify demographic models.\n",
    "\n",
    ":::{note}\n",
    "The lists of objects described here are passed to the `demography` and `simlen` parameters when initializing instances of {class}`fwdpy11.ModelParams`.\n",
    ":::\n",
    "\n",
    "Starting with version `0.14.0`, it is possible to specify a demographic model using the [`demes`](https://popsim-consortium.github.io/demes-docs/main/) specification.\n",
    "This method of specifying models uses a `YAML` syntax, which is described in detail in the [`demes specification`](https://popsim-consortium.github.io/demes-spec-docs/main/reference.html).\n",
    "\n",
    "It is a good idea to browse both the [tutorial](https://popsim-consortium.github.io/demes-spec-docs/main/tutorial.html) and the [gallery](https://popsim-consortium.github.io/demes-spec-docs/main/gallery.html#sec-gallery) before continuing.\n",
    "\n",
    "There are several advantages to using `demes`:\n",
    "\n",
    "* The `YAML` files can be used by many pieces of related software, including [`msprime`](https://tskit.dev/msprime/docs/stable/) and [`moments`](https://moments.readthedocs.io).\n",
    "* You'll get an extra layer of model validation when `demes` loads your model prior to it being converted into `fwpdy11` objects.\n",
    "* Tools to visualize the models are under active development.\n",
    "\n",
    "## YAML input\n",
    "\n",
    "The following `YAML` specifies a model of a derived population created\n",
    "from unequal admixture of two ancestral populations 50 generations ago:"
   ]
  },
  {
   "cell_type": "code",
   "execution_count": 1,
   "id": "27b26bbc",
   "metadata": {},
   "outputs": [],
   "source": [
    "yaml=\"\"\"\n",
    "description: An example demes model\n",
    "time_units: generations\n",
    "demes:\n",
    " - name: ancestor1\n",
    "   epochs:\n",
    "    - start_size: 100\n",
    "      end_time: 50\n",
    " - name: ancestor2\n",
    "   epochs:\n",
    "    - start_size: 250\n",
    "      end_time: 50\n",
    " - name: admixed\n",
    "   start_time: 50\n",
    "   ancestors: [ancestor1, ancestor2]\n",
    "   proportions: [0.90, 0.10]\n",
    "   epochs:\n",
    "    - start_size: 100\n",
    "\"\"\""
   ]
  },
  {
   "cell_type": "markdown",
   "id": "5d3d9f7b",
   "metadata": {},
   "source": [
    "A visual representation of the model looks like:"
   ]
  },
  {
   "cell_type": "code",
   "execution_count": 2,
   "id": "ed9c3991",
   "metadata": {
    "tags": [
     "hide-input"
    ]
   },
   "outputs": [
    {
     "data": {
      "image/png": "[encoded data removed]",
      "text/plain": [
       "<Figure size 853.333x480 with 1 Axes>"
      ]
     },
     "metadata": {
      "filenames": {
       "image/png": "/home/runner/work/fwdpy11/fwdpy11/doc/_build/jupyter_execute/short_vignettes/demes_vignette_3_0.png"
      }
     },
     "output_type": "display_data"
    }
   ],
   "source": [
    "import demes\n",
    "import demesdraw\n",
    "graph = demes.loads(yaml)\n",
    "demesdraw.tubes(graph);"
   ]
  },
  {
   "cell_type": "markdown",
   "id": "f34c57b1",
   "metadata": {},
   "source": [
    "We can generate demographic models directly from these `YAML` files using\n",
    "{func}`fwdpy11.ForwardDemesGraph.from_demes`."
   ]
  },
  {
   "cell_type": "code",
   "execution_count": 3,
   "id": "913dc1c4",
   "metadata": {},
   "outputs": [],
   "source": [
    "import fwdpy11\n",
    "\n",
    "demography = fwdpy11.ForwardDemesGraph.from_demes(yaml, burnin=100, burnin_is_exact=True)"
   ]
  },
  {
   "cell_type": "markdown",
   "id": "ed09f726",
   "metadata": {},
   "source": [
    "The previous command defines a model where we evolve the population for 100 generations\n",
    "of a \"burn-in\".\n",
    "When `burnin_is_exact=False`, the value passed to `burnin` is treated as a multiple\n",
    "of the **sum** of all ancestral deme sizes (those having a start time of `inf`\n",
    "in the demes model).\n",
    "\n",
    ":::{note}\n",
    "Be sure to read the documentation for {func}`fwdpy11.ForwardDemesGraph.from_demes`!\n",
    "There are important options concerning the run time of the simulation, etc.\n",
    ":::\n",
    "\n",
    "The return value is an instance of {class}`fwdpy11.ForwardDemesGraph`.\n",
    "The object contains several properties that are useful in setting up your\n",
    "simulation.\n",
    "\n",
    "First, the sizes of all demes extant at generation zero:"
   ]
  },
  {
   "cell_type": "code",
   "execution_count": 4,
   "id": "765acc25",
   "metadata": {},
   "outputs": [
    {
     "data": {
      "text/plain": [
       "[100, 250]"
      ]
     },
     "execution_count": 4,
     "metadata": {},
     "output_type": "execute_result"
    }
   ],
   "source": [
    "demography.initial_sizes"
   ]
  },
  {
   "cell_type": "markdown",
   "id": "1cd0fdc2",
   "metadata": {},
   "source": [
    "This property can be used to correctly initialize a population:"
   ]
  },
  {
   "cell_type": "code",
   "execution_count": 5,
   "id": "f67d75ce",
   "metadata": {},
   "outputs": [
    {
     "name": "stdout",
     "output_type": "stream",
     "text": [
      "(array([0, 1], dtype=int32), array([100, 250]))\n"
     ]
    }
   ],
   "source": [
    "pop = fwdpy11.DiploidPopulation(demography.initial_sizes, 1000.)\n",
    "print(pop.deme_sizes())"
   ]
  },
  {
   "cell_type": "markdown",
   "id": "e6d3f326",
   "metadata": {},
   "source": [
    "The generation corresponding to the end of the model:"
   ]
  },
  {
   "cell_type": "code",
   "execution_count": 6,
   "id": "73fc4fb6",
   "metadata": {},
   "outputs": [
    {
     "data": {
      "text/plain": [
       "150"
      ]
     },
     "execution_count": 6,
     "metadata": {},
     "output_type": "execute_result"
    }
   ],
   "source": [
    "demography.final_generation"
   ]
  },
  {
   "cell_type": "markdown",
   "id": "27ea044b",
   "metadata": {},
   "source": [
    "We can now set up our simulation parameters:"
   ]
  },
  {
   "cell_type": "code",
   "execution_count": 7,
   "id": "d965570d",
   "metadata": {},
   "outputs": [],
   "source": [
    "pdict = {'simlen': demography.final_generation,\n",
    "         'demography': demography,\n",
    "         # Everything below is standard\n",
    "         # and covered in other vignettes\n",
    "         'recregions': [],\n",
    "         'nregions': [],\n",
    "         'sregions': [],\n",
    "         'rates': (0,0,0),\n",
    "         'gvalue': fwdpy11.Multiplicative(2.)\n",
    "         }\n",
    "params = fwdpy11.ModelParams(**pdict)"
   ]
  },
  {
   "cell_type": "markdown",
   "id": "a334cef0",
   "metadata": {},
   "source": [
    "We are now ready to run a simulaton:\n",
    "\n",
    "* We have a valid {class}`fwdpy11.ModelParams` object.\n",
    "* Our population has its initial sizes correctly set.\n",
    "\n",
    "## Obtaining the demes present at the end of a simulation"
   ]
  },
  {
   "cell_type": "code",
   "execution_count": 8,
   "id": "7313bae3",
   "metadata": {},
   "outputs": [
    {
     "data": {
      "text/plain": [
       "[2]"
      ]
     },
     "execution_count": 8,
     "metadata": {},
     "output_type": "execute_result"
    }
   ],
   "source": [
    "demography.demes_at_final_generation"
   ]
  },
  {
   "cell_type": "markdown",
   "id": "9ec4e7f1",
   "metadata": {},
   "source": [
    "To get the names of those demes:"
   ]
  },
  {
   "cell_type": "code",
   "execution_count": 9,
   "id": "cbc690ed",
   "metadata": {},
   "outputs": [
    {
     "name": "stdout",
     "output_type": "stream",
     "text": [
      "admixed\n"
     ]
    }
   ],
   "source": [
    "for deme in demography.demes_at_final_generation:\n",
    "    print(demography.deme_labels[deme])"
   ]
  },
  {
   "cell_type": "markdown",
   "id": "40b4ffbe",
   "metadata": {},
   "source": [
    "It is probably useful to read more about how ``fwdpy11`` handles ``demes``\n",
    "models {ref}`here <demes_details>`."
   ]
  }
 ],
 "metadata": {
  "jupytext": {
   "formats": "md:myst",
   "text_representation": {
    "extension": ".md",
    "format_name": "myst"
   }
  },
  "kernelspec": {
   "display_name": "Python 3",
   "language": "python",
   "name": "python3"
  },
  "language_info": {
   "codemirror_mode": {
    "name": "ipython",
    "version": 3
   },
   "file_extension": ".py",
   "mimetype": "text/x-python",
   "name": "python",
   "nbconvert_exporter": "python",
   "pygments_lexer": "ipython3",
   "version": "3.10.10"
  },
  "source_map": [
   11,
   37,
   57,
   61,
   69,
   74,
   78,
   97,
   99,
   103,
   106,
   110,
   112,
   116,
   128,
   137,
   139,
   143,
   146
  ]
 },
 "nbformat": 4,
 "nbformat_minor": 5
}
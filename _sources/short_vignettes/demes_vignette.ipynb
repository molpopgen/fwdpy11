{
 "cells": [
  {
   "cell_type": "markdown",
   "id": "f2deb53a",
   "metadata": {},
   "source": [
    "(demes_vignette)=\n",
    "\n",
    "# Using `demes` to specify demographic models.\n",
    "\n",
    ":::{note}\n",
    "The lists of objects described here are passed to the `demography` and `simlen` parameters when initializing instances of {class}`fwdpy11.ModelParams`.\n",
    ":::\n",
    "\n",
    "Starting with version `0.14.0`, it is possible to specify a demographic model using the [`demes`](https://popsim-consortium.github.io/demes-docs/main/) specification.\n",
    "This method of specifying models uses a `YAML` syntax, which is described in detail in the [`demes specification`](https://popsim-consortium.github.io/demes-spec-docs/main/reference.html).\n",
    "\n",
    "It is a good idea to browse both the [tutorial](https://popsim-consortium.github.io/demes-spec-docs/main/tutorial.html) and the [gallery](https://popsim-consortium.github.io/demes-spec-docs/main/gallery.html#sec-gallery) before continuing.\n",
    "\n",
    "There are several advantages to using `demes`:\n",
    "\n",
    "* The `YAML` files can be used by many pieces of related software, including [`msprime`](https://tskit.dev/msprime/docs/stable/) and [`moments`](https://moments.readthedocs.io).\n",
    "* The specification is simpler than the low-level `API` provided by any of these tools.\n",
    "* You'll get an extra layer of model validation when `demes` loads your model prior to it being converted into `fwpdy11` objects.\n",
    "* Tools to visualize the models are under active development.\n",
    "\n",
    "## YAML file input\n",
    "\n",
    "The following `YAML` specifies the human out-of-Africa model from {cite}`Gutenkunst2009-wd`:\n",
    "\n",
    "```{literalinclude} gutenkunst_ooa.yml\n",
    ":language: yaml\n",
    "```\n",
    "\n",
    "We can generate demographic models directly from these `YAML` files using {func}`fwdpy11.discrete_demography.from_demes`, which handles the conversion to the low-level objects described {ref}`here <softselection>`:"
   ]
  },
  {
   "cell_type": "code",
   "execution_count": 1,
   "id": "3774e1f0",
   "metadata": {},
   "outputs": [],
   "source": [
    "import fwdpy11\n",
    "\n",
    "model = fwdpy11.discrete_demography.from_demes(\"gutenkunst_ooa.yml\")"
   ]
  },
  {
   "cell_type": "markdown",
   "id": "db9c4ea1",
   "metadata": {},
   "source": [
    ":::{note}\n",
    "Be sure to read the documentation for {func}`fwdpy11.discrete_demography.from_demes`!\n",
    "There are important options concerning the run time of the simulation, etc.\n",
    ":::\n",
    "\n",
    "The return value is an instance of {class}`fwdpy11.demographic_models.DemographicModelDetails` and may be passed as the `demography` keyword argument to initialize an instance of {class}`fwdpy11.ModelParams`.\n",
    "To extract the simulation length to generate the `simlen` parameter of your {class}`fwdpy11.ModelParams` instance:"
   ]
  },
  {
   "cell_type": "code",
   "execution_count": 2,
   "id": "ed3bd88a",
   "metadata": {},
   "outputs": [
    {
     "data": {
      "text/plain": [
       "81800"
      ]
     },
     "execution_count": 2,
     "metadata": {},
     "output_type": "execute_result"
    }
   ],
   "source": [
    "model.metadata[\"total_simulation_length\"]"
   ]
  },
  {
   "cell_type": "markdown",
   "id": "fa5c7b31",
   "metadata": {},
   "source": [
    "If we print the `model` object, we will see how much logic we'd have had to use in order to implement this model using the low-level object `API`:"
   ]
  },
  {
   "cell_type": "code",
   "execution_count": 3,
   "id": "43724611",
   "metadata": {},
   "outputs": [
    {
     "name": "stdout",
     "output_type": "stream",
     "text": [
      "fwdpy11.demographic_models.DemographicModelDetails(\n",
      "    model=fwdpy11.DiscreteDemography(\n",
      "        mass_migrations=[],\n",
      "        set_growth_rates=[\n",
      "            fwdpy11.SetExponentialGrowth(when=80952, deme=4, G=1.00400799699368),\n",
      "            fwdpy11.SetExponentialGrowth(when=80952, deme=5, G=1.005515145509541),\n",
      "        ],\n",
      "        set_deme_sizes=[\n",
      "            fwdpy11.SetDemeSize(\n",
      "                when=73000, deme=0, new_size=0, resets_growth_rate=True\n",
      "            ),\n",
      "            fwdpy11.SetDemeSize(\n",
      "                when=73000, deme=1, new_size=12300, resets_growth_rate=True\n",
      "            ),\n",
      "            fwdpy11.SetDemeSize(\n",
      "                when=76200, deme=1, new_size=0, resets_growth_rate=True\n",
      "            ),\n",
      "            fwdpy11.SetDemeSize(\n",
      "                when=76200, deme=2, new_size=2100, resets_growth_rate=True\n",
      "            ),\n",
      "            fwdpy11.SetDemeSize(\n",
      "                when=76200, deme=3, new_size=12300, resets_growth_rate=True\n",
      "            ),\n",
      "            fwdpy11.SetDemeSize(\n",
      "                when=80952, deme=2, new_size=0, resets_growth_rate=True\n",
      "            ),\n",
      "            fwdpy11.SetDemeSize(\n",
      "                when=80952, deme=4, new_size=1000, resets_growth_rate=True\n",
      "            ),\n",
      "            fwdpy11.SetDemeSize(\n",
      "                when=80952, deme=5, new_size=510, resets_growth_rate=True\n",
      "            ),\n",
      "        ],\n",
      "        set_selfing_rates=[\n",
      "            fwdpy11.SetSelfingRate(when=0, deme=0, S=0),\n",
      "            fwdpy11.SetSelfingRate(when=73000, deme=1, S=0),\n",
      "            fwdpy11.SetSelfingRate(when=76200, deme=2, S=0),\n",
      "            fwdpy11.SetSelfingRate(when=76200, deme=3, S=0),\n",
      "            fwdpy11.SetSelfingRate(when=80952, deme=4, S=0),\n",
      "            fwdpy11.SetSelfingRate(when=80952, deme=5, S=0),\n",
      "        ],\n",
      "        migmatrix=fwdpy11.MigrationMatrix(\n",
      "            migmatrix=array(\n",
      "                [\n",
      "                    [1.0, 0.0, 0.0, 0.0, 0.0, 0.0],\n",
      "                    [0.0, 0.0, 0.0, 0.0, 0.0, 0.0],\n",
      "                    [0.0, 0.0, 0.0, 0.0, 0.0, 0.0],\n",
      "                    [0.0, 0.0, 0.0, 0.0, 0.0, 0.0],\n",
      "                    [0.0, 0.0, 0.0, 0.0, 0.0, 0.0],\n",
      "                    [0.0, 0.0, 0.0, 0.0, 0.0, 0.0],\n",
      "                ]\n",
      "            ),\n",
      "            scaled=False,\n",
      "        ),\n",
      "        set_migration_rates=[\n",
      "            fwdpy11.SetMigrationRates(\n",
      "                when=73000, deme=0, migrates=array([0.0, 0.0, 0.0, 0.0, 0.0, 0.0])\n",
      "            ),\n",
      "            fwdpy11.SetMigrationRates(\n",
      "                when=73000, deme=1, migrates=array([1.0, 0.0, 0.0, 0.0, 0.0, 0.0])\n",
      "            ),\n",
      "            fwdpy11.SetMigrationRates(\n",
      "                when=73001, deme=1, migrates=array([0.0, 1.0, 0.0, 0.0, 0.0, 0.0])\n",
      "            ),\n",
      "            fwdpy11.SetMigrationRates(\n",
      "                when=76200, deme=1, migrates=array([0.0, 0.0, 0.0, 0.0, 0.0, 0.0])\n",
      "            ),\n",
      "            fwdpy11.SetMigrationRates(\n",
      "                when=76200, deme=2, migrates=array([0.0, 1.0, 0.0, 0.0, 0.0, 0.0])\n",
      "            ),\n",
      "            fwdpy11.SetMigrationRates(\n",
      "                when=76200, deme=3, migrates=array([0.0, 1.0, 0.0, 0.0, 0.0, 0.0])\n",
      "            ),\n",
      "            fwdpy11.SetMigrationRates(\n",
      "                when=76201,\n",
      "                deme=2,\n",
      "                migrates=array(\n",
      "                    [0.0000e00, 0.0000e00, 9.9975e-01, 2.5000e-04, 0.0000e00, 0.0000e00]\n",
      "                ),\n",
      "            ),\n",
      "            fwdpy11.SetMigrationRates(\n",
      "                when=76201,\n",
      "                deme=3,\n",
      "                migrates=array(\n",
      "                    [0.0000e00, 0.0000e00, 2.5000e-04, 9.9975e-01, 0.0000e00, 0.0000e00]\n",
      "                ),\n",
      "            ),\n",
      "            fwdpy11.SetMigrationRates(\n",
      "                when=80952, deme=2, migrates=array([0.0, 0.0, 0.0, 0.0, 0.0, 0.0])\n",
      "            ),\n",
      "            fwdpy11.SetMigrationRates(\n",
      "                when=80952,\n",
      "                deme=3,\n",
      "                migrates=array(\n",
      "                    [\n",
      "                        0.00000e00,\n",
      "                        0.00000e00,\n",
      "                        0.00000e00,\n",
      "                        9.99951e-01,\n",
      "                        3.00000e-05,\n",
      "                        1.90000e-05,\n",
      "                    ]\n",
      "                ),\n",
      "            ),\n",
      "            fwdpy11.SetMigrationRates(\n",
      "                when=80952, deme=4, migrates=array([0.0, 0.0, 1.0, 0.0, 0.0, 0.0])\n",
      "            ),\n",
      "            fwdpy11.SetMigrationRates(\n",
      "                when=80952, deme=5, migrates=array([0.0, 0.0, 1.0, 0.0, 0.0, 0.0])\n",
      "            ),\n",
      "            fwdpy11.SetMigrationRates(\n",
      "                when=80953,\n",
      "                deme=4,\n",
      "                migrates=array(\n",
      "                    [\n",
      "                        0.00000e00,\n",
      "                        0.00000e00,\n",
      "                        0.00000e00,\n",
      "                        3.00000e-05,\n",
      "                        9.99874e-01,\n",
      "                        9.60000e-05,\n",
      "                    ]\n",
      "                ),\n",
      "            ),\n",
      "            fwdpy11.SetMigrationRates(\n",
      "                when=80953,\n",
      "                deme=5,\n",
      "                migrates=array(\n",
      "                    [\n",
      "                        0.00000e00,\n",
      "                        0.00000e00,\n",
      "                        0.00000e00,\n",
      "                        1.90000e-05,\n",
      "                        9.60000e-05,\n",
      "                        9.99885e-01,\n",
      "                    ]\n",
      "                ),\n",
      "            ),\n",
      "        ],\n",
      "    ),\n",
      "    name=\"The Gutenkunst et al. (2009) OOA model.\",\n",
      "    source={\"demes_yaml_file\": \"gutenkunst_ooa.yml\"},\n",
      "    parameters=None,\n",
      "    citation=fwdpy11.demographic_models.DemographicModelCitation(\n",
      "        DOI=[\"https://doi.org/10.1371/journal.pgen.1000695\"],\n",
      "        full_citation=None,\n",
      "        metadata=None,\n",
      "    ),\n",
      "    metadata={\n",
      "        \"deme_labels\": {\n",
      "            0: \"ancestral\",\n",
      "            1: \"AMH\",\n",
      "            2: \"OOA\",\n",
      "            3: \"YRI\",\n",
      "            4: \"CEU\",\n",
      "            5: \"CHB\",\n",
      "        },\n",
      "        \"initial_sizes\": {0: 7300},\n",
      "        \"burnin_time\": 73000,\n",
      "        \"total_simulation_length\": 81800,\n",
      "    },\n",
      ")\n",
      "\n"
     ]
    }
   ],
   "source": [
    "print(model.asblack())"
   ]
  },
  {
   "cell_type": "markdown",
   "id": "088021b9",
   "metadata": {},
   "source": [
    "It is hopefully clear how much simpler it is to use the `demes` `YAML` specification!\n",
    "\n",
    "## Working with graphs\n",
    "\n",
    "You may also build models by creating {class}`demes.Builder` objects using the `demes` `API`.\n",
    "In general, we feel that the `YAML` method will be less error-prone and therefore the preferred approach.\n",
    "But, for example:"
   ]
  },
  {
   "cell_type": "code",
   "execution_count": 4,
   "id": "af2d8760",
   "metadata": {},
   "outputs": [
    {
     "name": "stdout",
     "output_type": "stream",
     "text": [
      "fwdpy11.demographic_models.DemographicModelDetails(\n",
      "    model=fwdpy11.DiscreteDemography(\n",
      "        mass_migrations=[],\n",
      "        set_growth_rates=[],\n",
      "        set_deme_sizes=[\n",
      "            fwdpy11.SetDemeSize(\n",
      "                when=10000, deme=0, new_size=2000, resets_growth_rate=True\n",
      "            )\n",
      "        ],\n",
      "        set_selfing_rates=[\n",
      "            fwdpy11.SetSelfingRate(when=0, deme=0, S=0),\n",
      "            fwdpy11.SetSelfingRate(when=10000, deme=0, S=0),\n",
      "        ],\n",
      "        migmatrix=None,\n",
      "        set_migration_rates=[],\n",
      "    ),\n",
      "    name=\"test demography\",\n",
      "    source=None,\n",
      "    parameters=None,\n",
      "    citation=fwdpy11.demographic_models.DemographicModelCitation(\n",
      "        DOI=[], full_citation=None, metadata=None\n",
      "    ),\n",
      "    metadata={\n",
      "        \"deme_labels\": {0: \"deme\"},\n",
      "        \"initial_sizes\": {0: 1000},\n",
      "        \"burnin_time\": 10000,\n",
      "        \"total_simulation_length\": 10100,\n",
      "    },\n",
      ")\n",
      "\n"
     ]
    }
   ],
   "source": [
    "import demes\n",
    "\n",
    "builder = demes.Builder(description=\"test demography\", time_units=\"generations\")\n",
    "builder.add_deme(\n",
    "    name=\"deme\",\n",
    "    epochs=[\n",
    "        dict(start_size=1000, end_time=100),\n",
    "        dict(start_size=2000, end_time=0),\n",
    "    ],\n",
    ")\n",
    "\n",
    "graph = builder.resolve()\n",
    "\n",
    "model = fwdpy11.discrete_demography.from_demes(graph)\n",
    "\n",
    "print(model.asblack())"
   ]
  },
  {
   "cell_type": "markdown",
   "id": "7ee2391b",
   "metadata": {},
   "source": [
    "Again, it is simpler to build up the demography using `demes` than it is using the `fwdpy11` objects directly.\n",
    "\n",
    "## Initializing populations\n",
    "\n",
    "A model specified using `demes` contains enough information to initialize instances of {class}`fwdpy11.DiploidPopulation`.\n",
    "We recommend that you use this information so that the initial deme size(s) in your simulation is correct!\n",
    "\n",
    "To see how this works, let's revisit the Gutenkunst model from above.\n",
    "The value returned contains the initial size of each deme in the model:"
   ]
  },
  {
   "cell_type": "code",
   "execution_count": 5,
   "id": "14095ada",
   "metadata": {},
   "outputs": [
    {
     "name": "stdout",
     "output_type": "stream",
     "text": [
      "{0: 7300}\n"
     ]
    }
   ],
   "source": [
    "model = fwdpy11.discrete_demography.from_demes(\"gutenkunst_ooa.yml\")\n",
    "\n",
    "print(model.metadata['initial_sizes'])"
   ]
  },
  {
   "cell_type": "markdown",
   "id": "146864ef",
   "metadata": {},
   "source": [
    "Given that, a sorted list comprehension does the job:"
   ]
  },
  {
   "cell_type": "code",
   "execution_count": 6,
   "id": "744e3b1e",
   "metadata": {},
   "outputs": [
    {
     "name": "stdout",
     "output_type": "stream",
     "text": [
      "(array([0], dtype=int32), array([7300]))\n"
     ]
    }
   ],
   "source": [
    "initial_sizes= [model.metadata['initial_sizes'][i] for i in sorted(model.metadata['initial_sizes'].keys())]\n",
    "pop = fwdpy11.DiploidPopulation(initial_sizes, 1000.)\n",
    "print(pop.deme_sizes())"
   ]
  },
  {
   "cell_type": "markdown",
   "id": "a56b9f05",
   "metadata": {},
   "source": [
    "The reason to go through the sorting step is to get the right initial sizes *in the right order* for \"rootless\" `demes` graphs.\n",
    "A rootless model is one with more than one ancestral deme in the ancient past."
   ]
  }
 ],
 "metadata": {
  "jupytext": {
   "formats": "md:myst",
   "text_representation": {
    "extension": ".md",
    "format_name": "myst"
   }
  },
  "kernelspec": {
   "display_name": "Python 3",
   "language": "python",
   "name": "python3"
  },
  "language_info": {
   "codemirror_mode": {
    "name": "ipython",
    "version": 3
   },
   "file_extension": ".py",
   "mimetype": "text/x-python",
   "name": "python",
   "nbconvert_exporter": "python",
   "pygments_lexer": "ipython3",
   "version": "3.8.12"
  },
  "source_map": [
   11,
   43,
   47,
   57,
   59,
   63,
   65,
   75,
   92,
   104,
   108,
   112,
   116
  ]
 },
 "nbformat": 4,
 "nbformat_minor": 5
}
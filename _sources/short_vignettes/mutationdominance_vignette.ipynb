{
 "cells": [
  {
   "cell_type": "markdown",
   "id": "2caba0f0",
   "metadata": {},
   "source": [
    "(mutationdominance_vignette)=\n",
    "\n",
    "# Mutations with variable dominance\n",
    "\n",
    ":::{versionadded} 0.13.0\n",
    ":::\n",
    "\n",
    "The heterozygous effect of a mutation does not need to be constant.\n",
    "You may use instances of classes derived from {class}`fwdpy11.MutationDominance` to assign functions to generate the dominance of mutations.\n",
    "\n",
    "The available classes are:\n",
    "\n",
    "* {class}`fwdpy11.FixedDominance`\n",
    "  This class is equivalent to passing in a {class}`float` to the `h` `kwarg`.\n",
    "  See {ref}`here <des_vignette>`\n",
    "* {class}`fwdpy11.ExponentialDominance`\n",
    "* {class}`fwdpy11.UniformDominance`\n",
    "* {class}`fwdpy11.LargeEffectExponentiallyRecessive`\n",
    "\n",
    "## Example"
   ]
  },
  {
   "cell_type": "code",
   "execution_count": 1,
   "id": "1052d3be",
   "metadata": {},
   "outputs": [],
   "source": [
    "import fwdpy11\n",
    "\n",
    "des = fwdpy11.GaussianS(beg=0, end=1, weight=1, sd=0.1,\n",
    "    h=fwdpy11.LargeEffectExponentiallyRecessive(k=5.0))"
   ]
  },
  {
   "cell_type": "markdown",
   "id": "168b7dae",
   "metadata": {},
   "source": [
    "If we apply this `des` object to a model of a quantitative trait evolving to a sudden \"optimum shift\", then we see that the larger effect variants present at the end of the simulation to indeed have smaller dominance coefficients."
   ]
  },
  {
   "cell_type": "code",
   "execution_count": 2,
   "id": "f0063a8e",
   "metadata": {
    "tags": [
     "hide-input"
    ]
   },
   "outputs": [],
   "source": [
    "pop = fwdpy11.DiploidPopulation(500, 1.0)\n",
    "\n",
    "rng = fwdpy11.GSLrng(54321)\n",
    "\n",
    "GSSmo = fwdpy11.GSSmo(\n",
    "    [\n",
    "        fwdpy11.Optimum(when=0, optimum=0.0, VS=1.0),\n",
    "        fwdpy11.Optimum(when=10 * pop.N, optimum=1.0, VS=1.0),\n",
    "    ]\n",
    ")\n",
    "\n",
    "rho = 1000.\n",
    "\n",
    "p = {\n",
    "    \"nregions\": [],\n",
    "    \"gvalue\": fwdpy11.Additive(2.0, GSSmo),\n",
    "    \"sregions\": [des],\n",
    "    \"recregions\": [fwdpy11.PoissonInterval(0, 1., rho / float(4 * pop.N))],\n",
    "    \"rates\": (0.0, 1e-3, None),\n",
    "    \"prune_selected\": False,\n",
    "    \"demography\": fwdpy11.DiscreteDemography(),\n",
    "    \"simlen\": 10 * pop.N + 200,\n",
    "}\n",
    "params = fwdpy11.ModelParams(**p)\n",
    "\n",
    "fwdpy11.evolvets(rng, pop, params, 100, suppress_table_indexing=True)"
   ]
  },
  {
   "cell_type": "code",
   "execution_count": 3,
   "id": "533e65e7",
   "metadata": {
    "tags": [
     "hide-input"
    ]
   },
   "outputs": [
    {
     "data": {
      "image/png": "[encoded data removed]",
      "text/plain": [
       "<Figure size 640x480 with 1 Axes>"
      ]
     },
     "metadata": {
      "filenames": {
       "image/png": "/home/runner/work/fwdpy11/fwdpy11/doc/_build/jupyter_execute/short_vignettes/mutationdominance_vignette_4_0.png"
      }
     },
     "output_type": "display_data"
    }
   ],
   "source": [
    "import matplotlib.pyplot as plt\n",
    "esize = [pop.mutations[m.key].s for m in pop.tables.mutations]\n",
    "h = [pop.mutations[m.key].h for m in pop.tables.mutations]\n",
    "\n",
    "f, ax = plt.subplots()\n",
    "ax.scatter(esize, h)\n",
    "ax.set_xlabel(\"Effect size of mutation on trait\")\n",
    "ax.set_ylabel(\"Dominance\")\n",
    "plt.show();"
   ]
  },
  {
   "cell_type": "markdown",
   "id": "36e0647c",
   "metadata": {},
   "source": [
    "## Using discrete distributions\n",
    "\n",
    "{class}`fwdpy11.DiscreteDESD` specifies a *D*iscrete *E*ffect *S*ize and *D*ominance joint distribution.\n",
    "A {class}`list` of {class}`tuple` of `(effect size, dominance, weight)` specify the joint distribution.\n",
    "For example:"
   ]
  },
  {
   "cell_type": "code",
   "execution_count": 4,
   "id": "a7e23475",
   "metadata": {},
   "outputs": [],
   "source": [
    "import math\n",
    "import numpy as np\n",
    "\n",
    "joint_dist = []\n",
    "for s in np.arange(0.1, 1, 0.1):\n",
    "    joint_dist.append((-s, math.exp(-s), 1./s))"
   ]
  },
  {
   "cell_type": "code",
   "execution_count": 5,
   "id": "08d84b95",
   "metadata": {},
   "outputs": [
    {
     "name": "stdout",
     "output_type": "stream",
     "text": [
      "fwdpy11.DiscreteDESD(\n",
      "    beg=0,\n",
      "    end=1,\n",
      "    weight=1,\n",
      "    joint_dist=[\n",
      "        (-0.1, 0.9048374180359595, 10.0),\n",
      "        (-0.2, 0.8187307530779818, 5.0),\n",
      "        (-0.30000000000000004, 0.7408182206817179, 3.333333333333333),\n",
      "        (-0.4, 0.6703200460356393, 2.5),\n",
      "        (-0.5, 0.6065306597126334, 2.0),\n",
      "        (-0.6, 0.5488116360940264, 1.6666666666666667),\n",
      "        (-0.7000000000000001, 0.49658530379140947, 1.4285714285714284),\n",
      "        (-0.8, 0.44932896411722156, 1.25),\n",
      "        (-0.9, 0.4065696597405991, 1.1111111111111112),\n",
      "    ],\n",
      "    coupled=True,\n",
      "    label=0,\n",
      "    scaling=1.0,\n",
      ")\n",
      "\n"
     ]
    }
   ],
   "source": [
    "des = fwdpy11.DiscreteDESD(beg=0, end=1, weight=1, joint_dist=joint_dist)\n",
    "print(des.asblack())"
   ]
  },
  {
   "cell_type": "markdown",
   "id": "46c97f3b",
   "metadata": {},
   "source": [
    "The result is that mutations with smaller effect sizes are more common (larger weights) and more dominant."
   ]
  }
 ],
 "metadata": {
  "jupytext": {
   "formats": "md:myst",
   "text_representation": {
    "extension": ".md",
    "format_name": "myst"
   }
  },
  "kernelspec": {
   "display_name": "Python 3",
   "language": "python",
   "name": "python3"
  },
  "language_info": {
   "codemirror_mode": {
    "name": "ipython",
    "version": 3
   },
   "file_extension": ".py",
   "mimetype": "text/x-python",
   "name": "python",
   "nbconvert_exporter": "python",
   "pygments_lexer": "ipython3",
   "version": "3.10.10"
  },
  "source_map": [
   11,
   34,
   39,
   43,
   75,
   88,
   96,
   105,
   108
  ]
 },
 "nbformat": 4,
 "nbformat_minor": 5
}
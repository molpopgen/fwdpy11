{
 "cells": [
  {
   "cell_type": "markdown",
   "id": "compressed-ebony",
   "metadata": {},
   "source": [
    "(neutralmutsafter_vignette)=\n",
    "\n",
    "# Adding neutral mutations to a population with existing ancestry\n",
    "\n",
    "The simulation done here is taken from {ref}`another vignette <gss_vignette>`."
   ]
  },
  {
   "cell_type": "code",
   "execution_count": 1,
   "id": "second-range",
   "metadata": {
    "tags": [
     "hide-input"
    ]
   },
   "outputs": [],
   "source": [
    "import fwdpy11\n",
    "\n",
    "pop = fwdpy11.DiploidPopulation(500, 1.0)\n",
    "\n",
    "rng = fwdpy11.GSLrng(54321)\n",
    "\n",
    "GSSmo = fwdpy11.GSSmo(\n",
    "    [\n",
    "        fwdpy11.Optimum(when=0, optimum=0.0, VS=1.0),\n",
    "        fwdpy11.Optimum(when=10 * pop.N, optimum=1.0, VS=1.0),\n",
    "    ]\n",
    ")\n",
    "\n",
    "rho = 1000.\n",
    "\n",
    "p = {\n",
    "    \"nregions\": [],\n",
    "    \"gvalue\": fwdpy11.Additive(2.0, GSSmo),\n",
    "    \"sregions\": [fwdpy11.GaussianS(0, 1., 1, 0.1)],\n",
    "    \"recregions\": [fwdpy11.PoissonInterval(0, 1., rho / float(4 * pop.N))],\n",
    "    \"rates\": (0.0, 1e-3, None),\n",
    "    \"prune_selected\": False,\n",
    "    \"demography\": fwdpy11.DiscreteDemography(),\n",
    "    \"simlen\": 10 * pop.N + 200,\n",
    "}\n",
    "params = fwdpy11.ModelParams(**p)\n",
    "\n",
    "fwdpy11.evolvets(rng, pop, params, 100, suppress_table_indexing=True)"
   ]
  },
  {
   "cell_type": "markdown",
   "id": "violent-raise",
   "metadata": {},
   "source": [
    "We can add mutations to the tables via {func}`fwdpy11.infinite_sites`:"
   ]
  },
  {
   "cell_type": "code",
   "execution_count": 2,
   "id": "suitable-studio",
   "metadata": {},
   "outputs": [
    {
     "name": "stdout",
     "output_type": "stream",
     "text": [
      "11 mutations added\n"
     ]
    }
   ],
   "source": [
    "nmuts = fwdpy11.infinite_sites(rng, pop, 1e-3)\n",
    "print(f\"{nmuts} mutations added\")"
   ]
  },
  {
   "cell_type": "markdown",
   "id": "cordless-judge",
   "metadata": {},
   "source": [
    "We can check that the tables do indeed have these variants:"
   ]
  },
  {
   "cell_type": "code",
   "execution_count": 3,
   "id": "unexpected-harvard",
   "metadata": {},
   "outputs": [
    {
     "name": "stdout",
     "output_type": "stream",
     "text": [
      "There are 11 neutral and 17 non-neutral mutations\n"
     ]
    }
   ],
   "source": [
    "neut = 0\n",
    "non_neut = 0\n",
    "for m in pop.tables.mutations:\n",
    "    if m.neutral is True:\n",
    "        neut += 1\n",
    "    else:\n",
    "        non_neut += 1\n",
    "print(f\"There are {neut} neutral and {non_neut} non-neutral mutations\")"
   ]
  },
  {
   "cell_type": "markdown",
   "id": "medical-journalist",
   "metadata": {},
   "source": [
    "The number of genomes containing each mutation get recorded:"
   ]
  },
  {
   "cell_type": "code",
   "execution_count": 4,
   "id": "pacific-compact",
   "metadata": {},
   "outputs": [
    {
     "name": "stdout",
     "output_type": "stream",
     "text": [
      "26\n",
      "1\n",
      "164\n",
      "10\n",
      "43\n",
      "7\n",
      "175\n",
      "24\n",
      "475\n",
      "16\n",
      "2\n"
     ]
    }
   ],
   "source": [
    "for m in pop.tables.mutations:\n",
    "    if m.neutral is True:\n",
    "        print(pop.mcounts[m.key])"
   ]
  },
  {
   "cell_type": "markdown",
   "id": "thermal-identifier",
   "metadata": {},
   "source": [
    "## Limitations\n",
    "\n",
    "* Only the infinitely-many sites model is implemented here.\n",
    "  For more general models, you can transfer the data to `tskit` format and use that library to add mutations.\n",
    "  See {ref}`tskitconvert_vignette`.\n",
    "* Currently, we only support a constant mutation rate across the genome.\n",
    "  We will generalize this in a future release.\n",
    "  In the mean time, you can add neutral mutations during the simulation as described {ref}`here <neutralmuts_vignette>`."
   ]
  }
 ],
 "metadata": {
  "jupytext": {
   "formats": "md:myst",
   "text_representation": {
    "extension": ".md",
    "format_name": "myst"
   }
  },
  "kernelspec": {
   "display_name": "Python 3",
   "language": "python",
   "name": "python3"
  },
  "language_info": {
   "codemirror_mode": {
    "name": "ipython",
    "version": 3
   },
   "file_extension": ".py",
   "mimetype": "text/x-python",
   "name": "python",
   "nbconvert_exporter": "python",
   "pygments_lexer": "ipython3",
   "version": "3.8.10"
  },
  "source_map": [
   11,
   19,
   51,
   55,
   58,
   62,
   71,
   75,
   79
  ]
 },
 "nbformat": 4,
 "nbformat_minor": 5
}
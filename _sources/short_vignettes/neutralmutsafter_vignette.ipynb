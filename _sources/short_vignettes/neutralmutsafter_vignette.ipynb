{
 "cells": [
  {
   "cell_type": "markdown",
   "id": "ee483cd0",
   "metadata": {},
   "source": [
    "(neutralmutsafter_vignette)=\n",
    "\n",
    "# Adding neutral mutations to a population with existing ancestry\n",
    "\n",
    "The simulation done here is taken from {ref}`another vignette <gss_vignette>`."
   ]
  },
  {
   "cell_type": "code",
   "execution_count": 1,
   "id": "2bd02bc5",
   "metadata": {
    "tags": [
     "hide-input"
    ]
   },
   "outputs": [],
   "source": [
    "import fwdpy11\n",
    "\n",
    "pop = fwdpy11.DiploidPopulation(500, 1.0)\n",
    "\n",
    "rng = fwdpy11.GSLrng(54321)\n",
    "\n",
    "GSSmo = fwdpy11.GSSmo(\n",
    "    [\n",
    "        fwdpy11.Optimum(when=0, optimum=0.0, VS=1.0),\n",
    "        fwdpy11.Optimum(when=10 * pop.N, optimum=1.0, VS=1.0),\n",
    "    ]\n",
    ")\n",
    "\n",
    "rho = 1000.\n",
    "\n",
    "p = {\n",
    "    \"nregions\": [],\n",
    "    \"gvalue\": fwdpy11.Additive(2.0, GSSmo),\n",
    "    \"sregions\": [fwdpy11.GaussianS(0, 1., 1, 0.1)],\n",
    "    \"recregions\": [fwdpy11.PoissonInterval(0, 1., rho / float(4 * pop.N))],\n",
    "    \"rates\": (0.0, 1e-3, None),\n",
    "    \"prune_selected\": False,\n",
    "    \"demography\": fwdpy11.DiscreteDemography(),\n",
    "    \"simlen\": 10 * pop.N + 200,\n",
    "}\n",
    "params = fwdpy11.ModelParams(**p)\n",
    "\n",
    "fwdpy11.evolvets(rng, pop, params, 100, suppress_table_indexing=True)"
   ]
  },
  {
   "cell_type": "markdown",
   "id": "5e226f4a",
   "metadata": {},
   "source": [
    "We can add mutations to the tables via {func}`fwdpy11.infinite_sites`:"
   ]
  },
  {
   "cell_type": "code",
   "execution_count": 2,
   "id": "29d4b7d6",
   "metadata": {},
   "outputs": [
    {
     "name": "stdout",
     "output_type": "stream",
     "text": [
      "9 mutations added\n"
     ]
    }
   ],
   "source": [
    "nmuts = fwdpy11.infinite_sites(rng, pop, 1e-3)\n",
    "print(f\"{nmuts} mutations added\")"
   ]
  },
  {
   "cell_type": "markdown",
   "id": "68c1a7df",
   "metadata": {},
   "source": [
    "We can check that the tables do indeed have these variants:"
   ]
  },
  {
   "cell_type": "code",
   "execution_count": 3,
   "id": "889f2912",
   "metadata": {},
   "outputs": [
    {
     "name": "stdout",
     "output_type": "stream",
     "text": [
      "There are 9 neutral and 18 non-neutral mutations\n"
     ]
    }
   ],
   "source": [
    "neut = 0\n",
    "non_neut = 0\n",
    "for m in pop.tables.mutations:\n",
    "    if m.neutral is True:\n",
    "        neut += 1\n",
    "    else:\n",
    "        non_neut += 1\n",
    "print(f\"There are {neut} neutral and {non_neut} non-neutral mutations\")"
   ]
  },
  {
   "cell_type": "markdown",
   "id": "1932dbf6",
   "metadata": {},
   "source": [
    "The number of genomes containing each mutation get recorded:"
   ]
  },
  {
   "cell_type": "code",
   "execution_count": 4,
   "id": "82f01f14",
   "metadata": {},
   "outputs": [
    {
     "name": "stdout",
     "output_type": "stream",
     "text": [
      "128\n",
      "1\n",
      "4\n",
      "124\n",
      "200\n",
      "160\n",
      "14\n",
      "3\n",
      "107\n"
     ]
    }
   ],
   "source": [
    "for m in pop.tables.mutations:\n",
    "    if m.neutral is True:\n",
    "        print(pop.mcounts[m.key])"
   ]
  },
  {
   "cell_type": "markdown",
   "id": "825fab70",
   "metadata": {},
   "source": [
    "## Limitations\n",
    "\n",
    "* Only the infinitely-many sites model is implemented here.\n",
    "  For more general models, you can transfer the data to `tskit` format and use that library to add mutations.\n",
    "  See {ref}`tskitconvert_vignette`.\n",
    "* Currently, we only support a constant mutation rate across the genome.\n",
    "  We will generalize this in a future release.\n",
    "  In the mean time, you can add neutral mutations during the simulation as described {ref}`here <neutralmuts_vignette>`."
   ]
  }
 ],
 "metadata": {
  "jupytext": {
   "formats": "md:myst",
   "text_representation": {
    "extension": ".md",
    "format_name": "myst"
   }
  },
  "kernelspec": {
   "display_name": "Python 3",
   "language": "python",
   "name": "python3"
  },
  "language_info": {
   "codemirror_mode": {
    "name": "ipython",
    "version": 3
   },
   "file_extension": ".py",
   "mimetype": "text/x-python",
   "name": "python",
   "nbconvert_exporter": "python",
   "pygments_lexer": "ipython3",
   "version": "3.10.10"
  },
  "source_map": [
   11,
   19,
   51,
   55,
   58,
   62,
   71,
   75,
   79
  ]
 },
 "nbformat": 4,
 "nbformat_minor": 5
}
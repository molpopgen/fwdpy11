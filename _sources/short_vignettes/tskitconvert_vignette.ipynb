{
 "cells": [
  {
   "cell_type": "markdown",
   "id": "coastal-florist",
   "metadata": {},
   "source": [
    "(tskitconvert_vignette)=\n",
    "\n",
    "# Converting data to tskit format"
   ]
  },
  {
   "cell_type": "code",
   "execution_count": 1,
   "id": "working-atmosphere",
   "metadata": {},
   "outputs": [
    {
     "data": {
      "text/plain": [
       "14"
      ]
     },
     "execution_count": 1,
     "metadata": {},
     "output_type": "execute_result"
    }
   ],
   "source": [
    "import msprime\n",
    "import fwdpy11\n",
    "\n",
    "# Random number generators are initialized with seeds\n",
    "rng = fwdpy11.GSLrng(12345)\n",
    "N = 100\n",
    "L = 1000.0\n",
    "ts = msprime.simulate(2*N, Ne = N, length=L, recombination_rate = 1e-3, random_seed = 42)\n",
    "pop = fwdpy11.DiploidPopulation.create_from_tskit(ts)\n",
    "fwdpy11.infinite_sites(rng, pop, 1e-2)"
   ]
  },
  {
   "cell_type": "code",
   "execution_count": 2,
   "id": "blocked-times",
   "metadata": {},
   "outputs": [],
   "source": [
    "ts = pop.dump_tables_to_tskit()"
   ]
  },
  {
   "cell_type": "code",
   "execution_count": 3,
   "id": "compatible-strengthening",
   "metadata": {},
   "outputs": [
    {
     "name": "stdout",
     "output_type": "stream",
     "text": [
      "MutationTableRow(site=0, node=1288, derived_state='1', parent=-1, metadata={'h': 0.0, 'key': 13, 'label': 0, 'neutral': True, 'origin': -363, 's': 0.0}, time=363.0)\n"
     ]
    }
   ],
   "source": [
    "print(ts.tables.mutations[0])"
   ]
  },
  {
   "cell_type": "markdown",
   "id": "applicable-negative",
   "metadata": {},
   "source": [
    ":::{todo}\n",
    "Fill in with more exposition.\n",
    ":::"
   ]
  }
 ],
 "metadata": {
  "jupytext": {
   "formats": "md:myst",
   "text_representation": {
    "extension": ".md",
    "format_name": "myst"
   }
  },
  "kernelspec": {
   "display_name": "Python 3",
   "language": "python",
   "name": "python3"
  },
  "language_info": {
   "codemirror_mode": {
    "name": "ipython",
    "version": 3
   },
   "file_extension": ".py",
   "mimetype": "text/x-python",
   "name": "python",
   "nbconvert_exporter": "python",
   "pygments_lexer": "ipython3",
   "version": "3.8.8"
  },
  "source_map": [
   11,
   17,
   30,
   34,
   36
  ]
 },
 "nbformat": 4,
 "nbformat_minor": 5
}
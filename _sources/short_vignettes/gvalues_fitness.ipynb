{
 "cells": [
  {
   "cell_type": "markdown",
   "id": "10a2ea85",
   "metadata": {},
   "source": [
    "(gvalues_fitness_vignette)=\n",
    "\n",
    "# Genetic values - mutations with direct effects on fitness\n",
    "\n",
    ":::{note}\n",
    "The objects described here are passed to the `gvalue` parameter when initializing instances of {class}`fwdpy11.ModelParams`.\n",
    ":::\n",
    "\n",
    "In a typical population-genetic model, mutations have direct effects on fitness.\n",
    "Often, this effect is referred to as `s`, or the \"selection coefficient\".\n",
    "\n",
    "Once we've decided on our distributions of effect sizes, we need a way to obtain a diploid's fitness.\n",
    "For these \"standard\" population genetic models, we will use {class}`fwdpy11.Multiplicative`.\n",
    "Instances of this class tell the simulation to calculate the genetic value of an individual using a multiplicative model where the value contributed by each position with a mutation is:\n",
    "\n",
    "| Genotype | `AA`      | `Aa`         | `aa`                        |\n",
    "| -------- | --------- | ------------ | --------------------------- |\n",
    "| Fitness  | {math}`1` | {math}`1+hs` | {math}`1 + scaling\\times s` |\n",
    "\n",
    "In this table:\n",
    "\n",
    "* `A` refers to the ancestral/non-mutant allelic state\n",
    "* `a` is the mutant allelic state\n",
    "* `h` is the heterozygous effect of the mutant, the so-called dominance coefficient.\n",
    "* `s` is the selection coefficient.\n",
    "* `scaling` lets you decide between Fisher, Wright, Haldane, Kimura, etc.,\n",
    "  when determining the fitness of the mutant homozygote.\n",
    "\n",
    "The most common values for `scaling` are `1.0` or `2.0`:"
   ]
  },
  {
   "cell_type": "code",
   "execution_count": 1,
   "id": "b2c3cbeb",
   "metadata": {},
   "outputs": [
    {
     "data": {
      "text/plain": [
       "2.0"
      ]
     },
     "execution_count": 1,
     "metadata": {},
     "output_type": "execute_result"
    }
   ],
   "source": [
    "import fwdpy11\n",
    "\n",
    "gvalue = fwdpy11.Multiplicative(scaling=1.0)\n",
    "gvalue.scaling\n",
    "gvalue = fwdpy11.Multiplicative(scaling=2.0)\n",
    "gvalue.scaling"
   ]
  },
  {
   "cell_type": "markdown",
   "id": "29315c8c",
   "metadata": {},
   "source": [
    ":::{note}\n",
    "The `scaling` parameter interacts with the `h` parameter for a distribution of effect sizes! (See {ref}`des_vignette`.)\n",
    "For example, if `scaling = 1.0`, then `h = 1.0` results in dominant mutations.\n",
    "However, if `scaling = 2.0`, then `h = 1.0` gives co-dominant mutations.\n",
    "In both cases, `h = 0.0` generates fully-recessive mutations.\n",
    ":::"
   ]
  }
 ],
 "metadata": {
  "jupytext": {
   "formats": "md:myst",
   "text_representation": {
    "extension": ".md",
    "format_name": "myst"
   }
  },
  "kernelspec": {
   "display_name": "Python 3",
   "language": "python",
   "name": "python3"
  },
  "language_info": {
   "codemirror_mode": {
    "name": "ipython",
    "version": 3
   },
   "file_extension": ".py",
   "mimetype": "text/x-python",
   "name": "python",
   "nbconvert_exporter": "python",
   "pygments_lexer": "ipython3",
   "version": "3.8.12"
  },
  "source_map": [
   11,
   43,
   50
  ]
 },
 "nbformat": 4,
 "nbformat_minor": 5
}
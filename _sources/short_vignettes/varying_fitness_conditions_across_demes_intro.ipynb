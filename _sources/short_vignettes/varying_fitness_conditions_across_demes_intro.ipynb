{
 "cells": [
  {
   "cell_type": "markdown",
   "id": "4d4db230",
   "metadata": {},
   "source": [
    "(varying_fitness_conditions_across_demes_intro)=\n",
    "\n",
    "# Introduction\n",
    "\n",
    "The following vignettes describe how to set up models where the details of genetic value/fitness calculations differ between demes.\n",
    "\n",
    "## Different effect sizes in different demes.\n",
    "\n",
    "The next several vignettes describe how to set up scenarios where the effect size of a mutation differs between demes.\n",
    "Briefly, simulating such models entails:\n",
    "\n",
    "* Using {class}`fwdpy11.mvDES` to define a multivariate distribution of effect sizes.\n",
    "* Passing new parameters to our genetic value types to indicate how many demes to expect during the simulation.\n",
    "\n",
    "(correlation_and_covariance_matrices)=\n",
    "\n",
    "## Correlation and covariance matrices\n",
    "\n",
    "The next sections describe types that require covariance matrices as inputs.\n",
    "Many people may find it easier to think about correlations between variables than covariances.\n",
    "\n",
    "This section shows how to start with a *correlation* matrix and convert it to a *covariance* matrix.\n",
    "\n",
    "Starting with a 3x3 correlation matrix:"
   ]
  },
  {
   "cell_type": "code",
   "execution_count": 1,
   "id": "99d086fd",
   "metadata": {},
   "outputs": [
    {
     "name": "stdout",
     "output_type": "stream",
     "text": [
      "[[1.   0.25 0.9 ]\n",
      " [0.25 1.   0.5 ]\n",
      " [0.9  0.5  1.  ]]\n"
     ]
    }
   ],
   "source": [
    "import numpy as np\n",
    "corr = np.matrix([1,0.25,0.9,0.25,1,0.5,0.9,0.5,1]).reshape(3,3)\n",
    "print(corr)"
   ]
  },
  {
   "cell_type": "markdown",
   "id": "4b567777",
   "metadata": {},
   "source": [
    "We wish to convert this to a covariance matrix with the following standard deviations:"
   ]
  },
  {
   "cell_type": "code",
   "execution_count": 2,
   "id": "66d5d96e",
   "metadata": {},
   "outputs": [],
   "source": [
    "sd = np.array([0.1, 0.05, 0.25])"
   ]
  },
  {
   "cell_type": "markdown",
   "id": "2adf78f2",
   "metadata": {},
   "source": [
    "The procedure is:"
   ]
  },
  {
   "cell_type": "code",
   "execution_count": 3,
   "id": "d70efe0d",
   "metadata": {},
   "outputs": [],
   "source": [
    "D = np.identity(3)\n",
    "np.fill_diagonal(D, sd)\n",
    "cov = np.matmul(np.matmul(D, corr), D)"
   ]
  },
  {
   "cell_type": "markdown",
   "id": "2dd57b28",
   "metadata": {},
   "source": [
    "The covariance matrix is:"
   ]
  },
  {
   "cell_type": "code",
   "execution_count": 4,
   "id": "e717a2a4",
   "metadata": {},
   "outputs": [
    {
     "name": "stdout",
     "output_type": "stream",
     "text": [
      "[[0.01    0.00125 0.0225 ]\n",
      " [0.00125 0.0025  0.00625]\n",
      " [0.0225  0.00625 0.0625 ]]\n"
     ]
    }
   ],
   "source": [
    "print(cov)"
   ]
  },
  {
   "cell_type": "markdown",
   "id": "bcb6ff52",
   "metadata": {},
   "source": [
    "Let's simulate a bunch of multivariate normal data from this matrix.\n",
    "We will sample from a distribution with means of 0."
   ]
  },
  {
   "cell_type": "code",
   "execution_count": 5,
   "id": "cbe105a0",
   "metadata": {},
   "outputs": [],
   "source": [
    "data = np.random.multivariate_normal([0, 0, 0], cov, size=10000)"
   ]
  },
  {
   "cell_type": "markdown",
   "id": "692db391",
   "metadata": {},
   "source": [
    "The simulated means are:"
   ]
  },
  {
   "cell_type": "code",
   "execution_count": 6,
   "id": "14628f60",
   "metadata": {},
   "outputs": [
    {
     "name": "stdout",
     "output_type": "stream",
     "text": [
      "[ 0.0004274  -0.00032967  0.0007531 ]\n"
     ]
    }
   ],
   "source": [
    "print(data.mean(axis=0))"
   ]
  },
  {
   "cell_type": "markdown",
   "id": "4c720e75",
   "metadata": {},
   "source": [
    "The simulated covariances are:"
   ]
  },
  {
   "cell_type": "code",
   "execution_count": 7,
   "id": "53bb9fc8",
   "metadata": {},
   "outputs": [
    {
     "name": "stdout",
     "output_type": "stream",
     "text": [
      "[[0.00989116 0.00122816 0.02239143]\n",
      " [0.00122816 0.00249565 0.00623978]\n",
      " [0.02239143 0.00623978 0.06257382]]\n"
     ]
    }
   ],
   "source": [
    "print(np.cov(data.T))"
   ]
  },
  {
   "cell_type": "markdown",
   "id": "f22f8879",
   "metadata": {},
   "source": [
    "The simulated correlation coefficients are:"
   ]
  },
  {
   "cell_type": "code",
   "execution_count": 8,
   "id": "c6b22472",
   "metadata": {},
   "outputs": [
    {
     "name": "stdout",
     "output_type": "stream",
     "text": [
      "[[1.         0.24719561 0.90004011]\n",
      " [0.24719561 1.         0.49932253]\n",
      " [0.90004011 0.49932253 1.        ]]\n"
     ]
    }
   ],
   "source": [
    "print(np.corrcoef(data.T))"
   ]
  }
 ],
 "metadata": {
  "jupytext": {
   "formats": "md:myst",
   "text_representation": {
    "extension": ".md",
    "format_name": "myst"
   }
  },
  "kernelspec": {
   "display_name": "Python 3",
   "language": "python",
   "name": "python3"
  },
  "language_info": {
   "codemirror_mode": {
    "name": "ipython",
    "version": 3
   },
   "file_extension": ".py",
   "mimetype": "text/x-python",
   "name": "python",
   "nbconvert_exporter": "python",
   "pygments_lexer": "ipython3",
   "version": "3.10.10"
  },
  "source_map": [
   11,
   38,
   42,
   46,
   48,
   52,
   56,
   60,
   62,
   67,
   69,
   73,
   75,
   79,
   81,
   85
  ]
 },
 "nbformat": 4,
 "nbformat_minor": 5
}
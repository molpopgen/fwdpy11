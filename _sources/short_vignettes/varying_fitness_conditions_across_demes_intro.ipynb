{
 "cells": [
  {
   "cell_type": "markdown",
   "id": "5b519850",
   "metadata": {},
   "source": [
    "(varying_fitness_conditions_across_demes_intro)=\n",
    "\n",
    "# Introduction\n",
    "\n",
    "The following vignettes describe how to set up models where the details of genetic value/fitness calculations differ between demes.\n",
    "\n",
    "## Different effect sizes in different demes.\n",
    "\n",
    "The next several vignettes describe how to set up scenarios where the effect size of a mutation differs between demes.\n",
    "Briefly, simulating such models entails:\n",
    "\n",
    "* Using {class}`fwdpy11.mvDES` to define a multivariate distribution of effect sizes.\n",
    "* Passing new parameters to our genetic value types to indicate how many demes to expect during the simulation.\n",
    "\n",
    "(correlation_and_covariance_matrices)=\n",
    "\n",
    "## Correlation and covariance matrices\n",
    "\n",
    "The next sections describe types that require covariance matrices as inputs.\n",
    "Many people may find it easier to think about correlations between variables than covariances.\n",
    "\n",
    "This section shows how to start with a *correlation* matrix and convert it to a *covariance* matrix.\n",
    "\n",
    "Starting with a 3x3 correlation matrix:"
   ]
  },
  {
   "cell_type": "code",
   "execution_count": 1,
   "id": "68b582d3",
   "metadata": {},
   "outputs": [
    {
     "name": "stdout",
     "output_type": "stream",
     "text": [
      "[[1.   0.25 0.9 ]\n",
      " [0.25 1.   0.5 ]\n",
      " [0.9  0.5  1.  ]]\n"
     ]
    }
   ],
   "source": [
    "import numpy as np\n",
    "corr = np.matrix([1,0.25,0.9,0.25,1,0.5,0.9,0.5,1]).reshape(3,3)\n",
    "print(corr)"
   ]
  },
  {
   "cell_type": "markdown",
   "id": "c5dc463d",
   "metadata": {},
   "source": [
    "We wish to convert this to a covariance matrix with the following standard deviations:"
   ]
  },
  {
   "cell_type": "code",
   "execution_count": 2,
   "id": "a1faa811",
   "metadata": {},
   "outputs": [],
   "source": [
    "sd = np.array([0.1, 0.05, 0.25])"
   ]
  },
  {
   "cell_type": "markdown",
   "id": "b2d89938",
   "metadata": {},
   "source": [
    "The procedure is:"
   ]
  },
  {
   "cell_type": "code",
   "execution_count": 3,
   "id": "6ff5debb",
   "metadata": {},
   "outputs": [],
   "source": [
    "D = np.identity(3)\n",
    "np.fill_diagonal(D, sd)\n",
    "cov = np.matmul(np.matmul(D, corr), D)"
   ]
  },
  {
   "cell_type": "markdown",
   "id": "0379f324",
   "metadata": {},
   "source": [
    "The covariance matrix is:"
   ]
  },
  {
   "cell_type": "code",
   "execution_count": 4,
   "id": "63499f02",
   "metadata": {},
   "outputs": [
    {
     "name": "stdout",
     "output_type": "stream",
     "text": [
      "[[0.01    0.00125 0.0225 ]\n",
      " [0.00125 0.0025  0.00625]\n",
      " [0.0225  0.00625 0.0625 ]]\n"
     ]
    }
   ],
   "source": [
    "print(cov)"
   ]
  },
  {
   "cell_type": "markdown",
   "id": "4c09e486",
   "metadata": {},
   "source": [
    "Let's simulate a bunch of multivariate normal data from this matrix.\n",
    "We will sample from a distribution with means of 0."
   ]
  },
  {
   "cell_type": "code",
   "execution_count": 5,
   "id": "e6d22c7c",
   "metadata": {},
   "outputs": [],
   "source": [
    "data = np.random.multivariate_normal([0, 0, 0], cov, size=10000)"
   ]
  },
  {
   "cell_type": "markdown",
   "id": "b7ee6475",
   "metadata": {},
   "source": [
    "The simulated means are:"
   ]
  },
  {
   "cell_type": "code",
   "execution_count": 6,
   "id": "e323ca5a",
   "metadata": {},
   "outputs": [
    {
     "name": "stdout",
     "output_type": "stream",
     "text": [
      "[-0.00090211  0.00024324 -0.00088532]\n"
     ]
    }
   ],
   "source": [
    "print(data.mean(axis=0))"
   ]
  },
  {
   "cell_type": "markdown",
   "id": "378f4adf",
   "metadata": {},
   "source": [
    "The simulated covariances are:"
   ]
  },
  {
   "cell_type": "code",
   "execution_count": 7,
   "id": "837c0b5f",
   "metadata": {},
   "outputs": [
    {
     "name": "stdout",
     "output_type": "stream",
     "text": [
      "[[0.01039304 0.00132033 0.02346802]\n",
      " [0.00132033 0.00247736 0.00639477]\n",
      " [0.02346802 0.00639477 0.06482392]]\n"
     ]
    }
   ],
   "source": [
    "print(np.cov(data.T))"
   ]
  },
  {
   "cell_type": "markdown",
   "id": "2df21347",
   "metadata": {},
   "source": [
    "The simulated correlation coefficients are:"
   ]
  },
  {
   "cell_type": "code",
   "execution_count": 8,
   "id": "4c895a42",
   "metadata": {},
   "outputs": [
    {
     "name": "stdout",
     "output_type": "stream",
     "text": [
      "[[1.         0.26020494 0.90414382]\n",
      " [0.26020494 1.         0.50461777]\n",
      " [0.90414382 0.50461777 1.        ]]\n"
     ]
    }
   ],
   "source": [
    "print(np.corrcoef(data.T))"
   ]
  }
 ],
 "metadata": {
  "jupytext": {
   "formats": "md:myst",
   "text_representation": {
    "extension": ".md",
    "format_name": "myst"
   }
  },
  "kernelspec": {
   "display_name": "Python 3",
   "language": "python",
   "name": "python3"
  },
  "language_info": {
   "codemirror_mode": {
    "name": "ipython",
    "version": 3
   },
   "file_extension": ".py",
   "mimetype": "text/x-python",
   "name": "python",
   "nbconvert_exporter": "python",
   "pygments_lexer": "ipython3",
   "version": "3.10.10"
  },
  "source_map": [
   11,
   38,
   42,
   46,
   48,
   52,
   56,
   60,
   62,
   67,
   69,
   73,
   75,
   79,
   81,
   85
  ]
 },
 "nbformat": 4,
 "nbformat_minor": 5
}
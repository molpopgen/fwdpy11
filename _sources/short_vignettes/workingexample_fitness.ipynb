{
 "cells": [
  {
   "cell_type": "markdown",
   "id": "4514627b",
   "metadata": {},
   "source": [
    "(workingexample_fitness_vignette)=\n",
    "\n",
    "# Working example - parameters for simulating direct effects on fitness"
   ]
  },
  {
   "cell_type": "code",
   "execution_count": 1,
   "id": "874429c0",
   "metadata": {},
   "outputs": [],
   "source": [
    "import fwdpy11\n",
    "\n",
    "N = 1000\n",
    "mu_neutral = 0.0\n",
    "mu_selected = 1e-3\n",
    "rho = 1000.\n",
    "alpha = -50\n",
    "\n",
    "p = {\n",
    "    \"nregions\": [],\n",
    "    \"gvalue\": fwdpy11.Multiplicative(2.0),\n",
    "    \"sregions\": [fwdpy11.ExpS(0, 1., 1, mean=alpha/(2 * N))],\n",
    "    \"recregions\": [fwdpy11.PoissonInterval(0, 1., rho / float(4 * N))],\n",
    "    \"rates\": (mu_neutral, mu_selected, None),\n",
    "    \"prune_selected\": True,\n",
    "    \"demography\": fwdpy11.DiscreteDemography(),\n",
    "    \"simlen\": 10 * N,\n",
    "}\n",
    "params = fwdpy11.ModelParams(**p)"
   ]
  },
  {
   "cell_type": "markdown",
   "id": "3bacbe41",
   "metadata": {},
   "source": [
    "Let's take a look at what he have:"
   ]
  },
  {
   "cell_type": "code",
   "execution_count": 2,
   "id": "b715c7d6",
   "metadata": {},
   "outputs": [
    {
     "name": "stdout",
     "output_type": "stream",
     "text": [
      "fwdpy11.ModelParams(\n",
      "    nregions=[],\n",
      "    sregions=[\n",
      "        fwdpy11.ExpS(\n",
      "            beg=0,\n",
      "            end=1.0,\n",
      "            weight=1,\n",
      "            mean=-0.025,\n",
      "            h=1.0,\n",
      "            coupled=True,\n",
      "            label=0,\n",
      "            scaling=1.0,\n",
      "        )\n",
      "    ],\n",
      "    recregions=[fwdpy11.PoissonInterval(beg=0, end=1.0, mean=0.25, discrete=False)],\n",
      "    rates=fwdpy11.MutationAndRecombinationRates(\n",
      "        neutral_mutation_rate=0.0, selected_mutation_rate=0.001, recombination_rate=None\n",
      "    ),\n",
      "    gvalue=fwdpy11.Multiplicative(\n",
      "        scaling=2.0, gvalue_to_fitness=None, noise=None, ndemes=1\n",
      "    ),\n",
      "    demography=fwdpy11.DiscreteDemography(\n",
      "        mass_migrations=None,\n",
      "        set_growth_rates=None,\n",
      "        set_deme_sizes=None,\n",
      "        set_selfing_rates=None,\n",
      "        migmatrix=None,\n",
      "        set_migration_rates=None,\n",
      "    ),\n",
      "    simlen=10000,\n",
      "    prune_selected=True,\n",
      ")\n",
      "\n"
     ]
    }
   ],
   "source": [
    "print(params.asblack())"
   ]
  },
  {
   "cell_type": "markdown",
   "id": "774208ed",
   "metadata": {},
   "source": [
    "Let's explain a few new things:\n",
    "\n",
    "* The `rate` {class}`tuple` contains the neutral mutation rate, selected mutation rate, and recombination rate, respectively.\n",
    "  The recombination rate is `None` because the rates are all contained in `recregions`.\n",
    "  (See {ref}`geneticmaps_vignette`.)\n",
    "  This parameterization of `rates` will soon be deprecated and the need to specify a recombination rate of `None` will go away.\n",
    "* The `demography` field is something we've not encountered yet.\n",
    "  If nothing is provided, an empty instance of {class}`fwdpy11.DiscreteDemography` gets initialized.\n",
    "  This means \"no demographic events\".\n",
    "  Demographic events are the subject of later vignettes and {ref}`this page <softselection>`.\n",
    "* `simlen` is how many generations to evolve the population.\n",
    "* `prune_selected` is a boolean.\n",
    "  If `True`, then mutations that are fixed in the alive individuals, and not present at all in ancient samples, will be removed from the simulation.\n",
    "  This removal is an efficiency thing--we don't need them for multiplicative models.\n",
    "  In the future, we hope for a better method for handling fixations that allows for removal, even when present in ancient samples, during the simulation, then add them back in to the tables before returning from the simulation.\n",
    "  \n",
    ":::{warning}\n",
    "Do not set `prune_selected = True` for models of additive effects.\n",
    "Doing so breaks our requirement that the rank order of relative fitness is preserved up to a multiplicative constant.\n",
    ":::\n",
    "\n",
    "Our next vignette shows us some tricks that can be useful for modifying our `params` objects."
   ]
  }
 ],
 "metadata": {
  "jupytext": {
   "formats": "md:myst",
   "text_representation": {
    "extension": ".md",
    "format_name": "myst"
   }
  },
  "kernelspec": {
   "display_name": "Python 3",
   "language": "python",
   "name": "python3"
  },
  "language_info": {
   "codemirror_mode": {
    "name": "ipython",
    "version": 3
   },
   "file_extension": ".py",
   "mimetype": "text/x-python",
   "name": "python",
   "nbconvert_exporter": "python",
   "pygments_lexer": "ipython3",
   "version": "3.8.12"
  },
  "source_map": [
   11,
   17,
   37,
   41,
   43
  ]
 },
 "nbformat": 4,
 "nbformat_minor": 5
}
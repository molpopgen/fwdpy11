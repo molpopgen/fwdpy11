{
 "cells": [
  {
   "cell_type": "markdown",
   "id": "55c2e9bc",
   "metadata": {},
   "source": [
    "(neutralmuts_vignette)=\n",
    "\n",
    "# Neutral mutations during a simulation\n",
    "\n",
    ":::{note}\n",
    "The lists of objects described here are passed to the `nregions` and `rates` parameters when initializing instances of {class}`fwdpy11.ModelParams`.\n",
    ":::\n",
    "\n",
    "Normally, there is no need to simulate neutral mutations during a simulation.\n",
    "Because we record the ancestry using tree sequence recording, it is much more efficient in general to add neutral mutations when the simulation is complete.\n",
    "See {ref}`here <neutralmutsafter_vignette>`.\n",
    "\n",
    "The reasons to simulate neutral variants during a simulation include:\n",
    "\n",
    "* Wanting to track their frequencies over time.\n",
    "* Wanting neutral mutation rates to vary along the genome.\n",
    "  (This is only necessary due to a current limitation of {func}`fwdpy11.infinite_sites`.)\n",
    "\n",
    "The procedure is relatively simple.\n",
    "Variation in the neutral mutation rate is specified by different weights in instances of {class}`fwdpy11.Region`.\n",
    "\n",
    "For example, to have two regions of the same size, but the second having twice as many mutations as the first:"
   ]
  },
  {
   "cell_type": "code",
   "execution_count": 1,
   "id": "18d1b5c6",
   "metadata": {},
   "outputs": [],
   "source": [
    "import fwdpy11\n",
    "\n",
    "nregions = [fwdpy11.Region(beg=0.0, end=5.0, weight=1.0),\n",
    "            fwdpy11.Region(beg=5.0, end=10.0, weight=2.0)\n",
    "           ]"
   ]
  },
  {
   "cell_type": "markdown",
   "id": "23f8fb9f",
   "metadata": {},
   "source": [
    "To specify the total mutation rate to neutral mutations, pass a non-negative {class}`float` as the first element of `rates`.\n",
    "(See {class}`fwdpy11.ModelParams`.)\n",
    "\n",
    "To see neutral mutations during a simulation in action, check out {ref}`this vignette <freqtrackpy_neutral>`."
   ]
  }
 ],
 "metadata": {
  "jupytext": {
   "formats": "md:myst",
   "text_representation": {
    "extension": ".md",
    "format_name": "myst"
   }
  },
  "kernelspec": {
   "display_name": "Python 3",
   "language": "python",
   "name": "python3"
  },
  "language_info": {
   "codemirror_mode": {
    "name": "ipython",
    "version": 3
   },
   "file_extension": ".py",
   "mimetype": "text/x-python",
   "name": "python",
   "nbconvert_exporter": "python",
   "pygments_lexer": "ipython3",
   "version": "3.8.12"
  },
  "source_map": [
   11,
   36,
   42
  ]
 },
 "nbformat": 4,
 "nbformat_minor": 5
}
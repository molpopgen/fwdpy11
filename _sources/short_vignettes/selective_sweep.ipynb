{
 "cells": [
  {
   "cell_type": "markdown",
   "id": "106dc5c3",
   "metadata": {},
   "source": [
    "(selective_sweeps)=\n",
    "\n",
    "# Selective sweeps"
   ]
  },
  {
   "cell_type": "code",
   "execution_count": 1,
   "id": "47690ccc",
   "metadata": {
    "tags": [
     "hide-input"
    ]
   },
   "outputs": [],
   "source": [
    "import fwdpy11\n",
    "import numpy as np\n",
    "import msprime"
   ]
  },
  {
   "cell_type": "code",
   "execution_count": 2,
   "id": "f402b462",
   "metadata": {},
   "outputs": [],
   "source": [
    "import fwdpy11.conditional_models\n",
    "import fwdpy11.tskit_tools"
   ]
  },
  {
   "cell_type": "code",
   "execution_count": 3,
   "id": "6a0113a9",
   "metadata": {
    "tags": [
     "hide-input"
    ]
   },
   "outputs": [],
   "source": [
    "def setup(prune_selected=False):\n",
    "    # Dropping mutations requires existing\n",
    "    # ancestry, which we can get either\n",
    "    # from a burn-in or from msprime.\n",
    "    initial_ts = msprime.sim_ancestry(\n",
    "        samples=500,\n",
    "        population_size=500,\n",
    "        recombination_rate=1e-1,\n",
    "        random_seed=43215,\n",
    "        sequence_length=1.0,\n",
    "    )\n",
    "\n",
    "    # Build the pop from msprime output\n",
    "    pop = fwdpy11.DiploidPopulation.create_from_tskit(initial_ts)\n",
    "\n",
    "    # Set up basic model parameters\n",
    "    pdict = {\n",
    "        \"recregions\": [fwdpy11.PoissonInterval(0, 1, 1e-1)],\n",
    "        # Here, 2 means that fitness is multiplicative\n",
    "        # over 1, 1+hs, 1+2s.\n",
    "        \"gvalue\": fwdpy11.Multiplicative(2.0),\n",
    "        \"rates\": (0, 0, None),\n",
    "        \"prune_selected\": False,\n",
    "        \"simlen\": 200,\n",
    "    }\n",
    "    params = fwdpy11.ModelParams(**pdict)\n",
    "\n",
    "    return pop, params"
   ]
  },
  {
   "cell_type": "markdown",
   "id": "fb32acdb",
   "metadata": {},
   "source": [
    "## From a new mutation"
   ]
  },
  {
   "cell_type": "code",
   "execution_count": 4,
   "id": "d6ca39c6",
   "metadata": {},
   "outputs": [],
   "source": [
    "ALPHA = 1000.0"
   ]
  },
  {
   "cell_type": "code",
   "execution_count": 5,
   "id": "260af87c",
   "metadata": {},
   "outputs": [],
   "source": [
    "rng = fwdpy11.GSLrng(12345)\n",
    "pop, params = setup()"
   ]
  },
  {
   "cell_type": "code",
   "execution_count": 6,
   "id": "84746d79",
   "metadata": {},
   "outputs": [],
   "source": [
    "mutation_data = fwdpy11.conditional_models.NewMutationParameters(\n",
    "    frequency=fwdpy11.conditional_models.AlleleCount(1),\n",
    "    data=fwdpy11.NewMutationData(effect_size=ALPHA / 2 / pop.N, dominance=1),\n",
    "    position=fwdpy11.conditional_models.PositionRange(left=0.49, right=0.51),\n",
    ")"
   ]
  },
  {
   "cell_type": "code",
   "execution_count": 7,
   "id": "648f72ba",
   "metadata": {},
   "outputs": [],
   "source": [
    "output = fwdpy11.conditional_models.selective_sweep(\n",
    "    rng, \n",
    "    pop,\n",
    "    params,\n",
    "    mutation_data,\n",
    "    fwdpy11.conditional_models.GlobalFixation()\n",
    ")"
   ]
  },
  {
   "cell_type": "code",
   "execution_count": 8,
   "id": "9b6fcec5",
   "metadata": {},
   "outputs": [],
   "source": [
    "assert output.pop.generation == params.simlen\n",
    "assert pop.generation == 0"
   ]
  },
  {
   "cell_type": "code",
   "execution_count": 9,
   "id": "82574154",
   "metadata": {},
   "outputs": [
    {
     "name": "stdout",
     "output_type": "stream",
     "text": [
      "Mutation[position:0.507803, effect size:1.000000, dominance:1.000000, origin time:0, label:0]\n"
     ]
    }
   ],
   "source": [
    "print(output.pop.mutations[output.mutation_index])"
   ]
  },
  {
   "cell_type": "code",
   "execution_count": 10,
   "id": "834aa48a",
   "metadata": {},
   "outputs": [
    {
     "name": "stdout",
     "output_type": "stream",
     "text": [
      "Mutation[position:0.507803, effect size:1.000000, dominance:1.000000, origin time:0, label:0] 26\n"
     ]
    }
   ],
   "source": [
    "for fixation, time in zip(output.pop.fixations, output.pop.fixation_times):\n",
    "    print(fixation, time)"
   ]
  },
  {
   "cell_type": "code",
   "execution_count": 11,
   "id": "edbe7852",
   "metadata": {},
   "outputs": [],
   "source": [
    "FIXATION_TIME = output.pop.fixation_times[0]"
   ]
  },
  {
   "cell_type": "markdown",
   "id": "0115abf7",
   "metadata": {},
   "source": [
    "### Recording the generation when fixation happened"
   ]
  },
  {
   "cell_type": "code",
   "execution_count": 12,
   "id": "46050d4b",
   "metadata": {},
   "outputs": [],
   "source": [
    "rng = fwdpy11.GSLrng(12345)"
   ]
  },
  {
   "cell_type": "code",
   "execution_count": 13,
   "id": "6fff232c",
   "metadata": {},
   "outputs": [],
   "source": [
    "output = fwdpy11.conditional_models.selective_sweep(\n",
    "    rng, \n",
    "    pop,\n",
    "    params,\n",
    "    mutation_data,\n",
    "    fwdpy11.conditional_models.GlobalFixation(),\n",
    "    sampling_policy=fwdpy11.conditional_models.AncientSamplePolicy.COMPLETION,\n",
    ")"
   ]
  },
  {
   "cell_type": "code",
   "execution_count": 14,
   "id": "4d28257d",
   "metadata": {},
   "outputs": [],
   "source": [
    "assert len(output.pop.ancient_sample_nodes) == 2 * output.pop.N\n",
    "assert output.pop.fixation_times[output.mutation_index] == FIXATION_TIME"
   ]
  },
  {
   "cell_type": "code",
   "execution_count": 15,
   "id": "ecc125bb",
   "metadata": {},
   "outputs": [],
   "source": [
    "node_array = np.array(output.pop.tables.nodes, copy=False)\n",
    "ancient_sample_node_times = \\\n",
    "    node_array[\"time\"][output.pop.ancient_sample_nodes]\n",
    "assert np.all([ancient_sample_node_times == \\\n",
    "    output.pop.fixation_times[output.mutation_index]])"
   ]
  },
  {
   "cell_type": "markdown",
   "id": "97768baf",
   "metadata": {},
   "source": [
    "## From a standing variant\n",
    "\n",
    "The recipes for a standing variant are identical to those show above, except that one uses {class}`fwdpy11.conditional_models.AlleleCountRange` or {class}`fwdpy11.conditional_models.FrequencyRange` to specify the starting frequencies."
   ]
  }
 ],
 "metadata": {
  "jupytext": {
   "formats": "md:myst",
   "text_representation": {
    "extension": ".md",
    "format_name": "myst"
   }
  },
  "kernelspec": {
   "display_name": "Python 3",
   "language": "python",
   "name": "python3"
  },
  "language_info": {
   "codemirror_mode": {
    "name": "ipython",
    "version": 3
   },
   "file_extension": ".py",
   "mimetype": "text/x-python",
   "name": "python",
   "nbconvert_exporter": "python",
   "pygments_lexer": "ipython3",
   "version": "3.8.12"
  },
  "source_map": [
   11,
   17,
   27,
   33,
   66,
   70,
   75,
   80,
   89,
   99,
   104,
   108,
   113,
   115,
   121,
   125,
   136,
   142,
   148
  ]
 },
 "nbformat": 4,
 "nbformat_minor": 5
}
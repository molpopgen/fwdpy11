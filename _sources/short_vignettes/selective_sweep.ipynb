{
 "cells": [
  {
   "cell_type": "markdown",
   "id": "55e7c8a9",
   "metadata": {},
   "source": [
    "(selective_sweeps)=\n",
    "\n",
    "# Selective sweeps"
   ]
  },
  {
   "cell_type": "code",
   "execution_count": 1,
   "id": "1d3272d4",
   "metadata": {
    "tags": [
     "hide-input"
    ]
   },
   "outputs": [],
   "source": [
    "import fwdpy11\n",
    "import numpy as np\n",
    "import msprime"
   ]
  },
  {
   "cell_type": "code",
   "execution_count": 2,
   "id": "0a609eff",
   "metadata": {},
   "outputs": [],
   "source": [
    "import fwdpy11.conditional_models\n",
    "import fwdpy11.tskit_tools"
   ]
  },
  {
   "cell_type": "code",
   "execution_count": 3,
   "id": "a8b5c22a",
   "metadata": {
    "tags": [
     "hide-input"
    ]
   },
   "outputs": [],
   "source": [
    "def setup(prune_selected=False):\n",
    "    # Dropping mutations requires existing\n",
    "    # ancestry, which we can get either\n",
    "    # from a burn-in or from msprime.\n",
    "    initial_ts = msprime.sim_ancestry(\n",
    "        samples=500,\n",
    "        population_size=500,\n",
    "        recombination_rate=1e-4,\n",
    "        random_seed=43215,\n",
    "        sequence_length=10000.0,\n",
    "    )\n",
    "\n",
    "    # Build the pop from msprime output\n",
    "    pop = fwdpy11.DiploidPopulation.create_from_tskit(initial_ts)\n",
    "\n",
    "    # Set up basic model parameters\n",
    "    pdict = {\n",
    "        \"recregions\": [fwdpy11.PoissonInterval(0, 10000, 1e-4, discrete=True)],\n",
    "        # Here, 2 means that fitness is multiplicative\n",
    "        # over 1, 1+hs, 1+2s.\n",
    "        \"gvalue\": fwdpy11.Multiplicative(2.0),\n",
    "        \"rates\": (0, 0, None),\n",
    "        \"prune_selected\": False,\n",
    "        \"simlen\": 200,\n",
    "    }\n",
    "    params = fwdpy11.ModelParams(**pdict)\n",
    "\n",
    "    return pop, params"
   ]
  },
  {
   "cell_type": "markdown",
   "id": "6b28b0ab",
   "metadata": {},
   "source": [
    "## From a new mutation"
   ]
  },
  {
   "cell_type": "code",
   "execution_count": 4,
   "id": "22113e79",
   "metadata": {},
   "outputs": [],
   "source": [
    "ALPHA = 1000.0"
   ]
  },
  {
   "cell_type": "code",
   "execution_count": 5,
   "id": "888c7488",
   "metadata": {},
   "outputs": [],
   "source": [
    "rng = fwdpy11.GSLrng(12345)\n",
    "pop, params = setup()"
   ]
  },
  {
   "cell_type": "code",
   "execution_count": 6,
   "id": "bb3d26df",
   "metadata": {},
   "outputs": [],
   "source": [
    "mutation_data = fwdpy11.conditional_models.NewMutationParameters(\n",
    "    frequency=fwdpy11.conditional_models.AlleleCount(1),\n",
    "    data=fwdpy11.NewMutationData(effect_size=ALPHA / 2 / pop.N, dominance=1),\n",
    "    position=fwdpy11.conditional_models.PositionRange(left=0.49, right=0.51),\n",
    ")"
   ]
  },
  {
   "cell_type": "code",
   "execution_count": 7,
   "id": "82ff53ab",
   "metadata": {},
   "outputs": [],
   "source": [
    "output = fwdpy11.conditional_models.selective_sweep(\n",
    "    rng, \n",
    "    pop,\n",
    "    params,\n",
    "    mutation_data,\n",
    "    fwdpy11.conditional_models.GlobalFixation()\n",
    ")"
   ]
  },
  {
   "cell_type": "code",
   "execution_count": 8,
   "id": "fb83d639",
   "metadata": {},
   "outputs": [],
   "source": [
    "assert output.pop.generation == params.simlen\n",
    "assert pop.generation == 0"
   ]
  },
  {
   "cell_type": "code",
   "execution_count": 9,
   "id": "a472c6bf",
   "metadata": {},
   "outputs": [
    {
     "name": "stdout",
     "output_type": "stream",
     "text": [
      "Mutation[position:0.507803, effect size:1.000000, dominance:1.000000, origin time:0, label:0]\n"
     ]
    }
   ],
   "source": [
    "print(output.pop.mutations[output.mutation_index])"
   ]
  },
  {
   "cell_type": "code",
   "execution_count": 10,
   "id": "e5349080",
   "metadata": {},
   "outputs": [
    {
     "name": "stdout",
     "output_type": "stream",
     "text": [
      "Mutation[position:0.507803, effect size:1.000000, dominance:1.000000, origin time:0, label:0] 27\n"
     ]
    }
   ],
   "source": [
    "for fixation, time in zip(output.pop.fixations, output.pop.fixation_times):\n",
    "    print(fixation, time)"
   ]
  },
  {
   "cell_type": "code",
   "execution_count": 11,
   "id": "0d79bbe4",
   "metadata": {},
   "outputs": [],
   "source": [
    "FIXATION_TIME = output.pop.fixation_times[0]"
   ]
  },
  {
   "cell_type": "markdown",
   "id": "cd0e775c",
   "metadata": {},
   "source": [
    "### Recording the generation when fixation happened"
   ]
  },
  {
   "cell_type": "code",
   "execution_count": 12,
   "id": "cccf5852",
   "metadata": {},
   "outputs": [],
   "source": [
    "rng = fwdpy11.GSLrng(12345)"
   ]
  },
  {
   "cell_type": "code",
   "execution_count": 13,
   "id": "bf080062",
   "metadata": {},
   "outputs": [],
   "source": [
    "output = fwdpy11.conditional_models.selective_sweep(\n",
    "    rng, \n",
    "    pop,\n",
    "    params,\n",
    "    mutation_data,\n",
    "    fwdpy11.conditional_models.GlobalFixation(),\n",
    "    sampling_policy=fwdpy11.conditional_models.AncientSamplePolicy.COMPLETION,\n",
    ")"
   ]
  },
  {
   "cell_type": "code",
   "execution_count": 14,
   "id": "5fbe6e7b",
   "metadata": {},
   "outputs": [],
   "source": [
    "assert len(output.pop.ancient_sample_nodes) == 2 * output.pop.N\n",
    "assert output.pop.fixation_times[output.mutation_index] == FIXATION_TIME"
   ]
  },
  {
   "cell_type": "code",
   "execution_count": 15,
   "id": "5838c8c5",
   "metadata": {},
   "outputs": [],
   "source": [
    "node_array = np.array(output.pop.tables.nodes, copy=False)\n",
    "ancient_sample_node_times = \\\n",
    "    node_array[\"time\"][output.pop.ancient_sample_nodes]\n",
    "assert np.all([ancient_sample_node_times == \\\n",
    "    output.pop.fixation_times[output.mutation_index]])"
   ]
  },
  {
   "cell_type": "markdown",
   "id": "4bab13af",
   "metadata": {},
   "source": [
    "## From a standing variant\n",
    "\n",
    "The recipes for a standing variant are identical to those show above, except that one uses {class}`fwdpy11.conditional_models.AlleleCountRange` or {class}`fwdpy11.conditional_models.FrequencyRange` to specify the starting frequencies."
   ]
  }
 ],
 "metadata": {
  "jupytext": {
   "formats": "md:myst",
   "text_representation": {
    "extension": ".md",
    "format_name": "myst"
   }
  },
  "kernelspec": {
   "display_name": "Python 3",
   "language": "python",
   "name": "python3"
  },
  "language_info": {
   "codemirror_mode": {
    "name": "ipython",
    "version": 3
   },
   "file_extension": ".py",
   "mimetype": "text/x-python",
   "name": "python",
   "nbconvert_exporter": "python",
   "pygments_lexer": "ipython3",
   "version": "3.8.14"
  },
  "source_map": [
   11,
   17,
   27,
   33,
   66,
   70,
   75,
   80,
   89,
   99,
   104,
   108,
   113,
   115,
   121,
   125,
   136,
   142,
   148
  ]
 },
 "nbformat": 4,
 "nbformat_minor": 5
}
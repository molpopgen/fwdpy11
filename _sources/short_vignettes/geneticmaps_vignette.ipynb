{
 "cells": [
  {
   "cell_type": "markdown",
   "id": "6254620e",
   "metadata": {},
   "source": [
    "(geneticmaps_vignette)=\n",
    "\n",
    "# Genetic maps\n",
    "\n",
    ":::{note}\n",
    "The lists of objects described here are passed to the `recregions` parameter when initializing instances of {class}`fwdpy11.ModelParams`.\n",
    ":::\n",
    "\n",
    ":::{versionadded} 0.3.0\n",
    "The methods described here replace a soon-to-be deprecated approach using {class}`fwdpy11.Region`.\n",
    ":::\n",
    "\n",
    ":::{versionchanged} 0.12.0\n",
    "Added ability to restrict crossover positions to discrete values.\n",
    ":::\n",
    "\n",
    "Genetic maps are lists of instances of classes derived from the `ABC`\n",
    "{class}`fwdpy11.GeneticMapUnit`.\n",
    "Here `Unit` refers to an *element* of a genetic map rather than the actual units (`cM`, etc.).\n",
    "Instances of these classes contain their own rates and we can mix and match regions where recombination breakpoints are Poisson and binomially distributed.\n",
    "\n",
    "The following example uses {class}`fwdpy11.PoissonInterval` to model two genomic regions of equal length.\n",
    "The first region, spanning $[0, 5)$, has a mean of $2 \\times 10^{-3}$ crossovers per generation. \n",
    "The second region, spanning [5, 10), has half as many crossovers per generation."
   ]
  },
  {
   "cell_type": "code",
   "execution_count": 1,
   "id": "bad2a38d",
   "metadata": {},
   "outputs": [],
   "source": [
    "import fwdpy11\n",
    "\n",
    "recregions = [\n",
    "    fwdpy11.PoissonInterval(beg=0, end=5, mean=2e-3),\n",
    "    fwdpy11.PoissonInterval(beg=5, end=10, mean=1e-3),\n",
    "]"
   ]
  },
  {
   "cell_type": "markdown",
   "id": "30c3e0fc",
   "metadata": {},
   "source": [
    "The number of breakpoints in each {math}`[beg, end)` interval is Poisson distributed with the given mean.\n",
    "The position of each breakpoint is uniform (and continuous) on {math}`[beg, end)`.\n",
    "\n",
    "These classes also allow us to specify breakpoints at a specific position with a specific probability.\n",
    "The next example sets up 4 genomic regions, each 10 \"units\" long.  Within each region, the mean number of breakpoints (per diploid, per generation) is {math}`1e-3`.\n",
    "Between each region, a single recombination occurs with probability of\n",
    "one-half, meaning that each region is assorting independently (50 `cM` between each region)."
   ]
  },
  {
   "cell_type": "code",
   "execution_count": 2,
   "id": "312cf839",
   "metadata": {},
   "outputs": [
    {
     "name": "stdout",
     "output_type": "stream",
     "text": [
      "fwdpy11.PoissonInterval(beg=0, end=10, mean=0.001, discrete=False)\n",
      "fwdpy11.PoissonInterval(beg=10, end=20, mean=0.001, discrete=False)\n",
      "fwdpy11.PoissonInterval(beg=20, end=30, mean=0.001, discrete=False)\n",
      "fwdpy11.PoissonInterval(beg=30, end=40, mean=0.001, discrete=False)\n",
      "fwdpy11.BinomialPoint(position=10, probability=0.5, discrete=False)\n",
      "fwdpy11.BinomialPoint(position=20, probability=0.5, discrete=False)\n",
      "fwdpy11.BinomialPoint(position=30, probability=0.5, discrete=False)\n"
     ]
    }
   ],
   "source": [
    "NLOCI = 4\n",
    "LOCUS_LENGTH = 10\n",
    "RECRATE_PER_LOCUS = 1e-3\n",
    "LOCUS_BOUNDARIES = [\n",
    "    (i, i + LOCUS_LENGTH) for i in range(0, NLOCI * LOCUS_LENGTH, LOCUS_LENGTH)\n",
    "]\n",
    "recregions = [fwdpy11.PoissonInterval(*i, RECRATE_PER_LOCUS) for i in LOCUS_BOUNDARIES]\n",
    "for i in LOCUS_BOUNDARIES[:-1]:\n",
    "    recregions.append(fwdpy11.BinomialPoint(i[1], 0.5))\n",
    "for i in recregions:\n",
    "    print(i)"
   ]
  },
  {
   "cell_type": "markdown",
   "id": "d4a2ccb2",
   "metadata": {},
   "source": [
    "As an aside, this example is not creating objects in order by their positions.  Such ordering is not required.\n",
    "\n",
    "Beginning in version `0.12.0`, it is possible to restrict crossover positions to integer values.\n",
    "For the examples given above, crossover positions are floating-point values sampled uniformly from {math}`[beg, end)`.\n",
    "To restrict positions to integer values, we pass `discrete=True` when creating object instances:"
   ]
  },
  {
   "cell_type": "code",
   "execution_count": 3,
   "id": "abca9485",
   "metadata": {},
   "outputs": [],
   "source": [
    "recregions = [\n",
    "    fwdpy11.PoissonInterval(beg=0, end=5, mean=2e-3, discrete=True),\n",
    "    fwdpy11.PoissonInterval(beg=5, end=10, mean=1e-3, discrete=True),\n",
    "]"
   ]
  },
  {
   "cell_type": "markdown",
   "id": "7e6f458d",
   "metadata": {},
   "source": [
    "Now, breakpoints from the first region will only take on values of `0`, `1`, `2`, `3`, or `4`.\n",
    "\n",
    "Setting `discrete=True` requires the following:\n",
    "\n",
    "* Values for `beg` and `end` must be {class}`int`.  Thus, `1` is valid but `1.0` will raise a `TypeError`.\n",
    "* `end - beg` must be `> 1`.  This requirement prevents you from using `beg=0` and `end=1`, for example, which would result in the only possible crossover position being `0`.\n",
    "* You must be more careful when using `msprime` to start/finish a simulation.\n",
    "  See {ref}`here <precapitation>` and {ref}`here <recapitation>` for details.\n",
    "\n",
    "The following classes are available:\n",
    "\n",
    "* {class}`fwdpy11.PoissonInterval`\n",
    "* {class}`fwdpy11.PoissonPoint`\n",
    "* {class}`fwdpy11.BinomialInterval`\n",
    "* {class}`fwdpy11.BinomialPoint`\n",
    "* {class}`fwdpy11.FixedCrossovers`\n",
    "\n",
    "## General comments\n",
    "\n",
    "* Different {math}`[beg, end)` intervals may overlap.\n",
    "  The interpretation of such a setup is up to you.\n",
    "* When using classes like {class}`fwdpy11.PoissonInterval`, the recombination rate that you use to construct a {class}`fwdpy11.ModelParams` instance is ignored, as the rates are stored in the individual objects.\n",
    "* You do not need to specify regions with zero recombination.\n",
    "  Their existence is implied given the total length of the genome being simulated ({attr}`fwdpy11.TableCollection.genome_length`)."
   ]
  }
 ],
 "metadata": {
  "jupytext": {
   "formats": "md:myst",
   "text_representation": {
    "extension": ".md",
    "format_name": "myst"
   }
  },
  "kernelspec": {
   "display_name": "Python 3",
   "language": "python",
   "name": "python3"
  },
  "language_info": {
   "codemirror_mode": {
    "name": "ipython",
    "version": 3
   },
   "file_extension": ".py",
   "mimetype": "text/x-python",
   "name": "python",
   "nbconvert_exporter": "python",
   "pygments_lexer": "ipython3",
   "version": "3.8.12"
  },
  "source_map": [
   11,
   38,
   45,
   55,
   67,
   75,
   80
  ]
 },
 "nbformat": 4,
 "nbformat_minor": 5
}
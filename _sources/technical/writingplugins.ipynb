{
 "cells": [
  {
   "cell_type": "markdown",
   "id": "5ea57cdc",
   "metadata": {},
   "source": [
    "(writingplugins)=\n",
    "\n",
    "# Writing \"plugins\" with C++\n",
    "\n",
    "New functionality may be added through new Python code and/or new C++ code.\n",
    "Further, you may use the existing C++ types in Python extensions depending on\n",
    "`fwdpy11`.  For example, you could write a custom \"evolve\" function for\n",
    "non-Wright-Fisher models.  Or, you could write custom genetic value objects.\n",
    "There are several examples of custom genetic value objects in the unit tests.\n",
    "\n",
    "## Finding the headers\n",
    "\n",
    "You can find the location of the installed header files using Python:"
   ]
  },
  {
   "cell_type": "code",
   "execution_count": 1,
   "id": "91d8dcc3",
   "metadata": {},
   "outputs": [
    {
     "name": "stdout",
     "output_type": "stream",
     "text": [
      "/home/runner/work/fwdpy11/fwdpy11/fwdpy11/headers\n",
      "/home/runner/work/fwdpy11/fwdpy11/fwdpy11/headers/fwdpp\n"
     ]
    }
   ],
   "source": [
    "import fwdpy11\n",
    "\n",
    "print(fwdpy11.get_includes())\n",
    "print(fwdpy11.get_fwdpp_includes())"
   ]
  },
  {
   "cell_type": "markdown",
   "id": "71f24c05",
   "metadata": {},
   "source": [
    "The above is useful for generating a functioning `setup.py` file.  Note that you will have\n",
    "to join the output with the proper compiler flags indicating include paths (typically `-I`).\n",
    "\n",
    "If using a `Makefile`, it is handy to get the above info via the shell, which is done as follows:\n",
    "\n",
    "```{code-block} bash\n",
    "\n",
    "python3 -m fwdpy11 --includes\n",
    "\n",
    "```\n",
    "\n",
    "The above command prepends the paths with `-I`.  If that is not desired,\n",
    "you may get the paths separately for `fwdpp` and `fwdpy11`:\n",
    "\n",
    "```{code-block} bash\n",
    "\n",
    "python3 -m fwdpy11 --fwdpp_headers\n",
    "python3 -m fwdpy11 --fwdpy11_headers\n",
    "\n",
    "```\n",
    "\n",
    "## Building with `cmake`\n",
    "\n",
    "The above two commands are useful when using tools like `cmake` to configure build systems.  Here is an example\n",
    "from one of the examples that comes with `fwdpy11`:\n",
    "\n",
    "```{literalinclude} ../../examples/plugin/CMakeLists.txt\n",
    "\n",
    "```\n",
    "\n",
    "## Mako headers for cppimport\n",
    "\n",
    "Extensions using [cppimport][cppimport] require `mako` headers to guide compilation.  You make get a minimal header via the shell:\n",
    "\n",
    "```{code-block} bash\n",
    "\n",
    "python3 -m fwdpy11 --mako\n",
    "\n",
    "```\n",
    "\n",
    "[cppimport]: https://github.com/tbenthompson/cppimport\n",
    "\n",
    "## Dealing with `GSL` errors in custom C++ code\n",
    "\n",
    "The `GSL` uses C-like error handling.  Here, this means that there is a global error handling function\n",
    "that will print the error to screen and then abort the running process.  The behavior of abort-on-error is not\n",
    "acceptable here, as the Python session itself will abort!\n",
    "\n",
    "When `fwdpy11` is imported, the default `GSL` behavior changes.  Instead of aborting, a `RuntimeError` will be raised.\n",
    "This exception will contain the entire string of text from the `GSL` error message.\n",
    "\n",
    "However, if you write and C++ code using the `GSL`, you may wish to handle errors locally and maybe return `None` or throw\n",
    "an exception with your own message in it.  To do so, you must do the following in your C++ code:\n",
    "\n",
    "1. Temporarily disable `GSL` error handling.\n",
    "2. Restore the `fwdpy11` error handler at all possible exit paths from your code.\n",
    "\n",
    "On paper, one could do all of the above using the C API found in the `GSL`.  However, `fwdpy11` provides a class that\n",
    "provides an idiomatic C++ approach to managing the error handler.  The C++ class `fwdpy11::gsl_error_handler_wrapper`,\n",
    "defined in `<fwdpy11/gsl/gsl_error_handler_wrapper.hpp>` provide a \"smart pointer\"-like wrapper around the error\n",
    "handler. The constructor disables the error handler, storing the value of the disabled handler.  The destructor restores\n",
    "the handler.\n",
    "\n",
    "To see this in action, check out the unit test file `tests/test_GSLerror.py` and its associated C++ file\n",
    "`tests/gsl_error.cc`."
   ]
  }
 ],
 "metadata": {
  "jupytext": {
   "formats": "md:myst",
   "text_representation": {
    "extension": ".md",
    "format_name": "myst"
   }
  },
  "kernelspec": {
   "display_name": "Python 3",
   "language": "python",
   "name": "python3"
  },
  "language_info": {
   "codemirror_mode": {
    "name": "ipython",
    "version": 3
   },
   "file_extension": ".py",
   "mimetype": "text/x-python",
   "name": "python",
   "nbconvert_exporter": "python",
   "pygments_lexer": "ipython3",
   "version": "3.10.10"
  },
  "source_map": [
   11,
   27,
   32
  ]
 },
 "nbformat": 4,
 "nbformat_minor": 5
}
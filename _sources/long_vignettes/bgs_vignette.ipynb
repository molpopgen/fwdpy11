{
 "cells": [
  {
   "cell_type": "markdown",
   "id": "8d921014",
   "metadata": {},
   "source": [
    "(bgs_vignette)=\n",
    "\n",
    "# Background selection\n",
    "\n",
    "This vignette recreates results from {cite}`Hudson1995-id`.\n",
    "\n",
    "The physical layout of the genome follows their Figure 1.\n",
    "The fact that the neutral region is non-recombining is a major simplification for the analysis.\n",
    "By definition, a single tree describes the history of that region.\n",
    "If that were not the case, we would have to take the weighted mean of summaries of trees, with tree lengths (relative to total genome length) as the weights."
   ]
  },
  {
   "cell_type": "code",
   "execution_count": 1,
   "id": "e60e6bfc",
   "metadata": {},
   "outputs": [],
   "source": [
    "import numpy as np\n",
    "\n",
    "import fwdpy11\n",
    "\n",
    "def runsim(N, R, U, nsam, seed):\n",
    "    rng = fwdpy11.GSLrng(seed)\n",
    "\n",
    "    pdict = {\n",
    "        \"gvalue\": fwdpy11.Multiplicative(2.0),\n",
    "        \"rates\": (0.0, U / 2.0, R),  # The U/2. is from their eqn. 2.\n",
    "        \"nregions\": [],\n",
    "        \"sregions\": [\n",
    "            fwdpy11.ConstantS(0, 1.0 / 3.0, 1, -0.02, 1.0),\n",
    "            fwdpy11.ConstantS(2.0 / 3.0, 1.0, 1, -0.02, 1.0),\n",
    "        ],\n",
    "        \"recregions\": [\n",
    "            fwdpy11.Region(0, 1.0 / 3.0, 1),\n",
    "            fwdpy11.Region(2.0 / 3.0, 1.0, 1),\n",
    "        ],\n",
    "        \"demography\": fwdpy11.DiscreteDemography(),\n",
    "        \"simlen\": 20 * N,\n",
    "    }\n",
    "    params = fwdpy11.ModelParams(**pdict)\n",
    "\n",
    "    pop = fwdpy11.DiploidPopulation(N, 1.0)\n",
    "\n",
    "    fwdpy11.evolvets(rng, pop, params, 100, suppress_table_indexing=True)\n",
    "\n",
    "    rdips = np.random.choice(N, nsam, replace=False)\n",
    "    md = np.array(pop.diploid_metadata, copy=False)\n",
    "    rdip_nodes = md[\"nodes\"][rdips].flatten()\n",
    "    nodes = np.array(pop.tables.nodes, copy=False)\n",
    "    # Only visit trees spanning the\n",
    "    # mutation-free segment of the genome\n",
    "    tv = fwdpy11.TreeIterator(pop.tables, rdip_nodes, begin=1.0 / 3.0, end=2.0 / 3.0)\n",
    "    plist = np.zeros(len(nodes), dtype=np.int8)\n",
    "    sum_pairwise_tmrca = 0\n",
    "    for t in tv:\n",
    "        for i in range(len(rdip_nodes) - 1):\n",
    "            u = rdip_nodes[i]\n",
    "            while u != fwdpy11.NULL_NODE:\n",
    "                plist[u] = 1\n",
    "                u = t.parent(u)\n",
    "            for j in range(i + 1, len(rdip_nodes)):\n",
    "                u = rdip_nodes[j]\n",
    "                while u != fwdpy11.NULL_NODE:\n",
    "                    if plist[u] == 1:\n",
    "                        sum_pairwise_tmrca += 2 * (pop.generation - nodes[\"time\"][u])\n",
    "                        u = fwdpy11.NULL_NODE\n",
    "                    else:\n",
    "                        u = t.parent(u)\n",
    "            plist.fill(0)\n",
    "    return 2 * sum_pairwise_tmrca / (len(rdip_nodes) * (len(rdip_nodes) - 1))"
   ]
  },
  {
   "cell_type": "code",
   "execution_count": 2,
   "id": "c9b7725f",
   "metadata": {
    "tags": [
     "remove-cell"
    ]
   },
   "outputs": [
    {
     "data": {
      "text/plain": [
       "765.6210526315789"
      ]
     },
     "execution_count": 2,
     "metadata": {},
     "output_type": "execute_result"
    }
   ],
   "source": [
    "# Dummy cell that doesn't get written to docs.\n",
    "# This makes sure that we have fast examples\n",
    "# that work.\n",
    "R = 0.04\n",
    "U = 0.01\n",
    "N = 100\n",
    "# number of diploids to sample\n",
    "NSAM = 10\n",
    "seed = 54321\n",
    "runsim(N, R, U, NSAM, seed)"
   ]
  },
  {
   "cell_type": "markdown",
   "id": "c020f8ce",
   "metadata": {},
   "source": [
    "The following function runs the parameters in line 4 of Table 1 from {cite}`Hudson1995-id`."
   ]
  },
  {
   "cell_type": "code",
   "execution_count": 3,
   "id": "197f01a2",
   "metadata": {},
   "outputs": [],
   "source": [
    "def hk95_table1_line4(seed):\n",
    "    R = 0.04\n",
    "    U = 0.08\n",
    "    N = 1600\n",
    "    # number of diploids to sample\n",
    "    NSAM = 10\n",
    "    return runsim(N, R, U, NSAM, seed), N"
   ]
  },
  {
   "cell_type": "markdown",
   "id": "7d9e0036",
   "metadata": {},
   "source": [
    "The following code block is not executed.\n",
    "If you download this page as a notebook and execute it, you should get a mean diversity very close to $0.368$.\n",
    "\n",
    "```{code-block} python\n",
    "import concurrent.futures\n",
    "\n",
    "nreps = 100\n",
    "seed = 42\n",
    "np.random.seed(seed)\n",
    "\n",
    "seeds = []\n",
    "for i in range(nreps):\n",
    "    candidate = np.random.randint(0, np.iinfo(np.uint32).max)\n",
    "    while candidate in seeds:\n",
    "        candidate = np.random.randint(0, np.iinfo(np.uint32).max)\n",
    "    seeds.append(candidate)\n",
    "\n",
    "mean_pairwise_coalescence_times = np.zeros(nreps)\n",
    "mean_pairwise_coalescence_times.fill(np.nan)\n",
    "idx = 0\n",
    "with concurrent.futures.ProcessPoolExecutor() as executor:\n",
    "    futures = {executor.submit(hk95_table1_line4, i) for i in seeds}\n",
    "    for future in concurrent.futures.as_completed(futures):\n",
    "        scaled_mean_pairwise_coalescence_time, N = future.result() \n",
    "        scaled_mean_pairwise_coalescence_time /= (4 * N)\n",
    "        mean_pairwise_coalescence_times[idx] = scaled_mean_pairwise_coalescence_time\n",
    "        idx += 1\n",
    "mean_pairwise_coalescence_times\n",
    "print(\n",
    "    mean_pairwise_coalescence_times.mean(),\n",
    "    mean_pairwise_coalescence_times.std() / np.sqrt(nreps),\n",
    ")\n",
    "```"
   ]
  }
 ],
 "metadata": {
  "jupytext": {
   "formats": "md:myst",
   "text_representation": {
    "extension": ".md",
    "format_name": "myst"
   }
  },
  "kernelspec": {
   "display_name": "Python 3",
   "language": "python",
   "name": "python3"
  },
  "language_info": {
   "codemirror_mode": {
    "name": "ipython",
    "version": 3
   },
   "file_extension": ".py",
   "mimetype": "text/x-python",
   "name": "python",
   "nbconvert_exporter": "python",
   "pygments_lexer": "ipython3",
   "version": "3.8.14"
  },
  "source_map": [
   11,
   24,
   80,
   94,
   98,
   106
  ]
 },
 "nbformat": 4,
 "nbformat_minor": 5
}
{
 "cells": [
  {
   "cell_type": "markdown",
   "id": "ffd6d90c",
   "metadata": {},
   "source": [
    "(import_mutations_from_tskit_vignette)=\n",
    "\n",
    "# Importing mutations from tskit"
   ]
  },
  {
   "cell_type": "code",
   "execution_count": 1,
   "id": "705e9fce",
   "metadata": {},
   "outputs": [],
   "source": [
    "import msprime\n",
    "\n",
    "ts = msprime.sim_ancestry(1000,\n",
    "                          recombination_rate=1e-9,\n",
    "                          sequence_length=1e6,\n",
    "                          population_size=1000,\n",
    "                          random_seed=54321)"
   ]
  },
  {
   "cell_type": "markdown",
   "id": "69d3e280",
   "metadata": {},
   "source": [
    "Make a copy of the tables to work with:"
   ]
  },
  {
   "cell_type": "code",
   "execution_count": 2,
   "id": "b947a613",
   "metadata": {},
   "outputs": [],
   "source": [
    "tables = ts.tables"
   ]
  },
  {
   "cell_type": "markdown",
   "id": "96cf1185",
   "metadata": {},
   "source": [
    "Add the `fwdpy11` mutation metadata schema:"
   ]
  },
  {
   "cell_type": "code",
   "execution_count": 3,
   "id": "6547e159",
   "metadata": {},
   "outputs": [],
   "source": [
    "import fwdpy11\n",
    "\n",
    "tables.mutations.metadata_schema = fwdpy11.tskit_tools.metadata_schema.MutationMetadata"
   ]
  },
  {
   "cell_type": "markdown",
   "id": "57be9e0e",
   "metadata": {},
   "source": [
    "Get a list of candidate edges:"
   ]
  },
  {
   "cell_type": "code",
   "execution_count": 4,
   "id": "771e76b2",
   "metadata": {},
   "outputs": [],
   "source": [
    "edge_indexes = []\n",
    "edge_weights = []\n",
    "\n",
    "for i in range(0, tables.edges.num_rows):\n",
    "    edge = tables.edges[i]\n",
    "    ptime = tables.nodes.time[edge.parent]\n",
    "    ctime = tables.nodes.time[edge.child]\n",
    "    # We must assign mutations integer-valued\n",
    "    # times to be compatible with discrete-time\n",
    "    # forward simulations.  To do so, we filter\n",
    "    # on branches greater than a generation long.\n",
    "    if ptime - ctime > 1.0:\n",
    "        edge_indexes.append(i)\n",
    "        edge_weights.append((ptime-ctime)*(edge.right - edge.left))"
   ]
  },
  {
   "cell_type": "markdown",
   "id": "bea26178",
   "metadata": {},
   "source": [
    "We will add 10 mutations to our table collection:\n",
    "\n",
    "* Effect sizes will be `N(0, 0.1)`.\n",
    "* Dominance will be 1.\n",
    "\n",
    "First, choose 10 random edges:"
   ]
  },
  {
   "cell_type": "code",
   "execution_count": 5,
   "id": "77127fff",
   "metadata": {},
   "outputs": [],
   "source": [
    "import numpy as np\n",
    "np.random.seed(666 * 42)\n",
    "\n",
    "edge_weights = np.array(edge_weights)\n",
    "edge_weights /= np.sum(edge_weights)\n",
    "\n",
    "chosen_edges = np.random.choice(edge_indexes, size=10, p=edge_weights)"
   ]
  },
  {
   "cell_type": "markdown",
   "id": "5cbdbc83",
   "metadata": {},
   "source": [
    "::: {warning}\n",
    "The method used here to obtain candidate branches for placing mutations and sampling them is **absolutely the wrong thing to do**.\n",
    "The code shown above is for illustration purposes here.\n",
    "The approach used here violates many core evolutionary principles!\n",
    ":::"
   ]
  },
  {
   "cell_type": "code",
   "execution_count": 6,
   "id": "a38f08a6",
   "metadata": {},
   "outputs": [
    {
     "name": "stdout",
     "output_type": "stream",
     "text": [
      "0.0 717675.0202841847 -0.09416348302168775\n",
      "0.0 334533.269926062 -0.09736733068422934\n",
      "3.0 278839.69879464066 -0.09699368156361998\n",
      "0.0 876040.4676970788 0.1871315865646086\n",
      "0.0 988677.2736629287 0.06603697668387988\n",
      "19.0 831547.6330477025 -0.02066488387394409\n",
      "1569.0 89952.98209790065 0.11693668731955759\n",
      "65.0 660275.1659338316 0.021086200504333266\n",
      "1.0 285467.46704960876 -0.065294442775488\n",
      "3.0 910161.6249156992 -0.08501405494395672\n"
     ]
    }
   ],
   "source": [
    "# We must make sure that mutations\n",
    "# occur at unique sites because fwdpy11\n",
    "# is limited to the infinitely-many sites model.\n",
    "sites = set()\n",
    "for i in chosen_edges:\n",
    "    edge = tables.edges[i]\n",
    "\n",
    "    position = np.random.uniform(edge.left, edge.right, 1)[0]\n",
    "    while position in sites:\n",
    "        position = np.random.uniform(edge.left, edge.right, 1)[0]\n",
    "    sites.add(position)\n",
    "\n",
    "    site = tables.sites.add_row(position, '0')\n",
    "    effect_size = np.random.normal(loc=0.0, scale=0.1, size=1)[0]\n",
    "\n",
    "    # Here, we cheat and take the largest integer value >=\n",
    "    # the node child time.  In production, something else\n",
    "    # should be done\n",
    "    time = np.ceil(tables.nodes.time[edge.child])\n",
    "    assert time < tables.nodes.time[edge.parent]\n",
    "    print(time, position, effect_size)\n",
    "\n",
    "    # Build the mutation metadata\n",
    "    md = {'s': effect_size,\n",
    "          'h': 1.0,\n",
    "          'origin': int(time),\n",
    "          # NOTE: always write the\n",
    "          # next 3 lines as shown here.\n",
    "          # The fwdpy11 back end will do\n",
    "          # the right thing.\n",
    "          # A future release will provide a\n",
    "          # nicer API so that you only need\n",
    "          # to provide the previous 3 fields.\n",
    "          'neutral': 0,\n",
    "          'label': np.uint16(0),\n",
    "          'key': np.uint64(0)\n",
    "         }\n",
    "    tables.mutations.add_row(site, edge.child,\n",
    "                             '1', time=time,\n",
    "                             metadata=md)\n",
    "\n",
    "tables.sort()\n",
    "ts_with_muts = tables.tree_sequence()"
   ]
  },
  {
   "cell_type": "markdown",
   "id": "e42abc07",
   "metadata": {},
   "source": [
    "Create a population and lift over the mutations:"
   ]
  },
  {
   "cell_type": "code",
   "execution_count": 7,
   "id": "d23856c7",
   "metadata": {},
   "outputs": [],
   "source": [
    "pop = fwdpy11.DiploidPopulation.create_from_tskit(ts_with_muts, import_mutations=True)"
   ]
  },
  {
   "cell_type": "markdown",
   "id": "69e1d74a",
   "metadata": {},
   "source": [
    "Print the number of times each mutation appears in the population and its internal data:"
   ]
  },
  {
   "cell_type": "code",
   "execution_count": 8,
   "id": "4b1d7af3",
   "metadata": {},
   "outputs": [
    {
     "name": "stdout",
     "output_type": "stream",
     "text": [
      "799 -> Mutation[position:89952.982098, effect size:0.116937, dominance:1.000000, origin time:-1569, label:0]\n",
      "4 -> Mutation[position:278839.698795, effect size:-0.096994, dominance:1.000000, origin time:-3, label:0]\n",
      "2 -> Mutation[position:285467.467050, effect size:-0.065294, dominance:1.000000, origin time:-1, label:0]\n",
      "1 -> Mutation[position:334533.269926, effect size:-0.097367, dominance:1.000000, origin time:0, label:0]\n",
      "27 -> Mutation[position:660275.165934, effect size:0.021086, dominance:1.000000, origin time:-65, label:0]\n",
      "1 -> Mutation[position:717675.020284, effect size:-0.094163, dominance:1.000000, origin time:0, label:0]\n",
      "4 -> Mutation[position:831547.633048, effect size:-0.020665, dominance:1.000000, origin time:-19, label:0]\n",
      "1 -> Mutation[position:876040.467697, effect size:0.187132, dominance:1.000000, origin time:0, label:0]\n",
      "3 -> Mutation[position:910161.624916, effect size:-0.085014, dominance:1.000000, origin time:-3, label:0]\n",
      "1 -> Mutation[position:988677.273663, effect size:0.066037, dominance:1.000000, origin time:0, label:0]\n"
     ]
    }
   ],
   "source": [
    "for c, m in zip(pop.mcounts, pop.mutations):\n",
    "    print(c, \"->\", m)"
   ]
  },
  {
   "cell_type": "markdown",
   "id": "2bc9a0bc",
   "metadata": {},
   "source": [
    "Set up a model of additive effects on a phenotype and Gaussian stabilizing\n",
    "selection with an optimum of 1 and the (inverse) strength of stabilizing\n",
    "selection is also 1.0.\n",
    "\n",
    "::: {note}\n",
    "Pay attention to the recombination rate here: it is per genome in `fwdpy11`\n",
    "but per \"base pair\" in `msprime`!\n",
    ":::"
   ]
  },
  {
   "cell_type": "code",
   "execution_count": 9,
   "id": "01e942dd",
   "metadata": {},
   "outputs": [],
   "source": [
    "pdict = {'nregions': [], 'sregions': [],\n",
    "         'recregions': [fwdpy11.PoissonInterval(0, pop.tables.genome_length,\n",
    "                                                1e-9*pop.tables.genome_length)],\n",
    "         'rates': (0., 0., None),\n",
    "         'gvalue': fwdpy11.Additive(scaling=2, \n",
    "                                     gvalue_to_fitness=fwdpy11.GSS(optimum=1.0, VS=1.0)),\n",
    "         'simlen': 100,\n",
    "         'demography': fwdpy11.DiscreteDemography(),\n",
    "         'prune_selected': False\n",
    "         }\n",
    "params = fwdpy11.ModelParams(**pdict)"
   ]
  },
  {
   "cell_type": "markdown",
   "id": "c2c9b0ff",
   "metadata": {},
   "source": [
    "Set up recording some data:"
   ]
  },
  {
   "cell_type": "code",
   "execution_count": 10,
   "id": "8efea6f6",
   "metadata": {},
   "outputs": [],
   "source": [
    "from dataclasses import dataclass\n",
    "\n",
    "@dataclass\n",
    "class SimData:\n",
    "    generation: int\n",
    "    mean_phenotype: float\n",
    "    mean_fitness: float\n",
    "\n",
    "@dataclass\n",
    "class Recorder:\n",
    "    data: list\n",
    "\n",
    "    def __call__(self, pop, _):\n",
    "        md = np.array(pop.diploid_metadata)\n",
    "        mean_pheno = md['g'].mean()\n",
    "        mean_fitness = md['w'].mean()\n",
    "        self.data.append(SimData(pop.generation, mean_pheno, mean_fitness))"
   ]
  },
  {
   "cell_type": "markdown",
   "id": "7b29e399",
   "metadata": {},
   "source": [
    "Run the simulation:"
   ]
  },
  {
   "cell_type": "code",
   "execution_count": 11,
   "id": "9dee0e5c",
   "metadata": {},
   "outputs": [],
   "source": [
    "rng = fwdpy11.GSLrng(2351235)\n",
    "recorder = Recorder(data = [])\n",
    "fwdpy11.evolvets(rng, pop, params, simplification_interval=50,\n",
    "                 recorder=recorder, suppress_table_indexing=True)\n",
    "assert pop.generation == 100"
   ]
  },
  {
   "cell_type": "markdown",
   "id": "4d6d16a0",
   "metadata": {},
   "source": [
    "Plot our results:"
   ]
  },
  {
   "cell_type": "code",
   "execution_count": 12,
   "id": "27ff87f4",
   "metadata": {},
   "outputs": [
    {
     "data": {
      "image/png": "[encoded data removed]",
      "text/plain": [
       "<Figure size 640x480 with 1 Axes>"
      ]
     },
     "metadata": {
      "filenames": {
       "image/png": "/home/runner/work/fwdpy11/fwdpy11/doc/_build/jupyter_execute/long_vignettes/import_mutations_from_tskit_23_0.png"
      }
     },
     "output_type": "display_data"
    }
   ],
   "source": [
    "import matplotlib.pyplot as plt\n",
    "\n",
    "f, ax = plt.subplots()\n",
    "g = [i.generation for i in recorder.data]\n",
    "p = [i.mean_phenotype for i in recorder.data]\n",
    "w = [i.mean_fitness for i in recorder.data]\n",
    "ax.plot(g, p, label=r'$\\bar{g}$')\n",
    "ax.plot(g, w, label=r'$\\bar{w}$')\n",
    "ax.set_xlabel('Generation')\n",
    "ax.set_ylabel('Value')\n",
    "ax.legend(loc='best');"
   ]
  },
  {
   "cell_type": "markdown",
   "id": "6009b973",
   "metadata": {},
   "source": [
    "What mutations are left at the end of the sim?"
   ]
  },
  {
   "cell_type": "code",
   "execution_count": 13,
   "id": "a7e5e6cb",
   "metadata": {},
   "outputs": [
    {
     "name": "stdout",
     "output_type": "stream",
     "text": [
      "2000 -> Mutation[position:89952.982098, effect size:0.116937, dominance:1.000000, origin time:-1569, label:0]\n"
     ]
    }
   ],
   "source": [
    "for c, m in zip(pop.mcounts, pop.mutations):\n",
    "    print(c, \"->\", m)"
   ]
  }
 ],
 "metadata": {
  "jupytext": {
   "formats": "md:myst",
   "text_representation": {
    "extension": ".md",
    "format_name": "myst"
   }
  },
  "kernelspec": {
   "display_name": "Python 3",
   "language": "python",
   "name": "python3"
  },
  "language_info": {
   "codemirror_mode": {
    "name": "ipython",
    "version": 3
   },
   "file_extension": ".py",
   "mimetype": "text/x-python",
   "name": "python",
   "nbconvert_exporter": "python",
   "pygments_lexer": "ipython3",
   "version": "3.8.14"
  },
  "source_map": [
   11,
   17,
   25,
   29,
   31,
   35,
   39,
   43,
   58,
   68,
   76,
   84,
   128,
   132,
   134,
   138,
   141,
   152,
   164,
   168,
   186,
   190,
   196,
   200,
   212,
   216
  ]
 },
 "nbformat": 4,
 "nbformat_minor": 5
}
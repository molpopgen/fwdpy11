{
 "cells": [
  {
   "cell_type": "markdown",
   "id": "454b4f72",
   "metadata": {},
   "source": [
    "(gss_vignette)=\n",
    "\n",
    "# Gaussian stabilizing selection with an optimum shift\n",
    "\n",
    "This vignette simulates the evolution of a population to a single sudden shift in the optimum trait value.\n",
    "\n",
    "First, we define a class that will track the mean genetic value and mean fitness of the population over time.\n",
    "See {ref}`recorders_vignette` for details."
   ]
  },
  {
   "cell_type": "code",
   "execution_count": 1,
   "id": "bd982ed3",
   "metadata": {},
   "outputs": [],
   "source": [
    "import numpy as np\n",
    "\n",
    "class Recorder(object):\n",
    "    def __init__(self, start):\n",
    "        self.generation = []\n",
    "        self.gbar = []\n",
    "        self.wbar = []\n",
    "        self.start = start    \n",
    "        \n",
    "    def __call__(self, pop, sampler):\n",
    "        if pop.generation > self.start:\n",
    "            self.generation.append(pop.generation)\n",
    "            md=np.array(pop.diploid_metadata, copy=False)\n",
    "            self.gbar.append(md['g'].mean())\n",
    "            self.wbar.append(md['w'].mean())"
   ]
  },
  {
   "cell_type": "markdown",
   "id": "46d34188",
   "metadata": {},
   "source": [
    "Now, we will set up and simulate the model.\n",
    "We use {class}`fwdpy11.GSSmo` to specify when/how the optimum value shifts.\n",
    "\n",
    "We will simulate the population for $10N$ generations around an optimum of zero.\n",
    "Then, we shift the optimum to 1 and evolve another 200 generations.\n",
    "We set our `Recorder` type defined above to start tracking things after the initial \"burn in\"."
   ]
  },
  {
   "cell_type": "code",
   "execution_count": 2,
   "id": "6d90ae42",
   "metadata": {},
   "outputs": [
    {
     "name": "stderr",
     "output_type": "stream",
     "text": [
      "/home/runner/work/fwdpy11/fwdpy11/fwdpy11/_evolvets.py:147: UserWarning: Applying a default demographic model where deme sizes are [500] and the burn-in length is 10*500\n",
      "  warnings.warn(msg)\n"
     ]
    }
   ],
   "source": [
    "import fwdpy11\n",
    "\n",
    "pop = fwdpy11.DiploidPopulation(500, 1.0)\n",
    "\n",
    "rng = fwdpy11.GSLrng(54321)\n",
    "\n",
    "GSSmo = fwdpy11.GSSmo(\n",
    "    [\n",
    "        fwdpy11.Optimum(when=0, optimum=0.0, VS=1.0),\n",
    "        fwdpy11.Optimum(when=10 * pop.N - 200, optimum=1.0, VS=1.0),\n",
    "    ]\n",
    ")\n",
    "\n",
    "rho = 1000.\n",
    "\n",
    "p = {\n",
    "    \"nregions\": [],\n",
    "    \"gvalue\": fwdpy11.Additive(2.0, GSSmo),\n",
    "    \"sregions\": [fwdpy11.GaussianS(0, 1., 1, 0.1)],\n",
    "    \"recregions\": [fwdpy11.PoissonInterval(0, 1., rho / float(4 * pop.N))],\n",
    "    \"rates\": (0.0, 1e-3, None),\n",
    "    # Keep mutations at frequency 1 in the pop if they affect fitness.\n",
    "    \"prune_selected\": False,\n",
    "    \"demography\": None,\n",
    "    \"simlen\": 10 * pop.N,\n",
    "}\n",
    "params = fwdpy11.ModelParams(**p)\n",
    "\n",
    "r = Recorder(start=10 * pop.N)\n",
    "fwdpy11.evolvets(rng, pop, params, 100, recorder=r, suppress_table_indexing=True)"
   ]
  },
  {
   "cell_type": "markdown",
   "id": "4e1c6d57",
   "metadata": {},
   "source": [
    "Finally, let's plot the results:"
   ]
  },
  {
   "cell_type": "code",
   "execution_count": 3,
   "id": "f417014c",
   "metadata": {},
   "outputs": [
    {
     "data": {
      "image/png": "[encoded data removed]",
      "text/plain": [
       "<Figure size 640x480 with 1 Axes>"
      ]
     },
     "metadata": {
      "filenames": {
       "image/png": "/home/runner/work/fwdpy11/fwdpy11/doc/_build/jupyter_execute/long_vignettes/gss_vignette_5_0.png"
      }
     },
     "output_type": "display_data"
    }
   ],
   "source": [
    "import matplotlib.pyplot as plt\n",
    "\n",
    "f, ax = plt.subplots()\n",
    "ax.plot(r.generation, r.gbar, label=\"Mean trait value\")\n",
    "ax.plot(r.generation, r.wbar, label=\"Mean fitness\")\n",
    "ax.set_xlabel(\"Generation\")\n",
    "ax.set_ylabel(\"Value\")\n",
    "plt.legend()\n",
    "plt.show()"
   ]
  }
 ],
 "metadata": {
  "jupytext": {
   "formats": "md:myst",
   "text_representation": {
    "extension": ".md",
    "format_name": "myst"
   }
  },
  "kernelspec": {
   "display_name": "Python 3",
   "language": "python",
   "name": "python3"
  },
  "language_info": {
   "codemirror_mode": {
    "name": "ipython",
    "version": 3
   },
   "file_extension": ".py",
   "mimetype": "text/x-python",
   "name": "python",
   "nbconvert_exporter": "python",
   "pygments_lexer": "ipython3",
   "version": "3.10.10"
  },
  "source_map": [
   11,
   22,
   38,
   47,
   78,
   82
  ]
 },
 "nbformat": 4,
 "nbformat_minor": 5
}
{
 "cells": [
  {
   "cell_type": "markdown",
   "id": "2113fc08",
   "metadata": {},
   "source": [
    "(tskit_metadata_vignette)=\n",
    "\n",
    "# Working with data in tskit format\n",
    "\n",
    "This vignette discusses how to process simulations stored in a {class}`tskit.TreeSequence`.\n",
    "A main goal of this vignette is to describe how to access data from the forward simulation stored as metadata in the tree sequence.\n",
    "\n",
    "This example will be fairly rich in terms of features:\n",
    "\n",
    "1. We simulate a model of one deme splitting into two.\n",
    "2. We will record ancient samples from both demes after the split.\n",
    "3. We initialize our population with a simulation from `msprime`.\n",
    "4. We will have selected mutations from `fwdpy11` and neutral mutations from `msprime` in our tree sequence.\n",
    "\n",
    "## Setting up a model\n",
    "\n",
    "In order to have data to analyze, we need to simulate some.\n",
    "We will simulate the following demographic model:"
   ]
  },
  {
   "cell_type": "code",
   "execution_count": 1,
   "id": "d1e3fee5",
   "metadata": {},
   "outputs": [],
   "source": [
    "yaml=\"\"\"\n",
    "description: Two deme model with migration and size changes.\n",
    "time_units: generations\n",
    "demes:\n",
    "- name: ancestral\n",
    "  description: ancestral deme, two epochs\n",
    "  epochs:\n",
    "  - {end_time: 50, start_size: 100}\n",
    "- name: deme1\n",
    "  description: child 1\n",
    "  epochs:\n",
    "  - {start_size: 25, end_size: 25, end_time: 0}\n",
    "  ancestors: [ancestral]\n",
    "- name: deme2\n",
    "  description: child 2\n",
    "  epochs:\n",
    "  - {start_size: 75, end_size: 75, end_time: 0}\n",
    "  ancestors: [ancestral]\n",
    "migrations:\n",
    "- {demes: [deme1, deme2], rate: 1e-3}\n",
    "\"\"\""
   ]
  },
  {
   "cell_type": "code",
   "execution_count": 2,
   "id": "4cd83a2e",
   "metadata": {},
   "outputs": [
    {
     "data": {
      "image/png": "[encoded data removed]",
      "text/plain": [
       "<Figure size 853.333x480 with 1 Axes>"
      ]
     },
     "metadata": {
      "filenames": {
       "image/png": "/home/runner/work/fwdpy11/fwdpy11/doc/_build/jupyter_execute/long_vignettes/tskit_metadata_vignette_2_0.png"
      }
     },
     "output_type": "display_data"
    }
   ],
   "source": [
    "import demes\n",
    "import demesdraw\n",
    "\n",
    "graph = demes.loads(yaml)\n",
    "demesdraw.tubes(graph);"
   ]
  },
  {
   "cell_type": "markdown",
   "id": "773236fa",
   "metadata": {},
   "source": [
    "(`graph` is a {class}`demes.Graph`.)\n",
    "\n",
    "## The forward simulation parameters"
   ]
  },
  {
   "cell_type": "code",
   "execution_count": 3,
   "id": "1a6a7cb7",
   "metadata": {},
   "outputs": [],
   "source": [
    "import fwdpy11\n",
    "import msprime\n",
    "import numpy as np"
   ]
  },
  {
   "cell_type": "markdown",
   "id": "da162a59",
   "metadata": {},
   "source": [
    "We will record all individuals in the entire (meta) population after a specific time:"
   ]
  },
  {
   "cell_type": "code",
   "execution_count": 4,
   "id": "4d747d9d",
   "metadata": {},
   "outputs": [],
   "source": [
    "class Recorder(object):\n",
    "    def __init__(self, when):\n",
    "        self.when = when\n",
    "\n",
    "    def __call__(self, pop, sampler):\n",
    "        if pop.generation >= self.when:\n",
    "            sampler.assign(np.arange(pop.N))"
   ]
  },
  {
   "cell_type": "markdown",
   "id": "b3a23ffd",
   "metadata": {},
   "source": [
    "Set up some general parameters about the \"genome\":"
   ]
  },
  {
   "cell_type": "code",
   "execution_count": 5,
   "id": "d26b7f61",
   "metadata": {},
   "outputs": [],
   "source": [
    "RHO = 1000. # 4 * ancestral N * r\n",
    "L = 1000 # Genome length\n",
    "Nref = graph.demes[0].epochs[0].start_size # Ancestral population size\n",
    "RECRATE = RHO / 4 / Nref"
   ]
  },
  {
   "cell_type": "markdown",
   "id": "11d4cd19",
   "metadata": {},
   "source": [
    "Will will use a multivariate lognormal distribution of effect sizes.\n",
    "We have to consider the effect sizes in three different demes:\n",
    "\n",
    "* The ancestor (deme ID 0)\n",
    "* Derived deme 1 (deme ID 1)\n",
    "* Derived deme 2 (deme ID 2)\n",
    "\n",
    "The goal here is to model a population split such that derived deme 1 represent the continuation of the ancestral population and derived deme 2 is a new deme.\n",
    "Thus, we want the effect sizes of mutations to be the same in ancestral deme and derived deme 1.\n",
    "To do this, we need to set our covariance matrix to have a perfect correlation between IDs (indexes) 0 and 1.\n",
    "However, we cannot use an off-diagonal value exactly equal to 1, else the Cholesky decomposition that is needed to generate deviates will fail.\n",
    "Our solution is to use off-diagonal values very very close to 1:"
   ]
  },
  {
   "cell_type": "code",
   "execution_count": 6,
   "id": "5d8dc105",
   "metadata": {},
   "outputs": [],
   "source": [
    "vcov = np.identity(3)\n",
    "vcov[0,1] = 1-np.finfo(np.float64).eps\n",
    "vcov[1,0] = 1-np.finfo(np.float64).eps\n",
    "mvdes = fwdpy11.mvDES(\n",
    "        fwdpy11.LogNormalS.mv(0, L, 1, scaling=-2*Nref),\n",
    "        np.zeros(3),\n",
    "        vcov,\n",
    "    )"
   ]
  },
  {
   "cell_type": "markdown",
   "id": "d3fe71cb",
   "metadata": {},
   "source": [
    "The rest is standard.\n",
    "We will generate the model from a {class}`demes.Graph`:"
   ]
  },
  {
   "cell_type": "code",
   "execution_count": 7,
   "id": "17ec359c",
   "metadata": {},
   "outputs": [],
   "source": [
    "demog = fwdpy11.discrete_demography.from_demes(graph, burnin=1)"
   ]
  },
  {
   "cell_type": "markdown",
   "id": "d23108c0",
   "metadata": {},
   "source": [
    "Set up the parameters dictionary:"
   ]
  },
  {
   "cell_type": "code",
   "execution_count": 8,
   "id": "33084abf",
   "metadata": {},
   "outputs": [],
   "source": [
    "pdict = {\n",
    "    'nregions': [],\n",
    "    'sregions': [mvdes],\n",
    "    'recregions': [fwdpy11.PoissonInterval(0, L, RECRATE, discrete=True)],\n",
    "    'rates': (0., 1e-3, None),\n",
    "    'gvalue': fwdpy11.Multiplicative(ndemes=3, scaling=2.0),\n",
    "    'demography': demog,\n",
    "    'simlen': demog.metadata['total_simulation_length'],\n",
    "    }\n",
    "\n",
    "params = fwdpy11.ModelParams(**pdict)"
   ]
  },
  {
   "cell_type": "markdown",
   "id": "8e0262b6",
   "metadata": {},
   "source": [
    "Finally, we initialize a population using output from `msprime`, evolve it, and convert the data to `tskit` format:"
   ]
  },
  {
   "cell_type": "code",
   "execution_count": 9,
   "id": "78ba40a2",
   "metadata": {},
   "outputs": [],
   "source": [
    "initial_history = msprime.sim_ancestry(\n",
    "    samples = 2 * Nref,\n",
    "    population_size = Nref,\n",
    "    random_seed = 12345,\n",
    "    recombination_rate = RECRATE / L,\n",
    "    discrete_genome = True,\n",
    "    sequence_length = L,\n",
    "    model = [\n",
    "        msprime.DiscreteTimeWrightFisher(duration=int(0.1 * Nref)),\n",
    "        msprime.StandardCoalescent(),\n",
    "    ],\n",
    ")\n",
    "\n",
    "pop = fwdpy11.DiploidPopulation.create_from_tskit(initial_history)\n",
    "\n",
    "rng = fwdpy11.GSLrng(54321)\n",
    "\n",
    "fwdpy11.evolvets(rng, pop, params,\n",
    "                 recorder=Recorder(when=demog.metadata[\"burnin_time\"] + 1),\n",
    "                 simplification_interval=100,\n",
    "                 suppress_table_indexing=True)\n",
    "\n",
    "ts = pop.dump_tables_to_tskit(demes_graph=graph)"
   ]
  },
  {
   "cell_type": "markdown",
   "id": "5c7af082",
   "metadata": {},
   "source": [
    "Now that we have some data, let's look at how the `fwdpy11` mutation and individual information got encoded as `tskit` metadata!\n",
    "\n",
    "## Exploring the mutation metadata\n",
    "\n",
    "By default, the metadata decode as a {class}`dict`:"
   ]
  },
  {
   "cell_type": "code",
   "execution_count": 10,
   "id": "058c8d4e",
   "metadata": {},
   "outputs": [
    {
     "name": "stdout",
     "output_type": "stream",
     "text": [
      "{'esizes': [-0.008194291199486217, -0.008194291177536308, -0.022149988005024778], 'h': 1.0, 'heffects': [1.0, 1.0, 1.0], 'key': 0, 'label': 0, 'neutral': False, 'origin': 102, 's': 0.0}\n",
      "{'esizes': [-0.00670761460827434, -0.006707614484449482, -0.0038931687779355443], 'h': 1.0, 'heffects': [1.0, 1.0, 1.0], 'key': 2, 'label': 0, 'neutral': False, 'origin': 136, 's': 0.0}\n",
      "{'esizes': [-0.0070506930041513635, -0.007050693219746693, -0.017067426607408006], 'h': 1.0, 'heffects': [1.0, 1.0, 1.0], 'key': 6, 'label': 0, 'neutral': False, 'origin': 143, 's': 0.0}\n",
      "{'esizes': [-0.00879653072005719, -0.008796530520772559, -0.00511350689894381], 'h': 1.0, 'heffects': [1.0, 1.0, 1.0], 'key': 1, 'label': 0, 'neutral': False, 'origin': 104, 's': 0.0}\n",
      "{'esizes': [-0.006719015957570394, -0.006719015790410149, -0.010460403530483314], 'h': 1.0, 'heffects': [1.0, 1.0, 1.0], 'key': 8, 'label': 0, 'neutral': False, 'origin': 146, 's': 0.0}\n",
      "{'esizes': [-0.007951665402753664, -0.007951665285224932, -0.0020371061917801472], 'h': 1.0, 'heffects': [1.0, 1.0, 1.0], 'key': 10, 'label': 0, 'neutral': False, 'origin': 94, 's': 0.0}\n",
      "{'esizes': [-0.0032465550402395638, -0.0032465549405847017, -0.001435896821872106], 'h': 1.0, 'heffects': [1.0, 1.0, 1.0], 'key': 5, 'label': 0, 'neutral': False, 'origin': 140, 's': 0.0}\n",
      "{'esizes': [-0.0013137864251136263, -0.0013137864489052684, -0.009665399379226388], 'h': 1.0, 'heffects': [1.0, 1.0, 1.0], 'key': 11, 'label': 0, 'neutral': False, 'origin': 99, 's': 0.0}\n",
      "{'esizes': [-0.00724180689701593, -0.007241806852948975, -0.007786598276615362], 'h': 1.0, 'heffects': [1.0, 1.0, 1.0], 'key': 9, 'label': 0, 'neutral': False, 'origin': 85, 's': 0.0}\n",
      "{'esizes': [-0.009862617953014637, -0.009862617677750535, -0.016825430211413344], 'h': 1.0, 'heffects': [1.0, 1.0, 1.0], 'key': 7, 'label': 0, 'neutral': False, 'origin': 146, 's': 0.0}\n",
      "{'esizes': [-0.010257209767976283, -0.01025720980860215, -0.004003950578811581], 'h': 1.0, 'heffects': [1.0, 1.0, 1.0], 'key': 4, 'label': 0, 'neutral': False, 'origin': 140, 's': 0.0}\n",
      "{'esizes': [-0.0035716107368928686, -0.0035716108781342127, -0.006449585515382224], 'h': 1.0, 'heffects': [1.0, 1.0, 1.0], 'key': 3, 'label': 0, 'neutral': False, 'origin': 139, 's': 0.0}\n"
     ]
    }
   ],
   "source": [
    "for m in ts.mutations():\n",
    "    print(m.metadata)"
   ]
  },
  {
   "cell_type": "markdown",
   "id": "a544882c",
   "metadata": {},
   "source": [
    "We can call {func}`fwdpy11.tskit_tools.decode_mutation_metadata` to convert the `dict` to a {class}`fwdpy11.Mutation`.  Thus function returns a {class}`list` because it can be accessed using a {class}`slice`:"
   ]
  },
  {
   "cell_type": "code",
   "execution_count": 11,
   "id": "fdbf8a9c",
   "metadata": {},
   "outputs": [
    {
     "data": {
      "text/plain": [
       "fwdpy11._fwdpy11.Mutation"
      ]
     },
     "execution_count": 11,
     "metadata": {},
     "output_type": "execute_result"
    }
   ],
   "source": [
    "m = fwdpy11.tskit_tools.decode_mutation_metadata(ts, 0)\n",
    "type(m[0])"
   ]
  },
  {
   "cell_type": "markdown",
   "id": "df8f1f64",
   "metadata": {},
   "source": [
    "With no arguments, all metadata are converted to the `Mutation` type:"
   ]
  },
  {
   "cell_type": "code",
   "execution_count": 12,
   "id": "7628027f",
   "metadata": {},
   "outputs": [
    {
     "name": "stdout",
     "output_type": "stream",
     "text": [
      "[-0.00819429 -0.00819429 -0.02214999]\n",
      "[-0.00670761 -0.00670761 -0.00389317]\n",
      "[-0.00705069 -0.00705069 -0.01706743]\n",
      "[-0.00879653 -0.00879653 -0.00511351]\n",
      "[-0.00671902 -0.00671902 -0.0104604 ]\n",
      "[-0.00795167 -0.00795167 -0.00203711]\n",
      "[-0.00324656 -0.00324655 -0.0014359 ]\n",
      "[-0.00131379 -0.00131379 -0.0096654 ]\n",
      "[-0.00724181 -0.00724181 -0.0077866 ]\n",
      "[-0.00986262 -0.00986262 -0.01682543]\n",
      "[-0.01025721 -0.01025721 -0.00400395]\n",
      "[-0.00357161 -0.00357161 -0.00644959]\n"
     ]
    }
   ],
   "source": [
    "for m in fwdpy11.tskit_tools.decode_mutation_metadata(ts):\n",
    "    print(m.esizes)"
   ]
  },
  {
   "cell_type": "markdown",
   "id": "9050e840",
   "metadata": {},
   "source": [
    ":::{note}\n",
    "For simulations *without* multivariate mutation effects, the metadata will **not** have the `heffects` and `esizes` fields.\n",
    "When converted to a {class}`fwdpy11.Mutation`, the object will contain empty vectors.\n",
    ":::\n",
    "\n",
    "### Adding mutation with `msprime`.\n",
    "\n",
    "Mutations generated by `fwdpy11` contain metadata, allowing you to get their effect sizes, etc..\n",
    "When we add mutations to the tree sequence with {func}`msprime.sim_mutations`, the new mutation table rows have *no metadata*.\n",
    "\n",
    "Let's mutate a copy of our tree sequence.\n",
    "We will apply a binary, infinite-site model to add neutral mutations:"
   ]
  },
  {
   "cell_type": "code",
   "execution_count": 13,
   "id": "bdc747a3",
   "metadata": {},
   "outputs": [
    {
     "name": "stdout",
     "output_type": "stream",
     "text": [
      "Our original number of mutations = 12\n",
      "Our new number of mutations = 33741\n"
     ]
    }
   ],
   "source": [
    "tscopy = msprime.sim_mutations(ts.tables.tree_sequence(), rate=RECRATE / L, model=msprime.BinaryMutationModel(), discrete_genome=False, random_seed=615243)\n",
    "print(\"Our original number of mutations =\", ts.num_mutations)\n",
    "print(\"Our new number of mutations =\", tscopy.num_mutations)"
   ]
  },
  {
   "cell_type": "code",
   "execution_count": 14,
   "id": "267cc2fd",
   "metadata": {},
   "outputs": [],
   "source": [
    "metadata_is_none = 0\n",
    "for i in tscopy.mutations():\n",
    "    if i.metadata is None:\n",
    "        metadata_is_none += 1\n",
    "\n",
    "assert metadata_is_none == tscopy.num_mutations - ts.num_mutations\n",
    "# mut be true because we asked for an \"infinite-sites\" mutation scheme\n",
    "assert metadata_is_none == tscopy.num_sites - ts.num_mutations"
   ]
  },
  {
   "cell_type": "markdown",
   "id": "f1d7df01",
   "metadata": {},
   "source": [
    "## Exploring the individual metadata\n",
    "\n",
    "As with mutations, individual metadata automatically decode to {class}`dict`:"
   ]
  },
  {
   "cell_type": "code",
   "execution_count": 15,
   "id": "720b9734",
   "metadata": {},
   "outputs": [
    {
     "name": "stdout",
     "output_type": "stream",
     "text": [
      "{'deme': 1, 'e': 0.0, 'g': 0.9932923855155505, 'geography': [0.0, 0.0, 0.0], 'label': 0, 'nodes': [0, 1], 'parents': [1, 17], 'sex': 0, 'w': 0.9932923855155505}\n",
      "<class 'dict'>\n"
     ]
    }
   ],
   "source": [
    "print(ts.individual(0).metadata)\n",
    "print(type(ts.individual(0).metadata))"
   ]
  },
  {
   "cell_type": "markdown",
   "id": "d59fbc2b",
   "metadata": {},
   "source": [
    "It is often more efficient to decode the data into {class}`fwdpy11.tskit_tools.DiploidMetadata` (which is an `attrs`-based analog to {class}`fwdpy11.DiploidMetadata`).\n",
    "As with mutation metadata, {func}`fwdpy11.tskit_tools.decode_individual_metadata` returns a list:"
   ]
  },
  {
   "cell_type": "code",
   "execution_count": 16,
   "id": "c5e5b955",
   "metadata": {},
   "outputs": [
    {
     "data": {
      "text/plain": [
       "[DiploidMetadata(g=0.9932923855155505, e=0.0, w=0.9932923855155505, sex=0, deme=1, label=0, alive=True, preserved=False, first_generation=False, parents=[1, 17], geography=[0.0, 0.0, 0.0], nodes=[0, 1])]"
      ]
     },
     "execution_count": 16,
     "metadata": {},
     "output_type": "execute_result"
    }
   ],
   "source": [
    "fwdpy11.tskit_tools.decode_individual_metadata(ts, 0)"
   ]
  },
  {
   "cell_type": "code",
   "execution_count": 17,
   "id": "847457d0",
   "metadata": {},
   "outputs": [
    {
     "name": "stdout",
     "output_type": "stream",
     "text": [
      "<class 'fwdpy11.tskit_tools.metadata.DiploidMetadata'>\n"
     ]
    }
   ],
   "source": [
    "print(type(fwdpy11.tskit_tools.decode_individual_metadata(ts, 0)[0]))"
   ]
  },
  {
   "cell_type": "markdown",
   "id": "dbf36841",
   "metadata": {},
   "source": [
    "The main difference between this Python class and its C++ analog is that the former contains several fields that decode the `flags` column of the individual table.\n",
    "See {ref}`here <tskit_tools>` for details.\n",
    "\n",
    "\n",
    "## Traversing all time points for which individuals exist\n",
    "\n",
    "The example simulation preserves individuals at many different time points.\n",
    "Use {func}`fwdpy11.tskit_tools.iterate_timepoints_with_individuals` to automate iterating over each time point:"
   ]
  },
  {
   "cell_type": "code",
   "execution_count": 18,
   "id": "89768fcd",
   "metadata": {},
   "outputs": [
    {
     "data": {
      "text/html": [
       "<div>\n",
       "<style scoped>\n",
       "    .dataframe tbody tr th:only-of-type {\n",
       "        vertical-align: middle;\n",
       "    }\n",
       "\n",
       "    .dataframe tbody tr th {\n",
       "        vertical-align: top;\n",
       "    }\n",
       "\n",
       "    .dataframe thead th {\n",
       "        text-align: right;\n",
       "    }\n",
       "</style>\n",
       "<table border=\"1\" class=\"dataframe\">\n",
       "  <thead>\n",
       "    <tr style=\"text-align: right;\">\n",
       "      <th></th>\n",
       "      <th>time</th>\n",
       "      <th>num_nodes</th>\n",
       "      <th>num_metadata_objects</th>\n",
       "    </tr>\n",
       "  </thead>\n",
       "  <tbody>\n",
       "    <tr>\n",
       "      <th>0</th>\n",
       "      <td>49.0</td>\n",
       "      <td>200</td>\n",
       "      <td>100</td>\n",
       "    </tr>\n",
       "    <tr>\n",
       "      <th>1</th>\n",
       "      <td>48.0</td>\n",
       "      <td>200</td>\n",
       "      <td>100</td>\n",
       "    </tr>\n",
       "    <tr>\n",
       "      <th>2</th>\n",
       "      <td>47.0</td>\n",
       "      <td>200</td>\n",
       "      <td>100</td>\n",
       "    </tr>\n",
       "    <tr>\n",
       "      <th>3</th>\n",
       "      <td>46.0</td>\n",
       "      <td>200</td>\n",
       "      <td>100</td>\n",
       "    </tr>\n",
       "    <tr>\n",
       "      <th>4</th>\n",
       "      <td>45.0</td>\n",
       "      <td>200</td>\n",
       "      <td>100</td>\n",
       "    </tr>\n",
       "    <tr>\n",
       "      <th>...</th>\n",
       "      <td>...</td>\n",
       "      <td>...</td>\n",
       "      <td>...</td>\n",
       "    </tr>\n",
       "    <tr>\n",
       "      <th>45</th>\n",
       "      <td>4.0</td>\n",
       "      <td>200</td>\n",
       "      <td>100</td>\n",
       "    </tr>\n",
       "    <tr>\n",
       "      <th>46</th>\n",
       "      <td>3.0</td>\n",
       "      <td>200</td>\n",
       "      <td>100</td>\n",
       "    </tr>\n",
       "    <tr>\n",
       "      <th>47</th>\n",
       "      <td>2.0</td>\n",
       "      <td>200</td>\n",
       "      <td>100</td>\n",
       "    </tr>\n",
       "    <tr>\n",
       "      <th>48</th>\n",
       "      <td>1.0</td>\n",
       "      <td>200</td>\n",
       "      <td>100</td>\n",
       "    </tr>\n",
       "    <tr>\n",
       "      <th>49</th>\n",
       "      <td>0.0</td>\n",
       "      <td>200</td>\n",
       "      <td>100</td>\n",
       "    </tr>\n",
       "  </tbody>\n",
       "</table>\n",
       "<p>50 rows × 3 columns</p>\n",
       "</div>"
      ],
      "text/plain": [
       "    time  num_nodes  num_metadata_objects\n",
       "0   49.0        200                   100\n",
       "1   48.0        200                   100\n",
       "2   47.0        200                   100\n",
       "3   46.0        200                   100\n",
       "4   45.0        200                   100\n",
       "..   ...        ...                   ...\n",
       "45   4.0        200                   100\n",
       "46   3.0        200                   100\n",
       "47   2.0        200                   100\n",
       "48   1.0        200                   100\n",
       "49   0.0        200                   100\n",
       "\n",
       "[50 rows x 3 columns]"
      ]
     },
     "execution_count": 18,
     "metadata": {},
     "output_type": "execute_result"
    }
   ],
   "source": [
    "import pandas as pd\n",
    "pd.set_option(\"display.max_rows\", 11)\n",
    "\n",
    "times = []\n",
    "num_nodes = []\n",
    "len_metadata = []\n",
    "for time, nodes, metadata in fwdpy11.tskit_tools.iterate_timepoints_with_individuals(ts, decode_metadata=True):\n",
    "    times.append(time)\n",
    "    num_nodes.append(len(nodes))\n",
    "    len_metadata.append(len(metadata))\n",
    "\n",
    "df = pd.DataFrame({\"time\": times, \"num_nodes\": num_nodes, \"num_metadata_objects\": len_metadata})\n",
    "df"
   ]
  }
 ],
 "metadata": {
  "jupytext": {
   "formats": "md:myst",
   "text_representation": {
    "extension": ".md",
    "format_name": "myst"
   }
  },
  "kernelspec": {
   "display_name": "Python 3",
   "language": "python",
   "name": "python3"
  },
  "language_info": {
   "codemirror_mode": {
    "name": "ipython",
    "version": 3
   },
   "file_extension": ".py",
   "mimetype": "text/x-python",
   "name": "python",
   "nbconvert_exporter": "python",
   "pygments_lexer": "ipython3",
   "version": "3.10.10"
  },
  "source_map": [
   11,
   32,
   56,
   62,
   68,
   72,
   76,
   84,
   88,
   93,
   108,
   117,
   122,
   124,
   128,
   140,
   144,
   168,
   176,
   179,
   183,
   186,
   190,
   193,
   208,
   214,
   223,
   230,
   233,
   238,
   242,
   244,
   255
  ]
 },
 "nbformat": 4,
 "nbformat_minor": 5
}